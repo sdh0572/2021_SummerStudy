{
  "nbformat": 4,
  "nbformat_minor": 0,
  "metadata": {
    "colab": {
      "name": "Untitled0.ipynb",
      "provenance": [],
      "authorship_tag": "ABX9TyMfcyEpEx9EUIIamTsRezIR",
      "include_colab_link": true
    },
    "kernelspec": {
      "name": "python3",
      "display_name": "Python 3"
    },
    "language_info": {
      "name": "python"
    }
  },
  "cells": [
    {
      "cell_type": "markdown",
      "metadata": {
        "id": "view-in-github",
        "colab_type": "text"
      },
      "source": [
        "<a href=\"https://colab.research.google.com/github/sdh0572/2021_SummerStudy/blob/main/Untitled0.ipynb\" target=\"_parent\"><img src=\"https://colab.research.google.com/assets/colab-badge.svg\" alt=\"Open In Colab\"/></a>"
      ]
    },
    {
      "cell_type": "code",
      "metadata": {
        "id": "_epiX16o4eBg"
      },
      "source": [
        ""
      ],
      "execution_count": null,
      "outputs": []
    },
    {
      "cell_type": "markdown",
      "metadata": {
        "id": "vJt9slvo3ly7"
      },
      "source": [
        "# 대제목\n",
        "## 중제목\n",
        "### 소제목\n",
        "**진하게**\n",
        "#**대제목**"
      ]
    },
    {
      "cell_type": "code",
      "metadata": {
        "id": "JL3t5Dhi2q0D"
      },
      "source": [
        "print('''\n",
        "비활성화 상태 (ESC) 필수\n",
        "Ctrl + M A = 코드 셀 위에 삽입\n",
        "Ctrl + M B = 코드 셀 아래에 삽입\n",
        "Ctrl + M O = 셀 지우기\n",
        "Ctrl + M Y = 코드 셀로 변경\n",
        "Ctrl + M M = 텍스트셀로 변경\n",
        "Ctrl + M Z = 되돌리기\n",
        "''')"
      ],
      "execution_count": null,
      "outputs": []
    },
    {
      "cell_type": "code",
      "metadata": {
        "id": "dQJiL-HM17Ga"
      },
      "source": [
        "print('''\n",
        "Ctrl + Enter = 해당 셀을 실행하고 커서를 해당 셀을 두는 경우\n",
        "Shift + Enter = 해당 셀을 싷행하고 커서를 다음 셀로 남기는 경우\n",
        "Alt + Enter = 해당 셀을 실행하는 셀을 삽입한 후 커서를 삽힙한 셀로 넘기는 경우\n",
        "''')"
      ],
      "execution_count": null,
      "outputs": []
    }
  ]
}