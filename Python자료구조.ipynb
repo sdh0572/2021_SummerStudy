{
  "nbformat": 4,
  "nbformat_minor": 0,
  "metadata": {
    "colab": {
      "name": "Python자료구조.ipynb",
      "provenance": [],
      "collapsed_sections": [],
      "authorship_tag": "ABX9TyMfzqf7EkP8gEy/Z+hEl1jP",
      "include_colab_link": true
    },
    "kernelspec": {
      "name": "python3",
      "display_name": "Python 3"
    },
    "language_info": {
      "name": "python"
    }
  },
  "cells": [
    {
      "cell_type": "markdown",
      "metadata": {
        "id": "view-in-github",
        "colab_type": "text"
      },
      "source": [
        "<a href=\"https://colab.research.google.com/github/sdh0572/2021_SummerStudy/blob/main/Python%EC%9E%90%EB%A3%8C%EA%B5%AC%EC%A1%B0.ipynb\" target=\"_parent\"><img src=\"https://colab.research.google.com/assets/colab-badge.svg\" alt=\"Open In Colab\"/></a>"
      ]
    },
    {
      "cell_type": "code",
      "metadata": {
        "id": "FUxMtUM76Dz7",
        "colab": {
          "base_uri": "https://localhost:8080/"
        },
        "outputId": "bb7cc676-f358-4c32-d1fe-dc398fa79c15"
      },
      "source": [
        "import this"
      ],
      "execution_count": null,
      "outputs": [
        {
          "output_type": "stream",
          "text": [
            "The Zen of Python, by Tim Peters\n",
            "\n",
            "Beautiful is better than ugly.\n",
            "Explicit is better than implicit.\n",
            "Simple is better than complex.\n",
            "Complex is better than complicated.\n",
            "Flat is better than nested.\n",
            "Sparse is better than dense.\n",
            "Readability counts.\n",
            "Special cases aren't special enough to break the rules.\n",
            "Although practicality beats purity.\n",
            "Errors should never pass silently.\n",
            "Unless explicitly silenced.\n",
            "In the face of ambiguity, refuse the temptation to guess.\n",
            "There should be one-- and preferably only one --obvious way to do it.\n",
            "Although that way may not be obvious at first unless you're Dutch.\n",
            "Now is better than never.\n",
            "Although never is often better than *right* now.\n",
            "If the implementation is hard to explain, it's a bad idea.\n",
            "If the implementation is easy to explain, it may be a good idea.\n",
            "Namespaces are one honking great idea -- let's do more of those!\n"
          ],
          "name": "stdout"
        }
      ]
    },
    {
      "cell_type": "markdown",
      "metadata": {
        "id": "HvmOq2_u7b1v"
      },
      "source": [
        "\n",
        "## prinf(출력)"
      ]
    },
    {
      "cell_type": "code",
      "metadata": {
        "id": "17kVhbbB7i3x",
        "colab": {
          "base_uri": "https://localhost:8080/"
        },
        "outputId": "ed5d15ae-b992-418e-9494-0939548816df"
      },
      "source": [
        "print('오늘 파이썬 배우기 좋은 날이네!')"
      ],
      "execution_count": null,
      "outputs": [
        {
          "output_type": "stream",
          "text": [
            "오늘 파이썬 배우기 좋은 날이네!\n"
          ],
          "name": "stdout"
        }
      ]
    },
    {
      "cell_type": "code",
      "metadata": {
        "id": "fNLNLVSw7qwK",
        "colab": {
          "base_uri": "https://localhost:8080/"
        },
        "outputId": "35a3bd32-5f94-4972-cf2e-ea4b19c49ec9"
      },
      "source": [
        "print(\"오늘은\",\"일요일\")"
      ],
      "execution_count": null,
      "outputs": [
        {
          "output_type": "stream",
          "text": [
            "오늘은 일요일\n"
          ],
          "name": "stdout"
        }
      ]
    },
    {
      "cell_type": "code",
      "metadata": {
        "colab": {
          "base_uri": "https://localhost:8080/"
        },
        "id": "ucl6YWPJHkLE",
        "outputId": "5bbbbdde-30a8-42cb-db78-f51943d73d78"
      },
      "source": [
        "print(1, 2, 3, 4)"
      ],
      "execution_count": null,
      "outputs": [
        {
          "output_type": "stream",
          "text": [
            "1 2 3 4\n"
          ],
          "name": "stdout"
        }
      ]
    },
    {
      "cell_type": "markdown",
      "metadata": {
        "id": "Rd-tcrCsISgp"
      },
      "source": [
        "Jupyter Notebook 셀에서 맨 끝에 위치한 변수, 문자열, 숫자 등은 자동으로 출력\n",
        "\n",
        "3.14, '안녕', 100 이렇게 3개의 값이 있지만, 항상 가장 마지막에 출"
      ]
    },
    {
      "cell_type": "code",
      "metadata": {
        "colab": {
          "base_uri": "https://localhost:8080/"
        },
        "id": "SMIKpyX8I3Wb",
        "outputId": "2771af38-06a6-423b-ac58-cb6f5a7e85a3"
      },
      "source": [
        "3.14\n",
        "'안녕'\n",
        "100"
      ],
      "execution_count": null,
      "outputs": [
        {
          "output_type": "execute_result",
          "data": {
            "text/plain": [
              "100"
            ]
          },
          "metadata": {
            "tags": []
          },
          "execution_count": 6
        }
      ]
    },
    {
      "cell_type": "markdown",
      "metadata": {
        "id": "RRsv16BN8Hi3"
      },
      "source": [
        "##변수(Varibal)\n",
        "변수는 데이터를 담는 그릇이라고 생각\n",
        "\n",
        "변수라는 그릇에 정수를 담을 수도 있고, 긴 글을 담을 수도 있고, file을 담을 수도 있음\n",
        "우리가 재사용하기 쉽게 별명을 지정했다고 생각"
      ]
    },
    {
      "cell_type": "markdown",
      "metadata": {
        "id": "l8Z97B9b8NX3"
      },
      "source": [
        "##변수의 이름 규칙\n",
        "다믕의 문자만 사용 가능\n",
        "\n",
        "* 소문자\n",
        "* 대문자\n",
        "* 숫자\n",
        "* 한글\n",
        "* 특수기호는 언더바_만 가능\n",
        "\n",
        "다음의 규칙을 가집니다\n",
        "\n",
        "- 대소 문자를 구분\n",
        "- 순자는 맨처음에 올수 없음\n",
        "- 예약어는 사용 불가능\n",
        "\n",
        "case 1. 알파벳(가능) / 대소문자 모두 가능 / 한글도 가능하지만 비추"
      ]
    },
    {
      "cell_type": "code",
      "metadata": {
        "id": "au6Z_-GxKMpR"
      },
      "source": [
        "a = 1"
      ],
      "execution_count": null,
      "outputs": []
    },
    {
      "cell_type": "code",
      "metadata": {
        "id": "5-4SaIv1KbWz"
      },
      "source": [
        "A = 1"
      ],
      "execution_count": null,
      "outputs": []
    },
    {
      "cell_type": "code",
      "metadata": {
        "id": "U08OyXXxKcsE"
      },
      "source": [
        "변수 = 1"
      ],
      "execution_count": null,
      "outputs": []
    },
    {
      "cell_type": "code",
      "metadata": {
        "colab": {
          "base_uri": "https://localhost:8080/"
        },
        "id": "TvFRFjsPKfZz",
        "outputId": "6ca37192-7a98-41e5-c00f-5f08a39084a3"
      },
      "source": [
        "변수"
      ],
      "execution_count": null,
      "outputs": [
        {
          "output_type": "execute_result",
          "data": {
            "text/plain": [
              "1"
            ]
          },
          "metadata": {
            "tags": []
          },
          "execution_count": 10
        }
      ]
    },
    {
      "cell_type": "markdown",
      "metadata": {
        "id": "Cust4l3KKjDi"
      },
      "source": [
        "case 2. 알파벳 + 숫자 가능"
      ]
    },
    {
      "cell_type": "code",
      "metadata": {
        "id": "x3WEcnwdKpes"
      },
      "source": [
        "a1 = 1"
      ],
      "execution_count": null,
      "outputs": []
    },
    {
      "cell_type": "markdown",
      "metadata": {
        "id": "pPQRTXdSKsPD"
      },
      "source": [
        "case 3. 알파벳 + 언더바(_) 가능"
      ]
    },
    {
      "cell_type": "code",
      "metadata": {
        "id": "qM581UBrK4Oz"
      },
      "source": [
        "a_ = 1"
      ],
      "execution_count": null,
      "outputs": []
    },
    {
      "cell_type": "markdown",
      "metadata": {
        "id": "6OuwLKITK7Fz"
      },
      "source": [
        "case 4. 언더바(_) + 알파벳 가"
      ]
    },
    {
      "cell_type": "code",
      "metadata": {
        "id": "ewAw-Q7oLEWi"
      },
      "source": [
        "_a = 1"
      ],
      "execution_count": null,
      "outputs": []
    },
    {
      "cell_type": "markdown",
      "metadata": {
        "id": "G0UzE-DvLGM7"
      },
      "source": [
        "case 5. 숫자 + 알파벳 불가"
      ]
    },
    {
      "cell_type": "code",
      "metadata": {
        "colab": {
          "base_uri": "https://localhost:8080/",
          "height": 136
        },
        "id": "1hFm6lQ0LLaT",
        "outputId": "3fb9e5c9-5f1e-4ba8-82fd-c22d269071d6"
      },
      "source": [
        "1a = 1"
      ],
      "execution_count": null,
      "outputs": [
        {
          "output_type": "error",
          "ename": "SyntaxError",
          "evalue": "ignored",
          "traceback": [
            "\u001b[0;36m  File \u001b[0;32m\"<ipython-input-14-cc67e5ecf289>\"\u001b[0;36m, line \u001b[0;32m1\u001b[0m\n\u001b[0;31m    1a = 1\u001b[0m\n\u001b[0m     ^\u001b[0m\n\u001b[0;31mSyntaxError\u001b[0m\u001b[0;31m:\u001b[0m invalid syntax\n"
          ]
        }
      ]
    },
    {
      "cell_type": "markdown",
      "metadata": {
        "id": "5C7nvqr6LOac"
      },
      "source": [
        "case 6. 특수문자 불가능"
      ]
    },
    {
      "cell_type": "code",
      "metadata": {
        "colab": {
          "base_uri": "https://localhost:8080/",
          "height": 136
        },
        "id": "9NMwWds3LVfb",
        "outputId": "ad0325b0-8fae-4142-a055-ff97d47f21ea"
      },
      "source": [
        "* = 7"
      ],
      "execution_count": null,
      "outputs": [
        {
          "output_type": "error",
          "ename": "SyntaxError",
          "evalue": "ignored",
          "traceback": [
            "\u001b[0;36m  File \u001b[0;32m\"<ipython-input-16-e21efa324dba>\"\u001b[0;36m, line \u001b[0;32m1\u001b[0m\n\u001b[0;31m    * = 7\u001b[0m\n\u001b[0m      ^\u001b[0m\n\u001b[0;31mSyntaxError\u001b[0m\u001b[0;31m:\u001b[0m invalid syntax\n"
          ]
        }
      ]
    },
    {
      "cell_type": "markdown",
      "metadata": {
        "id": "ooXpr7uMLcrT"
      },
      "source": [
        "case 7. 언더바를 제외한 특수문자 불가능"
      ]
    },
    {
      "cell_type": "code",
      "metadata": {
        "colab": {
          "base_uri": "https://localhost:8080/",
          "height": 136
        },
        "id": "8i32-FZ2LkMK",
        "outputId": "700847db-99f9-49ab-f917-2f79edc89979"
      },
      "source": [
        "a$ = 6"
      ],
      "execution_count": null,
      "outputs": [
        {
          "output_type": "error",
          "ename": "SyntaxError",
          "evalue": "ignored",
          "traceback": [
            "\u001b[0;36m  File \u001b[0;32m\"<ipython-input-18-7b68e0211941>\"\u001b[0;36m, line \u001b[0;32m1\u001b[0m\n\u001b[0;31m    a$ = 6\u001b[0m\n\u001b[0m     ^\u001b[0m\n\u001b[0;31mSyntaxError\u001b[0m\u001b[0;31m:\u001b[0m invalid syntax\n"
          ]
        }
      ]
    },
    {
      "cell_type": "markdown",
      "metadata": {
        "id": "gIDBLbfPLsLK"
      },
      "source": [
        "case 8. 변수의 이름 사이의 공백 불가능"
      ]
    },
    {
      "cell_type": "code",
      "metadata": {
        "colab": {
          "base_uri": "https://localhost:8080/",
          "height": 136
        },
        "id": "MRC4_82DLyRc",
        "outputId": "0fbe2ce6-383a-42e6-b0c2-5f7af47ea70a"
      },
      "source": [
        "a b = 6"
      ],
      "execution_count": null,
      "outputs": [
        {
          "output_type": "error",
          "ename": "SyntaxError",
          "evalue": "ignored",
          "traceback": [
            "\u001b[0;36m  File \u001b[0;32m\"<ipython-input-20-38dc6d48d57b>\"\u001b[0;36m, line \u001b[0;32m1\u001b[0m\n\u001b[0;31m    a b = 6\u001b[0m\n\u001b[0m      ^\u001b[0m\n\u001b[0;31mSyntaxError\u001b[0m\u001b[0;31m:\u001b[0m invalid syntax\n"
          ]
        }
      ]
    },
    {
      "cell_type": "markdown",
      "metadata": {
        "id": "6XtVbXTRL63L"
      },
      "source": [
        "주로 변수는 소문자 알파벳으로 생성하고, 필요시 언더바나 숫자를 붙이는 방식이 일반"
      ]
    },
    {
      "cell_type": "code",
      "metadata": {
        "id": "hHCawRjdMNt7"
      },
      "source": [
        "test = 10"
      ],
      "execution_count": null,
      "outputs": []
    },
    {
      "cell_type": "code",
      "metadata": {
        "id": "G3TG4zPJMRR7"
      },
      "source": [
        "test01 = 20"
      ],
      "execution_count": null,
      "outputs": []
    },
    {
      "cell_type": "code",
      "metadata": {
        "id": "4lnNXH0RMU3s"
      },
      "source": [
        "test_01 = 30"
      ],
      "execution_count": null,
      "outputs": []
    },
    {
      "cell_type": "markdown",
      "metadata": {
        "id": "cBwahA2W982l"
      },
      "source": [
        "# 데이터 타입(Data Type\n",
        "자료형태(자료형), 자료구조로 불림"
      ]
    },
    {
      "cell_type": "markdown",
      "metadata": {
        "id": "r8FiUVbX-MOO"
      },
      "source": [
        "###주요 데이터 타입\n",
        "\n",
        "\n",
        "1.   int \"정수\" 정수를 나타냄\n",
        "2.   float \"실수\" 소수점이 있는 숫자를 나타남\n",
        "3. srt \"문자\" 문자를 나타냄  작은따음표 또는 큰따음표로 감싸져 있음\n",
        "4. bool \"참, 거짓\" 탐또는 거짓을 나타냄 True, False에서 T와F는 반드시 대분자로 표시\n",
        "\n",
        "\n",
        "\n"
      ]
    },
    {
      "cell_type": "markdown",
      "metadata": {
        "id": "zY8AVhj_Nfi7"
      },
      "source": [
        "type()\n",
        "\n",
        "type 함수를 사용해데이터의 타임을 알아봄"
      ]
    },
    {
      "cell_type": "code",
      "metadata": {
        "colab": {
          "base_uri": "https://localhost:8080/"
        },
        "id": "DqgJZwkW-8wm",
        "outputId": "c3f2e3b7-d54d-407d-b581-3f97bf3ec519"
      },
      "source": [
        "type(1)"
      ],
      "execution_count": null,
      "outputs": [
        {
          "output_type": "execute_result",
          "data": {
            "text/plain": [
              "int"
            ]
          },
          "metadata": {
            "tags": []
          },
          "execution_count": 12
        }
      ]
    },
    {
      "cell_type": "code",
      "metadata": {
        "colab": {
          "base_uri": "https://localhost:8080/"
        },
        "id": "M_zuKc3C_ESH",
        "outputId": "6b708e05-4510-4912-a546-494e80e1f4c9"
      },
      "source": [
        "type(3.14)"
      ],
      "execution_count": null,
      "outputs": [
        {
          "output_type": "execute_result",
          "data": {
            "text/plain": [
              "float"
            ]
          },
          "metadata": {
            "tags": []
          },
          "execution_count": 9
        }
      ]
    },
    {
      "cell_type": "code",
      "metadata": {
        "colab": {
          "base_uri": "https://localhost:8080/"
        },
        "id": "yDhUGL6b_KCd",
        "outputId": "0ffc96ab-baa2-435c-ab96-6d36eeb58eac"
      },
      "source": [
        "type('안녕')"
      ],
      "execution_count": null,
      "outputs": [
        {
          "output_type": "execute_result",
          "data": {
            "text/plain": [
              "str"
            ]
          },
          "metadata": {
            "tags": []
          },
          "execution_count": 11
        }
      ]
    },
    {
      "cell_type": "code",
      "metadata": {
        "colab": {
          "base_uri": "https://localhost:8080/"
        },
        "id": "ikKTd3Nl_ORi",
        "outputId": "2bd8ca3f-eaba-4b2f-e5c8-5a9961fa5fa2"
      },
      "source": [
        "type(True)"
      ],
      "execution_count": null,
      "outputs": [
        {
          "output_type": "execute_result",
          "data": {
            "text/plain": [
              "bool"
            ]
          },
          "metadata": {
            "tags": []
          },
          "execution_count": 24
        }
      ]
    },
    {
      "cell_type": "markdown",
      "metadata": {
        "id": "JJckifPENzXs"
      },
      "source": [
        "#int(정수)\n",
        "\n",
        "정수를 나타내는 자료형"
      ]
    },
    {
      "cell_type": "code",
      "metadata": {
        "id": "GS7R4vbtN8Mj"
      },
      "source": [
        "a = 1"
      ],
      "execution_count": null,
      "outputs": []
    },
    {
      "cell_type": "code",
      "metadata": {
        "colab": {
          "base_uri": "https://localhost:8080/"
        },
        "id": "W00kajQ4N-bz",
        "outputId": "f84adbf2-b9a7-4281-976e-ef8d20eca1d1"
      },
      "source": [
        "print(a)"
      ],
      "execution_count": null,
      "outputs": [
        {
          "output_type": "stream",
          "text": [
            "1\n"
          ],
          "name": "stdout"
        }
      ]
    },
    {
      "cell_type": "markdown",
      "metadata": {
        "id": "ihgeacbZOCrq"
      },
      "source": [
        "type확인"
      ]
    },
    {
      "cell_type": "code",
      "metadata": {
        "colab": {
          "base_uri": "https://localhost:8080/"
        },
        "id": "RB1wYLN1OGiD",
        "outputId": "21101b29-40f0-49a8-a6f4-8fd617b33863"
      },
      "source": [
        "type(a)"
      ],
      "execution_count": null,
      "outputs": [
        {
          "output_type": "execute_result",
          "data": {
            "text/plain": [
              "int"
            ]
          },
          "metadata": {
            "tags": []
          },
          "execution_count": 27
        }
      ]
    },
    {
      "cell_type": "markdown",
      "metadata": {
        "id": "u3MobdtFOKIi"
      },
      "source": [
        "#float (실수)\n",
        "\n",
        "소수점이 있는 숫자(실수)를 나타내는 자료형"
      ]
    },
    {
      "cell_type": "code",
      "metadata": {
        "id": "BBHjXvOkOVnJ"
      },
      "source": [
        "a = 3.14"
      ],
      "execution_count": null,
      "outputs": []
    },
    {
      "cell_type": "code",
      "metadata": {
        "colab": {
          "base_uri": "https://localhost:8080/"
        },
        "id": "mLP2fsimOXyC",
        "outputId": "95b23d25-3200-4f1f-b640-5f7e39f43586"
      },
      "source": [
        "print(a)"
      ],
      "execution_count": null,
      "outputs": [
        {
          "output_type": "stream",
          "text": [
            "3.14\n"
          ],
          "name": "stdout"
        }
      ]
    },
    {
      "cell_type": "markdown",
      "metadata": {
        "id": "JBIybtA0OaVy"
      },
      "source": [
        "type 확인"
      ]
    },
    {
      "cell_type": "code",
      "metadata": {
        "colab": {
          "base_uri": "https://localhost:8080/"
        },
        "id": "qIOPjvQ5OdCL",
        "outputId": "e6ae33f0-18b5-4edb-90b2-12ea36fe3732"
      },
      "source": [
        "type(a)"
      ],
      "execution_count": null,
      "outputs": [
        {
          "output_type": "execute_result",
          "data": {
            "text/plain": [
              "float"
            ]
          },
          "metadata": {
            "tags": []
          },
          "execution_count": 31
        }
      ]
    },
    {
      "cell_type": "markdown",
      "metadata": {
        "id": "que7gdxrOfJb"
      },
      "source": [
        "#str (문자열)\n",
        "\n",
        "문자를 나타내는 자료형 작은 따옴표 혹은 큰 따옴표로 감싸져 있음\n",
        "\n",
        "작은 따옴표 ' ' 사이에 문자를 입력한 경우"
      ]
    },
    {
      "cell_type": "code",
      "metadata": {
        "id": "YMXJBlu_OxxT"
      },
      "source": [
        "word = '안녕하세요'"
      ],
      "execution_count": null,
      "outputs": []
    },
    {
      "cell_type": "code",
      "metadata": {
        "colab": {
          "base_uri": "https://localhost:8080/",
          "height": 35
        },
        "id": "UX-wszP3Oz5U",
        "outputId": "7a8359b7-b40e-4665-fd2b-b470ae63f1f1"
      },
      "source": [
        "word"
      ],
      "execution_count": null,
      "outputs": [
        {
          "output_type": "execute_result",
          "data": {
            "application/vnd.google.colaboratory.intrinsic+json": {
              "type": "string"
            },
            "text/plain": [
              "'안녕하세요'"
            ]
          },
          "metadata": {
            "tags": []
          },
          "execution_count": 33
        }
      ]
    },
    {
      "cell_type": "markdown",
      "metadata": {
        "id": "ZypFSe3GO2KP"
      },
      "source": [
        "type 확인"
      ]
    },
    {
      "cell_type": "code",
      "metadata": {
        "colab": {
          "base_uri": "https://localhost:8080/"
        },
        "id": "QjJvMsvtO4sk",
        "outputId": "03c9d33a-4880-41fd-9507-9d546c1c5462"
      },
      "source": [
        "type(word)"
      ],
      "execution_count": null,
      "outputs": [
        {
          "output_type": "execute_result",
          "data": {
            "text/plain": [
              "str"
            ]
          },
          "metadata": {
            "tags": []
          },
          "execution_count": 34
        }
      ]
    },
    {
      "cell_type": "markdown",
      "metadata": {
        "id": "gmvnIimbO71L"
      },
      "source": [
        "큰 따옴표 \" \" 사이에 문자를 입력한 경우"
      ]
    },
    {
      "cell_type": "code",
      "metadata": {
        "id": "P8Es5qe7PAWE"
      },
      "source": [
        "word = \"안녕하세요\""
      ],
      "execution_count": null,
      "outputs": []
    },
    {
      "cell_type": "code",
      "metadata": {
        "colab": {
          "base_uri": "https://localhost:8080/",
          "height": 35
        },
        "id": "SbIvB7u6PB5E",
        "outputId": "9cf87467-bdf5-413c-fb98-a78e3ec311b0"
      },
      "source": [
        "word"
      ],
      "execution_count": null,
      "outputs": [
        {
          "output_type": "execute_result",
          "data": {
            "application/vnd.google.colaboratory.intrinsic+json": {
              "type": "string"
            },
            "text/plain": [
              "'안녕하세요'"
            ]
          },
          "metadata": {
            "tags": []
          },
          "execution_count": 36
        }
      ]
    },
    {
      "cell_type": "markdown",
      "metadata": {
        "id": "r_0-Zj8GPEsc"
      },
      "source": [
        "여러줄에 입력할 땐 작은 따옴표나 큰 따옴표 3개를 연속해서 사용"
      ]
    },
    {
      "cell_type": "code",
      "metadata": {
        "id": "gdCNBXsLPUiE"
      },
      "source": [
        "word = '''안녕하세요\n",
        "반\n",
        "갑\n",
        "습\n",
        "니다.\n",
        "'''"
      ],
      "execution_count": null,
      "outputs": []
    },
    {
      "cell_type": "code",
      "metadata": {
        "colab": {
          "base_uri": "https://localhost:8080/"
        },
        "id": "xW-IZAE7PWFj",
        "outputId": "294cc601-4884-4da3-846a-361eb0510802"
      },
      "source": [
        "print(word)"
      ],
      "execution_count": null,
      "outputs": [
        {
          "output_type": "stream",
          "text": [
            "안녕하세요\n",
            "반\n",
            "갑\n",
            "습\n",
            "니다.\n",
            "\n"
          ],
          "name": "stdout"
        }
      ]
    },
    {
      "cell_type": "code",
      "metadata": {
        "id": "EIgBbcCcPZqs"
      },
      "source": [
        "word = \"\"\"안녕하세요\n",
        "반\n",
        "갑\n",
        "습\n",
        "니다.\n",
        "\"\"\""
      ],
      "execution_count": null,
      "outputs": []
    },
    {
      "cell_type": "code",
      "metadata": {
        "colab": {
          "base_uri": "https://localhost:8080/"
        },
        "id": "NfGDP-BqPa_s",
        "outputId": "09abfbc3-832d-42b1-f7d2-4fc2a488d354"
      },
      "source": [
        "print(word)"
      ],
      "execution_count": null,
      "outputs": [
        {
          "output_type": "stream",
          "text": [
            "안녕하세요\n",
            "반\n",
            "갑\n",
            "습\n",
            "니다.\n",
            "\n"
          ],
          "name": "stdout"
        }
      ]
    },
    {
      "cell_type": "markdown",
      "metadata": {
        "id": "PXL8hJhmPgw7"
      },
      "source": [
        "#bool (참/거짓)\n",
        "\n",
        "참 또는 거짓을 나타냄 True, False에서 T와 F는 반드시 대문자로 표기"
      ]
    },
    {
      "cell_type": "code",
      "metadata": {
        "id": "17smJwhePryL"
      },
      "source": [
        "a = False"
      ],
      "execution_count": null,
      "outputs": []
    },
    {
      "cell_type": "code",
      "metadata": {
        "colab": {
          "base_uri": "https://localhost:8080/"
        },
        "id": "FHcPINH3PsQa",
        "outputId": "81c7c1f0-8fd7-41da-b41c-e76ca70b301c"
      },
      "source": [
        "print(a)"
      ],
      "execution_count": null,
      "outputs": [
        {
          "output_type": "stream",
          "text": [
            "False\n"
          ],
          "name": "stdout"
        }
      ]
    },
    {
      "cell_type": "markdown",
      "metadata": {
        "id": "40iy2YkfPtfk"
      },
      "source": [
        "type 확인"
      ]
    },
    {
      "cell_type": "code",
      "metadata": {
        "colab": {
          "base_uri": "https://localhost:8080/"
        },
        "id": "jKJes2PTPviy",
        "outputId": "d06a746e-8c50-4bce-9b61-0334c20dd6c8"
      },
      "source": [
        "type(False)"
      ],
      "execution_count": null,
      "outputs": [
        {
          "output_type": "execute_result",
          "data": {
            "text/plain": [
              "bool"
            ]
          },
          "metadata": {
            "tags": []
          },
          "execution_count": 44
        }
      ]
    },
    {
      "cell_type": "markdown",
      "metadata": {
        "id": "N39hBw13Px4E"
      },
      "source": [
        "- 정수 1은 True\n",
        "- 정수 0은 False\n",
        "\n",
        "\"같다\" 비교를 \"==\" 기호로 함"
      ]
    },
    {
      "cell_type": "code",
      "metadata": {
        "colab": {
          "base_uri": "https://localhost:8080/"
        },
        "id": "6UJRwmsRP7ok",
        "outputId": "2119c0cc-44ef-4b4d-e435-0d27041f84f0"
      },
      "source": [
        "1 == True"
      ],
      "execution_count": null,
      "outputs": [
        {
          "output_type": "execute_result",
          "data": {
            "text/plain": [
              "True"
            ]
          },
          "metadata": {
            "tags": []
          },
          "execution_count": 45
        }
      ]
    },
    {
      "cell_type": "code",
      "metadata": {
        "colab": {
          "base_uri": "https://localhost:8080/"
        },
        "id": "bxlRD09kQCfU",
        "outputId": "e84a2307-a759-4490-835f-96568998bb99"
      },
      "source": [
        "0 == False"
      ],
      "execution_count": null,
      "outputs": [
        {
          "output_type": "execute_result",
          "data": {
            "text/plain": [
              "True"
            ]
          },
          "metadata": {
            "tags": []
          },
          "execution_count": 46
        }
      ]
    },
    {
      "cell_type": "markdown",
      "metadata": {
        "id": "7SsS0xveQDk1"
      },
      "source": [
        "type 확인"
      ]
    },
    {
      "cell_type": "code",
      "metadata": {
        "colab": {
          "base_uri": "https://localhost:8080/"
        },
        "id": "wHBiR-zZQFYs",
        "outputId": "2143b98e-5b6e-4b76-febb-ef998c352eb2"
      },
      "source": [
        "type(True)"
      ],
      "execution_count": null,
      "outputs": [
        {
          "output_type": "execute_result",
          "data": {
            "text/plain": [
              "bool"
            ]
          },
          "metadata": {
            "tags": []
          },
          "execution_count": 47
        }
      ]
    },
    {
      "cell_type": "markdown",
      "metadata": {
        "id": "1vVOdoPyQLqE"
      },
      "source": [
        "#아무것도 아닌 None 타입\n",
        "아무 것도 아닌 Null 값을 넣음\n",
        "\n",
        "Null: Nullify (무효화하다)\n",
        "\n",
        "python에서는 None"
      ]
    },
    {
      "cell_type": "code",
      "metadata": {
        "id": "S15I-RANQzUV"
      },
      "source": [
        "a = None"
      ],
      "execution_count": null,
      "outputs": []
    },
    {
      "cell_type": "markdown",
      "metadata": {
        "id": "Qe8ErIu2Q0Si"
      },
      "source": [
        "type 확인"
      ]
    },
    {
      "cell_type": "code",
      "metadata": {
        "colab": {
          "base_uri": "https://localhost:8080/"
        },
        "id": "hrdrVt97Q2ky",
        "outputId": "2afe739c-4640-42ab-eb54-667e2a91a6a1"
      },
      "source": [
        "type(a)"
      ],
      "execution_count": null,
      "outputs": [
        {
          "output_type": "execute_result",
          "data": {
            "text/plain": [
              "NoneType"
            ]
          },
          "metadata": {
            "tags": []
          },
          "execution_count": 49
        }
      ]
    },
    {
      "cell_type": "code",
      "metadata": {
        "colab": {
          "base_uri": "https://localhost:8080/"
        },
        "id": "i1QCiL94Q3zk",
        "outputId": "d435452a-916b-410b-9acc-3d99b22f1d56"
      },
      "source": [
        "print(a)"
      ],
      "execution_count": null,
      "outputs": [
        {
          "output_type": "stream",
          "text": [
            "None\n"
          ],
          "name": "stdout"
        }
      ]
    },
    {
      "cell_type": "markdown",
      "metadata": {
        "id": "sh4UV22hAIrO"
      },
      "source": [
        "# 타입변환\n",
        "int를 float로 변환한 경우"
      ]
    },
    {
      "cell_type": "code",
      "metadata": {
        "id": "-hRKLCKiAVHx"
      },
      "source": [
        "a=1"
      ],
      "execution_count": null,
      "outputs": []
    },
    {
      "cell_type": "code",
      "metadata": {
        "colab": {
          "base_uri": "https://localhost:8080/"
        },
        "id": "mrdscUBmAZRt",
        "outputId": "d775fdb2-dcc7-444f-dda8-23619a77de20"
      },
      "source": [
        "type(a)"
      ],
      "execution_count": null,
      "outputs": [
        {
          "output_type": "execute_result",
          "data": {
            "text/plain": [
              "int"
            ]
          },
          "metadata": {
            "tags": []
          },
          "execution_count": 54
        }
      ]
    },
    {
      "cell_type": "code",
      "metadata": {
        "colab": {
          "base_uri": "https://localhost:8080/"
        },
        "id": "dchDiBmvQ_k7",
        "outputId": "9edff323-fb1d-407b-ba43-e43d898a24c7"
      },
      "source": [
        "float(a)"
      ],
      "execution_count": null,
      "outputs": [
        {
          "output_type": "execute_result",
          "data": {
            "text/plain": [
              "1.0"
            ]
          },
          "metadata": {
            "tags": []
          },
          "execution_count": 56
        }
      ]
    },
    {
      "cell_type": "markdown",
      "metadata": {
        "id": "BwM1O-6tRFi0"
      },
      "source": [
        "float를 int로 변환한 경우\n",
        "\n",
        "float를 int로 변환시 반올림이 아닌 값을 버림 (소수점 이하 절삭)"
      ]
    },
    {
      "cell_type": "code",
      "metadata": {
        "id": "Q2wA28rrAbzR"
      },
      "source": [
        "b=1.99"
      ],
      "execution_count": null,
      "outputs": []
    },
    {
      "cell_type": "code",
      "metadata": {
        "colab": {
          "base_uri": "https://localhost:8080/"
        },
        "id": "sXcWhoNNAi3N",
        "outputId": "d9381ff0-43e4-4888-d15c-e9f7071bd8b5"
      },
      "source": [
        "int(b)"
      ],
      "execution_count": null,
      "outputs": [
        {
          "output_type": "execute_result",
          "data": {
            "text/plain": [
              "1"
            ]
          },
          "metadata": {
            "tags": []
          },
          "execution_count": 59
        }
      ]
    },
    {
      "cell_type": "markdown",
      "metadata": {
        "id": "mQ3-ygMxRZ3U"
      },
      "source": [
        "bool을 int로 변환한 경우"
      ]
    },
    {
      "cell_type": "code",
      "metadata": {
        "id": "2C2f7xeTAlPl"
      },
      "source": [
        "c=True"
      ],
      "execution_count": null,
      "outputs": []
    },
    {
      "cell_type": "code",
      "metadata": {
        "colab": {
          "base_uri": "https://localhost:8080/"
        },
        "id": "0w7aM3FSAplD",
        "outputId": "b270af44-79a6-4fbd-f243-991c26d2192b"
      },
      "source": [
        "int(c)"
      ],
      "execution_count": null,
      "outputs": [
        {
          "output_type": "execute_result",
          "data": {
            "text/plain": [
              "1"
            ]
          },
          "metadata": {
            "tags": []
          },
          "execution_count": 19
        }
      ]
    },
    {
      "cell_type": "code",
      "metadata": {
        "id": "_7P8Hxm6AsD-"
      },
      "source": [
        "d=False"
      ],
      "execution_count": null,
      "outputs": []
    },
    {
      "cell_type": "code",
      "metadata": {
        "colab": {
          "base_uri": "https://localhost:8080/"
        },
        "id": "2Lh3dg99Aw0i",
        "outputId": "08ce5160-3e38-4684-f2fd-a718a3d340f9"
      },
      "source": [
        "type(d )"
      ],
      "execution_count": null,
      "outputs": [
        {
          "output_type": "execute_result",
          "data": {
            "text/plain": [
              "bool"
            ]
          },
          "metadata": {
            "tags": []
          },
          "execution_count": 63
        }
      ]
    },
    {
      "cell_type": "markdown",
      "metadata": {
        "id": "82gvvv_DRqNT"
      },
      "source": [
        "bool을 float로 변환한 경우"
      ]
    },
    {
      "cell_type": "code",
      "metadata": {
        "colab": {
          "base_uri": "https://localhost:8080/"
        },
        "id": "VC_GHjPZRsNz",
        "outputId": "0af51704-9f67-4dc0-9a04-ca25284a2335"
      },
      "source": [
        "float(True)"
      ],
      "execution_count": null,
      "outputs": [
        {
          "output_type": "execute_result",
          "data": {
            "text/plain": [
              "1.0"
            ]
          },
          "metadata": {
            "tags": []
          },
          "execution_count": 64
        }
      ]
    },
    {
      "cell_type": "markdown",
      "metadata": {
        "id": "VbTufVvuRk7D"
      },
      "source": [
        "파이썬에서 0이 아닌 값은 모두 True로 간주한다."
      ]
    },
    {
      "cell_type": "code",
      "metadata": {
        "colab": {
          "base_uri": "https://localhost:8080/"
        },
        "id": "pFgEXCrSRu3U",
        "outputId": "e7183604-5c4d-4bb1-8b78-40a33c8dc6ca"
      },
      "source": [
        "bool(1)"
      ],
      "execution_count": null,
      "outputs": [
        {
          "output_type": "execute_result",
          "data": {
            "text/plain": [
              "True"
            ]
          },
          "metadata": {
            "tags": []
          },
          "execution_count": 65
        }
      ]
    },
    {
      "cell_type": "code",
      "metadata": {
        "colab": {
          "base_uri": "https://localhost:8080/"
        },
        "id": "7qAERbDFRwV2",
        "outputId": "664e20e1-c05c-4238-8af6-bbfa3faa8024"
      },
      "source": [
        "bool(-10)"
      ],
      "execution_count": null,
      "outputs": [
        {
          "output_type": "execute_result",
          "data": {
            "text/plain": [
              "True"
            ]
          },
          "metadata": {
            "tags": []
          },
          "execution_count": 66
        }
      ]
    },
    {
      "cell_type": "code",
      "metadata": {
        "colab": {
          "base_uri": "https://localhost:8080/"
        },
        "id": "NhZ4vFw1RyiU",
        "outputId": "079b7c0f-5b5c-404c-e25f-d21c706117fe"
      },
      "source": [
        "bool(3.14)"
      ],
      "execution_count": null,
      "outputs": [
        {
          "output_type": "execute_result",
          "data": {
            "text/plain": [
              "True"
            ]
          },
          "metadata": {
            "tags": []
          },
          "execution_count": 67
        }
      ]
    },
    {
      "cell_type": "code",
      "metadata": {
        "colab": {
          "base_uri": "https://localhost:8080/"
        },
        "id": "6simC3a9Rz20",
        "outputId": "b29790ec-794c-4e24-b789-0199d5e3f0d7"
      },
      "source": [
        "bool(0)"
      ],
      "execution_count": null,
      "outputs": [
        {
          "output_type": "execute_result",
          "data": {
            "text/plain": [
              "False"
            ]
          },
          "metadata": {
            "tags": []
          },
          "execution_count": 68
        }
      ]
    },
    {
      "cell_type": "code",
      "metadata": {
        "colab": {
          "base_uri": "https://localhost:8080/"
        },
        "id": "6pzrn7ZAR0wM",
        "outputId": "f6963a5e-0e27-48bd-b270-e52f08a3673a"
      },
      "source": [
        "bool(0.0)"
      ],
      "execution_count": null,
      "outputs": [
        {
          "output_type": "execute_result",
          "data": {
            "text/plain": [
              "False"
            ]
          },
          "metadata": {
            "tags": []
          },
          "execution_count": 69
        }
      ]
    }
  ]
}