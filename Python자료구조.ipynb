{
  "nbformat": 4,
  "nbformat_minor": 0,
  "metadata": {
    "colab": {
      "name": "Python자료구조.ipynb",
      "provenance": [],
      "authorship_tag": "ABX9TyPhXw/DJ8Ms0su9h5MmW3rK",
      "include_colab_link": true
    },
    "kernelspec": {
      "name": "python3",
      "display_name": "Python 3"
    },
    "language_info": {
      "name": "python"
    }
  },
  "cells": [
    {
      "cell_type": "markdown",
      "metadata": {
        "id": "view-in-github",
        "colab_type": "text"
      },
      "source": [
        "<a href=\"https://colab.research.google.com/github/sdh0572/2021_SummerStudy/blob/main/Python%EC%9E%90%EB%A3%8C%EA%B5%AC%EC%A1%B0.ipynb\" target=\"_parent\"><img src=\"https://colab.research.google.com/assets/colab-badge.svg\" alt=\"Open In Colab\"/></a>"
      ]
    },
    {
      "cell_type": "code",
      "metadata": {
        "id": "FUxMtUM76Dz7"
      },
      "source": [
        "import this"
      ],
      "execution_count": 2,
      "outputs": []
    },
    {
      "cell_type": "markdown",
      "metadata": {
        "id": "HvmOq2_u7b1v"
      },
      "source": [
        "## prinf(출력)"
      ]
    },
    {
      "cell_type": "code",
      "metadata": {
        "id": "17kVhbbB7i3x"
      },
      "source": [
        "print('오늘 파이썬 배우기 좋은 날이네!')"
      ],
      "execution_count": null,
      "outputs": []
    },
    {
      "cell_type": "code",
      "metadata": {
        "id": "fNLNLVSw7qwK"
      },
      "source": [
        "print(\"오늘은\",\"일요일\")"
      ],
      "execution_count": null,
      "outputs": []
    },
    {
      "cell_type": "markdown",
      "metadata": {
        "id": "RRsv16BN8Hi3"
      },
      "source": [
        "##변수"
      ]
    },
    {
      "cell_type": "markdown",
      "metadata": {
        "id": "l8Z97B9b8NX3"
      },
      "source": [
        "##변수의 이름 규칙\n",
        "다믕의 문자만 사용 가능\n",
        "소문자\n",
        "대문자\n",
        "숫자\n",
        "한글\n",
        "특수기호는 언더바_만 가능\n",
        "다음으 규칙을 가집니다\n",
        "대소 문자를 구분\n",
        "순자는 맨처음에 올수 없음\n",
        "예약어는 사용 불가능"
      ]
    },
    {
      "cell_type": "markdown",
      "metadata": {
        "id": "cBwahA2W982l"
      },
      "source": [
        "# 데이터 타입"
      ]
    },
    {
      "cell_type": "markdown",
      "metadata": {
        "id": "r8FiUVbX-MOO"
      },
      "source": [
        "## 주요 데이터 타입\n",
        "\n",
        "\n",
        "1.   int 정수 젓수를 나타냄\n",
        "2.   float 실수 소수점이 있는 숫자를 나타남\n",
        "3. srt 문자\n",
        "4. bool 참, 거짓\n",
        "\n",
        "\n",
        "\n"
      ]
    },
    {
      "cell_type": "code",
      "metadata": {
        "colab": {
          "base_uri": "https://localhost:8080/"
        },
        "id": "DqgJZwkW-8wm",
        "outputId": "c3f2e3b7-d54d-407d-b581-3f97bf3ec519"
      },
      "source": [
        "type(1)"
      ],
      "execution_count": 12,
      "outputs": [
        {
          "output_type": "execute_result",
          "data": {
            "text/plain": [
              "int"
            ]
          },
          "metadata": {
            "tags": []
          },
          "execution_count": 12
        }
      ]
    },
    {
      "cell_type": "code",
      "metadata": {
        "colab": {
          "base_uri": "https://localhost:8080/"
        },
        "id": "M_zuKc3C_ESH",
        "outputId": "6b708e05-4510-4912-a546-494e80e1f4c9"
      },
      "source": [
        "type(3.14)"
      ],
      "execution_count": 9,
      "outputs": [
        {
          "output_type": "execute_result",
          "data": {
            "text/plain": [
              "float"
            ]
          },
          "metadata": {
            "tags": []
          },
          "execution_count": 9
        }
      ]
    },
    {
      "cell_type": "code",
      "metadata": {
        "colab": {
          "base_uri": "https://localhost:8080/"
        },
        "id": "yDhUGL6b_KCd",
        "outputId": "0ffc96ab-baa2-435c-ab96-6d36eeb58eac"
      },
      "source": [
        "type('안녕')"
      ],
      "execution_count": 11,
      "outputs": [
        {
          "output_type": "execute_result",
          "data": {
            "text/plain": [
              "str"
            ]
          },
          "metadata": {
            "tags": []
          },
          "execution_count": 11
        }
      ]
    },
    {
      "cell_type": "code",
      "metadata": {
        "colab": {
          "base_uri": "https://localhost:8080/"
        },
        "id": "ikKTd3Nl_ORi",
        "outputId": "6740a54c-8ae9-4227-e47b-fa67cc495070"
      },
      "source": [
        "type(True)"
      ],
      "execution_count": 13,
      "outputs": [
        {
          "output_type": "execute_result",
          "data": {
            "text/plain": [
              "bool"
            ]
          },
          "metadata": {
            "tags": []
          },
          "execution_count": 13
        }
      ]
    },
    {
      "cell_type": "markdown",
      "metadata": {
        "id": "sh4UV22hAIrO"
      },
      "source": [
        "# 타입변환"
      ]
    },
    {
      "cell_type": "code",
      "metadata": {
        "id": "-hRKLCKiAVHx"
      },
      "source": [
        "a=1"
      ],
      "execution_count": 14,
      "outputs": []
    },
    {
      "cell_type": "code",
      "metadata": {
        "colab": {
          "base_uri": "https://localhost:8080/"
        },
        "id": "mrdscUBmAZRt",
        "outputId": "a5c6c3ad-b360-43f6-e034-33ffe24efb23"
      },
      "source": [
        "type(a)"
      ],
      "execution_count": 15,
      "outputs": [
        {
          "output_type": "execute_result",
          "data": {
            "text/plain": [
              "int"
            ]
          },
          "metadata": {
            "tags": []
          },
          "execution_count": 15
        }
      ]
    },
    {
      "cell_type": "code",
      "metadata": {
        "id": "Q2wA28rrAbzR"
      },
      "source": [
        "b=1.99"
      ],
      "execution_count": 16,
      "outputs": []
    },
    {
      "cell_type": "code",
      "metadata": {
        "colab": {
          "base_uri": "https://localhost:8080/"
        },
        "id": "sXcWhoNNAi3N",
        "outputId": "62cd13e7-8ef7-4644-d2e7-2c93ad43cbda"
      },
      "source": [
        "int(b)"
      ],
      "execution_count": 17,
      "outputs": [
        {
          "output_type": "execute_result",
          "data": {
            "text/plain": [
              "1"
            ]
          },
          "metadata": {
            "tags": []
          },
          "execution_count": 17
        }
      ]
    },
    {
      "cell_type": "code",
      "metadata": {
        "id": "2C2f7xeTAlPl"
      },
      "source": [
        "c=True"
      ],
      "execution_count": 18,
      "outputs": []
    },
    {
      "cell_type": "code",
      "metadata": {
        "colab": {
          "base_uri": "https://localhost:8080/"
        },
        "id": "0w7aM3FSAplD",
        "outputId": "b270af44-79a6-4fbd-f243-991c26d2192b"
      },
      "source": [
        "int(c)"
      ],
      "execution_count": 19,
      "outputs": [
        {
          "output_type": "execute_result",
          "data": {
            "text/plain": [
              "1"
            ]
          },
          "metadata": {
            "tags": []
          },
          "execution_count": 19
        }
      ]
    },
    {
      "cell_type": "code",
      "metadata": {
        "id": "_7P8Hxm6AsD-"
      },
      "source": [
        "d=False"
      ],
      "execution_count": 20,
      "outputs": []
    },
    {
      "cell_type": "code",
      "metadata": {
        "colab": {
          "base_uri": "https://localhost:8080/"
        },
        "id": "2Lh3dg99Aw0i",
        "outputId": "74d5b47b-b5fb-4d19-dd34-ed7b79b791e7"
      },
      "source": [
        "type(d )"
      ],
      "execution_count": 21,
      "outputs": [
        {
          "output_type": "execute_result",
          "data": {
            "text/plain": [
              "bool"
            ]
          },
          "metadata": {
            "tags": []
          },
          "execution_count": 21
        }
      ]
    }
  ]
}