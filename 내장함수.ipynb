{
  "nbformat": 4,
  "nbformat_minor": 0,
  "metadata": {
    "colab": {
      "name": "내장함수.ipynb",
      "provenance": [],
      "collapsed_sections": [],
      "authorship_tag": "ABX9TyN1bOYtrwzpiJ/Fxp4/IYjx",
      "include_colab_link": true
    },
    "kernelspec": {
      "name": "python3",
      "display_name": "Python 3"
    },
    "language_info": {
      "name": "python"
    }
  },
  "cells": [
    {
      "cell_type": "markdown",
      "metadata": {
        "id": "view-in-github",
        "colab_type": "text"
      },
      "source": [
        "<a href=\"https://colab.research.google.com/github/sdh0572/2021_SummerStudy/blob/main/%EB%82%B4%EC%9E%A5%ED%95%A8%EC%88%98.ipynb\" target=\"_parent\"><img src=\"https://colab.research.google.com/assets/colab-badge.svg\" alt=\"Open In Colab\"/></a>"
      ]
    },
    {
      "cell_type": "markdown",
      "metadata": {
        "id": "WXide00RdYHX"
      },
      "source": [
        "#내장함수\n",
        "- 파이썬에서 이미 만들어진 내장함수가 존재\n",
        "-이미 사용하고 있는 print(), type()이 파이썬의 대표적인 내장함수\n",
        "\n",
        "#map\n",
        "- 문법: map(function, iterable)\n",
        "-map은 함수(f)와 순회 가능한(iterable) 자료형을 입력으로 받음\n",
        "-map은 입력받은 자료형의 각 요소를 함수(function)가 수행한 결과를 묶어서 돌려"
      ]
    },
    {
      "cell_type": "code",
      "metadata": {
        "id": "hKMppDQk3-3l"
      },
      "source": [
        "sample_data = [1, 2, 3, 4, 5, 6, 7, 8, 9, 10]"
      ],
      "execution_count": null,
      "outputs": []
    },
    {
      "cell_type": "markdown",
      "metadata": {
        "id": "xZyTngKB4NC3"
      },
      "source": [
        "map만 실행시 요소의 내용이 바로 출력되지 않음"
      ]
    },
    {
      "cell_type": "code",
      "metadata": {
        "colab": {
          "base_uri": "https://localhost:8080/"
        },
        "id": "1ZibVD574AKn",
        "outputId": "96a1774e-2ff4-49a2-b9fd-7320272f2c18"
      },
      "source": [
        "map(str, sample_data)"
      ],
      "execution_count": null,
      "outputs": [
        {
          "output_type": "execute_result",
          "data": {
            "text/plain": [
              "<map at 0x7f7c2fa98cd0>"
            ]
          },
          "metadata": {
            "tags": []
          },
          "execution_count": 2
        }
      ]
    },
    {
      "cell_type": "markdown",
      "metadata": {
        "id": "-MvSw8uL4BKu"
      },
      "source": [
        "list()로 타입 변환하여 요소를 출력"
      ]
    },
    {
      "cell_type": "code",
      "metadata": {
        "colab": {
          "base_uri": "https://localhost:8080/"
        },
        "id": "eNKxDKfr4LQW",
        "outputId": "54504fd1-f9b1-4dd2-cf0f-e1556fb0b4b2"
      },
      "source": [
        "list(map(str, sample_data))"
      ],
      "execution_count": null,
      "outputs": [
        {
          "output_type": "execute_result",
          "data": {
            "text/plain": [
              "['1', '2', '3', '4', '5', '6', '7', '8', '9', '10']"
            ]
          },
          "metadata": {
            "tags": []
          },
          "execution_count": 4
        }
      ]
    },
    {
      "cell_type": "markdown",
      "metadata": {
        "id": "jaIbTUgN4VC-"
      },
      "source": [
        "## map에 lambda 함수 적용"
      ]
    },
    {
      "cell_type": "code",
      "metadata": {
        "colab": {
          "base_uri": "https://localhost:8080/"
        },
        "id": "4NASn9cF4X3-",
        "outputId": "4a88a3fb-358e-4c43-d90c-b9e01e6f75d6"
      },
      "source": [
        "result = map(lambda x: x*2, sample_data)\n",
        "list(result)"
      ],
      "execution_count": null,
      "outputs": [
        {
          "output_type": "execute_result",
          "data": {
            "text/plain": [
              "[2, 4, 6, 8, 10, 12, 14, 16, 18, 20]"
            ]
          },
          "metadata": {
            "tags": []
          },
          "execution_count": 5
        }
      ]
    },
    {
      "cell_type": "markdown",
      "metadata": {
        "id": "qM82LNFL4gif"
      },
      "source": [
        "##map에 다중 인수를 지정"
      ]
    },
    {
      "cell_type": "code",
      "metadata": {
        "colab": {
          "base_uri": "https://localhost:8080/"
        },
        "id": "_jubHcAb4kQP",
        "outputId": "6d55cd60-c0e5-47b4-a0ce-05b4f4916ebf"
      },
      "source": [
        "sample_data = [1, 2, 3, 4, 5, 6, 7, 8, 9, 10]\n",
        "sample_data_2 = [0, 1, 2, 3, 5, 8, 13, 21, 34, 55]\n",
        "list(map(lambda x, y: x+y, sample_data, sample_data_2))"
      ],
      "execution_count": null,
      "outputs": [
        {
          "output_type": "execute_result",
          "data": {
            "text/plain": [
              "[1, 3, 5, 7, 10, 14, 20, 29, 43, 65]"
            ]
          },
          "metadata": {
            "tags": []
          },
          "execution_count": 6
        }
      ]
    },
    {
      "cell_type": "markdown",
      "metadata": {
        "id": "Bof8aMOT4miQ"
      },
      "source": [
        "##list의 size가 다른 경우, 작은 size에 맞춰 생성"
      ]
    },
    {
      "cell_type": "code",
      "metadata": {
        "id": "RocRrX7s4p1-"
      },
      "source": [
        "sample_data = [1, 2, 3, 4, 5, 6, 7, 8, 9, 10]\n",
        "sample_data_2 = [1, 1, 1, 10, 100]"
      ],
      "execution_count": null,
      "outputs": []
    },
    {
      "cell_type": "code",
      "metadata": {
        "colab": {
          "base_uri": "https://localhost:8080/"
        },
        "id": "t5lQ6pkm4rE3",
        "outputId": "2862fc43-bc8c-4570-c2e7-dfbe9bc435c2"
      },
      "source": [
        "list(map(lambda x, y: x+y, sample_data, sample_data_2))"
      ],
      "execution_count": null,
      "outputs": [
        {
          "output_type": "execute_result",
          "data": {
            "text/plain": [
              "[2, 3, 4, 14, 105]"
            ]
          },
          "metadata": {
            "tags": []
          },
          "execution_count": 8
        }
      ]
    },
    {
      "cell_type": "markdown",
      "metadata": {
        "id": "yL0XNxyh4s1n"
      },
      "source": [
        "#fIlter\n",
        "- 문법: fIlter(function, iterable)\n",
        "-filter 내장함수는 값을 filter 할 때 사용\n",
        "-True인 값을 가지는 요소만 filter 함"
      ]
    },
    {
      "cell_type": "code",
      "metadata": {
        "id": "0vE-jXMj40Rm"
      },
      "source": [
        "sample_data = [1, 2, 3, 4, 5, 6, 7, 8, 9, 10]\n"
      ],
      "execution_count": null,
      "outputs": []
    },
    {
      "cell_type": "markdown",
      "metadata": {
        "id": "kG9B4a1B410G"
      },
      "source": [
        "lambda 함수를 지정한 경우"
      ]
    },
    {
      "cell_type": "code",
      "metadata": {
        "colab": {
          "base_uri": "https://localhost:8080/"
        },
        "id": "Nji90Xpz43cW",
        "outputId": "a274a08e-eaa8-471a-f70c-20587d602a4a"
      },
      "source": [
        "result = filter(lambda x: True if (x % 2 == 1) else False, sample_data)\n",
        "list(result)"
      ],
      "execution_count": null,
      "outputs": [
        {
          "output_type": "execute_result",
          "data": {
            "text/plain": [
              "[1, 3, 5, 7, 9]"
            ]
          },
          "metadata": {
            "tags": []
          },
          "execution_count": 10
        }
      ]
    },
    {
      "cell_type": "markdown",
      "metadata": {
        "id": "t-fwtWPc44hW"
      },
      "source": [
        "함수를 선언하여 함수명으로 지정한 경우"
      ]
    },
    {
      "cell_type": "code",
      "metadata": {
        "id": "a-U2t6iH46z-"
      },
      "source": [
        "def three_multiple(x):\n",
        "    if x % 3 == 0:\n",
        "        return True\n",
        "    else:\n",
        "        return False"
      ],
      "execution_count": null,
      "outputs": []
    },
    {
      "cell_type": "code",
      "metadata": {
        "colab": {
          "base_uri": "https://localhost:8080/"
        },
        "id": "60K7o7Oe4843",
        "outputId": "ad421e40-a521-4fbf-8349-eb1d918fae1b"
      },
      "source": [
        "result = filter(three_multiple, sample_data)\n",
        "list(result)\n"
      ],
      "execution_count": null,
      "outputs": [
        {
          "output_type": "execute_result",
          "data": {
            "text/plain": [
              "[3, 6, 9]"
            ]
          },
          "metadata": {
            "tags": []
          },
          "execution_count": 12
        }
      ]
    },
    {
      "cell_type": "markdown",
      "metadata": {
        "id": "mnrKNUC74-qe"
      },
      "source": [
        "#zip\n",
        "- 문법: zip(*iterable)\n",
        "-동일한 개수로 이루어진 자료형을 묶어 주는 역할"
      ]
    },
    {
      "cell_type": "code",
      "metadata": {
        "id": "WdiV-KgV5CPO"
      },
      "source": [
        "sample_data1 = [1, 2, 3, 4, 5, 6, 7, 8, 9, 10]\n",
        "sample_data2 = [0, 1, 2, 3, 5, 8, 13, 21, 34, 55]\n",
        "sample_data3 = [5, 6, 7]"
      ],
      "execution_count": null,
      "outputs": []
    },
    {
      "cell_type": "markdown",
      "metadata": {
        "id": "-FvSL36U5Efu"
      },
      "source": [
        "sample_data1, sample_data2을 zip으로 묶어준 경우"
      ]
    },
    {
      "cell_type": "code",
      "metadata": {
        "colab": {
          "base_uri": "https://localhost:8080/"
        },
        "id": "gmB0D2mK5Gvn",
        "outputId": "339a9b15-c89e-4fc0-a067-93bbbf06ef70"
      },
      "source": [
        "result = zip(sample_data1, sample_data2)\n",
        "list(result)"
      ],
      "execution_count": null,
      "outputs": [
        {
          "output_type": "execute_result",
          "data": {
            "text/plain": [
              "[(1, 0),\n",
              " (2, 1),\n",
              " (3, 2),\n",
              " (4, 3),\n",
              " (5, 5),\n",
              " (6, 8),\n",
              " (7, 13),\n",
              " (8, 21),\n",
              " (9, 34),\n",
              " (10, 55)]"
            ]
          },
          "metadata": {
            "tags": []
          },
          "execution_count": 15
        }
      ]
    },
    {
      "cell_type": "markdown",
      "metadata": {
        "id": "a4XnBsp65Ia2"
      },
      "source": [
        "sample_data1, sample_data2, sample_data3을 zip으로 묶어준 경우\n",
        "\n",
        "- 작은 size를 가지는 리스트(list)에 맞춰 생성"
      ]
    },
    {
      "cell_type": "code",
      "metadata": {
        "colab": {
          "base_uri": "https://localhost:8080/"
        },
        "id": "HlssaQiH5L-W",
        "outputId": "826ea542-0f0c-4546-d2c9-7aaad4676ea2"
      },
      "source": [
        "list(zip(sample_data1, sample_data2, sample_data3))"
      ],
      "execution_count": null,
      "outputs": [
        {
          "output_type": "execute_result",
          "data": {
            "text/plain": [
              "[(1, 0, 5), (2, 1, 6), (3, 2, 7)]"
            ]
          },
          "metadata": {
            "tags": []
          },
          "execution_count": 16
        }
      ]
    },
    {
      "cell_type": "markdown",
      "metadata": {
        "id": "kZfJqvUa5Nft"
      },
      "source": [
        "##zip의 응용"
      ]
    },
    {
      "cell_type": "code",
      "metadata": {
        "id": "HuxNG5XB5Osf"
      },
      "source": [
        "number = [1, 2, 3, 4]\n",
        "name = ['홍길동','김철수','John','Paul']"
      ],
      "execution_count": null,
      "outputs": []
    },
    {
      "cell_type": "code",
      "metadata": {
        "colab": {
          "base_uri": "https://localhost:8080/"
        },
        "id": "WP8YXnrL5TgV",
        "outputId": "9a71481a-c0b8-4fc2-9faa-5194ccfb26f9"
      },
      "source": [
        "number_name = list(zip(number,name))\n",
        "number_name"
      ],
      "execution_count": null,
      "outputs": [
        {
          "output_type": "execute_result",
          "data": {
            "text/plain": [
              "[(1, '홍길동'), (2, '김철수'), (3, 'John'), (4, 'Paul')]"
            ]
          },
          "metadata": {
            "tags": []
          },
          "execution_count": 19
        }
      ]
    },
    {
      "cell_type": "markdown",
      "metadata": {
        "id": "nseCC0Bq5Vel"
      },
      "source": [
        "##zip을 활용한 dict 만들기"
      ]
    },
    {
      "cell_type": "code",
      "metadata": {
        "id": "Ey0gZm435X9m"
      },
      "source": [
        "number = [1, 2, 3, 4]\n",
        "name = ['홍길동','김철수','John','Paul']\n",
        "dic = {}\n",
        "\n",
        "for number, name in zip(number,name): \n",
        "    dic[number] = name"
      ],
      "execution_count": null,
      "outputs": []
    },
    {
      "cell_type": "code",
      "metadata": {
        "colab": {
          "base_uri": "https://localhost:8080/"
        },
        "id": "JS7QShEU5Zft",
        "outputId": "49fec5d8-c5fc-4dba-d86b-2bbfdd9a0882"
      },
      "source": [
        "dic"
      ],
      "execution_count": null,
      "outputs": [
        {
          "output_type": "execute_result",
          "data": {
            "text/plain": [
              "{1: '홍길동', 2: '김철수', 3: 'John', 4: 'Paul'}"
            ]
          },
          "metadata": {
            "tags": []
          },
          "execution_count": 21
        }
      ]
    },
    {
      "cell_type": "markdown",
      "metadata": {
        "id": "McDFV1yK5ad2"
      },
      "source": [
        "#enumerate\n",
        "- [문법]: enumerate(iterable, start=0)\n",
        "-순서가 있는 자료형을 입력 받아 index를 포함하는 객체로 return 함\n",
        "\n",
        "일반 range() 함수를 사용한 경우"
      ]
    },
    {
      "cell_type": "code",
      "metadata": {
        "colab": {
          "base_uri": "https://localhost:8080/"
        },
        "id": "VPv1jaow5it2",
        "outputId": "02615413-455e-4f11-d7e8-a84d7d35478b"
      },
      "source": [
        "for value in range(1, 10, 2):\n",
        "    print(value)"
      ],
      "execution_count": null,
      "outputs": [
        {
          "output_type": "stream",
          "text": [
            "1\n",
            "3\n",
            "5\n",
            "7\n",
            "9\n"
          ],
          "name": "stdout"
        }
      ]
    },
    {
      "cell_type": "markdown",
      "metadata": {
        "id": "p1sGTO8d5k-O"
      },
      "source": [
        "enumerate() 함수를 사용하여 index를 return 받은 경우"
      ]
    },
    {
      "cell_type": "code",
      "metadata": {
        "colab": {
          "base_uri": "https://localhost:8080/"
        },
        "id": "uLQ49Nd75m3f",
        "outputId": "eb6bd7f8-cba9-4d77-83d3-597ccb144e41"
      },
      "source": [
        "for idx, value in enumerate(range(1, 10, 2)):\n",
        "    print(f'index: {idx}, value: {value}')"
      ],
      "execution_count": null,
      "outputs": [
        {
          "output_type": "stream",
          "text": [
            "index: 0, value: 1\n",
            "index: 1, value: 3\n",
            "index: 2, value: 5\n",
            "index: 3, value: 7\n",
            "index: 4, value: 9\n"
          ],
          "name": "stdout"
        }
      ]
    }
  ]
}