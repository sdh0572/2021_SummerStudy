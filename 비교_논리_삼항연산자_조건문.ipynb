{
  "nbformat": 4,
  "nbformat_minor": 0,
  "metadata": {
    "colab": {
      "name": "비교-논리-삼항연산자-조건문.ipynb",
      "provenance": [],
      "collapsed_sections": [],
      "authorship_tag": "ABX9TyP1RiWNCmwQ774dr0a0O82a",
      "include_colab_link": true
    },
    "kernelspec": {
      "name": "python3",
      "display_name": "Python 3"
    },
    "language_info": {
      "name": "python"
    }
  },
  "cells": [
    {
      "cell_type": "markdown",
      "metadata": {
        "id": "view-in-github",
        "colab_type": "text"
      },
      "source": [
        "<a href=\"https://colab.research.google.com/github/sdh0572/2021_SummerStudy/blob/main/%EB%B9%84%EA%B5%90_%EB%85%BC%EB%A6%AC_%EC%82%BC%ED%95%AD%EC%97%B0%EC%82%B0%EC%9E%90_%EC%A1%B0%EA%B1%B4%EB%AC%B8.ipynb\" target=\"_parent\"><img src=\"https://colab.research.google.com/assets/colab-badge.svg\" alt=\"Open In Colab\"/></a>"
      ]
    },
    {
      "cell_type": "markdown",
      "metadata": {
        "id": "44g-SUPh_8AU"
      },
      "source": [
        "#비교연산자\n",
        "비교연산자는 주로 대소비교를 할 때 사용합니다"
      ]
    },
    {
      "cell_type": "markdown",
      "metadata": {
        "id": "55CMz6rkAPvo"
      },
      "source": [
        "#대소비교\n",
        "\n",
        "\n",
        "*   `>` : 크다\n",
        "*   `<` : 작다\n",
        "*   `>=` : 크거나 같다\n",
        "*   `<=` : 작거나 같다\n",
        "\n"
      ]
    },
    {
      "cell_type": "code",
      "metadata": {
        "colab": {
          "base_uri": "https://localhost:8080/"
        },
        "id": "8ykn1AWMA-X5",
        "outputId": "66fd59e1-78b7-4e41-d159-2347520f1dc9"
      },
      "source": [
        "1 > 2"
      ],
      "execution_count": null,
      "outputs": [
        {
          "output_type": "execute_result",
          "data": {
            "text/plain": [
              "False"
            ]
          },
          "metadata": {
            "tags": []
          },
          "execution_count": 1
        }
      ]
    },
    {
      "cell_type": "code",
      "metadata": {
        "colab": {
          "base_uri": "https://localhost:8080/"
        },
        "id": "CZK9u26YBBgL",
        "outputId": "699356b3-b513-447c-fa90-376782ac418f"
      },
      "source": [
        "1 < 2"
      ],
      "execution_count": null,
      "outputs": [
        {
          "output_type": "execute_result",
          "data": {
            "text/plain": [
              "True"
            ]
          },
          "metadata": {
            "tags": []
          },
          "execution_count": 2
        }
      ]
    },
    {
      "cell_type": "code",
      "metadata": {
        "colab": {
          "base_uri": "https://localhost:8080/"
        },
        "id": "_3FSb6CVBEoK",
        "outputId": "cd1485bc-aa7f-405e-ebd2-5f1e4e90f84f"
      },
      "source": [
        "12 >=10"
      ],
      "execution_count": null,
      "outputs": [
        {
          "output_type": "execute_result",
          "data": {
            "text/plain": [
              "True"
            ]
          },
          "metadata": {
            "tags": []
          },
          "execution_count": 3
        }
      ]
    },
    {
      "cell_type": "code",
      "metadata": {
        "colab": {
          "base_uri": "https://localhost:8080/"
        },
        "id": "KRO53WVEBJFS",
        "outputId": "e7229ee3-cd63-4b97-b92c-ff49ff412495"
      },
      "source": [
        "10 <=10"
      ],
      "execution_count": null,
      "outputs": [
        {
          "output_type": "execute_result",
          "data": {
            "text/plain": [
              "True"
            ]
          },
          "metadata": {
            "tags": []
          },
          "execution_count": 4
        }
      ]
    },
    {
      "cell_type": "markdown",
      "metadata": {
        "id": "_U7eu-Z4BLrS"
      },
      "source": [
        "#같다와 같지 않다\n",
        "\n",
        "##== : 같음을 비교\n",
        "\n",
        "*   =는 대입 연산자\n",
        "*   코딩에서 =이 대입 연산자로 사용되기 때문에 ==를 사용\n",
        "\n"
      ]
    },
    {
      "cell_type": "code",
      "metadata": {
        "colab": {
          "base_uri": "https://localhost:8080/",
          "height": 136
        },
        "id": "CGqrqPhTtF31",
        "outputId": "5cbf7e92-b5a7-4c88-8dde-670e8856d23b"
      },
      "source": [
        "2 = 2"
      ],
      "execution_count": null,
      "outputs": [
        {
          "output_type": "error",
          "ename": "SyntaxError",
          "evalue": "ignored",
          "traceback": [
            "\u001b[0;36m  File \u001b[0;32m\"<ipython-input-1-a8e553549e25>\"\u001b[0;36m, line \u001b[0;32m1\u001b[0m\n\u001b[0;31m    2 = 2\u001b[0m\n\u001b[0m         ^\u001b[0m\n\u001b[0;31mSyntaxError\u001b[0m\u001b[0;31m:\u001b[0m can't assign to literal\n"
          ]
        }
      ]
    },
    {
      "cell_type": "code",
      "metadata": {
        "colab": {
          "base_uri": "https://localhost:8080/"
        },
        "id": "FU8Gbr1ZBc1R",
        "outputId": "d046e5e5-948e-4bc0-d38a-7671191f0f76"
      },
      "source": [
        "2==2"
      ],
      "execution_count": null,
      "outputs": [
        {
          "output_type": "execute_result",
          "data": {
            "text/plain": [
              "True"
            ]
          },
          "metadata": {
            "tags": []
          },
          "execution_count": 2
        }
      ]
    },
    {
      "cell_type": "code",
      "metadata": {
        "colab": {
          "base_uri": "https://localhost:8080/"
        },
        "id": "G-TmAZq7BeTD",
        "outputId": "d0dde34c-eca6-4e6a-8b35-c7cd07bb4e1d"
      },
      "source": [
        "2==3"
      ],
      "execution_count": null,
      "outputs": [
        {
          "output_type": "execute_result",
          "data": {
            "text/plain": [
              "False"
            ]
          },
          "metadata": {
            "tags": []
          },
          "execution_count": 6
        }
      ]
    },
    {
      "cell_type": "markdown",
      "metadata": {
        "id": "1erR1shsBfUr"
      },
      "source": [
        "## != 같지 않음을 비교"
      ]
    },
    {
      "cell_type": "code",
      "metadata": {
        "colab": {
          "base_uri": "https://localhost:8080/"
        },
        "id": "2N9Ng2yoBwP7",
        "outputId": "28466f29-0674-4602-ad59-4831d38a35ca"
      },
      "source": [
        "2!=2"
      ],
      "execution_count": null,
      "outputs": [
        {
          "output_type": "execute_result",
          "data": {
            "text/plain": [
              "False"
            ]
          },
          "metadata": {
            "tags": []
          },
          "execution_count": 7
        }
      ]
    },
    {
      "cell_type": "code",
      "metadata": {
        "colab": {
          "base_uri": "https://localhost:8080/"
        },
        "id": "-2indd-3ByXj",
        "outputId": "08b883c1-5f2a-453c-fed5-f06b19b35fa1"
      },
      "source": [
        "2!=1"
      ],
      "execution_count": null,
      "outputs": [
        {
          "output_type": "execute_result",
          "data": {
            "text/plain": [
              "True"
            ]
          },
          "metadata": {
            "tags": []
          },
          "execution_count": 8
        }
      ]
    },
    {
      "cell_type": "code",
      "metadata": {
        "colab": {
          "base_uri": "https://localhost:8080/"
        },
        "id": "PZ7d1InzB1M7",
        "outputId": "45eb0eb2-5819-4a7c-f706-06cec5dc639a"
      },
      "source": [
        "'나' != '너'"
      ],
      "execution_count": null,
      "outputs": [
        {
          "output_type": "execute_result",
          "data": {
            "text/plain": [
              "True"
            ]
          },
          "metadata": {
            "tags": []
          },
          "execution_count": 9
        }
      ]
    },
    {
      "cell_type": "code",
      "metadata": {
        "colab": {
          "base_uri": "https://localhost:8080/"
        },
        "id": "05r3uQI9B3bb",
        "outputId": "631bb2e1-3483-42df-b30f-eeec6c946016"
      },
      "source": [
        "'나' != '나'"
      ],
      "execution_count": null,
      "outputs": [
        {
          "output_type": "execute_result",
          "data": {
            "text/plain": [
              "False"
            ]
          },
          "metadata": {
            "tags": []
          },
          "execution_count": 10
        }
      ]
    },
    {
      "cell_type": "markdown",
      "metadata": {
        "id": "88XL7ImZB7Hz"
      },
      "source": [
        "# 조건문\n",
        "\n",
        "주어진 조건이 참인 경우 그 다 내가 정한 규틱을 실행하는 개념"
      ]
    },
    {
      "cell_type": "markdown",
      "metadata": {
        "id": "d8EbN8s_CHZj"
      },
      "source": [
        "if\n",
        "\n",
        "*   if는 어떤 조건이 성립한다면 ~이라는 뜻\n",
        "*   구문끝에 반드시 클론 : 을 꼭 씀\n",
        "\n"
      ]
    },
    {
      "cell_type": "code",
      "metadata": {
        "colab": {
          "base_uri": "https://localhost:8080/"
        },
        "id": "iKgs37P5CYSr",
        "outputId": "ab9317d3-7697-4821-dd4d-5bab145799f7"
      },
      "source": [
        "if 5>3:\n",
        "    print('참')"
      ],
      "execution_count": null,
      "outputs": [
        {
          "output_type": "stream",
          "text": [
            "참\n"
          ],
          "name": "stdout"
        }
      ]
    },
    {
      "cell_type": "code",
      "metadata": {
        "colab": {
          "base_uri": "https://localhost:8080/"
        },
        "id": "CkCmQyzNCfKJ",
        "outputId": "9406314d-cab7-4d25-d44d-e5c13f03dae4"
      },
      "source": [
        "if 5<3:\n",
        "    print('참')\n",
        "    print('참')\n",
        "    print('참')\n",
        "    print('참')\n",
        "\n",
        "print('끝')\n",
        "    "
      ],
      "execution_count": null,
      "outputs": [
        {
          "output_type": "stream",
          "text": [
            "끝\n"
          ],
          "name": "stdout"
        }
      ]
    },
    {
      "cell_type": "code",
      "metadata": {
        "id": "04l83TuXCuKD"
      },
      "source": [
        "if 5<3:\n",
        "  print('참')"
      ],
      "execution_count": null,
      "outputs": []
    },
    {
      "cell_type": "markdown",
      "metadata": {
        "id": "XgHOl17rC4Cj"
      },
      "source": [
        "참고 : 들여쓰기는 반복문에 속해있는 소스코드\n",
        "\n",
        "#else\n",
        "else는 if 조건 후에 따라오며, if가 아닐 경우에 실행"
      ]
    },
    {
      "cell_type": "code",
      "metadata": {
        "colab": {
          "base_uri": "https://localhost:8080/"
        },
        "id": "KPLvTsEvDelj",
        "outputId": "0b8bbe74-e8cd-4f90-80b6-82717ab6afdf"
      },
      "source": [
        "if 5<3:\n",
        "  print('if 구문 실행')\n",
        "else:\n",
        "  print('else구문 실행')"
      ],
      "execution_count": null,
      "outputs": [
        {
          "output_type": "stream",
          "text": [
            "else구문 실행\n"
          ],
          "name": "stdout"
        }
      ]
    },
    {
      "cell_type": "markdown",
      "metadata": {
        "id": "Js2wdtIIDsoB"
      },
      "source": [
        "else 구문 실행\n",
        "하지만, else구문이 단독으로 실행 한다면?"
      ]
    },
    {
      "cell_type": "code",
      "metadata": {
        "colab": {
          "base_uri": "https://localhost:8080/",
          "height": 136
        },
        "id": "TBw53y-tD2wL",
        "outputId": "5bde8710-1fca-47b8-c5e8-1cbf6b6fafc0"
      },
      "source": [
        "else:\n",
        "  print('elsr 구문 실행')"
      ],
      "execution_count": null,
      "outputs": [
        {
          "output_type": "error",
          "ename": "SyntaxError",
          "evalue": "ignored",
          "traceback": [
            "\u001b[0;36m  File \u001b[0;32m\"<ipython-input-15-99f9f058dbd2>\"\u001b[0;36m, line \u001b[0;32m1\u001b[0m\n\u001b[0;31m    else:\u001b[0m\n\u001b[0m       ^\u001b[0m\n\u001b[0;31mSyntaxError\u001b[0m\u001b[0;31m:\u001b[0m invalid syntax\n"
          ]
        }
      ]
    },
    {
      "cell_type": "markdown",
      "metadata": {
        "id": "BgVduYA7D8cy"
      },
      "source": [
        "#elif\n",
        "elif 구문은 3가지 이산 분기 (조건)의 동작을 수행할 때 사용"
      ]
    },
    {
      "cell_type": "code",
      "metadata": {
        "colab": {
          "base_uri": "https://localhost:8080/"
        },
        "id": "wmE09477EH4D",
        "outputId": "0b72d8e1-8d6e-42f6-cb3c-d742bd8746e0"
      },
      "source": [
        "if 3>5:\n",
        "  print('if구문')\n",
        "elif 3<4:\n",
        "  print(\"elif구문\")\n",
        "else:\n",
        "  print('이것도 저것도 아님')"
      ],
      "execution_count": null,
      "outputs": [
        {
          "output_type": "stream",
          "text": [
            "elif구문\n"
          ],
          "name": "stdout"
        }
      ]
    },
    {
      "cell_type": "code",
      "metadata": {
        "colab": {
          "base_uri": "https://localhost:8080/"
        },
        "id": "dZ51cIDsEYmb",
        "outputId": "2f3744aa-376b-4757-d9f0-4a2c1caeda7d"
      },
      "source": [
        "if 3>5:\n",
        "  print('if구문')\n",
        "elif 3>4:\n",
        "  print(\"elif1구문\")\n",
        "elif 3>5:\n",
        "  print(\"elif2구문\")\n",
        "elif 3<6:\n",
        "  print(\"elif3구문\")\n",
        "else:\n",
        "  print('이것도 저것도 아님')"
      ],
      "execution_count": null,
      "outputs": [
        {
          "output_type": "stream",
          "text": [
            "elif3구문\n"
          ],
          "name": "stdout"
        }
      ]
    },
    {
      "cell_type": "markdown",
      "metadata": {
        "id": "Lz8LEAN1Erpb"
      },
      "source": [
        "#1이나0은 참이나 거짓을 표현"
      ]
    },
    {
      "cell_type": "code",
      "metadata": {
        "colab": {
          "base_uri": "https://localhost:8080/"
        },
        "id": "Dey1QBm7E-Kv",
        "outputId": "21c3b7b7-1794-42fc-d6ef-091a587045c3"
      },
      "source": [
        "if 1:\n",
        "  print('참')\n",
        "else:\n",
        "  print('거짓')"
      ],
      "execution_count": null,
      "outputs": [
        {
          "output_type": "stream",
          "text": [
            "참\n"
          ],
          "name": "stdout"
        }
      ]
    },
    {
      "cell_type": "code",
      "metadata": {
        "colab": {
          "base_uri": "https://localhost:8080/"
        },
        "id": "khx8wjaTFMSl",
        "outputId": "9f6bb5b4-edce-44a4-8175-a37af2d70193"
      },
      "source": [
        "if 0:\n",
        "  print('참')\n",
        "else:\n",
        "  print('거짓')"
      ],
      "execution_count": null,
      "outputs": [
        {
          "output_type": "stream",
          "text": [
            "거짓\n"
          ],
          "name": "stdout"
        }
      ]
    },
    {
      "cell_type": "markdown",
      "metadata": {
        "id": "kpBd2yAQFQFk"
      },
      "source": [
        "#삼항연산자\n",
        "(문법)(참인값)if 조건 else(거짓인 경우의 값)\n",
        "\n",
        "삼항연산자는 파이썬 문법에서 흔히 볼 수 있는 연산자\n",
        "조건에 대한 경우의 값 그렇지 않은 경우의 값을 뒤에 지정"
      ]
    },
    {
      "cell_type": "code",
      "metadata": {
        "colab": {
          "base_uri": "https://localhost:8080/",
          "height": 35
        },
        "id": "6fAz9KzkFryk",
        "outputId": "7c807f13-2c5c-4f81-874d-4888a0719f56"
      },
      "source": [
        "age =35\n",
        "'30 세 이상입니다' if age >= 30 else '30세 이하입니다'"
      ],
      "execution_count": null,
      "outputs": [
        {
          "output_type": "execute_result",
          "data": {
            "application/vnd.google.colaboratory.intrinsic+json": {
              "type": "string"
            },
            "text/plain": [
              "'30 세 이상입니다'"
            ]
          },
          "metadata": {
            "tags": []
          },
          "execution_count": 21
        }
      ]
    },
    {
      "cell_type": "code",
      "metadata": {
        "colab": {
          "base_uri": "https://localhost:8080/",
          "height": 35
        },
        "id": "osGVkh_xF7jq",
        "outputId": "4ccf3607-3939-45c1-cc9f-e13423e39303"
      },
      "source": [
        "age = 20\n",
        "'30 세 이상입니다' if age >= 30 else '30세 이하입니다'"
      ],
      "execution_count": null,
      "outputs": [
        {
          "output_type": "execute_result",
          "data": {
            "application/vnd.google.colaboratory.intrinsic+json": {
              "type": "string"
            },
            "text/plain": [
              "'30세 이하입니다'"
            ]
          },
          "metadata": {
            "tags": []
          },
          "execution_count": 22
        }
      ]
    },
    {
      "cell_type": "markdown",
      "metadata": {
        "id": "0PoH0VSPGAIq"
      },
      "source": [
        "#논리 연산자(and, or, not)\n",
        "\n",
        "and나 or 조건은 두 가지 이상의 조건을 다룰 때 활용\n",
        "\n",
        "##and\n",
        "and조건은 모두 만족할 때 참으로 인식"
      ]
    },
    {
      "cell_type": "code",
      "metadata": {
        "colab": {
          "base_uri": "https://localhost:8080/"
        },
        "id": "P_Wfw0CdtnWu",
        "outputId": "d163bc4b-6832-471d-e516-3c06f1b41988"
      },
      "source": [
        "True and True and True"
      ],
      "execution_count": null,
      "outputs": [
        {
          "output_type": "execute_result",
          "data": {
            "text/plain": [
              "True"
            ]
          },
          "metadata": {
            "tags": []
          },
          "execution_count": 3
        }
      ]
    },
    {
      "cell_type": "code",
      "metadata": {
        "colab": {
          "base_uri": "https://localhost:8080/"
        },
        "id": "rF_d7GIXtpsm",
        "outputId": "3bb7976a-fea7-460b-8072-721f2412f1dd"
      },
      "source": [
        "True and False and True"
      ],
      "execution_count": null,
      "outputs": [
        {
          "output_type": "execute_result",
          "data": {
            "text/plain": [
              "False"
            ]
          },
          "metadata": {
            "tags": []
          },
          "execution_count": 4
        }
      ]
    },
    {
      "cell_type": "code",
      "metadata": {
        "colab": {
          "base_uri": "https://localhost:8080/"
        },
        "id": "M_f7NHjCGfZM",
        "outputId": "13eb324b-74e2-40e0-ec8a-fd1bb7588a2a"
      },
      "source": [
        "if(0<1) and (0<2):\n",
        "  print('모두참')\n",
        "else:\n",
        "  print('거짓')"
      ],
      "execution_count": null,
      "outputs": [
        {
          "output_type": "stream",
          "text": [
            "모두참\n"
          ],
          "name": "stdout"
        }
      ]
    },
    {
      "cell_type": "code",
      "metadata": {
        "id": "elW_2NiDtu2t"
      },
      "source": [
        "if (0 < 1) and (0 > 2):\n",
        "    print('모두 참')\n",
        "else:\n",
        "    print('허참')"
      ],
      "execution_count": null,
      "outputs": []
    },
    {
      "cell_type": "markdown",
      "metadata": {
        "id": "9PXbuMTXGzR4"
      },
      "source": [
        "#or\n",
        "조건중 하나라도 만족할 때 참으로 인식"
      ]
    },
    {
      "cell_type": "code",
      "metadata": {
        "colab": {
          "base_uri": "https://localhost:8080/"
        },
        "id": "m5m2x17ytzKe",
        "outputId": "0798ba36-3e13-4028-9fa9-b8b20d122de8"
      },
      "source": [
        "True or False or False"
      ],
      "execution_count": null,
      "outputs": [
        {
          "output_type": "execute_result",
          "data": {
            "text/plain": [
              "True"
            ]
          },
          "metadata": {
            "tags": []
          },
          "execution_count": 7
        }
      ]
    },
    {
      "cell_type": "code",
      "metadata": {
        "colab": {
          "base_uri": "https://localhost:8080/"
        },
        "id": "CIUUQ7j2t3R-",
        "outputId": "7049bcde-8ed7-4b7e-a861-fceaa7701d2c"
      },
      "source": [
        "False or False or False"
      ],
      "execution_count": null,
      "outputs": [
        {
          "output_type": "execute_result",
          "data": {
            "text/plain": [
              "False"
            ]
          },
          "metadata": {
            "tags": []
          },
          "execution_count": 9
        }
      ]
    },
    {
      "cell_type": "code",
      "metadata": {
        "colab": {
          "base_uri": "https://localhost:8080/"
        },
        "id": "9JXIvonDt6dN",
        "outputId": "129071a1-2991-435f-f7c4-f09099bc062f"
      },
      "source": [
        "if (0 < 1) or ( 1 < 0):\n",
        "    print('하나라도 참')\n",
        "else:\n",
        "    print('허참')"
      ],
      "execution_count": null,
      "outputs": [
        {
          "output_type": "stream",
          "text": [
            "하나라도 참\n"
          ],
          "name": "stdout"
        }
      ]
    },
    {
      "cell_type": "code",
      "metadata": {
        "colab": {
          "base_uri": "https://localhost:8080/"
        },
        "id": "N1drAbVZt78l",
        "outputId": "b13b343f-0f28-4617-943b-2e51f55c45eb"
      },
      "source": [
        "if (10 < 1) or ( 1 < 0):\n",
        "    print('하나라도 참')\n",
        "else:\n",
        "    print('허참')"
      ],
      "execution_count": null,
      "outputs": [
        {
          "output_type": "stream",
          "text": [
            "허참\n"
          ],
          "name": "stdout"
        }
      ]
    },
    {
      "cell_type": "markdown",
      "metadata": {
        "id": "r9HXmSYwHRl8"
      },
      "source": [
        "#not\n",
        "bool의 값을 반전"
      ]
    },
    {
      "cell_type": "code",
      "metadata": {
        "colab": {
          "base_uri": "https://localhost:8080/"
        },
        "id": "XEu09bnGHciM",
        "outputId": "530f7c13-8784-4629-9588-743e245b0e1d"
      },
      "source": [
        "not True"
      ],
      "execution_count": null,
      "outputs": [
        {
          "output_type": "execute_result",
          "data": {
            "text/plain": [
              "False"
            ]
          },
          "metadata": {
            "tags": []
          },
          "execution_count": 12
        }
      ]
    },
    {
      "cell_type": "code",
      "metadata": {
        "colab": {
          "base_uri": "https://localhost:8080/"
        },
        "id": "vuOaM0kbuA8l",
        "outputId": "7f2bf852-d830-434c-eb47-eefdf1d4f4bd"
      },
      "source": [
        "not False"
      ],
      "execution_count": null,
      "outputs": [
        {
          "output_type": "execute_result",
          "data": {
            "text/plain": [
              "True"
            ]
          },
          "metadata": {
            "tags": []
          },
          "execution_count": 13
        }
      ]
    },
    {
      "cell_type": "code",
      "metadata": {
        "id": "fkFX1_6yuCl-"
      },
      "source": [
        "if not True:\n",
        "    print('not True')"
      ],
      "execution_count": null,
      "outputs": []
    },
    {
      "cell_type": "code",
      "metadata": {
        "colab": {
          "base_uri": "https://localhost:8080/"
        },
        "id": "K6-FvJByuDpF",
        "outputId": "fc2dda90-f313-4c01-cc44-54f0359eef6d"
      },
      "source": [
        "if not False:\n",
        "    print('not False')"
      ],
      "execution_count": null,
      "outputs": [
        {
          "output_type": "stream",
          "text": [
            "not False\n"
          ],
          "name": "stdout"
        }
      ]
    }
  ]
}