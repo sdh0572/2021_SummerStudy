{
  "nbformat": 4,
  "nbformat_minor": 0,
  "metadata": {
    "colab": {
      "name": "conprehension.ipynb",
      "provenance": [],
      "collapsed_sections": [],
      "authorship_tag": "ABX9TyNimJf+ZL/flI2WKDkuvPXJ",
      "include_colab_link": true
    },
    "kernelspec": {
      "name": "python3",
      "display_name": "Python 3"
    },
    "language_info": {
      "name": "python"
    }
  },
  "cells": [
    {
      "cell_type": "markdown",
      "metadata": {
        "id": "view-in-github",
        "colab_type": "text"
      },
      "source": [
        "<a href=\"https://colab.research.google.com/github/sdh0572/2021_SummerStudy/blob/main/conprehension.ipynb\" target=\"_parent\"><img src=\"https://colab.research.google.com/assets/colab-badge.svg\" alt=\"Open In Colab\"/></a>"
      ]
    },
    {
      "cell_type": "markdown",
      "metadata": {
        "id": "uwqMpJqNYLo7"
      },
      "source": [
        "#conprehension 문법\n",
        "\n",
        "- 파이썬 고유의 아름다운 문법\n",
        "-반복문(for ~ in)과 조건문 그리고 변수에 대한 연산까지 모두 갖춘 편리한 문법\n",
        "-comprehension의 종류로는 list, set, dict등이 존재\n",
        "\n",
        "[실제 사례 연구]\n",
        "\n",
        "mylist = [1, 2, 3, 4, 5, 6, 7, 8, 9, 10]\n",
        "\n",
        "이라는 list를 만들어 주고 우리는 이 중 짝수만 출력하고 싶을때는 어떻게 했었을까요?\n",
        "\n",
        "\n",
        "\n",
        "\n"
      ]
    },
    {
      "cell_type": "code",
      "metadata": {
        "id": "N-zRRcDBYhtJ",
        "colab": {
          "base_uri": "https://localhost:8080/"
        },
        "outputId": "3c4d4744-5a67-463e-8326-86b3fd7a2e98"
      },
      "source": [
        "mylist = [1, 2, 3, 4, 5, 6, 7, 8, 9, 10]\n",
        "\n",
        "for i in mylist:\n",
        "    # 짝수 출력을 위한 조건문 생성\n",
        "    if i % 2 == 0:\n",
        "        print(i)"
      ],
      "execution_count": null,
      "outputs": [
        {
          "output_type": "stream",
          "text": [
            "2\n",
            "4\n",
            "6\n",
            "8\n",
            "10\n"
          ],
          "name": "stdout"
        }
      ]
    },
    {
      "cell_type": "markdown",
      "metadata": {
        "id": "dkKn8pnqxcoW"
      },
      "source": [
        "mylist 이라는 list에서 짝수만 따로 list로 만들어 주고 싶을 때는?"
      ]
    },
    {
      "cell_type": "code",
      "metadata": {
        "colab": {
          "base_uri": "https://localhost:8080/"
        },
        "id": "XZ6O5D5jY0CP",
        "outputId": "fc737a6a-ebd2-4838-a67b-cf7ea1c64fab"
      },
      "source": [
        "mylist = [1, 2, 3, 4, 5, 6, 7, 8, 9, 10]\n",
        "even = []\n",
        "\n",
        "for i in mylist:\n",
        "  if i % 2 ==0:\n",
        "    even.append(i)\n",
        "\n",
        "print(even)"
      ],
      "execution_count": null,
      "outputs": [
        {
          "output_type": "stream",
          "text": [
            "[2, 4, 6, 8, 10]\n"
          ],
          "name": "stdout"
        }
      ]
    },
    {
      "cell_type": "markdown",
      "metadata": {
        "id": "fEqzahMwxtL2"
      },
      "source": [
        "#comprehension 예시"
      ]
    },
    {
      "cell_type": "code",
      "metadata": {
        "id": "n4RCVu9LZNtx"
      },
      "source": [
        "mylist = [1, 2, 3, 4, 5, 6, 7, 8, 9, 10]"
      ],
      "execution_count": null,
      "outputs": []
    },
    {
      "cell_type": "code",
      "metadata": {
        "colab": {
          "base_uri": "https://localhost:8080/"
        },
        "id": "nDWDf6JXZplY",
        "outputId": "ef8d6ed7-a21a-4479-d85a-75fb648a4807"
      },
      "source": [
        "even = [i for i in mylist if i % 2 == 0]\n",
        "even"
      ],
      "execution_count": null,
      "outputs": [
        {
          "output_type": "execute_result",
          "data": {
            "text/plain": [
              "[2, 4, 6, 8, 10]"
            ]
          },
          "metadata": {
            "tags": []
          },
          "execution_count": 3
        }
      ]
    },
    {
      "cell_type": "markdown",
      "metadata": {
        "id": "YJ3uoiHvxyt-"
      },
      "source": [
        "STEP 1: 반복문 생성"
      ]
    },
    {
      "cell_type": "code",
      "metadata": {
        "colab": {
          "base_uri": "https://localhost:8080/",
          "height": 136
        },
        "id": "zDbDTG-Ux50n",
        "outputId": "d2374689-3f24-499c-fe55-c8d9ff53ec12"
      },
      "source": [
        "even = [for i in mylist]"
      ],
      "execution_count": null,
      "outputs": [
        {
          "output_type": "error",
          "ename": "SyntaxError",
          "evalue": "ignored",
          "traceback": [
            "\u001b[0;36m  File \u001b[0;32m\"<ipython-input-4-e69ef2323976>\"\u001b[0;36m, line \u001b[0;32m1\u001b[0m\n\u001b[0;31m    even = [for i in mylist]\u001b[0m\n\u001b[0m              ^\u001b[0m\n\u001b[0;31mSyntaxError\u001b[0m\u001b[0;31m:\u001b[0m invalid syntax\n"
          ]
        }
      ]
    },
    {
      "cell_type": "markdown",
      "metadata": {
        "id": "7CDy95fsx6oe"
      },
      "source": [
        "반복문 안에서 변수를 맨 앞에 한 번더 선언해 주지 않는다면 당연히 에러가 나게 됩니다.\n",
        "\n",
        "for i in mylist 구문에서 반복문을 돌면서 i 값이 return 된다고 생각하고 그 변수를 list에 다시 넣어주는 원리입니다.\n",
        "\n",
        "즉, i를 for 문 맨 앞에 써주세요"
      ]
    },
    {
      "cell_type": "code",
      "metadata": {
        "colab": {
          "base_uri": "https://localhost:8080/"
        },
        "id": "Kkj85C2VZ2gi",
        "outputId": "ba95e10c-d1f2-4c58-89ba-5c202fe30110"
      },
      "source": [
        "even = [i for i in mylist]\n",
        "even"
      ],
      "execution_count": null,
      "outputs": [
        {
          "output_type": "execute_result",
          "data": {
            "text/plain": [
              "[1, 2, 3, 4, 5, 6, 7, 8, 9, 10]"
            ]
          },
          "metadata": {
            "tags": []
          },
          "execution_count": 5
        }
      ]
    },
    {
      "cell_type": "markdown",
      "metadata": {
        "id": "ce8LCAv7yBLN"
      },
      "source": [
        "STEP 2: 조건 필터 추가\n",
        "\n",
        "조건문은 for ~ in 구문 맨 뒤에 추가\n",
        "\n",
        "[i for i in mylist (조건문)]"
      ]
    },
    {
      "cell_type": "code",
      "metadata": {
        "colab": {
          "base_uri": "https://localhost:8080/"
        },
        "id": "9VmlmDS-aKI5",
        "outputId": "c080d2c9-1ed4-46cd-8870-0cef37ed3f47"
      },
      "source": [
        "[i for i in mylist if i % 2 ==0]"
      ],
      "execution_count": null,
      "outputs": [
        {
          "output_type": "execute_result",
          "data": {
            "text/plain": [
              "[2, 4, 6, 8, 10]"
            ]
          },
          "metadata": {
            "tags": []
          },
          "execution_count": 6
        }
      ]
    },
    {
      "cell_type": "markdown",
      "metadata": {
        "id": "XsOV8R_JyKFl"
      },
      "source": [
        "STEP 3: 변수 값에 별도의 연산 추가\n",
        "\n",
        "STEP 2 까지 완성된 짝수만 담는 list comprehension을 그대로 가져옴"
      ]
    },
    {
      "cell_type": "code",
      "metadata": {
        "colab": {
          "base_uri": "https://localhost:8080/"
        },
        "id": "H1LADK-6yNpu",
        "outputId": "03fc9f1a-1063-4d44-dc12-c81ca8039ab2"
      },
      "source": [
        "even = [i for i in mylist if i % 2 == 0]\n",
        "even"
      ],
      "execution_count": null,
      "outputs": [
        {
          "output_type": "execute_result",
          "data": {
            "text/plain": [
              "[2, 4, 6, 8, 10]"
            ]
          },
          "metadata": {
            "tags": []
          },
          "execution_count": 8
        }
      ]
    },
    {
      "cell_type": "markdown",
      "metadata": {
        "id": "qS4rMumMyR7e"
      },
      "source": [
        "even 변수에는 현재 [2, 4, 6, 8, 10] 요소가 존재\n",
        "\n",
        "모든 값에 제곱를 해보도록 하겠습니다.\n",
        "\n",
        "- i 변수에 제곱 연산을 추가"
      ]
    },
    {
      "cell_type": "code",
      "metadata": {
        "colab": {
          "base_uri": "https://localhost:8080/"
        },
        "id": "qoKJJQ9FacgS",
        "outputId": "d7a70917-f53c-4c33-ec67-0b837564a8a3"
      },
      "source": [
        "even = [i**2 for i in mylist if i % 2 == 0]\n",
        "even"
      ],
      "execution_count": null,
      "outputs": [
        {
          "output_type": "execute_result",
          "data": {
            "text/plain": [
              "[4, 16, 36, 64, 100]"
            ]
          },
          "metadata": {
            "tags": []
          },
          "execution_count": 9
        }
      ]
    },
    {
      "cell_type": "markdown",
      "metadata": {
        "id": "Zocnjhc9ycN3"
      },
      "source": [
        "#Set Comprehension\n",
        "- set comprehension은 comprehension 문법을 세트(set)로 생성\n",
        "-괄호를 {}로 생성하면 set comprehension이 완성"
      ]
    },
    {
      "cell_type": "code",
      "metadata": {
        "colab": {
          "base_uri": "https://localhost:8080/"
        },
        "id": "4M7FHut3yio_",
        "outputId": "e849e8be-6ea2-4b64-d748-18efe9dc2801"
      },
      "source": [
        "set_even = {i**2 for i in mylist if i % 2 == 0}\n",
        "set_even"
      ],
      "execution_count": null,
      "outputs": [
        {
          "output_type": "execute_result",
          "data": {
            "text/plain": [
              "{4, 16, 36, 64, 100}"
            ]
          },
          "metadata": {
            "tags": []
          },
          "execution_count": 10
        }
      ]
    },
    {
      "cell_type": "markdown",
      "metadata": {
        "id": "Pi5G4Fzbyjgm"
      },
      "source": [
        "#Dict Comprehension\n",
        "- dict comprehension은 comprehension 문법을 활용하여 딕셔너리(dictionary)를 생성하고\n",
        "- 괄호는 {}로 생성하고, key:value 형식을 반드시 지정"
      ]
    },
    {
      "cell_type": "code",
      "metadata": {
        "colab": {
          "base_uri": "https://localhost:8080/"
        },
        "id": "cs7-ZLoEapdR",
        "outputId": "562fb03d-5b6b-4c0d-9355-105ff8c753a4"
      },
      "source": [
        "dict_even = {i:i**2 for i in mylist if i % 2 ==0}\n",
        "dict_even"
      ],
      "execution_count": null,
      "outputs": [
        {
          "output_type": "execute_result",
          "data": {
            "text/plain": [
              "{2: 4, 4: 16, 6: 36, 8: 64, 10: 100}"
            ]
          },
          "metadata": {
            "tags": []
          },
          "execution_count": 14
        }
      ]
    }
  ]
}