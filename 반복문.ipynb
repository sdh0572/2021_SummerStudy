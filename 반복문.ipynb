{
  "nbformat": 4,
  "nbformat_minor": 0,
  "metadata": {
    "colab": {
      "name": "반복문.ipynb",
      "provenance": [],
      "collapsed_sections": [],
      "authorship_tag": "ABX9TyMgcl4JKoDYTC61U353Dv+9",
      "include_colab_link": true
    },
    "kernelspec": {
      "display_name": "Python 3",
      "name": "python3"
    },
    "language_info": {
      "name": "python"
    }
  },
  "cells": [
    {
      "cell_type": "markdown",
      "metadata": {
        "id": "view-in-github",
        "colab_type": "text"
      },
      "source": [
        "<a href=\"https://colab.research.google.com/github/sdh0572/2021_SummerStudy/blob/main/%EB%B0%98%EB%B3%B5%EB%AC%B8.ipynb\" target=\"_parent\"><img src=\"https://colab.research.google.com/assets/colab-badge.svg\" alt=\"Open In Colab\"/></a>"
      ]
    },
    {
      "cell_type": "markdown",
      "metadata": {
        "id": "A70MfA0WJEDu"
      },
      "source": [
        "#반복문\n",
        "\n",
        "\n",
        "\n",
        "*   1회 이상 반복해서 수행하는 일을 반복문으로 통해 쉽게 해결할 수 있음\n",
        "*   반드시 list, tuple, dict, set등 집합에 대한 순회를 돌며 일을 처리 할 때 많이 쓰임\n",
        "\n",
        "*   list, tuple, dict, set, 문자열 까지 모두 순회 가능한 객체\n",
        "*   순회가능한(iterable) 객체는 반복문을 통해 순회 가능\n",
        "\n",
        "\n",
        "\n",
        "\n"
      ]
    },
    {
      "cell_type": "code",
      "metadata": {
        "id": "L2AyHFt_J2Nz"
      },
      "source": [
        "mylist = [1, 2, 3, 4, 5, 6, 7, 8, 9, 10]"
      ],
      "execution_count": null,
      "outputs": []
    },
    {
      "cell_type": "markdown",
      "metadata": {
        "id": "ZwkUUHfxKC-l"
      },
      "source": [
        "#for 와 in 구문(반복문)\n",
        "[기본 문법]\n",
        "for 하나씩 꺼내올 때 변수 in [꺼내올 집합]:\n",
        "(indent)\n",
        "\n",
        "- list, tuple, set, dictionary, 문자열 형태 모두 가능\n",
        "- range와 결합하여 사용 가능"
      ]
    },
    {
      "cell_type": "markdown",
      "metadata": {
        "id": "CaamY68nKUBs"
      },
      "source": [
        "#리스트(list)"
      ]
    },
    {
      "cell_type": "code",
      "metadata": {
        "id": "A5AC_13uKaRt"
      },
      "source": [
        "mylist = [1, 2, 3, 4, 5]"
      ],
      "execution_count": null,
      "outputs": []
    },
    {
      "cell_type": "code",
      "metadata": {
        "colab": {
          "base_uri": "https://localhost:8080/"
        },
        "id": "izonqa9dKffc",
        "outputId": "5444494f-07dc-440f-d695-53547e987e09"
      },
      "source": [
        "for i in mylist:\n",
        "  print (i)"
      ],
      "execution_count": null,
      "outputs": [
        {
          "output_type": "stream",
          "text": [
            "1\n",
            "2\n",
            "3\n",
            "4\n",
            "5\n",
            "5\n"
          ],
          "name": "stdout"
        }
      ]
    },
    {
      "cell_type": "markdown",
      "metadata": {
        "id": "LoXHCMHaKm-W"
      },
      "source": [
        "#튜플(tuple)\n"
      ]
    },
    {
      "cell_type": "code",
      "metadata": {
        "colab": {
          "base_uri": "https://localhost:8080/"
        },
        "id": "pz_tPf93vDKm",
        "outputId": "656ed6d1-9621-4ac8-a9d0-34ae3e0c75cd"
      },
      "source": [
        "for i in (1, 2, 3, 4, 5):\n",
        "    print(i)"
      ],
      "execution_count": null,
      "outputs": [
        {
          "output_type": "stream",
          "text": [
            "1\n",
            "2\n",
            "3\n",
            "4\n",
            "5\n"
          ],
          "name": "stdout"
        }
      ]
    },
    {
      "cell_type": "markdown",
      "metadata": {
        "id": "BmRVr6n3vJMH"
      },
      "source": [
        "##tuple + list\n",
        "\n",
        "tuple을 전체로 받아주는 경우"
      ]
    },
    {
      "cell_type": "code",
      "metadata": {
        "colab": {
          "base_uri": "https://localhost:8080/"
        },
        "id": "QMhi6xK4LdEu",
        "outputId": "7cb1da23-c321-49eb-979a-a5801338eebd"
      },
      "source": [
        "person = ('제이콥스', 10)\n",
        "print(person)\n",
        "print(person[0])\n",
        "print(person[1])"
      ],
      "execution_count": null,
      "outputs": [
        {
          "output_type": "stream",
          "text": [
            "('제이콥스', 10)\n",
            "제이콥스\n",
            "10\n"
          ],
          "name": "stdout"
        }
      ]
    },
    {
      "cell_type": "markdown",
      "metadata": {
        "id": "nLAQfv4QL5tc"
      },
      "source": [
        "tuple의 요소를 개별로 받아주는 경우"
      ]
    },
    {
      "cell_type": "code",
      "metadata": {
        "colab": {
          "base_uri": "https://localhost:8080/"
        },
        "id": "sJarq2-5MALO",
        "outputId": "7666d9e6-fe36-492a-c067-ed41d0b625c7"
      },
      "source": [
        "name, age = ('제이콥스', 10)\n",
        "print(name)\n",
        "print(age)"
      ],
      "execution_count": null,
      "outputs": [
        {
          "output_type": "stream",
          "text": [
            "제이콥스\n",
            "10\n"
          ],
          "name": "stdout"
        }
      ]
    },
    {
      "cell_type": "markdown",
      "metadata": {
        "id": "TyY19kNCMFb-"
      },
      "source": [
        "반복문에서의 응용"
      ]
    },
    {
      "cell_type": "code",
      "metadata": {
        "colab": {
          "base_uri": "https://localhost:8080/"
        },
        "id": "OouDSQ0FMzS3",
        "outputId": "4476d100-bf9d-4060-9449-ac867dc69ea6"
      },
      "source": [
        "mytuplelist = [('제이콥스', 10), ('피터', 20), ('타이거', 30)]\n",
        "\n",
        "for name, age in mytuplelist:\n",
        "  print (name, age)"
      ],
      "execution_count": null,
      "outputs": [
        {
          "output_type": "stream",
          "text": [
            "제이콥스 10\n",
            "피터 20\n",
            "타이거 30\n"
          ],
          "name": "stdout"
        }
      ]
    },
    {
      "cell_type": "markdown",
      "metadata": {
        "id": "D0RKU0oKNDYX"
      },
      "source": [
        "#딕셔너리(dictionnary)"
      ]
    },
    {
      "cell_type": "code",
      "metadata": {
        "id": "h5aOQBpvNOku"
      },
      "source": [
        "mydict = {'헐크': 50, '아이언맨': 60, '펭수': 70}"
      ],
      "execution_count": null,
      "outputs": []
    },
    {
      "cell_type": "code",
      "metadata": {
        "id": "m_Vp-miNNiL2",
        "colab": {
          "base_uri": "https://localhost:8080/"
        },
        "outputId": "8adfea89-1169-4e92-f6a2-8a6ae56443be"
      },
      "source": [
        "for key in mydict.keys():\n",
        "    print(key)"
      ],
      "execution_count": null,
      "outputs": [
        {
          "output_type": "stream",
          "text": [
            "헐크\n",
            "아이언맨\n",
            "펭수\n"
          ],
          "name": "stdout"
        }
      ]
    },
    {
      "cell_type": "code",
      "metadata": {
        "colab": {
          "base_uri": "https://localhost:8080/"
        },
        "id": "g2hNndFvv7Y1",
        "outputId": "05438e32-07a1-4c19-9f8e-86d9eb1f4631"
      },
      "source": [
        "for value in mydict.values():\n",
        "    print(value)"
      ],
      "execution_count": null,
      "outputs": [
        {
          "output_type": "stream",
          "text": [
            "50\n",
            "60\n",
            "70\n"
          ],
          "name": "stdout"
        }
      ]
    },
    {
      "cell_type": "code",
      "metadata": {
        "id": "3U9JfcztNwk2",
        "colab": {
          "base_uri": "https://localhost:8080/"
        },
        "outputId": "224d4dc0-92a9-474e-eede-ff0214e151c7"
      },
      "source": [
        "for name, age in mydict.items():\n",
        "    print(name, age)"
      ],
      "execution_count": null,
      "outputs": [
        {
          "output_type": "stream",
          "text": [
            "헐크 50\n",
            "아이언맨 60\n",
            "펭수 70\n"
          ],
          "name": "stdout"
        }
      ]
    },
    {
      "cell_type": "markdown",
      "metadata": {
        "id": "0nyt5sBLwGXW"
      },
      "source": [
        "#문자열(str)"
      ]
    },
    {
      "cell_type": "code",
      "metadata": {
        "colab": {
          "base_uri": "https://localhost:8080/"
        },
        "id": "y8kM10M-Om8v",
        "outputId": "01b64fc8-fed4-41bf-a6df-f436ba1bbacc"
      },
      "source": [
        "for c in 'Hello':\n",
        "  print(c)"
      ],
      "execution_count": null,
      "outputs": [
        {
          "output_type": "stream",
          "text": [
            "H\n",
            "e\n",
            "l\n",
            "l\n",
            "o\n"
          ],
          "name": "stdout"
        }
      ]
    },
    {
      "cell_type": "markdown",
      "metadata": {
        "id": "cIluLKo1O2E_"
      },
      "source": [
        "#range()\n",
        "\n",
        "*   range() 함수는 별도의 list, tuple 생성 없이 range() 에서 정의한 범위를 반복는데 활용할 수 있음\n",
        "* range(start, stop, step) 형식을 사용."
      ]
    },
    {
      "cell_type": "markdown",
      "metadata": {
        "id": "eAkA1oLTwTiW"
      },
      "source": [
        "stop: 단일 값을 지정하는 경우"
      ]
    },
    {
      "cell_type": "code",
      "metadata": {
        "colab": {
          "base_uri": "https://localhost:8080/"
        },
        "id": "nRuQYt_PPNOP",
        "outputId": "200dee63-b29f-4419-d139-ff4466071368"
      },
      "source": [
        "for i in range(10):\n",
        "  print(i)"
      ],
      "execution_count": null,
      "outputs": [
        {
          "output_type": "stream",
          "text": [
            "0\n",
            "1\n",
            "2\n",
            "3\n",
            "4\n",
            "5\n",
            "6\n",
            "7\n",
            "8\n",
            "9\n"
          ],
          "name": "stdout"
        }
      ]
    },
    {
      "cell_type": "markdown",
      "metadata": {
        "id": "FGmyfXApwWh-"
      },
      "source": [
        "start, stop: 두 개의 값을 지정한 경우"
      ]
    },
    {
      "cell_type": "code",
      "metadata": {
        "colab": {
          "base_uri": "https://localhost:8080/"
        },
        "id": "3sKE_159PYzn",
        "outputId": "73e09605-dc21-4191-d0a3-c4d4a36ecc13"
      },
      "source": [
        "for i in range(2, 9):\n",
        "  print(i)"
      ],
      "execution_count": null,
      "outputs": [
        {
          "output_type": "stream",
          "text": [
            "2\n",
            "3\n",
            "4\n",
            "5\n",
            "6\n",
            "7\n",
            "8\n"
          ],
          "name": "stdout"
        }
      ]
    },
    {
      "cell_type": "markdown",
      "metadata": {
        "id": "ce7Y2RPpwYol"
      },
      "source": [
        "start, stop, step: 세 개의 값을 지정한 경우"
      ]
    },
    {
      "cell_type": "code",
      "metadata": {
        "colab": {
          "base_uri": "https://localhost:8080/"
        },
        "id": "KCGItAxKPr5f",
        "outputId": "4ce69d10-d796-4576-cb65-6ee5ff874598"
      },
      "source": [
        "for i in range(1, 10, 2):\n",
        "  print(i)"
      ],
      "execution_count": null,
      "outputs": [
        {
          "output_type": "stream",
          "text": [
            "1\n",
            "3\n",
            "5\n",
            "7\n",
            "9\n"
          ],
          "name": "stdout"
        }
      ]
    },
    {
      "cell_type": "markdown",
      "metadata": {
        "id": "31rFRUHXP1Tn"
      },
      "source": [
        "#반복문 중첩"
      ]
    },
    {
      "cell_type": "code",
      "metadata": {
        "colab": {
          "base_uri": "https://localhost:8080/"
        },
        "id": "gjMTb1ekQDFH",
        "outputId": "292567c2-4f83-40b2-baae-f0c1da83b7a4"
      },
      "source": [
        "for i in range(1, 4):\n",
        "  for j in range(1, 4):\n",
        "    print(f'(i={i}) + (j={j}) = {i * j}')\n",
        "  print ('===')"
      ],
      "execution_count": null,
      "outputs": [
        {
          "output_type": "stream",
          "text": [
            "(i=1) + (j=1) = 1\n",
            "(i=1) + (j=2) = 2\n",
            "(i=1) + (j=3) = 3\n",
            "===\n",
            "(i=2) + (j=1) = 2\n",
            "(i=2) + (j=2) = 4\n",
            "(i=2) + (j=3) = 6\n",
            "===\n",
            "(i=3) + (j=1) = 3\n",
            "(i=3) + (j=2) = 6\n",
            "(i=3) + (j=3) = 9\n",
            "===\n"
          ],
          "name": "stdout"
        }
      ]
    },
    {
      "cell_type": "markdown",
      "metadata": {
        "id": "rq8S8qqBR4x-"
      },
      "source": [
        "#제어문\n",
        "\n",
        "continue\n",
        "\n",
        "*   반복문 내부에서 continue 구문은 해당 루프를 건너뛰게 함\n",
        "*   continue라는 구문을 만나면, 반복문에서 아래작성  코드는 실행되지 않고 건너뜀\n",
        "\n"
      ]
    },
    {
      "cell_type": "code",
      "metadata": {
        "id": "lV-Ssu9bSaf_"
      },
      "source": [
        "mylist = [1, 2, 3, 4, 5, 6, 7, 8, 9, 10]"
      ],
      "execution_count": null,
      "outputs": []
    },
    {
      "cell_type": "markdown",
      "metadata": {
        "id": "XW7SQqsNwm9u"
      },
      "source": [
        "반복문과 조건문 그리고 continue를 활용하여 짝수만 출력해 주세요"
      ]
    },
    {
      "cell_type": "code",
      "metadata": {
        "colab": {
          "base_uri": "https://localhost:8080/"
        },
        "id": "q6dLnsqxSiZA",
        "outputId": "57646ffa-19ae-48f3-892f-a7b3a625c429"
      },
      "source": [
        "for i in mylist:\n",
        "  if i % 2 == 1:\n",
        "    continue\n",
        "  print(i)"
      ],
      "execution_count": null,
      "outputs": [
        {
          "output_type": "stream",
          "text": [
            "2\n",
            "4\n",
            "6\n",
            "8\n",
            "10\n"
          ],
          "name": "stdout"
        }
      ]
    },
    {
      "cell_type": "markdown",
      "metadata": {
        "id": "jO-mr-w5S22Y"
      },
      "source": [
        "break\n",
        "\n",
        "*   break구문을 만나면 반복루프는 즉시 종료\n"
      ]
    },
    {
      "cell_type": "code",
      "metadata": {
        "id": "ox_5Zlb_TInE"
      },
      "source": [
        "mylist= [1, 2, 3, 4, 5, 6, 7, 8, 9, 10]"
      ],
      "execution_count": null,
      "outputs": []
    },
    {
      "cell_type": "markdown",
      "metadata": {
        "id": "eH-Adpc5wqbl"
      },
      "source": [
        "break를 사용하여 i가 6 이상이면 STOP"
      ]
    },
    {
      "cell_type": "code",
      "metadata": {
        "colab": {
          "base_uri": "https://localhost:8080/"
        },
        "id": "Fh6zEYvOTPXW",
        "outputId": "a137b531-8bdc-4053-c0d2-4b82d4f88d47"
      },
      "source": [
        "for i in mylist:\n",
        "    if i >= 6:\n",
        "        break\n",
        "    print(i)"
      ],
      "execution_count": null,
      "outputs": [
        {
          "output_type": "stream",
          "text": [
            "1\n",
            "2\n",
            "3\n",
            "4\n",
            "5\n"
          ],
          "name": "stdout"
        }
      ]
    },
    {
      "cell_type": "markdown",
      "metadata": {
        "id": "CBF84qCxwxee"
      },
      "source": [
        "#break, continue 차이"
      ]
    },
    {
      "cell_type": "code",
      "metadata": {
        "colab": {
          "base_uri": "https://localhost:8080/"
        },
        "id": "998SGTILTYHw",
        "outputId": "ebe52cea-d399-4dad-bf51-0bc55e60994e"
      },
      "source": [
        "for i in range(10):\n",
        "  if i == 5:\n",
        "    break\n",
        "  print(i)"
      ],
      "execution_count": null,
      "outputs": [
        {
          "output_type": "stream",
          "text": [
            "0\n",
            "1\n",
            "2\n",
            "3\n",
            "4\n"
          ],
          "name": "stdout"
        }
      ]
    },
    {
      "cell_type": "code",
      "metadata": {
        "colab": {
          "base_uri": "https://localhost:8080/"
        },
        "id": "7_RFugTwTmVg",
        "outputId": "9ba80fc3-c351-4686-9051-56bcab106607"
      },
      "source": [
        "for i in range(10):\n",
        "  if i == 5:\n",
        "    continue\n",
        "  print(i)"
      ],
      "execution_count": null,
      "outputs": [
        {
          "output_type": "stream",
          "text": [
            "0\n",
            "1\n",
            "2\n",
            "3\n",
            "4\n",
            "6\n",
            "7\n",
            "8\n",
            "9\n"
          ],
          "name": "stdout"
        }
      ]
    },
    {
      "cell_type": "markdown",
      "metadata": {
        "id": "IMilyTgfT154"
      },
      "source": [
        "#While\n",
        "\n",
        "\n",
        "*   while문은 while문과 함께 정의 한 조건이 참인 동안 반복루프를 수행\n",
        "\n",
        "\n"
      ]
    },
    {
      "cell_type": "code",
      "metadata": {
        "id": "itaXvj__UK0q",
        "colab": {
          "base_uri": "https://localhost:8080/"
        },
        "outputId": "551a857c-fed7-44d3-820b-9e4a42e24a52"
      },
      "source": [
        "count = 5\n",
        "\n",
        "while count > 0:\n",
        "    print(count)\n",
        "    count -= 1"
      ],
      "execution_count": null,
      "outputs": [
        {
          "output_type": "stream",
          "text": [
            "5\n",
            "4\n",
            "3\n",
            "2\n",
            "1\n"
          ],
          "name": "stdout"
        }
      ]
    },
    {
      "cell_type": "markdown",
      "metadata": {
        "id": "S7wxaWL4w8Pn"
      },
      "source": [
        "많은 사용하는 방법 중 하나는 while True로 지정하여 무한 루프를 생성 후, 탈출 구문 루프 내에서 설정하는 것"
      ]
    },
    {
      "cell_type": "code",
      "metadata": {
        "colab": {
          "background_save": true
        },
        "id": "0Ire5he-UPo4",
        "outputId": "24c151e4-77e9-4142-a562-efe5c2c1c035"
      },
      "source": [
        "count = 1\n",
        "\n",
        "while True:\n",
        "  print(count)\n",
        "  count += 1\n",
        "  if count > 5:\n",
        "    break"
      ],
      "execution_count": null,
      "outputs": [
        {
          "output_type": "stream",
          "text": [
            "1\n",
            "2\n",
            "3\n",
            "4\n",
            "5\n"
          ],
          "name": "stdout"
        }
      ]
    }
  ]
}