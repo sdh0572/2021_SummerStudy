{
  "nbformat": 4,
  "nbformat_minor": 0,
  "metadata": {
    "colab": {
      "name": "python-문자열.ipynb",
      "provenance": [],
      "collapsed_sections": [],
      "authorship_tag": "ABX9TyMZnccH5XCgWKrnVOOqWT/p",
      "include_colab_link": true
    },
    "kernelspec": {
      "name": "python3",
      "display_name": "Python 3"
    },
    "language_info": {
      "name": "python"
    }
  },
  "cells": [
    {
      "cell_type": "markdown",
      "metadata": {
        "id": "view-in-github",
        "colab_type": "text"
      },
      "source": [
        "<a href=\"https://colab.research.google.com/github/sdh0572/2021_SummerStudy/blob/main/python_%EB%AC%B8%EC%9E%90%EC%97%B4.ipynb\" target=\"_parent\"><img src=\"https://colab.research.google.com/assets/colab-badge.svg\" alt=\"Open In Colab\"/></a>"
      ]
    },
    {
      "cell_type": "markdown",
      "metadata": {
        "id": "UfWLKeqVjCol"
      },
      "source": [
        "#문자열\n",
        "데이터 분석에 있어서 문자열(텍스트) 데이터의 중요성\n",
        "\n",
        "- 자연어처리 데이터는 대부분이 텍스트 데이터로 이루어져 있음\n",
        "-우리가 흔히 접하는 Excel 혹은 Table 데이터안에도 수많은 텍스트 데이터가 존재\n",
        "-게다가 우리나라는 영어와 더불어 한글까지 추가로 처리 할 수 있어야 함"
      ]
    },
    {
      "cell_type": "markdown",
      "metadata": {
        "id": "DjtQb3BbjQSU"
      },
      "source": [
        "특성\n",
        "- 문자열 역시 리스트(list), 튜플(tuple)과 마찬가지로 sequence 형 자료구조를 가짐\n",
        "-문자열은 불변(immutable) 객체"
      ]
    },
    {
      "cell_type": "markdown",
      "metadata": {
        "id": "RH3x56b-jXFO"
      },
      "source": [
        "#문자열의 생성\n",
        "파이썬의 문자열은 작은 따옴표(') 나 큰 따옴표(\") 모두 구분없이 사용하여 문자열을 생성할 수 있음\n",
        "\n",
        "작은 따옴표(') 사용"
      ]
    },
    {
      "cell_type": "code",
      "metadata": {
        "colab": {
          "base_uri": "https://localhost:8080/",
          "height": 35
        },
        "id": "eAhYEsyejdW0",
        "outputId": "60eadca0-e00a-4bf1-9d46-b81a2d4eca10"
      },
      "source": [
        "'안녕하세요? 반갑습니다.'"
      ],
      "execution_count": null,
      "outputs": [
        {
          "output_type": "execute_result",
          "data": {
            "application/vnd.google.colaboratory.intrinsic+json": {
              "type": "string"
            },
            "text/plain": [
              "'안녕하세요? 반갑습니다.'"
            ]
          },
          "metadata": {
            "tags": []
          },
          "execution_count": 1
        }
      ]
    },
    {
      "cell_type": "markdown",
      "metadata": {
        "id": "3lMrJE7PjevU"
      },
      "source": [
        "큰 따옴표(\") 사용"
      ]
    },
    {
      "cell_type": "code",
      "metadata": {
        "colab": {
          "base_uri": "https://localhost:8080/",
          "height": 35
        },
        "id": "0ilkq4iajiL1",
        "outputId": "30409fbe-109b-4ab4-b96a-4a61ab95a6bf"
      },
      "source": [
        "\"안녕하세요? 반갑습니다.\""
      ],
      "execution_count": null,
      "outputs": [
        {
          "output_type": "execute_result",
          "data": {
            "application/vnd.google.colaboratory.intrinsic+json": {
              "type": "string"
            },
            "text/plain": [
              "'안녕하세요? 반갑습니다.'"
            ]
          },
          "metadata": {
            "tags": []
          },
          "execution_count": 2
        }
      ]
    },
    {
      "cell_type": "markdown",
      "metadata": {
        "id": "JJBnLF_kjlh-"
      },
      "source": [
        "작은 따옴표 3개 혹은 큰 따옴표 3개를 써서 여러 줄의 문자열을 생성할 수 있음"
      ]
    },
    {
      "cell_type": "code",
      "metadata": {
        "colab": {
          "base_uri": "https://localhost:8080/"
        },
        "id": "NKgE1yuujpQ8",
        "outputId": "69b8ded9-e121-48e4-ed4e-c0dca36dcf96"
      },
      "source": [
        "sample = '''안녕하세요? \n",
        "반가워요\n",
        "내이름은 \n",
        "파이썬 입니다.'''\n",
        "\n",
        "print(sample)"
      ],
      "execution_count": null,
      "outputs": [
        {
          "output_type": "stream",
          "text": [
            "안녕하세요? \n",
            "반가워요\n",
            "내이름은 \n",
            "파이썬 입니다.\n"
          ],
          "name": "stdout"
        }
      ]
    },
    {
      "cell_type": "code",
      "metadata": {
        "colab": {
          "base_uri": "https://localhost:8080/"
        },
        "id": "bNGCQjzWjryt",
        "outputId": "f55d08bc-2eab-4d48-e4be-92f2cd66f0f0"
      },
      "source": [
        "sample = \"\"\"안녕하세요? \n",
        "반가워요\n",
        "내이름은 \n",
        "파이썬 입니다.\n",
        "\n",
        "웰컴!\n",
        "\"\"\"\n",
        "\n",
        "print(sample)"
      ],
      "execution_count": null,
      "outputs": [
        {
          "output_type": "stream",
          "text": [
            "안녕하세요? \n",
            "반가워요\n",
            "내이름은 \n",
            "파이썬 입니다.\n",
            "\n",
            "웰컴!\n",
            "\n"
          ],
          "name": "stdout"
        }
      ]
    },
    {
      "cell_type": "markdown",
      "metadata": {
        "id": "aJXZ2FOojwjN"
      },
      "source": [
        "#문자열 출력 (포맷팅)\n",
        "#print() : 출력"
      ]
    },
    {
      "cell_type": "code",
      "metadata": {
        "colab": {
          "base_uri": "https://localhost:8080/"
        },
        "id": "ne8dwpj2j4pu",
        "outputId": "0f8121b1-6951-40d2-eed8-ae781b1e535a"
      },
      "source": [
        "print('헬로우 파이썬')"
      ],
      "execution_count": null,
      "outputs": [
        {
          "output_type": "stream",
          "text": [
            "헬로우 파이썬\n"
          ],
          "name": "stdout"
        }
      ]
    },
    {
      "cell_type": "code",
      "metadata": {
        "colab": {
          "base_uri": "https://localhost:8080/"
        },
        "id": "YbZRdtGFAzmm",
        "outputId": "4e0baa60-3703-4320-94a1-ae42fe65ced4"
      },
      "source": [
        "print('문자열 첫째','그리고. 둘째')"
      ],
      "execution_count": null,
      "outputs": [
        {
          "output_type": "stream",
          "text": [
            "문자열 첫째 그리고. 둘째\n"
          ],
          "name": "stdout"
        }
      ]
    },
    {
      "cell_type": "markdown",
      "metadata": {
        "id": "k5z61QpGj64d"
      },
      "source": [
        "end 옵션으로 출력될 마지막 글자를 변경할 수 있음 (기본값: \\n)\n",
        "\n",
        "- [참고] : \\n 은 개행을 의미하는 특수 문자"
      ]
    },
    {
      "cell_type": "code",
      "metadata": {
        "colab": {
          "base_uri": "https://localhost:8080/"
        },
        "id": "mXa_jvciCAet",
        "outputId": "e303fbf2-8272-482a-b92d-3c7b286d8e8c"
      },
      "source": [
        "print('여기까지!', end='end출력!')"
      ],
      "execution_count": null,
      "outputs": [
        {
          "output_type": "stream",
          "text": [
            "여기까지!end출력!"
          ],
          "name": "stdout"
        }
      ]
    },
    {
      "cell_type": "code",
      "metadata": {
        "colab": {
          "base_uri": "https://localhost:8080/"
        },
        "id": "BH-Dks2skFGN",
        "outputId": "f5abcaa1-4345-42a3-9cf6-08dc0846b723"
      },
      "source": [
        "print('문자1', '문자1', '문자3', sep=' <구분> ')"
      ],
      "execution_count": null,
      "outputs": [
        {
          "output_type": "stream",
          "text": [
            "문자1 <구분> 문자1 <구분> 문자3\n"
          ],
          "name": "stdout"
        }
      ]
    },
    {
      "cell_type": "code",
      "metadata": {
        "colab": {
          "base_uri": "https://localhost:8080/"
        },
        "id": "30gHbE9YCjyz",
        "outputId": "48bc7fb2-ad36-4cd6-c1e5-6228902c5d80"
      },
      "source": [
        "help(print)"
      ],
      "execution_count": null,
      "outputs": [
        {
          "output_type": "stream",
          "text": [
            "Help on built-in function print in module builtins:\n",
            "\n",
            "print(...)\n",
            "    print(value, ..., sep=' ', end='\\n', file=sys.stdout, flush=False)\n",
            "    \n",
            "    Prints the values to a stream, or to sys.stdout by default.\n",
            "    Optional keyword arguments:\n",
            "    file:  a file-like object (stream); defaults to the current sys.stdout.\n",
            "    sep:   string inserted between values, default a space.\n",
            "    end:   string appended after the last value, default a newline.\n",
            "    flush: whether to forcibly flush the stream.\n",
            "\n"
          ],
          "name": "stdout"
        }
      ]
    },
    {
      "cell_type": "markdown",
      "metadata": {
        "id": "WeylJlLikLdN"
      },
      "source": [
        "#%를 사용한 출력"
      ]
    },
    {
      "cell_type": "code",
      "metadata": {
        "colab": {
          "base_uri": "https://localhost:8080/",
          "height": 35
        },
        "id": "JuVNNOoWDMSl",
        "outputId": "82119444-b082-4b1a-8194-4aaaf493b654"
      },
      "source": [
        "\"안녕하세요? %s\" % ('반갑습니다.')"
      ],
      "execution_count": null,
      "outputs": [
        {
          "output_type": "execute_result",
          "data": {
            "application/vnd.google.colaboratory.intrinsic+json": {
              "type": "string"
            },
            "text/plain": [
              "'안녕하세요? 반갑습니다.'"
            ]
          },
          "metadata": {
            "tags": []
          },
          "execution_count": 6
        }
      ]
    },
    {
      "cell_type": "code",
      "metadata": {
        "colab": {
          "base_uri": "https://localhost:8080/",
          "height": 35
        },
        "id": "T3clYCqHDf7d",
        "outputId": "27685890-5678-48d8-dc6f-97a8184fc846"
      },
      "source": [
        "\"안녕하세요? %.3f\" % (0.123456) "
      ],
      "execution_count": null,
      "outputs": [
        {
          "output_type": "execute_result",
          "data": {
            "application/vnd.google.colaboratory.intrinsic+json": {
              "type": "string"
            },
            "text/plain": [
              "'안녕하세요? 0.123'"
            ]
          },
          "metadata": {
            "tags": []
          },
          "execution_count": 11
        }
      ]
    },
    {
      "cell_type": "code",
      "metadata": {
        "colab": {
          "base_uri": "https://localhost:8080/",
          "height": 35
        },
        "id": "4lxDqffKkTbO",
        "outputId": "037dabe0-8905-4df8-f36d-44a59e430de5"
      },
      "source": [
        "'안녕하세요? %d' % (12345)"
      ],
      "execution_count": null,
      "outputs": [
        {
          "output_type": "execute_result",
          "data": {
            "application/vnd.google.colaboratory.intrinsic+json": {
              "type": "string"
            },
            "text/plain": [
              "'안녕하세요? 12345'"
            ]
          },
          "metadata": {
            "tags": []
          },
          "execution_count": 12
        }
      ]
    },
    {
      "cell_type": "code",
      "metadata": {
        "colab": {
          "base_uri": "https://localhost:8080/",
          "height": 35
        },
        "id": "qHaLMLGADuHU",
        "outputId": "90988eb9-cebd-44f5-ca67-d7e300456fda"
      },
      "source": [
        "'안녕하세요? %c' % ('a')"
      ],
      "execution_count": null,
      "outputs": [
        {
          "output_type": "execute_result",
          "data": {
            "application/vnd.google.colaboratory.intrinsic+json": {
              "type": "string"
            },
            "text/plain": [
              "'안녕하세요? a'"
            ]
          },
          "metadata": {
            "tags": []
          },
          "execution_count": 14
        }
      ]
    },
    {
      "cell_type": "markdown",
      "metadata": {
        "id": "15VYCSIgkWBl"
      },
      "source": [
        "#{} 와 format를 사용한 출력"
      ]
    },
    {
      "cell_type": "code",
      "metadata": {
        "colab": {
          "base_uri": "https://localhost:8080/",
          "height": 35
        },
        "id": "uQLguMLFkaK1",
        "outputId": "7647c215-cebb-4590-bae2-8b7fa1cb45e5"
      },
      "source": [
        "'웰컴투? {}'.format('파이썬.')"
      ],
      "execution_count": null,
      "outputs": [
        {
          "output_type": "execute_result",
          "data": {
            "application/vnd.google.colaboratory.intrinsic+json": {
              "type": "string"
            },
            "text/plain": [
              "'웰컴투? 파이썬.'"
            ]
          },
          "metadata": {
            "tags": []
          },
          "execution_count": 15
        }
      ]
    },
    {
      "cell_type": "code",
      "metadata": {
        "colab": {
          "base_uri": "https://localhost:8080/",
          "height": 35
        },
        "id": "YsZt8i7Fkb3e",
        "outputId": "6b29c0b0-38ea-40c5-cf64-f78825362f58"
      },
      "source": [
        "'비밀번호 {}'.format(486)"
      ],
      "execution_count": null,
      "outputs": [
        {
          "output_type": "execute_result",
          "data": {
            "application/vnd.google.colaboratory.intrinsic+json": {
              "type": "string"
            },
            "text/plain": [
              "'비밀번호 486'"
            ]
          },
          "metadata": {
            "tags": []
          },
          "execution_count": 16
        }
      ]
    },
    {
      "cell_type": "markdown",
      "metadata": {
        "id": "Fu7KIIYVkc31"
      },
      "source": [
        "소수점 2자리 까지 제한하는 경우 (그 이하자리는 반올림)"
      ]
    },
    {
      "cell_type": "code",
      "metadata": {
        "colab": {
          "base_uri": "https://localhost:8080/",
          "height": 35
        },
        "id": "s9YPNaH9keuY",
        "outputId": "a2a1ed69-dcec-48ab-cd13-33d1d90f2cd3"
      },
      "source": [
        "'원주율? {:.2f}'.format(3.141592)"
      ],
      "execution_count": null,
      "outputs": [
        {
          "output_type": "execute_result",
          "data": {
            "application/vnd.google.colaboratory.intrinsic+json": {
              "type": "string"
            },
            "text/plain": [
              "'원주율? 3.14'"
            ]
          },
          "metadata": {
            "tags": []
          },
          "execution_count": 17
        }
      ]
    },
    {
      "cell_type": "markdown",
      "metadata": {
        "id": "2Kh_PFSlkgQG"
      },
      "source": [
        "f 문자열 포맷팅 (python 3.6 이상만 지원)"
      ]
    },
    {
      "cell_type": "code",
      "metadata": {
        "colab": {
          "base_uri": "https://localhost:8080/"
        },
        "id": "v5lKvMojkipE",
        "outputId": "9d10dc99-5a9d-49ed-a3da-dc3fb86503d3"
      },
      "source": [
        "name = '펭수'\n",
        "age = 10\n",
        "print(f'나의 이름은 {name}입니다. 나이는 {age} 살입니다.')"
      ],
      "execution_count": null,
      "outputs": [
        {
          "output_type": "stream",
          "text": [
            "나의 이름은 펭수입니다. 나이는 10 살입니다.\n"
          ],
          "name": "stdout"
        }
      ]
    },
    {
      "cell_type": "code",
      "metadata": {
        "colab": {
          "base_uri": "https://localhost:8080/"
        },
        "id": "Ikp2NrmtkkUE",
        "outputId": "640fc1c7-94ae-4b71-bc4e-14e8c4028c53"
      },
      "source": [
        "print(f'내년에 저는 {age+1} 살입니다.')"
      ],
      "execution_count": null,
      "outputs": [
        {
          "output_type": "stream",
          "text": [
            "내년에 저는 11 살입니다.\n"
          ],
          "name": "stdout"
        }
      ]
    },
    {
      "cell_type": "code",
      "metadata": {
        "id": "IIFNnEosklxk"
      },
      "source": [
        "d = {'name':'펭수', 'age':10}"
      ],
      "execution_count": null,
      "outputs": []
    },
    {
      "cell_type": "code",
      "metadata": {
        "colab": {
          "base_uri": "https://localhost:8080/"
        },
        "id": "z07OpPPhkn-R",
        "outputId": "d58ce5cc-ab66-49dd-f807-f8bd551313ca"
      },
      "source": [
        "print(f\"반가워요. 저는 {d['name']}입니다. 저의 나이는 {d['age']} 살입니다.\")"
      ],
      "execution_count": null,
      "outputs": [
        {
          "output_type": "stream",
          "text": [
            "반가워요. 저는 펭수입니다. 저의 나이는 10 살입니다.\n"
          ],
          "name": "stdout"
        }
      ]
    },
    {
      "cell_type": "markdown",
      "metadata": {
        "id": "bur-yqzTkpSF"
      },
      "source": [
        "#문자열 길이\n",
        "#영문 (alphabet)"
      ]
    },
    {
      "cell_type": "code",
      "metadata": {
        "colab": {
          "base_uri": "https://localhost:8080/"
        },
        "id": "4dX9JCt4krzc",
        "outputId": "1c0139d5-499b-4804-b68f-fe8ed40fbad7"
      },
      "source": [
        "len('banana')"
      ],
      "execution_count": null,
      "outputs": [
        {
          "output_type": "execute_result",
          "data": {
            "text/plain": [
              "6"
            ]
          },
          "metadata": {
            "tags": []
          },
          "execution_count": 23
        }
      ]
    },
    {
      "cell_type": "markdown",
      "metadata": {
        "id": "-HRS5LTqkt48"
      },
      "source": [
        "공백은 길이에 포함"
      ]
    },
    {
      "cell_type": "code",
      "metadata": {
        "colab": {
          "base_uri": "https://localhost:8080/"
        },
        "id": "1DA7AGDikvl0",
        "outputId": "b4a2e4e1-bb68-4791-f5e2-5391263f9268"
      },
      "source": [
        "len('banana pen')"
      ],
      "execution_count": null,
      "outputs": [
        {
          "output_type": "execute_result",
          "data": {
            "text/plain": [
              "10"
            ]
          },
          "metadata": {
            "tags": []
          },
          "execution_count": 24
        }
      ]
    },
    {
      "cell_type": "markdown",
      "metadata": {
        "id": "zCcoOI0CkzG0"
      },
      "source": [
        "#한글"
      ]
    },
    {
      "cell_type": "code",
      "metadata": {
        "colab": {
          "base_uri": "https://localhost:8080/"
        },
        "id": "eEw6Npqck3AE",
        "outputId": "0e68f0b0-12b5-484f-92a8-9ce634dd5b0b"
      },
      "source": [
        "len('한글')"
      ],
      "execution_count": null,
      "outputs": [
        {
          "output_type": "execute_result",
          "data": {
            "text/plain": [
              "2"
            ]
          },
          "metadata": {
            "tags": []
          },
          "execution_count": 25
        }
      ]
    },
    {
      "cell_type": "markdown",
      "metadata": {
        "id": "_5dj6sn3k30k"
      },
      "source": [
        "공백은 길이에 포함됩니다."
      ]
    },
    {
      "cell_type": "code",
      "metadata": {
        "colab": {
          "base_uri": "https://localhost:8080/"
        },
        "id": "Ynqtazhck5Ql",
        "outputId": "3ba2a874-d9b3-40ae-efc6-95d665b597b0"
      },
      "source": [
        "len('한글 킹왕짱')"
      ],
      "execution_count": null,
      "outputs": [
        {
          "output_type": "execute_result",
          "data": {
            "text/plain": [
              "6"
            ]
          },
          "metadata": {
            "tags": []
          },
          "execution_count": 26
        }
      ]
    },
    {
      "cell_type": "markdown",
      "metadata": {
        "id": "FcegUII9k6hk"
      },
      "source": [
        "#인덱싱 (indexing)\n",
        "- 문자열에서 한 개의 글자(char)를 조회하기 위해서는 []를 활용한 인덱싱으로 조회 가능"
      ]
    },
    {
      "cell_type": "code",
      "metadata": {
        "colab": {
          "base_uri": "https://localhost:8080/",
          "height": 35
        },
        "id": "nHGpZ1lhlA1k",
        "outputId": "c11a3377-e3dc-4ac9-88f5-e568be224a16"
      },
      "source": [
        "a = 'Python is my life'\n",
        "a"
      ],
      "execution_count": null,
      "outputs": [
        {
          "output_type": "execute_result",
          "data": {
            "application/vnd.google.colaboratory.intrinsic+json": {
              "type": "string"
            },
            "text/plain": [
              "'Python is my life'"
            ]
          },
          "metadata": {
            "tags": []
          },
          "execution_count": 28
        }
      ]
    },
    {
      "cell_type": "code",
      "metadata": {
        "colab": {
          "base_uri": "https://localhost:8080/",
          "height": 35
        },
        "id": "_PgpC-FUlEPO",
        "outputId": "62704eac-890c-4b92-e52b-5677276134cf"
      },
      "source": [
        "a[0]"
      ],
      "execution_count": null,
      "outputs": [
        {
          "output_type": "execute_result",
          "data": {
            "application/vnd.google.colaboratory.intrinsic+json": {
              "type": "string"
            },
            "text/plain": [
              "'P'"
            ]
          },
          "metadata": {
            "tags": []
          },
          "execution_count": 29
        }
      ]
    },
    {
      "cell_type": "code",
      "metadata": {
        "colab": {
          "base_uri": "https://localhost:8080/",
          "height": 35
        },
        "id": "epAIKZUxlF9V",
        "outputId": "43b365ca-528a-4bd4-ddd8-60e416ba589a"
      },
      "source": [
        "a[-2]"
      ],
      "execution_count": null,
      "outputs": [
        {
          "output_type": "execute_result",
          "data": {
            "application/vnd.google.colaboratory.intrinsic+json": {
              "type": "string"
            },
            "text/plain": [
              "'f'"
            ]
          },
          "metadata": {
            "tags": []
          },
          "execution_count": 30
        }
      ]
    },
    {
      "cell_type": "markdown",
      "metadata": {
        "id": "dYL-xIFHlHUe"
      },
      "source": [
        "#슬라이싱 (Slicing)\n",
        "- 슬라이싱의 활용: [start:stop:step] 을 명시하여 부분을 추출 가능"
      ]
    },
    {
      "cell_type": "code",
      "metadata": {
        "colab": {
          "base_uri": "https://localhost:8080/",
          "height": 35
        },
        "id": "J4gYv0A3lJJF",
        "outputId": "9f0d28c9-6f52-4dd5-b3e4-bdd3622e5268"
      },
      "source": [
        "a = 'Python is my life'\n",
        "a"
      ],
      "execution_count": null,
      "outputs": [
        {
          "output_type": "execute_result",
          "data": {
            "application/vnd.google.colaboratory.intrinsic+json": {
              "type": "string"
            },
            "text/plain": [
              "'Python is my life'"
            ]
          },
          "metadata": {
            "tags": []
          },
          "execution_count": 31
        }
      ]
    },
    {
      "cell_type": "markdown",
      "metadata": {
        "id": "4ca83Tt8lQgE"
      },
      "source": [
        "[:]을 활용하여 전체를 추출할 수 있습니다."
      ]
    },
    {
      "cell_type": "code",
      "metadata": {
        "colab": {
          "base_uri": "https://localhost:8080/",
          "height": 35
        },
        "id": "bkPv44sHlSa0",
        "outputId": "ee167f25-1d5a-4e98-e398-24a4cd40afcc"
      },
      "source": [
        "a[:]"
      ],
      "execution_count": null,
      "outputs": [
        {
          "output_type": "execute_result",
          "data": {
            "application/vnd.google.colaboratory.intrinsic+json": {
              "type": "string"
            },
            "text/plain": [
              "'Python is my life'"
            ]
          },
          "metadata": {
            "tags": []
          },
          "execution_count": 32
        }
      ]
    },
    {
      "cell_type": "markdown",
      "metadata": {
        "id": "b4h35h45lUJl"
      },
      "source": [
        "[start:]는 시작 index 부터 끝까지 추출"
      ]
    },
    {
      "cell_type": "code",
      "metadata": {
        "colab": {
          "base_uri": "https://localhost:8080/",
          "height": 35
        },
        "id": "jn9x9Q0dlW3M",
        "outputId": "725780d3-13ee-491d-d7c2-4a1b473a9bf2"
      },
      "source": [
        "a[3:]"
      ],
      "execution_count": null,
      "outputs": [
        {
          "output_type": "execute_result",
          "data": {
            "application/vnd.google.colaboratory.intrinsic+json": {
              "type": "string"
            },
            "text/plain": [
              "'hon is my life'"
            ]
          },
          "metadata": {
            "tags": []
          },
          "execution_count": 33
        }
      ]
    },
    {
      "cell_type": "code",
      "metadata": {
        "colab": {
          "base_uri": "https://localhost:8080/",
          "height": 35
        },
        "id": "sdSmAQJplYAc",
        "outputId": "e441eb8c-29c7-4613-c1f5-a9be879e51ac"
      },
      "source": [
        "a[-4:]"
      ],
      "execution_count": null,
      "outputs": [
        {
          "output_type": "execute_result",
          "data": {
            "application/vnd.google.colaboratory.intrinsic+json": {
              "type": "string"
            },
            "text/plain": [
              "'life'"
            ]
          },
          "metadata": {
            "tags": []
          },
          "execution_count": 35
        }
      ]
    },
    {
      "cell_type": "code",
      "metadata": {
        "colab": {
          "base_uri": "https://localhost:8080/",
          "height": 35
        },
        "id": "ySQK6GgOlZFU",
        "outputId": "9f125774-b69d-4457-f0de-001947c08291"
      },
      "source": [
        "a[:6]"
      ],
      "execution_count": null,
      "outputs": [
        {
          "output_type": "execute_result",
          "data": {
            "application/vnd.google.colaboratory.intrinsic+json": {
              "type": "string"
            },
            "text/plain": [
              "'Python'"
            ]
          },
          "metadata": {
            "tags": []
          },
          "execution_count": 36
        }
      ]
    },
    {
      "cell_type": "code",
      "metadata": {
        "colab": {
          "base_uri": "https://localhost:8080/",
          "height": 35
        },
        "id": "f-E1uk0llcgd",
        "outputId": "8caa6c6f-c9c1-4e02-b61a-c5baabfc8ea7"
      },
      "source": [
        "a[:-3]"
      ],
      "execution_count": null,
      "outputs": [
        {
          "output_type": "execute_result",
          "data": {
            "application/vnd.google.colaboratory.intrinsic+json": {
              "type": "string"
            },
            "text/plain": [
              "'Python is my l'"
            ]
          },
          "metadata": {
            "tags": []
          },
          "execution_count": 37
        }
      ]
    },
    {
      "cell_type": "markdown",
      "metadata": {
        "id": "sbHqn0Tuldy2"
      },
      "source": [
        "[start:end]는 start부터 end 전까지 추출"
      ]
    },
    {
      "cell_type": "code",
      "metadata": {
        "colab": {
          "base_uri": "https://localhost:8080/",
          "height": 35
        },
        "id": "aHcJZ6NXlgk1",
        "outputId": "ae5b0a28-4024-43c8-cb4f-0ed88adb58a8"
      },
      "source": [
        "a[3:6]"
      ],
      "execution_count": null,
      "outputs": [
        {
          "output_type": "execute_result",
          "data": {
            "application/vnd.google.colaboratory.intrinsic+json": {
              "type": "string"
            },
            "text/plain": [
              "'hon'"
            ]
          },
          "metadata": {
            "tags": []
          },
          "execution_count": 38
        }
      ]
    },
    {
      "cell_type": "markdown",
      "metadata": {
        "id": "7kjdW4SKlh2d"
      },
      "source": [
        "[start:stop:step]에서 step 지정시 step만큼 건너 뛰면서 추출"
      ]
    },
    {
      "cell_type": "code",
      "metadata": {
        "colab": {
          "base_uri": "https://localhost:8080/",
          "height": 35
        },
        "id": "tjRhPm-FllbV",
        "outputId": "b8da042f-aac4-46b9-92bd-4f8810b73c07"
      },
      "source": [
        "a[::2]"
      ],
      "execution_count": null,
      "outputs": [
        {
          "output_type": "execute_result",
          "data": {
            "application/vnd.google.colaboratory.intrinsic+json": {
              "type": "string"
            },
            "text/plain": [
              "'Pto sm ie'"
            ]
          },
          "metadata": {
            "tags": []
          },
          "execution_count": 39
        }
      ]
    },
    {
      "cell_type": "markdown",
      "metadata": {
        "id": "T9yXbyQOlmX1"
      },
      "source": [
        "역순으로 출력하기 위해서는 step을 -1로 지정"
      ]
    },
    {
      "cell_type": "code",
      "metadata": {
        "colab": {
          "base_uri": "https://localhost:8080/",
          "height": 35
        },
        "id": "CLaMTrITlrcO",
        "outputId": "3b4480b1-2eca-4200-d86a-c4d67fc01bca"
      },
      "source": [
        "a[::-1]"
      ],
      "execution_count": null,
      "outputs": [
        {
          "output_type": "execute_result",
          "data": {
            "application/vnd.google.colaboratory.intrinsic+json": {
              "type": "string"
            },
            "text/plain": [
              "'efil ym si nohtyP'"
            ]
          },
          "metadata": {
            "tags": []
          },
          "execution_count": 40
        }
      ]
    },
    {
      "cell_type": "markdown",
      "metadata": {
        "id": "D4t7cjQols28"
      },
      "source": [
        "#불변(immutable)\n",
        "- 문자열은 index를 통해 값을 수정 및 변경이 불가능\n",
        "- 메서드(method)로 변경 가능"
      ]
    },
    {
      "cell_type": "code",
      "metadata": {
        "id": "8d1ETSdPl2s9"
      },
      "source": [
        "a = 'Python is my life'"
      ],
      "execution_count": null,
      "outputs": []
    },
    {
      "cell_type": "markdown",
      "metadata": {
        "id": "qXgQUj6ymIWM"
      },
      "source": [
        "index에 값을 할당하여 변경하려는 경우"
      ]
    },
    {
      "cell_type": "code",
      "metadata": {
        "colab": {
          "base_uri": "https://localhost:8080/",
          "height": 172
        },
        "id": "KlDw5gXQmKX0",
        "outputId": "5706be75-17ac-4852-857d-bf40de3f7397"
      },
      "source": [
        "a[2] = 'Y'"
      ],
      "execution_count": null,
      "outputs": [
        {
          "output_type": "error",
          "ename": "TypeError",
          "evalue": "ignored",
          "traceback": [
            "\u001b[0;31m---------------------------------------------------------------------------\u001b[0m",
            "\u001b[0;31mTypeError\u001b[0m                                 Traceback (most recent call last)",
            "\u001b[0;32m<ipython-input-42-f2db0e8f1888>\u001b[0m in \u001b[0;36m<module>\u001b[0;34m()\u001b[0m\n\u001b[0;32m----> 1\u001b[0;31m \u001b[0ma\u001b[0m\u001b[0;34m[\u001b[0m\u001b[0;36m2\u001b[0m\u001b[0;34m]\u001b[0m \u001b[0;34m=\u001b[0m \u001b[0;34m'Y'\u001b[0m\u001b[0;34m\u001b[0m\u001b[0;34m\u001b[0m\u001b[0m\n\u001b[0m",
            "\u001b[0;31mTypeError\u001b[0m: 'str' object does not support item assignment"
          ]
        }
      ]
    },
    {
      "cell_type": "markdown",
      "metadata": {
        "id": "3E0Ne3e5mLhF"
      },
      "source": [
        "del로 부분 삭제하려는 경우"
      ]
    },
    {
      "cell_type": "code",
      "metadata": {
        "colab": {
          "base_uri": "https://localhost:8080/",
          "height": 172
        },
        "id": "It14BtR_mNkl",
        "outputId": "25ae6b81-c552-448a-dfdb-bdf13f80ef99"
      },
      "source": [
        "del a[2]"
      ],
      "execution_count": null,
      "outputs": [
        {
          "output_type": "error",
          "ename": "TypeError",
          "evalue": "ignored",
          "traceback": [
            "\u001b[0;31m---------------------------------------------------------------------------\u001b[0m",
            "\u001b[0;31mTypeError\u001b[0m                                 Traceback (most recent call last)",
            "\u001b[0;32m<ipython-input-43-734682c6a06c>\u001b[0m in \u001b[0;36m<module>\u001b[0;34m()\u001b[0m\n\u001b[0;32m----> 1\u001b[0;31m \u001b[0;32mdel\u001b[0m \u001b[0ma\u001b[0m\u001b[0;34m[\u001b[0m\u001b[0;36m2\u001b[0m\u001b[0;34m]\u001b[0m\u001b[0;34m\u001b[0m\u001b[0;34m\u001b[0m\u001b[0m\n\u001b[0m",
            "\u001b[0;31mTypeError\u001b[0m: 'str' object doesn't support item deletion"
          ]
        }
      ]
    },
    {
      "cell_type": "markdown",
      "metadata": {
        "id": "RW_ULbpgmOhG"
      },
      "source": [
        "#문자열의 덧셈과 곱셈\n",
        "#연결 : 문자열의 덧셈\n",
        "덧셈은 문자열을 연결합니다."
      ]
    },
    {
      "cell_type": "code",
      "metadata": {
        "id": "08UmwWiMmS11"
      },
      "source": [
        "a = '반갑습니다!'\n",
        "b = '웰컴 투 파이썬'"
      ],
      "execution_count": null,
      "outputs": []
    },
    {
      "cell_type": "code",
      "metadata": {
        "colab": {
          "base_uri": "https://localhost:8080/",
          "height": 35
        },
        "id": "ptpr4Al3mUZl",
        "outputId": "f52ea62e-e8e3-47c2-e87d-fc93f65e4fb0"
      },
      "source": [
        "a + b"
      ],
      "execution_count": null,
      "outputs": [
        {
          "output_type": "execute_result",
          "data": {
            "application/vnd.google.colaboratory.intrinsic+json": {
              "type": "string"
            },
            "text/plain": [
              "'반갑습니다!웰컴 투 파이썬'"
            ]
          },
          "metadata": {
            "tags": []
          },
          "execution_count": 45
        }
      ]
    },
    {
      "cell_type": "code",
      "metadata": {
        "colab": {
          "base_uri": "https://localhost:8080/",
          "height": 35
        },
        "id": "7u2Bj9UJmVaN",
        "outputId": "cc0cd697-3ef3-4776-879e-4bfdd061e40e"
      },
      "source": [
        "a + '???'"
      ],
      "execution_count": null,
      "outputs": [
        {
          "output_type": "execute_result",
          "data": {
            "application/vnd.google.colaboratory.intrinsic+json": {
              "type": "string"
            },
            "text/plain": [
              "'반갑습니다!???'"
            ]
          },
          "metadata": {
            "tags": []
          },
          "execution_count": 46
        }
      ]
    },
    {
      "cell_type": "code",
      "metadata": {
        "colab": {
          "base_uri": "https://localhost:8080/",
          "height": 35
        },
        "id": "y6K5LHu5mWu0",
        "outputId": "940d58dd-c08c-4c97-d9af-288ec2d96b7a"
      },
      "source": [
        "'hello' + ', world'"
      ],
      "execution_count": null,
      "outputs": [
        {
          "output_type": "execute_result",
          "data": {
            "application/vnd.google.colaboratory.intrinsic+json": {
              "type": "string"
            },
            "text/plain": [
              "'hello, world'"
            ]
          },
          "metadata": {
            "tags": []
          },
          "execution_count": 47
        }
      ]
    },
    {
      "cell_type": "markdown",
      "metadata": {
        "id": "tZIBUFRjmYCd"
      },
      "source": [
        "#복제 : 문자열의 곱셈\n",
        "문자열을 곱한 숫자 만큼 반복하여 생성"
      ]
    },
    {
      "cell_type": "code",
      "metadata": {
        "colab": {
          "base_uri": "https://localhost:8080/",
          "height": 35
        },
        "id": "RR3tya6XmdLN",
        "outputId": "c62394e5-fd6e-41ba-b924-3b31a84bf582"
      },
      "source": [
        "a * 2"
      ],
      "execution_count": null,
      "outputs": [
        {
          "output_type": "execute_result",
          "data": {
            "application/vnd.google.colaboratory.intrinsic+json": {
              "type": "string"
            },
            "text/plain": [
              "'반갑습니다!반갑습니다!'"
            ]
          },
          "metadata": {
            "tags": []
          },
          "execution_count": 49
        }
      ]
    },
    {
      "cell_type": "code",
      "metadata": {
        "colab": {
          "base_uri": "https://localhost:8080/"
        },
        "id": "-ggtF2DJmfV9",
        "outputId": "65f6fbad-88ff-4545-d598-3ab36283f9b9"
      },
      "source": [
        "print('abc ' * 5)\n",
        "print('===' * 7)"
      ],
      "execution_count": null,
      "outputs": [
        {
          "output_type": "stream",
          "text": [
            "abc abc abc abc abc \n",
            "=====================\n"
          ],
          "name": "stdout"
        }
      ]
    },
    {
      "cell_type": "markdown",
      "metadata": {
        "id": "MMtVtjFSmgoM"
      },
      "source": [
        "#문자열의 list, set\n",
        "#리스트(list)\n",
        "- 문자열을 리스트(list)로 타입 변환이 가능\n",
        "- 타입 변환시 한 글자를 요소로 갖는 리스트가 생성"
      ]
    },
    {
      "cell_type": "code",
      "metadata": {
        "colab": {
          "base_uri": "https://localhost:8080/"
        },
        "id": "fH-qMEiWmnIE",
        "outputId": "91ed4905-6a18-4772-f1dc-9423c3331914"
      },
      "source": [
        "list('ABCDE')"
      ],
      "execution_count": null,
      "outputs": [
        {
          "output_type": "execute_result",
          "data": {
            "text/plain": [
              "['A', 'B', 'C', 'D', 'E']"
            ]
          },
          "metadata": {
            "tags": []
          },
          "execution_count": 52
        }
      ]
    },
    {
      "cell_type": "markdown",
      "metadata": {
        "id": "Zg8M5bPFmpRt"
      },
      "source": [
        "#세트(set)\n",
        "- 한 글자를 요소로 갖는 세트가 생성\n",
        "-세트의 특성상 요소를 생성한 후 중복된 글자는 제거"
      ]
    },
    {
      "cell_type": "code",
      "metadata": {
        "colab": {
          "base_uri": "https://localhost:8080/"
        },
        "id": "-b5Vwh5TmvR9",
        "outputId": "9ee9374d-22c8-42cd-d4fa-06486653007c"
      },
      "source": [
        "set('AAABBBCCC')"
      ],
      "execution_count": null,
      "outputs": [
        {
          "output_type": "execute_result",
          "data": {
            "text/plain": [
              "{'A', 'B', 'C'}"
            ]
          },
          "metadata": {
            "tags": []
          },
          "execution_count": 53
        }
      ]
    },
    {
      "cell_type": "markdown",
      "metadata": {
        "id": "BAFHy4RRmxL8"
      },
      "source": [
        "중복이 제거된 리스트로 생성하기 위해서는 list로 다시 타입 변환"
      ]
    },
    {
      "cell_type": "code",
      "metadata": {
        "colab": {
          "base_uri": "https://localhost:8080/"
        },
        "id": "q0KtjriXm052",
        "outputId": "bb4bb642-d382-4cfe-b4f2-a8f624daaa70"
      },
      "source": [
        "list(set('AAABBBCCC'))"
      ],
      "execution_count": null,
      "outputs": [
        {
          "output_type": "execute_result",
          "data": {
            "text/plain": [
              "['B', 'C', 'A']"
            ]
          },
          "metadata": {
            "tags": []
          },
          "execution_count": 54
        }
      ]
    },
    {
      "cell_type": "markdown",
      "metadata": {
        "id": "HTntp7U7m2HV"
      },
      "source": [
        "#문자열(텍스트)을 다루는 다양한 기능, 메서드(method)\n",
        "문자열만 가지고 있는 고유의 편한 기능들이 있음\n",
        "\n",
        "#split() : 분리\n",
        "- split은 문장을 특정 규칙에 의해 쪼개 주는 기능\n",
        "- 분리한 결과는 list 형식으로 값을 return 받음"
      ]
    },
    {
      "cell_type": "code",
      "metadata": {
        "id": "a44RL1kgnC3F"
      },
      "source": [
        "a = 'This is a pen'"
      ],
      "execution_count": null,
      "outputs": []
    },
    {
      "cell_type": "markdown",
      "metadata": {
        "id": "brF9gSvrnD1V"
      },
      "source": [
        "기본 값으로 공백이 지정되어 있음 \n",
        "\n",
        "공백을 기준으로 분리하여 리스트로 반환"
      ]
    },
    {
      "cell_type": "code",
      "metadata": {
        "colab": {
          "base_uri": "https://localhost:8080/"
        },
        "id": "vGwEeshlnH7N",
        "outputId": "659016d1-86ef-4bc8-a7da-c076f9df716c"
      },
      "source": [
        "a.split()"
      ],
      "execution_count": null,
      "outputs": [
        {
          "output_type": "execute_result",
          "data": {
            "text/plain": [
              "['This', 'is', 'a', 'pen']"
            ]
          },
          "metadata": {
            "tags": []
          },
          "execution_count": 56
        }
      ]
    },
    {
      "cell_type": "markdown",
      "metadata": {
        "id": "VkFU-3zynKX1"
      },
      "source": [
        "기본 값인 공백에서 특정 문자로 지정 가능"
      ]
    },
    {
      "cell_type": "code",
      "metadata": {
        "id": "DJJX0KcFnNSV"
      },
      "source": [
        "a = 'This-is-a-pen'"
      ],
      "execution_count": null,
      "outputs": []
    },
    {
      "cell_type": "code",
      "metadata": {
        "colab": {
          "base_uri": "https://localhost:8080/"
        },
        "id": "MyXrWiZXnPsu",
        "outputId": "a4116100-6ff4-410e-bb4c-6420c9e1cc4b"
      },
      "source": [
        "a.split('-')"
      ],
      "execution_count": null,
      "outputs": [
        {
          "output_type": "execute_result",
          "data": {
            "text/plain": [
              "['This', 'is', 'a', 'pen']"
            ]
          },
          "metadata": {
            "tags": []
          },
          "execution_count": 58
        }
      ]
    },
    {
      "cell_type": "code",
      "metadata": {
        "colab": {
          "base_uri": "https://localhost:8080/"
        },
        "id": "oJiAutPAnQw9",
        "outputId": "535c0fb5-06fd-4c39-bb34-6edcaaa11626"
      },
      "source": [
        "aa = a.split('-')\n",
        "aa"
      ],
      "execution_count": null,
      "outputs": [
        {
          "output_type": "execute_result",
          "data": {
            "text/plain": [
              "['This', 'is', 'a', 'pen']"
            ]
          },
          "metadata": {
            "tags": []
          },
          "execution_count": 59
        }
      ]
    },
    {
      "cell_type": "markdown",
      "metadata": {
        "id": "A0lekYiSnSdU"
      },
      "source": [
        "aa에 반환된 리스트를 대입 후 index로 값을 조회 가"
      ]
    },
    {
      "cell_type": "code",
      "metadata": {
        "colab": {
          "base_uri": "https://localhost:8080/",
          "height": 35
        },
        "id": "8cYZkt8onWTy",
        "outputId": "3112ce02-ca19-40bc-e81d-f0711d1f97c0"
      },
      "source": [
        "aa[0]"
      ],
      "execution_count": null,
      "outputs": [
        {
          "output_type": "execute_result",
          "data": {
            "application/vnd.google.colaboratory.intrinsic+json": {
              "type": "string"
            },
            "text/plain": [
              "'This'"
            ]
          },
          "metadata": {
            "tags": []
          },
          "execution_count": 60
        }
      ]
    },
    {
      "cell_type": "code",
      "metadata": {
        "colab": {
          "base_uri": "https://localhost:8080/",
          "height": 35
        },
        "id": "Sud-iXznnXVE",
        "outputId": "65506b75-f80c-4537-b86f-e82063c87ee4"
      },
      "source": [
        "aa[2]"
      ],
      "execution_count": null,
      "outputs": [
        {
          "output_type": "execute_result",
          "data": {
            "application/vnd.google.colaboratory.intrinsic+json": {
              "type": "string"
            },
            "text/plain": [
              "'a'"
            ]
          },
          "metadata": {
            "tags": []
          },
          "execution_count": 61
        }
      ]
    },
    {
      "cell_type": "code",
      "metadata": {
        "colab": {
          "base_uri": "https://localhost:8080/",
          "height": 35
        },
        "id": "-AX44TEHnYK1",
        "outputId": "02a50d82-d267-4e20-824c-b9ba2bde2210"
      },
      "source": [
        "aa[0] + aa[2]"
      ],
      "execution_count": null,
      "outputs": [
        {
          "output_type": "execute_result",
          "data": {
            "application/vnd.google.colaboratory.intrinsic+json": {
              "type": "string"
            },
            "text/plain": [
              "'Thisa'"
            ]
          },
          "metadata": {
            "tags": []
          },
          "execution_count": 62
        }
      ]
    },
    {
      "cell_type": "markdown",
      "metadata": {
        "id": "JXrIQl6LnaRX"
      },
      "source": [
        "#join() : 합치기\n",
        "- 결합하고자 하는 문자에 .join() 안에 리스트를 지정하여 결합 가능"
      ]
    },
    {
      "cell_type": "code",
      "metadata": {
        "colab": {
          "base_uri": "https://localhost:8080/",
          "height": 35
        },
        "id": "AOOZXnWBngEM",
        "outputId": "cc85c418-ee02-46bd-8c24-8a9c2dc291bd"
      },
      "source": [
        "'-'.join(['010',  '1234', '5678'])"
      ],
      "execution_count": null,
      "outputs": [
        {
          "output_type": "execute_result",
          "data": {
            "application/vnd.google.colaboratory.intrinsic+json": {
              "type": "string"
            },
            "text/plain": [
              "'010-1234-5678'"
            ]
          },
          "metadata": {
            "tags": []
          },
          "execution_count": 63
        }
      ]
    },
    {
      "cell_type": "code",
      "metadata": {
        "colab": {
          "base_uri": "https://localhost:8080/",
          "height": 35
        },
        "id": "WntuiGdbnhP0",
        "outputId": "59c95989-cede-4abd-a73d-4928c963bbb9"
      },
      "source": [
        "'-'.join('ABCDE')"
      ],
      "execution_count": null,
      "outputs": [
        {
          "output_type": "execute_result",
          "data": {
            "application/vnd.google.colaboratory.intrinsic+json": {
              "type": "string"
            },
            "text/plain": [
              "'A-B-C-D-E'"
            ]
          },
          "metadata": {
            "tags": []
          },
          "execution_count": 64
        }
      ]
    },
    {
      "cell_type": "markdown",
      "metadata": {
        "id": "W2jvc4w6nisV"
      },
      "source": [
        "#lower(), upper() : 소문자 / 대문자로 만들기"
      ]
    },
    {
      "cell_type": "code",
      "metadata": {
        "id": "dURVY79Enk1U"
      },
      "source": [
        "a = 'My name is Teddy'"
      ],
      "execution_count": null,
      "outputs": []
    },
    {
      "cell_type": "markdown",
      "metadata": {
        "id": "uYpQzjIEnor9"
      },
      "source": [
        "소문자로 변경"
      ]
    },
    {
      "cell_type": "code",
      "metadata": {
        "colab": {
          "base_uri": "https://localhost:8080/",
          "height": 35
        },
        "id": "qn5BzJQlnqLk",
        "outputId": "bfa7a350-578f-4a4b-82b9-967780101387"
      },
      "source": [
        "a.lower()"
      ],
      "execution_count": null,
      "outputs": [
        {
          "output_type": "execute_result",
          "data": {
            "application/vnd.google.colaboratory.intrinsic+json": {
              "type": "string"
            },
            "text/plain": [
              "'my name is teddy'"
            ]
          },
          "metadata": {
            "tags": []
          },
          "execution_count": 66
        }
      ]
    },
    {
      "cell_type": "markdown",
      "metadata": {
        "id": "kfH65Xcnnrcs"
      },
      "source": [
        "대문자로 변경"
      ]
    },
    {
      "cell_type": "code",
      "metadata": {
        "colab": {
          "base_uri": "https://localhost:8080/",
          "height": 35
        },
        "id": "Iebr5KxgntU0",
        "outputId": "76eed84c-9da0-410d-ca9d-a2fca4682ed6"
      },
      "source": [
        "a.upper()"
      ],
      "execution_count": null,
      "outputs": [
        {
          "output_type": "execute_result",
          "data": {
            "application/vnd.google.colaboratory.intrinsic+json": {
              "type": "string"
            },
            "text/plain": [
              "'MY NAME IS TEDDY'"
            ]
          },
          "metadata": {
            "tags": []
          },
          "execution_count": 67
        }
      ]
    },
    {
      "cell_type": "markdown",
      "metadata": {
        "id": "_f6zRxrlnuZE"
      },
      "source": [
        "한글에는 대소문자 구분이 없음"
      ]
    },
    {
      "cell_type": "code",
      "metadata": {
        "id": "RJXWiuO5nxFu"
      },
      "source": [
        "a = '한글엔 대소문자가 없어요ㅠ'"
      ],
      "execution_count": null,
      "outputs": []
    },
    {
      "cell_type": "code",
      "metadata": {
        "colab": {
          "base_uri": "https://localhost:8080/",
          "height": 35
        },
        "id": "Q7WtaSysnzgu",
        "outputId": "888ee4c4-d212-4f51-e364-5751854a7828"
      },
      "source": [
        "a.lower()"
      ],
      "execution_count": null,
      "outputs": [
        {
          "output_type": "execute_result",
          "data": {
            "application/vnd.google.colaboratory.intrinsic+json": {
              "type": "string"
            },
            "text/plain": [
              "'한글엔 대소문자가 없어요ㅠ'"
            ]
          },
          "metadata": {
            "tags": []
          },
          "execution_count": 69
        }
      ]
    },
    {
      "cell_type": "code",
      "metadata": {
        "colab": {
          "base_uri": "https://localhost:8080/",
          "height": 35
        },
        "id": "XoHtQ4ton0pW",
        "outputId": "2f35d349-8fa3-487f-e314-78576eace42f"
      },
      "source": [
        "a.upper()"
      ],
      "execution_count": null,
      "outputs": [
        {
          "output_type": "execute_result",
          "data": {
            "application/vnd.google.colaboratory.intrinsic+json": {
              "type": "string"
            },
            "text/plain": [
              "'한글엔 대소문자가 없어요ㅠ'"
            ]
          },
          "metadata": {
            "tags": []
          },
          "execution_count": 70
        }
      ]
    },
    {
      "cell_type": "markdown",
      "metadata": {
        "id": "nGeRHQ0An1z1"
      },
      "source": [
        "#startswith, endswith\n",
        "시작과, 끝이 맞는지 결과를 bool로 반환"
      ]
    },
    {
      "cell_type": "code",
      "metadata": {
        "id": "h2f6KmZen5zN"
      },
      "source": [
        "a = '01-sample.png'"
      ],
      "execution_count": null,
      "outputs": []
    },
    {
      "cell_type": "markdown",
      "metadata": {
        "id": "L7hK5kANn8gd"
      },
      "source": [
        "#startswith() : 시작하는\n",
        "- 지정한 문자열로 시작하면 True, 그렇지 않다면 False를 반환"
      ]
    },
    {
      "cell_type": "code",
      "metadata": {
        "colab": {
          "base_uri": "https://localhost:8080/"
        },
        "id": "g5nXf0i_oAnM",
        "outputId": "01a7d309-61ec-4746-849a-31a83c2d1106"
      },
      "source": [
        "a.startswith('01')"
      ],
      "execution_count": null,
      "outputs": [
        {
          "output_type": "execute_result",
          "data": {
            "text/plain": [
              "True"
            ]
          },
          "metadata": {
            "tags": []
          },
          "execution_count": 73
        }
      ]
    },
    {
      "cell_type": "code",
      "metadata": {
        "colab": {
          "base_uri": "https://localhost:8080/"
        },
        "id": "TgZ2E5gzoBlN",
        "outputId": "de4d018d-86f9-4826-b01f-772358fa8a13"
      },
      "source": [
        "a.startswith('02')"
      ],
      "execution_count": null,
      "outputs": [
        {
          "output_type": "execute_result",
          "data": {
            "text/plain": [
              "False"
            ]
          },
          "metadata": {
            "tags": []
          },
          "execution_count": 74
        }
      ]
    },
    {
      "cell_type": "markdown",
      "metadata": {
        "id": "epf-T3BHoDbV"
      },
      "source": [
        "#endswith() : 끝나는\n",
        "- 지정한 문자열로 끝나면 True, 그렇지 않다면 False를 반환\n"
      ]
    },
    {
      "cell_type": "code",
      "metadata": {
        "colab": {
          "base_uri": "https://localhost:8080/"
        },
        "id": "XCCHfja6oIxc",
        "outputId": "e209155f-9642-467d-ee23-b2f4b583b01f"
      },
      "source": [
        "a.endswith('.png')"
      ],
      "execution_count": null,
      "outputs": [
        {
          "output_type": "execute_result",
          "data": {
            "text/plain": [
              "True"
            ]
          },
          "metadata": {
            "tags": []
          },
          "execution_count": 75
        }
      ]
    },
    {
      "cell_type": "code",
      "metadata": {
        "colab": {
          "base_uri": "https://localhost:8080/"
        },
        "id": "_Ujq1K21oL41",
        "outputId": "e9e04709-c39a-45ec-ff68-ebc53f5b8ae5"
      },
      "source": [
        "a.endswith('.jpg')"
      ],
      "execution_count": null,
      "outputs": [
        {
          "output_type": "execute_result",
          "data": {
            "text/plain": [
              "False"
            ]
          },
          "metadata": {
            "tags": []
          },
          "execution_count": 76
        }
      ]
    },
    {
      "cell_type": "markdown",
      "metadata": {
        "id": "ELk-yHmAoNK9"
      },
      "source": [
        "#replace() : 문자열 바꾸기\n",
        "- 문자열에 replace(바꿀 대상, 바꾸려는 문자열) 지정하여 문자열을 변경\n",
        "- 결과는 복사본이 만들어져 반환"
      ]
    },
    {
      "cell_type": "code",
      "metadata": {
        "id": "UrfvkcqnoRXt"
      },
      "source": [
        "a = '01-sample.png'"
      ],
      "execution_count": null,
      "outputs": []
    },
    {
      "cell_type": "code",
      "metadata": {
        "colab": {
          "base_uri": "https://localhost:8080/",
          "height": 35
        },
        "id": "Yyt4Hro6oT6u",
        "outputId": "d7edb826-464e-4a67-9250-215485f6be88"
      },
      "source": [
        "a.replace('.png', '.jpg')"
      ],
      "execution_count": null,
      "outputs": [
        {
          "output_type": "execute_result",
          "data": {
            "application/vnd.google.colaboratory.intrinsic+json": {
              "type": "string"
            },
            "text/plain": [
              "'01-sample.jpg'"
            ]
          },
          "metadata": {
            "tags": []
          },
          "execution_count": 79
        }
      ]
    },
    {
      "cell_type": "markdown",
      "metadata": {
        "id": "BlpE89A3oU8m"
      },
      "source": [
        "반환값은 복사본이며 원본에 변경사항이 바로 적용되지 않습니다."
      ]
    },
    {
      "cell_type": "code",
      "metadata": {
        "colab": {
          "base_uri": "https://localhost:8080/",
          "height": 35
        },
        "id": "UhdaEWoToXIG",
        "outputId": "fe37ad1e-726a-46bf-f157-489cad89ec33"
      },
      "source": [
        "a"
      ],
      "execution_count": null,
      "outputs": [
        {
          "output_type": "execute_result",
          "data": {
            "application/vnd.google.colaboratory.intrinsic+json": {
              "type": "string"
            },
            "text/plain": [
              "'01-sample.png'"
            ]
          },
          "metadata": {
            "tags": []
          },
          "execution_count": 80
        }
      ]
    },
    {
      "cell_type": "code",
      "metadata": {
        "id": "k7zMpL44oYSe"
      },
      "source": [
        "new_a = a.replace('.png', '.jpg')"
      ],
      "execution_count": null,
      "outputs": []
    },
    {
      "cell_type": "code",
      "metadata": {
        "colab": {
          "base_uri": "https://localhost:8080/"
        },
        "id": "xj0u45ckoZpt",
        "outputId": "22f3ef4e-3a6d-4d3d-b982-0011db18144c"
      },
      "source": [
        "print(new_a)"
      ],
      "execution_count": null,
      "outputs": [
        {
          "output_type": "stream",
          "text": [
            "01-sample.jpg\n"
          ],
          "name": "stdout"
        }
      ]
    },
    {
      "cell_type": "markdown",
      "metadata": {
        "id": "8kDKM8_Boa9V"
      },
      "source": [
        "#불필요한 공백 제거"
      ]
    },
    {
      "cell_type": "code",
      "metadata": {
        "id": "tWRPauAFodnN"
      },
      "source": [
        "a = '    01-sample.png                '"
      ],
      "execution_count": null,
      "outputs": []
    },
    {
      "cell_type": "code",
      "metadata": {
        "colab": {
          "base_uri": "https://localhost:8080/"
        },
        "id": "5vIgdtG8ogXU",
        "outputId": "2c8947f7-ccba-422c-a3a5-03885e0b88c6"
      },
      "source": [
        "print(a)"
      ],
      "execution_count": null,
      "outputs": [
        {
          "output_type": "stream",
          "text": [
            "    01-sample.png                \n"
          ],
          "name": "stdout"
        }
      ]
    },
    {
      "cell_type": "markdown",
      "metadata": {
        "id": "5hvE44SgokgN"
      },
      "source": [
        "strip은 불필요한 공백을 제거해 줍니다."
      ]
    },
    {
      "cell_type": "markdown",
      "metadata": {
        "id": "aIRoFKPVonxE"
      },
      "source": [
        "lstrip() : 왼쪽 공백 제거"
      ]
    },
    {
      "cell_type": "code",
      "metadata": {
        "colab": {
          "base_uri": "https://localhost:8080/",
          "height": 35
        },
        "id": "OeXvZggiop01",
        "outputId": "a32e9506-70bf-457c-be6b-9f318a8d08ac"
      },
      "source": [
        "a.lstrip()"
      ],
      "execution_count": null,
      "outputs": [
        {
          "output_type": "execute_result",
          "data": {
            "application/vnd.google.colaboratory.intrinsic+json": {
              "type": "string"
            },
            "text/plain": [
              "'01-sample.png                '"
            ]
          },
          "metadata": {
            "tags": []
          },
          "execution_count": 86
        }
      ]
    },
    {
      "cell_type": "markdown",
      "metadata": {
        "id": "EjaxxNIForBc"
      },
      "source": [
        "rstrip() : 오른쪽 공백 제거"
      ]
    },
    {
      "cell_type": "code",
      "metadata": {
        "colab": {
          "base_uri": "https://localhost:8080/",
          "height": 35
        },
        "id": "qxjrOtA6os42",
        "outputId": "e834f415-ca9b-432b-d451-cf93f8c3cb9f"
      },
      "source": [
        "a.rstrip()"
      ],
      "execution_count": null,
      "outputs": [
        {
          "output_type": "execute_result",
          "data": {
            "application/vnd.google.colaboratory.intrinsic+json": {
              "type": "string"
            },
            "text/plain": [
              "'    01-sample.png'"
            ]
          },
          "metadata": {
            "tags": []
          },
          "execution_count": 88
        }
      ]
    },
    {
      "cell_type": "markdown",
      "metadata": {
        "id": "dtMoFEOTou-9"
      },
      "source": [
        "strip() : 양쪽 공백 제거"
      ]
    },
    {
      "cell_type": "code",
      "metadata": {
        "colab": {
          "base_uri": "https://localhost:8080/",
          "height": 35
        },
        "id": "mceaoj3oow4V",
        "outputId": "f3ed67cc-21e5-4305-8ef2-518ff10e1cf0"
      },
      "source": [
        "a.strip()"
      ],
      "execution_count": null,
      "outputs": [
        {
          "output_type": "execute_result",
          "data": {
            "application/vnd.google.colaboratory.intrinsic+json": {
              "type": "string"
            },
            "text/plain": [
              "'01-sample.png'"
            ]
          },
          "metadata": {
            "tags": []
          },
          "execution_count": 89
        }
      ]
    }
  ]
}