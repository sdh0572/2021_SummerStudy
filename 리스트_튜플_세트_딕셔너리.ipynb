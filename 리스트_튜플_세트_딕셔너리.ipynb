{
  "nbformat": 4,
  "nbformat_minor": 0,
  "metadata": {
    "colab": {
      "name": "리스트-튜플-세트-딕셔너리.ipynb",
      "provenance": [],
      "collapsed_sections": [],
      "authorship_tag": "ABX9TyN2renQiM5TKpIi3sc0hg80",
      "include_colab_link": true
    },
    "kernelspec": {
      "name": "python3",
      "display_name": "Python 3"
    },
    "language_info": {
      "name": "python"
    }
  },
  "cells": [
    {
      "cell_type": "markdown",
      "metadata": {
        "id": "view-in-github",
        "colab_type": "text"
      },
      "source": [
        "<a href=\"https://colab.research.google.com/github/sdh0572/2021_SummerStudy/blob/main/%EB%A6%AC%EC%8A%A4%ED%8A%B8_%ED%8A%9C%ED%94%8C_%EC%84%B8%ED%8A%B8_%EB%94%95%EC%85%94%EB%84%88%EB%A6%AC.ipynb\" target=\"_parent\"><img src=\"https://colab.research.google.com/assets/colab-badge.svg\" alt=\"Open In Colab\"/></a>"
      ]
    },
    {
      "cell_type": "markdown",
      "metadata": {
        "id": "BGoOp5WxSU0Q"
      },
      "source": [
        "#리스트(list)\n",
        "- 데이터의 요소를 순차적으로 파악하는데 용이한 자료형\n",
        "- 다양한 메서드(method) 혹은 함수를 지원하며 메서드를 활용하여 요소를 추가, 삭제 및 변경\n",
        "\n",
        "메서드(method): 객체(object)가 포함하는 함수 혹은 기능\n",
        "\n",
        "생성\n",
        "\n",
        "[ ] 형태로 표현\n",
        "\n",
        "빈 리스트를 생성"
      ]
    },
    {
      "cell_type": "code",
      "metadata": {
        "colab": {
          "base_uri": "https://localhost:8080/"
        },
        "id": "UhXuCgOvELLB",
        "outputId": "2d9d0871-bed6-4ad1-cd31-56f07914cc3f"
      },
      "source": [
        "mylist = []\n",
        "mylist"
      ],
      "execution_count": null,
      "outputs": [
        {
          "output_type": "execute_result",
          "data": {
            "text/plain": [
              "[]"
            ]
          },
          "metadata": {
            "tags": []
          },
          "execution_count": 1
        }
      ]
    },
    {
      "cell_type": "code",
      "metadata": {
        "colab": {
          "base_uri": "https://localhost:8080/"
        },
        "id": "Z4xWfsr-ES6F",
        "outputId": "47415367-e3a3-4cc4-8cd5-7e286b550766"
      },
      "source": [
        "mylist = list()\n",
        "mylist"
      ],
      "execution_count": null,
      "outputs": [
        {
          "output_type": "execute_result",
          "data": {
            "text/plain": [
              "[]"
            ]
          },
          "metadata": {
            "tags": []
          },
          "execution_count": 1
        }
      ]
    },
    {
      "cell_type": "code",
      "metadata": {
        "colab": {
          "base_uri": "https://localhost:8080/"
        },
        "id": "nJDNeaXrEat1",
        "outputId": "d0b455ba-98a8-42c3-94d8-5b582a25b636"
      },
      "source": [
        "mylist = [1, 3, 2, 4, 5]\n",
        "mylist"
      ],
      "execution_count": null,
      "outputs": [
        {
          "output_type": "execute_result",
          "data": {
            "text/plain": [
              "[1, 3, 2, 4, 5]"
            ]
          },
          "metadata": {
            "tags": []
          },
          "execution_count": 2
        }
      ]
    },
    {
      "cell_type": "markdown",
      "metadata": {
        "id": "gmav5nJOTmkM"
      },
      "source": [
        "#list 규칙\n",
        "- list는 다양한 type의 데이터를 집합으로 가집니다.\n",
        "-list안에 list도 허용합니다.\n",
        "-list는 순서(order)의 개념이 존재합니다."
      ]
    },
    {
      "cell_type": "code",
      "metadata": {
        "id": "IP87Jk-jTsQU"
      },
      "source": [
        "a = []"
      ],
      "execution_count": null,
      "outputs": []
    },
    {
      "cell_type": "code",
      "metadata": {
        "colab": {
          "base_uri": "https://localhost:8080/"
        },
        "id": "WsvRyQQzEvwd",
        "outputId": "7e046e1f-219d-4148-b38b-66cd0c7bd559"
      },
      "source": [
        "a = [1, 2, 3]\n",
        "a"
      ],
      "execution_count": null,
      "outputs": [
        {
          "output_type": "execute_result",
          "data": {
            "text/plain": [
              "[1, 2, 3]"
            ]
          },
          "metadata": {
            "tags": []
          },
          "execution_count": 4
        }
      ]
    },
    {
      "cell_type": "code",
      "metadata": {
        "colab": {
          "base_uri": "https://localhost:8080/"
        },
        "id": "RrNW5muqTvsE",
        "outputId": "949e580e-6829-46ba-b394-2777d9234765"
      },
      "source": [
        "a = [1, 'hello', 3, 3.14, True]\n",
        "a"
      ],
      "execution_count": null,
      "outputs": [
        {
          "output_type": "execute_result",
          "data": {
            "text/plain": [
              "[1, 'hello', 3, 3.14, True]"
            ]
          },
          "metadata": {
            "tags": []
          },
          "execution_count": 5
        }
      ]
    },
    {
      "cell_type": "markdown",
      "metadata": {
        "id": "OIB0bhcJTyPD"
      },
      "source": [
        "리스트 안에 리스트로 포함 가능"
      ]
    },
    {
      "cell_type": "code",
      "metadata": {
        "colab": {
          "base_uri": "https://localhost:8080/"
        },
        "id": "QrqxBQhDT3YE",
        "outputId": "20838922-846d-4f70-a101-254cd4e35a0f"
      },
      "source": [
        "a = [1, 'hello', 3, 3.14, [6, 7, '8']]\n",
        "a"
      ],
      "execution_count": null,
      "outputs": [
        {
          "output_type": "execute_result",
          "data": {
            "text/plain": [
              "[1, 'hello', 3, 3.14, [6, 7, '8']]"
            ]
          },
          "metadata": {
            "tags": []
          },
          "execution_count": 6
        }
      ]
    },
    {
      "cell_type": "markdown",
      "metadata": {
        "id": "tyA_tSFnT6RL"
      },
      "source": [
        "#관련 함수\n",
        "- . 점 연산자로 함수를 실행 가능\n",
        "- 함수는 어떤 작업을 수행하는 코드를 모아 이름을 붙인 것\n",
        "\n",
        "#append() : 값 추가\n",
        "\n",
        "빈 리스트를 생성"
      ]
    },
    {
      "cell_type": "code",
      "metadata": {
        "colab": {
          "base_uri": "https://localhost:8080/"
        },
        "id": "u_3JNOQUUhk8",
        "outputId": "28f69a0f-af4b-4231-8fe6-9e1c605938cd"
      },
      "source": [
        "mylist = []\n",
        "mylist"
      ],
      "execution_count": null,
      "outputs": [
        {
          "output_type": "execute_result",
          "data": {
            "text/plain": [
              "[]"
            ]
          },
          "metadata": {
            "tags": []
          },
          "execution_count": 7
        }
      ]
    },
    {
      "cell_type": "code",
      "metadata": {
        "colab": {
          "base_uri": "https://localhost:8080/"
        },
        "id": "hRBgyHJXFNKh",
        "outputId": "1138ca32-c873-4dcf-c7cd-010c33222b54"
      },
      "source": [
        "mylist. append(1)\n",
        "mylist"
      ],
      "execution_count": null,
      "outputs": [
        {
          "output_type": "execute_result",
          "data": {
            "text/plain": [
              "[1, 1]"
            ]
          },
          "metadata": {
            "tags": []
          },
          "execution_count": 9
        }
      ]
    },
    {
      "cell_type": "markdown",
      "metadata": {
        "id": "9hNKdpXsUlSb"
      },
      "source": [
        "중복된 값을 추가할 수 있으며, 순서가 유지됩니다."
      ]
    },
    {
      "cell_type": "code",
      "metadata": {
        "colab": {
          "base_uri": "https://localhost:8080/"
        },
        "id": "lTss6b4GUoAL",
        "outputId": "76e41a22-5d4c-40a4-87c1-dc5783bd08c7"
      },
      "source": [
        "mylist.append(7)\n",
        "mylist.append(7)\n",
        "mylist.append(7)\n",
        "mylist.append(3)\n",
        "mylist.append(5)\n",
        "mylist.append(2)\n",
        "mylist"
      ],
      "execution_count": null,
      "outputs": [
        {
          "output_type": "execute_result",
          "data": {
            "text/plain": [
              "[1, 1, 7, 7, 7, 3, 5, 2]"
            ]
          },
          "metadata": {
            "tags": []
          },
          "execution_count": 10
        }
      ]
    },
    {
      "cell_type": "markdown",
      "metadata": {
        "id": "d6z_wTOBUqtb"
      },
      "source": [
        "#sort() : 정렬\n",
        "- 요소를 순서대로 정렬합니다 (오름차순)\n",
        "- sort()는 내부적으로 정렬 합니다."
      ]
    },
    {
      "cell_type": "code",
      "metadata": {
        "id": "FofcteBfFpiS"
      },
      "source": [
        "mylist = [1, 6, 3, 2, 7, 5, 4]\n",
        "mylist.sort()"
      ],
      "execution_count": null,
      "outputs": []
    },
    {
      "cell_type": "code",
      "metadata": {
        "colab": {
          "base_uri": "https://localhost:8080/"
        },
        "id": "FYfkquEpGpnR",
        "outputId": "06b5c0f8-7542-4e33-fdbe-91011dfba1c0"
      },
      "source": [
        "mylist"
      ],
      "execution_count": null,
      "outputs": [
        {
          "output_type": "execute_result",
          "data": {
            "text/plain": [
              "[1, 1, 7, 7, 7, 3, 5, 2]"
            ]
          },
          "metadata": {
            "tags": []
          },
          "execution_count": 11
        }
      ]
    },
    {
      "cell_type": "markdown",
      "metadata": {
        "id": "H-k24pt7Uy0k"
      },
      "source": [
        "역정렬(reverse order)도 가능 (reverse=True)"
      ]
    },
    {
      "cell_type": "code",
      "metadata": {
        "id": "Qhwu6EvXGKgL"
      },
      "source": [
        "mylist = [1, 6, 3, 2, 7, 5, 4]\n",
        "mylist.sort(reverse=True)"
      ],
      "execution_count": null,
      "outputs": []
    },
    {
      "cell_type": "code",
      "metadata": {
        "colab": {
          "base_uri": "https://localhost:8080/"
        },
        "id": "6rM7HDvbGsl0",
        "outputId": "35c70ad1-31e0-4ac0-d80f-44c242a20543"
      },
      "source": [
        "mylist"
      ],
      "execution_count": null,
      "outputs": [
        {
          "output_type": "execute_result",
          "data": {
            "text/plain": [
              "[1, 1, 7, 7, 7, 3, 5, 2]"
            ]
          },
          "metadata": {
            "tags": []
          },
          "execution_count": 12
        }
      ]
    },
    {
      "cell_type": "markdown",
      "metadata": {
        "id": "PUO3wLIWU61T"
      },
      "source": [
        "#sorted() : 정렬\n",
        "- 요소를 순서대로 정렬\n",
        "- 내부적으로 정렬하지 않고 정렬된 복사본을 반환\n",
        "- 원본 데이터는 정렬되지 않음"
      ]
    },
    {
      "cell_type": "code",
      "metadata": {
        "colab": {
          "base_uri": "https://localhost:8080/"
        },
        "id": "Y9aoxvY9Gb-Z",
        "outputId": "bcc03649-9545-41e4-a1a6-99755fd027a4"
      },
      "source": [
        "mylist = [1, 6, 3, 2, 7, 5, 4]\n",
        "sorted(mylist)"
      ],
      "execution_count": null,
      "outputs": [
        {
          "output_type": "execute_result",
          "data": {
            "text/plain": [
              "[1, 2, 3, 4, 5, 6, 7]"
            ]
          },
          "metadata": {
            "tags": []
          },
          "execution_count": 13
        }
      ]
    },
    {
      "cell_type": "code",
      "metadata": {
        "colab": {
          "base_uri": "https://localhost:8080/"
        },
        "id": "-Duk3EjjVIW0",
        "outputId": "9c2f8c89-092c-4d0b-b707-f48218c969cb"
      },
      "source": [
        "mylist"
      ],
      "execution_count": null,
      "outputs": [
        {
          "output_type": "execute_result",
          "data": {
            "text/plain": [
              "[1, 6, 3, 2, 7, 5, 4]"
            ]
          },
          "metadata": {
            "tags": []
          },
          "execution_count": 14
        }
      ]
    },
    {
      "cell_type": "markdown",
      "metadata": {
        "id": "WdDJMBByVKL0"
      },
      "source": [
        "reverse=True를 지정하여 역정렬 가능"
      ]
    },
    {
      "cell_type": "code",
      "metadata": {
        "colab": {
          "base_uri": "https://localhost:8080/"
        },
        "id": "DWuM3uH-G4G1",
        "outputId": "a6a70aca-af22-4b8c-ca6d-866d28a00d4e"
      },
      "source": [
        "mylist = [1, 6, 3, 2, 7, 5, 4]\n",
        "sorted(mylist, reverse=True)"
      ],
      "execution_count": null,
      "outputs": [
        {
          "output_type": "execute_result",
          "data": {
            "text/plain": [
              "[7, 6, 5, 4, 3, 2, 1]"
            ]
          },
          "metadata": {
            "tags": []
          },
          "execution_count": 15
        }
      ]
    },
    {
      "cell_type": "markdown",
      "metadata": {
        "id": "Mk6wFlEPVPW0"
      },
      "source": [
        "reverse() : 역정렬"
      ]
    },
    {
      "cell_type": "code",
      "metadata": {
        "id": "vRKa2L4pHAgn"
      },
      "source": [
        "mylist. reverse()"
      ],
      "execution_count": null,
      "outputs": []
    },
    {
      "cell_type": "code",
      "metadata": {
        "colab": {
          "base_uri": "https://localhost:8080/"
        },
        "id": "8xzEWEPgHIAp",
        "outputId": "730c44a7-1f2d-4473-943d-2d017558b356"
      },
      "source": [
        "mylist"
      ],
      "execution_count": null,
      "outputs": [
        {
          "output_type": "execute_result",
          "data": {
            "text/plain": [
              "[1, 6, 3, 2, 7, 5, 4]"
            ]
          },
          "metadata": {
            "tags": []
          },
          "execution_count": 16
        }
      ]
    },
    {
      "cell_type": "markdown",
      "metadata": {
        "id": "QDP89rweVZXE"
      },
      "source": [
        "#len() : 전체 항목의 개수 세기"
      ]
    },
    {
      "cell_type": "code",
      "metadata": {
        "colab": {
          "base_uri": "https://localhost:8080/"
        },
        "id": "gzJjtBDnHTKf",
        "outputId": "7e950017-7058-4352-c30c-234574c1ce73"
      },
      "source": [
        "mylist = [1, 6, 3, 2, 7, 5, 4]\n",
        "len(mylist)"
      ],
      "execution_count": null,
      "outputs": [
        {
          "output_type": "execute_result",
          "data": {
            "text/plain": [
              "7"
            ]
          },
          "metadata": {
            "tags": []
          },
          "execution_count": 17
        }
      ]
    },
    {
      "cell_type": "markdown",
      "metadata": {
        "id": "JqEe9_FuVejN"
      },
      "source": [
        "#insert() : 값 추가\n",
        "\n",
        "지정한 index에 값 추가"
      ]
    },
    {
      "cell_type": "code",
      "metadata": {
        "id": "dwv7pqDxHiYC"
      },
      "source": [
        "mylist. insert(1, 100)"
      ],
      "execution_count": null,
      "outputs": []
    },
    {
      "cell_type": "code",
      "metadata": {
        "colab": {
          "base_uri": "https://localhost:8080/"
        },
        "id": "VoNOt7lZH0Bh",
        "outputId": "bf6170dc-ed53-4d18-bc3c-8371e4b087d6"
      },
      "source": [
        "mylist"
      ],
      "execution_count": null,
      "outputs": [
        {
          "output_type": "execute_result",
          "data": {
            "text/plain": [
              "[1, 100, 6, 3, 2, 7, 5, 4]"
            ]
          },
          "metadata": {
            "tags": []
          },
          "execution_count": 19
        }
      ]
    },
    {
      "cell_type": "markdown",
      "metadata": {
        "id": "s0zk13yYVpkM"
      },
      "source": [
        "#remove() : 값 제거\n",
        "리스트에서 첫 번째 나오는 해당 값 삭제"
      ]
    },
    {
      "cell_type": "code",
      "metadata": {
        "id": "YgQ-vLnmH4RC"
      },
      "source": [
        "mylist. remove(7)"
      ],
      "execution_count": null,
      "outputs": []
    },
    {
      "cell_type": "code",
      "metadata": {
        "colab": {
          "base_uri": "https://localhost:8080/"
        },
        "id": "GpCbkPtiIAC6",
        "outputId": "16fc1ecb-f587-4a81-bb75-7625e453df3d"
      },
      "source": [
        "mylist"
      ],
      "execution_count": null,
      "outputs": [
        {
          "output_type": "execute_result",
          "data": {
            "text/plain": [
              "[1, 100, 6, 3, 2, 5, 4]"
            ]
          },
          "metadata": {
            "tags": []
          },
          "execution_count": 22
        }
      ]
    },
    {
      "cell_type": "markdown",
      "metadata": {
        "id": "HW4lT5GgV02L"
      },
      "source": [
        "#pop() : 요소 꺼내기\n",
        "x번째 요소를 돌려주고 해당 요소는 삭제"
      ]
    },
    {
      "cell_type": "code",
      "metadata": {
        "colab": {
          "base_uri": "https://localhost:8080/"
        },
        "id": "q0J2Q-g-IBxc",
        "outputId": "4a832b43-0e97-44f2-f010-727b1128a4c5"
      },
      "source": [
        "mylist.pop(1)"
      ],
      "execution_count": null,
      "outputs": [
        {
          "output_type": "execute_result",
          "data": {
            "text/plain": [
              "100"
            ]
          },
          "metadata": {
            "tags": []
          },
          "execution_count": 24
        }
      ]
    },
    {
      "cell_type": "markdown",
      "metadata": {
        "id": "isJ3p-G4V3Oc"
      },
      "source": [
        "#del : 요소 삭제"
      ]
    },
    {
      "cell_type": "code",
      "metadata": {
        "id": "L2xWnbYzIJTL",
        "colab": {
          "base_uri": "https://localhost:8080/"
        },
        "outputId": "10acf308-f285-4276-8868-6ab78bf462d8"
      },
      "source": [
        "mylist = [100, 200, 300, 400, 500]\n",
        "\n",
        "del mylist[1]\n",
        "print(mylist)\n",
        "del mylist[3]\n",
        "print(mylist)"
      ],
      "execution_count": null,
      "outputs": [
        {
          "output_type": "stream",
          "text": [
            "[100, 300, 400, 500]\n",
            "[100, 300, 400]\n"
          ],
          "name": "stdout"
        }
      ]
    },
    {
      "cell_type": "markdown",
      "metadata": {
        "id": "HAgLLUYIV_hd"
      },
      "source": [
        "# count() : 갯수 세기"
      ]
    },
    {
      "cell_type": "code",
      "metadata": {
        "id": "3LKAQDDSIeTY"
      },
      "source": [
        "a = [1, 1, 1, 1, 1, 2, 2, 4]"
      ],
      "execution_count": null,
      "outputs": []
    },
    {
      "cell_type": "code",
      "metadata": {
        "colab": {
          "base_uri": "https://localhost:8080/"
        },
        "id": "cs7ehyZSI03z",
        "outputId": "e94af0b6-6e9b-450f-d5ee-b25d7efb843e"
      },
      "source": [
        "a.count(1)"
      ],
      "execution_count": null,
      "outputs": [
        {
          "output_type": "execute_result",
          "data": {
            "text/plain": [
              "5"
            ]
          },
          "metadata": {
            "tags": []
          },
          "execution_count": 32
        }
      ]
    },
    {
      "cell_type": "code",
      "metadata": {
        "colab": {
          "base_uri": "https://localhost:8080/"
        },
        "id": "TUpgJ0hOWUSU",
        "outputId": "0ec01c42-e0cc-43d1-def8-3b9ceb91a835"
      },
      "source": [
        "a.count(2)"
      ],
      "execution_count": null,
      "outputs": [
        {
          "output_type": "execute_result",
          "data": {
            "text/plain": [
              "2"
            ]
          },
          "metadata": {
            "tags": []
          },
          "execution_count": 33
        }
      ]
    },
    {
      "cell_type": "code",
      "metadata": {
        "colab": {
          "base_uri": "https://localhost:8080/"
        },
        "id": "yx1R-NmRWZbk",
        "outputId": "33dc14f0-f6d9-4f03-db0c-c53ec95c0dd8"
      },
      "source": [
        "a.count(5)"
      ],
      "execution_count": null,
      "outputs": [
        {
          "output_type": "execute_result",
          "data": {
            "text/plain": [
              "0"
            ]
          },
          "metadata": {
            "tags": []
          },
          "execution_count": 34
        }
      ]
    },
    {
      "cell_type": "markdown",
      "metadata": {
        "id": "y1BhJUy1WcuU"
      },
      "source": [
        "#extend() : 리스트 확장"
      ]
    },
    {
      "cell_type": "code",
      "metadata": {
        "id": "dRNI0N40I340"
      },
      "source": [
        "a = [1, 2, 3]"
      ],
      "execution_count": null,
      "outputs": []
    },
    {
      "cell_type": "code",
      "metadata": {
        "colab": {
          "base_uri": "https://localhost:8080/"
        },
        "id": "H-0Dh51YI8Id",
        "outputId": "419d993c-d4e9-4dd0-870f-d508cfe5ee08"
      },
      "source": [
        "a. extend([4, 5])\n",
        "a"
      ],
      "execution_count": null,
      "outputs": [
        {
          "output_type": "execute_result",
          "data": {
            "text/plain": [
              "[1, 2, 3, 4, 5, 4, 5]"
            ]
          },
          "metadata": {
            "tags": []
          },
          "execution_count": 37
        }
      ]
    },
    {
      "cell_type": "markdown",
      "metadata": {
        "id": "SolSgSp3WluE"
      },
      "source": [
        " '+' 연산자는 extend()와 동일한 기능을 수행"
      ]
    },
    {
      "cell_type": "code",
      "metadata": {
        "colab": {
          "base_uri": "https://localhost:8080/"
        },
        "id": "-j0xNS61WwKb",
        "outputId": "36015d03-6fe8-43b8-ab9f-e8452ce0c093"
      },
      "source": [
        "a = [1, 2, 3]\n",
        "a + [4, 5]"
      ],
      "execution_count": null,
      "outputs": [
        {
          "output_type": "execute_result",
          "data": {
            "text/plain": [
              "[1, 2, 3, 4, 5]"
            ]
          },
          "metadata": {
            "tags": []
          },
          "execution_count": 38
        }
      ]
    },
    {
      "cell_type": "markdown",
      "metadata": {
        "id": "Ao3vcIGNW0es"
      },
      "source": [
        "인덱싱(indexing): 색인"
      ]
    },
    {
      "cell_type": "code",
      "metadata": {
        "id": "Go2KuqsTJKgP"
      },
      "source": [
        "mylist = [1, 2, 3, 4]"
      ],
      "execution_count": null,
      "outputs": []
    },
    {
      "cell_type": "code",
      "metadata": {
        "colab": {
          "base_uri": "https://localhost:8080/"
        },
        "id": "_zXiYBsDJWOT",
        "outputId": "11aff915-b984-4092-ea9c-21eb717e9180"
      },
      "source": [
        "mylist[0]"
      ],
      "execution_count": null,
      "outputs": [
        {
          "output_type": "execute_result",
          "data": {
            "text/plain": [
              "1"
            ]
          },
          "metadata": {
            "tags": []
          },
          "execution_count": 41
        }
      ]
    },
    {
      "cell_type": "code",
      "metadata": {
        "colab": {
          "base_uri": "https://localhost:8080/"
        },
        "id": "XBTfxvSqW63E",
        "outputId": "b5891afe-e497-4ee3-9a3d-a82f1783899b"
      },
      "source": [
        "mylist[3]"
      ],
      "execution_count": null,
      "outputs": [
        {
          "output_type": "execute_result",
          "data": {
            "text/plain": [
              "4"
            ]
          },
          "metadata": {
            "tags": []
          },
          "execution_count": 42
        }
      ]
    },
    {
      "cell_type": "code",
      "metadata": {
        "colab": {
          "base_uri": "https://localhost:8080/",
          "height": 172
        },
        "id": "ENnkI8bZW8sE",
        "outputId": "cf280e86-e925-4ad4-9b84-6443a716dfed"
      },
      "source": [
        "mylist[4]"
      ],
      "execution_count": null,
      "outputs": [
        {
          "output_type": "error",
          "ename": "IndexError",
          "evalue": "ignored",
          "traceback": [
            "\u001b[0;31m---------------------------------------------------------------------------\u001b[0m",
            "\u001b[0;31mIndexError\u001b[0m                                Traceback (most recent call last)",
            "\u001b[0;32m<ipython-input-43-88b11041aa4f>\u001b[0m in \u001b[0;36m<module>\u001b[0;34m()\u001b[0m\n\u001b[0;32m----> 1\u001b[0;31m \u001b[0mmylist\u001b[0m\u001b[0;34m[\u001b[0m\u001b[0;36m4\u001b[0m\u001b[0;34m]\u001b[0m\u001b[0;34m\u001b[0m\u001b[0;34m\u001b[0m\u001b[0m\n\u001b[0m",
            "\u001b[0;31mIndexError\u001b[0m: list index out of range"
          ]
        }
      ]
    },
    {
      "cell_type": "markdown",
      "metadata": {
        "id": "bJkAEonXW_Nl"
      },
      "source": [
        "#역순 인덱싱\n",
        "파이썬은 음수 인덱싱을 지원"
      ]
    },
    {
      "cell_type": "code",
      "metadata": {
        "colab": {
          "base_uri": "https://localhost:8080/"
        },
        "id": "SlypA8_QXFVU",
        "outputId": "180f61ef-f590-42a6-e2f7-7fe6774b9286"
      },
      "source": [
        "mylist[-1]"
      ],
      "execution_count": null,
      "outputs": [
        {
          "output_type": "execute_result",
          "data": {
            "text/plain": [
              "4"
            ]
          },
          "metadata": {
            "tags": []
          },
          "execution_count": 44
        }
      ]
    },
    {
      "cell_type": "code",
      "metadata": {
        "colab": {
          "base_uri": "https://localhost:8080/"
        },
        "id": "RWmYM-vjXHmT",
        "outputId": "6f06ee46-d397-433d-8084-ce738326e25e"
      },
      "source": [
        "mylist[-3]"
      ],
      "execution_count": null,
      "outputs": [
        {
          "output_type": "execute_result",
          "data": {
            "text/plain": [
              "2"
            ]
          },
          "metadata": {
            "tags": []
          },
          "execution_count": 45
        }
      ]
    },
    {
      "cell_type": "code",
      "metadata": {
        "colab": {
          "base_uri": "https://localhost:8080/",
          "height": 172
        },
        "id": "WkAzN5i2XPTr",
        "outputId": "51b42bc7-ad95-448d-e371-a74bbd7d9200"
      },
      "source": [
        "mylist[-5]"
      ],
      "execution_count": null,
      "outputs": [
        {
          "output_type": "error",
          "ename": "IndexError",
          "evalue": "ignored",
          "traceback": [
            "\u001b[0;31m---------------------------------------------------------------------------\u001b[0m",
            "\u001b[0;31mIndexError\u001b[0m                                Traceback (most recent call last)",
            "\u001b[0;32m<ipython-input-46-7f152f66d2d3>\u001b[0m in \u001b[0;36m<module>\u001b[0;34m()\u001b[0m\n\u001b[0;32m----> 1\u001b[0;31m \u001b[0mmylist\u001b[0m\u001b[0;34m[\u001b[0m\u001b[0;34m-\u001b[0m\u001b[0;36m5\u001b[0m\u001b[0;34m]\u001b[0m\u001b[0;34m\u001b[0m\u001b[0;34m\u001b[0m\u001b[0m\n\u001b[0m",
            "\u001b[0;31mIndexError\u001b[0m: list index out of range"
          ]
        }
      ]
    },
    {
      "cell_type": "markdown",
      "metadata": {
        "id": "po8C0rNOXSIk"
      },
      "source": [
        "#인덱스로 접근하여 값 바꾸기"
      ]
    },
    {
      "cell_type": "code",
      "metadata": {
        "colab": {
          "base_uri": "https://localhost:8080/"
        },
        "id": "zQZo6vfiXVyk",
        "outputId": "41dfe62a-2ebd-4926-edf4-f615bf85e1dd"
      },
      "source": [
        "mylist = [1, 2, 3, 4, 5]\n",
        "mylist"
      ],
      "execution_count": null,
      "outputs": [
        {
          "output_type": "execute_result",
          "data": {
            "text/plain": [
              "[1, 2, 3, 4, 5]"
            ]
          },
          "metadata": {
            "tags": []
          },
          "execution_count": 47
        }
      ]
    },
    {
      "cell_type": "code",
      "metadata": {
        "colab": {
          "base_uri": "https://localhost:8080/"
        },
        "id": "TCVcUxqGXYNr",
        "outputId": "453bf9e3-6404-4237-cdb9-5eb882d7f946"
      },
      "source": [
        "mylist[0]"
      ],
      "execution_count": null,
      "outputs": [
        {
          "output_type": "execute_result",
          "data": {
            "text/plain": [
              "1"
            ]
          },
          "metadata": {
            "tags": []
          },
          "execution_count": 48
        }
      ]
    },
    {
      "cell_type": "code",
      "metadata": {
        "id": "aqX_dbwYXZYM"
      },
      "source": [
        "mylist[0] = 100"
      ],
      "execution_count": null,
      "outputs": []
    },
    {
      "cell_type": "code",
      "metadata": {
        "colab": {
          "base_uri": "https://localhost:8080/"
        },
        "id": "JFhroykpXaic",
        "outputId": "cbb1dc9e-84e6-42d1-bc6b-5c9c23cb005c"
      },
      "source": [
        "mylist"
      ],
      "execution_count": null,
      "outputs": [
        {
          "output_type": "execute_result",
          "data": {
            "text/plain": [
              "[100, 2, 3, 4, 5]"
            ]
          },
          "metadata": {
            "tags": []
          },
          "execution_count": 50
        }
      ]
    },
    {
      "cell_type": "code",
      "metadata": {
        "id": "GsntEQx2Xcss"
      },
      "source": [
        "mylist[-1] = 300"
      ],
      "execution_count": null,
      "outputs": []
    },
    {
      "cell_type": "code",
      "metadata": {
        "colab": {
          "base_uri": "https://localhost:8080/"
        },
        "id": "KM9JPY1bXd2z",
        "outputId": "9caba635-0342-4cd4-b1d5-53bcc71dbdfd"
      },
      "source": [
        "mylist"
      ],
      "execution_count": null,
      "outputs": [
        {
          "output_type": "execute_result",
          "data": {
            "text/plain": [
              "[100, 2, 3, 4, 300]"
            ]
          },
          "metadata": {
            "tags": []
          },
          "execution_count": 52
        }
      ]
    },
    {
      "cell_type": "markdown",
      "metadata": {
        "id": "UtEaR20yXkn0"
      },
      "source": [
        "#중첩된 리스트 인덱싱\n",
        "중첩된 리스트에 대한 리스트는 중첩 인덱싱으로 접근합니다. 값을 변경하는 것도 가능합니다."
      ]
    },
    {
      "cell_type": "code",
      "metadata": {
        "id": "gGc03bDHJbV9"
      },
      "source": [
        "mylist = [['가', '나', '다'],[4, 5, 6], 7, 8, 9]"
      ],
      "execution_count": null,
      "outputs": []
    },
    {
      "cell_type": "code",
      "metadata": {
        "colab": {
          "base_uri": "https://localhost:8080/"
        },
        "id": "56sz_u4AKt7e",
        "outputId": "341cce32-e276-4161-f89e-1a1c720bb9c0"
      },
      "source": [
        "mylist"
      ],
      "execution_count": null,
      "outputs": [
        {
          "output_type": "execute_result",
          "data": {
            "text/plain": [
              "[100, 2, 3, 4, 300]"
            ]
          },
          "metadata": {
            "tags": []
          },
          "execution_count": 53
        }
      ]
    },
    {
      "cell_type": "markdown",
      "metadata": {
        "id": "m1Fl-avJXo40"
      },
      "source": [
        "1 번째 리스트 요소를 가져옵니다."
      ]
    },
    {
      "cell_type": "code",
      "metadata": {
        "colab": {
          "base_uri": "https://localhost:8080/"
        },
        "id": "UfBhmZfeKveC",
        "outputId": "62040485-7158-468e-8327-de8c8febb160"
      },
      "source": [
        "mylist[1]"
      ],
      "execution_count": null,
      "outputs": [
        {
          "output_type": "execute_result",
          "data": {
            "text/plain": [
              "2"
            ]
          },
          "metadata": {
            "tags": []
          },
          "execution_count": 54
        }
      ]
    },
    {
      "cell_type": "markdown",
      "metadata": {
        "id": "Yxbo4igHX6mt"
      },
      "source": [
        "1번째 리스트의 요소 중 1번째 요소를 가져오기 위해서는 중첩 인덱싱으로 접근합니다."
      ]
    },
    {
      "cell_type": "code",
      "metadata": {
        "colab": {
          "base_uri": "https://localhost:8080/"
        },
        "id": "s44t5lOQX8id",
        "outputId": "0b87b3b8-4cfd-48b0-c000-5aaa8048ff49"
      },
      "source": [
        "mylist[1][1]"
      ],
      "execution_count": null,
      "outputs": [
        {
          "output_type": "execute_result",
          "data": {
            "text/plain": [
              "5"
            ]
          },
          "metadata": {
            "tags": []
          },
          "execution_count": 57
        }
      ]
    },
    {
      "cell_type": "code",
      "metadata": {
        "id": "yd8N0f1AX91E"
      },
      "source": [
        "mylist[1][1] = 99"
      ],
      "execution_count": null,
      "outputs": []
    },
    {
      "cell_type": "code",
      "metadata": {
        "colab": {
          "base_uri": "https://localhost:8080/"
        },
        "id": "RoZOVV8LYB_l",
        "outputId": "a4935055-6c70-4659-92f4-d5e1f8ce92d3"
      },
      "source": [
        "mylist"
      ],
      "execution_count": null,
      "outputs": [
        {
          "output_type": "execute_result",
          "data": {
            "text/plain": [
              "[['가', '나', '다'], [4, 99, 6], 7, 8, 9]"
            ]
          },
          "metadata": {
            "tags": []
          },
          "execution_count": 60
        }
      ]
    },
    {
      "cell_type": "markdown",
      "metadata": {
        "id": "hYrPyE3vYEst"
      },
      "source": [
        "#슬라이싱(Slicing): 범위 추출\n",
        "- 슬라이싱의 활용: [start:stop:step] 을 명시하여 부분을 추출 가능"
      ]
    },
    {
      "cell_type": "code",
      "metadata": {
        "id": "bJaaaEugYNgU"
      },
      "source": [
        "mylist = [100, 200, 300, 400, 500]"
      ],
      "execution_count": null,
      "outputs": []
    },
    {
      "cell_type": "markdown",
      "metadata": {
        "id": "lC1NnG3aYP17"
      },
      "source": [
        "[:]을 활용하여 전체를 추출 가능"
      ]
    },
    {
      "cell_type": "code",
      "metadata": {
        "colab": {
          "base_uri": "https://localhost:8080/"
        },
        "id": "5jxmlR-SYSwc",
        "outputId": "4aaf26e7-8443-472d-cee2-082293f335a6"
      },
      "source": [
        "mylist[:]"
      ],
      "execution_count": null,
      "outputs": [
        {
          "output_type": "execute_result",
          "data": {
            "text/plain": [
              "[100, 200, 300, 400, 500]"
            ]
          },
          "metadata": {
            "tags": []
          },
          "execution_count": 62
        }
      ]
    },
    {
      "cell_type": "markdown",
      "metadata": {
        "id": "H60kjqagYUYI"
      },
      "source": [
        "[start:]는 시작 index 부터 끝까지 추출"
      ]
    },
    {
      "cell_type": "code",
      "metadata": {
        "colab": {
          "base_uri": "https://localhost:8080/"
        },
        "id": "zW4oMqSAYejc",
        "outputId": "14984114-8a01-40b6-9219-10fc1facb0a9"
      },
      "source": [
        "mylist[2:]"
      ],
      "execution_count": null,
      "outputs": [
        {
          "output_type": "execute_result",
          "data": {
            "text/plain": [
              "[300, 400, 500]"
            ]
          },
          "metadata": {
            "tags": []
          },
          "execution_count": 63
        }
      ]
    },
    {
      "cell_type": "code",
      "metadata": {
        "colab": {
          "base_uri": "https://localhost:8080/"
        },
        "id": "izkdUT_lYfcb",
        "outputId": "8ce9fa7b-b498-4979-acd3-2509747210c4"
      },
      "source": [
        "mylist[-3:]"
      ],
      "execution_count": null,
      "outputs": [
        {
          "output_type": "execute_result",
          "data": {
            "text/plain": [
              "[300, 400, 500]"
            ]
          },
          "metadata": {
            "tags": []
          },
          "execution_count": 64
        }
      ]
    },
    {
      "cell_type": "markdown",
      "metadata": {
        "id": "mRdJKogEYhdb"
      },
      "source": [
        "[:end]는 처음부터 end 전까지 추출"
      ]
    },
    {
      "cell_type": "code",
      "metadata": {
        "colab": {
          "base_uri": "https://localhost:8080/"
        },
        "id": "Nc_r5DpeYlgb",
        "outputId": "4bfb38be-7886-4ab2-a34f-ba2306eb596f"
      },
      "source": [
        "mylist[:3]"
      ],
      "execution_count": null,
      "outputs": [
        {
          "output_type": "execute_result",
          "data": {
            "text/plain": [
              "[100, 200, 300]"
            ]
          },
          "metadata": {
            "tags": []
          },
          "execution_count": 66
        }
      ]
    },
    {
      "cell_type": "markdown",
      "metadata": {
        "id": "C7YAvtnMYn4E"
      },
      "source": [
        "[start:end]는 start부터 end 전까지 추출"
      ]
    },
    {
      "cell_type": "code",
      "metadata": {
        "colab": {
          "base_uri": "https://localhost:8080/"
        },
        "id": "-pBM1AvAYqh0",
        "outputId": "bdab0bc3-05a0-4d5d-a26b-6218c9c6fec5"
      },
      "source": [
        "mylist[1:3]"
      ],
      "execution_count": null,
      "outputs": [
        {
          "output_type": "execute_result",
          "data": {
            "text/plain": [
              "[200, 300]"
            ]
          },
          "metadata": {
            "tags": []
          },
          "execution_count": 69
        }
      ]
    },
    {
      "cell_type": "code",
      "metadata": {
        "colab": {
          "base_uri": "https://localhost:8080/"
        },
        "id": "SuLlzuH2YwzM",
        "outputId": "fe737099-5b5b-443b-93a5-10f68ab4225c"
      },
      "source": [
        "mylist[-3: -1]"
      ],
      "execution_count": null,
      "outputs": [
        {
          "output_type": "execute_result",
          "data": {
            "text/plain": [
              "[300, 400]"
            ]
          },
          "metadata": {
            "tags": []
          },
          "execution_count": 70
        }
      ]
    },
    {
      "cell_type": "markdown",
      "metadata": {
        "id": "yMkN5jI1YyQt"
      },
      "source": [
        "#indexing 에 step 활용하기\n",
        "list[start:stop:step]\n",
        "\n",
        "- step은 몇 칸씩 건너 뛰는지 지정"
      ]
    },
    {
      "cell_type": "code",
      "metadata": {
        "id": "gQRAupVQY_6c"
      },
      "source": [
        "mylist = [100, 200, 300, 400, 500]"
      ],
      "execution_count": null,
      "outputs": []
    },
    {
      "cell_type": "code",
      "metadata": {
        "colab": {
          "base_uri": "https://localhost:8080/"
        },
        "id": "ZOrW1IMbNBfm",
        "outputId": "9794135d-b31a-48f9-d00a-1490b4256c5b"
      },
      "source": [
        "mylist[::-2]"
      ],
      "execution_count": null,
      "outputs": [
        {
          "output_type": "execute_result",
          "data": {
            "text/plain": [
              "[500, 300, 100]"
            ]
          },
          "metadata": {
            "tags": []
          },
          "execution_count": 72
        }
      ]
    },
    {
      "cell_type": "code",
      "metadata": {
        "colab": {
          "base_uri": "https://localhost:8080/"
        },
        "id": "OKhRulmBZCyp",
        "outputId": "22259a64-ecc9-414b-9b65-829ea72ea9a8"
      },
      "source": [
        "mylist[::-1]"
      ],
      "execution_count": null,
      "outputs": [
        {
          "output_type": "execute_result",
          "data": {
            "text/plain": [
              "[500, 400, 300, 200, 100]"
            ]
          },
          "metadata": {
            "tags": []
          },
          "execution_count": 73
        }
      ]
    },
    {
      "cell_type": "markdown",
      "metadata": {
        "id": "0R9_9PqAZF2L"
      },
      "source": [
        "역순 그리고 2칸씩 건너뛰기"
      ]
    },
    {
      "cell_type": "code",
      "metadata": {
        "colab": {
          "base_uri": "https://localhost:8080/"
        },
        "id": "y0eJoey4ZKjc",
        "outputId": "ed1edc77-61a3-4ce3-dcab-a4364e0f6750"
      },
      "source": [
        "mylist[::-2]"
      ],
      "execution_count": null,
      "outputs": [
        {
          "output_type": "execute_result",
          "data": {
            "text/plain": [
              "[500, 300, 100]"
            ]
          },
          "metadata": {
            "tags": []
          },
          "execution_count": 74
        }
      ]
    },
    {
      "cell_type": "markdown",
      "metadata": {
        "id": "-TYiOpAfZOa0"
      },
      "source": [
        "#list 덧셈: list 확장"
      ]
    },
    {
      "cell_type": "code",
      "metadata": {
        "id": "g24nbKgaNE06"
      },
      "source": [
        "a = [1, 2, 3, 4]\n",
        "b = [5, 6, 7, 8]"
      ],
      "execution_count": null,
      "outputs": []
    },
    {
      "cell_type": "code",
      "metadata": {
        "colab": {
          "base_uri": "https://localhost:8080/"
        },
        "id": "HaSZWRm-NQ95",
        "outputId": "aba2962c-d647-4d58-b6dc-c3ecc7e15e8c"
      },
      "source": [
        "a+b"
      ],
      "execution_count": null,
      "outputs": [
        {
          "output_type": "execute_result",
          "data": {
            "text/plain": [
              "[1, 2, 3, 4, 5, 6, 7, 8]"
            ]
          },
          "metadata": {
            "tags": []
          },
          "execution_count": 78
        }
      ]
    },
    {
      "cell_type": "code",
      "metadata": {
        "id": "oL0SvRbLZXJ0"
      },
      "source": [
        "a = ['a', 'b', 'c']\n",
        "b = ['d', 'e', 'f']"
      ],
      "execution_count": null,
      "outputs": []
    },
    {
      "cell_type": "code",
      "metadata": {
        "colab": {
          "base_uri": "https://localhost:8080/"
        },
        "id": "zq9yprT8ZZTE",
        "outputId": "45a348b1-ef46-4703-f625-8b62568a6b4a"
      },
      "source": [
        "a + b"
      ],
      "execution_count": null,
      "outputs": [
        {
          "output_type": "execute_result",
          "data": {
            "text/plain": [
              "['a', 'b', 'c', 'd', 'e', 'f']"
            ]
          },
          "metadata": {
            "tags": []
          },
          "execution_count": 80
        }
      ]
    },
    {
      "cell_type": "markdown",
      "metadata": {
        "id": "6MgRhogSZd4F"
      },
      "source": [
        "#list 곱셈: list 반복"
      ]
    },
    {
      "cell_type": "code",
      "metadata": {
        "id": "wnavGjGnZiiV"
      },
      "source": [
        "a = ['a', 'b', 'c']\n",
        "b = [1, 2, 3, 4]"
      ],
      "execution_count": null,
      "outputs": []
    },
    {
      "cell_type": "code",
      "metadata": {
        "colab": {
          "base_uri": "https://localhost:8080/"
        },
        "id": "LPTNRUW4NS6Y",
        "outputId": "48c4b9cf-ed5d-4994-99e1-7f89950bd832"
      },
      "source": [
        "a * 2"
      ],
      "execution_count": null,
      "outputs": [
        {
          "output_type": "execute_result",
          "data": {
            "text/plain": [
              "['a', 'b', 'c', 'a', 'b', 'c']"
            ]
          },
          "metadata": {
            "tags": []
          },
          "execution_count": 82
        }
      ]
    },
    {
      "cell_type": "code",
      "metadata": {
        "colab": {
          "base_uri": "https://localhost:8080/"
        },
        "id": "NBuiS974NXPV",
        "outputId": "20834ef2-a9d3-4894-8493-82432017ae75"
      },
      "source": [
        "b * 3"
      ],
      "execution_count": null,
      "outputs": [
        {
          "output_type": "execute_result",
          "data": {
            "text/plain": [
              "[1, 2, 3, 4, 1, 2, 3, 4, 1, 2, 3, 4]"
            ]
          },
          "metadata": {
            "tags": []
          },
          "execution_count": 83
        }
      ]
    },
    {
      "cell_type": "markdown",
      "metadata": {
        "id": "rjkRymX1Zm50"
      },
      "source": [
        "#튜플(tuple)\n",
        "- 리스트(list)는 가변(mutable)하는 객체(object)이지만, 튜플(tuple)은 불변(immutable)한 객체\n",
        "- 가변 객체는 요소에 대한 수정, 삭제, 변경 등이 가능하지만, 불편 객체는 요소에 대한 수정, 삭제, 변경이 불가능\n",
        "\n",
        "생성\n",
        "- tuple(), () 로 생성\n",
        "- 혹은 , 로 생성 가능\n",
        "\n",
        "\n",
        "()로 튜플을 생성"
      ]
    },
    {
      "cell_type": "code",
      "metadata": {
        "colab": {
          "base_uri": "https://localhost:8080/"
        },
        "id": "jHI20-x1NoMj",
        "outputId": "1832a54f-69d6-4447-e00b-45692403dbce"
      },
      "source": [
        "mytuple=(1, 2, 3)\n",
        "mytuple"
      ],
      "execution_count": null,
      "outputs": [
        {
          "output_type": "execute_result",
          "data": {
            "text/plain": [
              "(1, 2, 3)"
            ]
          },
          "metadata": {
            "tags": []
          },
          "execution_count": 84
        }
      ]
    },
    {
      "cell_type": "markdown",
      "metadata": {
        "id": "MsC-G4GuaAcU"
      },
      "source": [
        "tuple() 로 생성하는 경우"
      ]
    },
    {
      "cell_type": "code",
      "metadata": {
        "colab": {
          "base_uri": "https://localhost:8080/"
        },
        "id": "LISgIUiQaCm0",
        "outputId": "ec491767-5237-40f4-e264-a8658539d99e"
      },
      "source": [
        "mytuple = tuple([1, 2, 3])\n",
        "mytuple"
      ],
      "execution_count": null,
      "outputs": [
        {
          "output_type": "execute_result",
          "data": {
            "text/plain": [
              "(1, 2, 3)"
            ]
          },
          "metadata": {
            "tags": []
          },
          "execution_count": 86
        }
      ]
    },
    {
      "cell_type": "markdown",
      "metadata": {
        "id": "C0PBGGwvaFJv"
      },
      "source": [
        ", 로 생성할 수 있습니다."
      ]
    },
    {
      "cell_type": "code",
      "metadata": {
        "colab": {
          "base_uri": "https://localhost:8080/"
        },
        "id": "dOh0gGGGaKob",
        "outputId": "2a14e3c3-9916-4e16-d6d1-745aafc55ac2"
      },
      "source": [
        "mytuple = 1, 2, 3\n",
        "mytuple"
      ],
      "execution_count": null,
      "outputs": [
        {
          "output_type": "execute_result",
          "data": {
            "text/plain": [
              "(1, 2, 3)"
            ]
          },
          "metadata": {
            "tags": []
          },
          "execution_count": 87
        }
      ]
    },
    {
      "cell_type": "markdown",
      "metadata": {
        "id": "X816Dc6baLcL"
      },
      "source": [
        "단일 요소를 생성할 때는 반드시 ,를 붙임\n",
        "\n",
        "- (1,)과 (1)은 다른 자료구조"
      ]
    },
    {
      "cell_type": "code",
      "metadata": {
        "colab": {
          "base_uri": "https://localhost:8080/"
        },
        "id": "C0XUBmQRaUSc",
        "outputId": "3e99b0e5-d9e2-4195-dc44-7964063eb4a1"
      },
      "source": [
        "mytuple = 1,\n",
        "print(type(mytuple))\n",
        "mytuple"
      ],
      "execution_count": null,
      "outputs": [
        {
          "output_type": "stream",
          "text": [
            "<class 'tuple'>\n"
          ],
          "name": "stdout"
        },
        {
          "output_type": "execute_result",
          "data": {
            "text/plain": [
              "(1,)"
            ]
          },
          "metadata": {
            "tags": []
          },
          "execution_count": 89
        }
      ]
    },
    {
      "cell_type": "code",
      "metadata": {
        "colab": {
          "base_uri": "https://localhost:8080/"
        },
        "id": "nCxRXMSnaYj8",
        "outputId": "ab894d53-cd1e-40a5-d780-86e7611cf0c9"
      },
      "source": [
        "mytuple = (1,)\n",
        "print(type(mytuple))\n",
        "mytuple"
      ],
      "execution_count": null,
      "outputs": [
        {
          "output_type": "stream",
          "text": [
            "<class 'tuple'>\n"
          ],
          "name": "stdout"
        },
        {
          "output_type": "execute_result",
          "data": {
            "text/plain": [
              "(1,)"
            ]
          },
          "metadata": {
            "tags": []
          },
          "execution_count": 90
        }
      ]
    },
    {
      "cell_type": "code",
      "metadata": {
        "colab": {
          "base_uri": "https://localhost:8080/"
        },
        "id": "xiEgNVKbaaYc",
        "outputId": "46e80984-f87e-4d73-c796-50337f8eddb2"
      },
      "source": [
        "mytuple = (1)\n",
        "print(type(mytuple))\n",
        "mytuple"
      ],
      "execution_count": null,
      "outputs": [
        {
          "output_type": "stream",
          "text": [
            "<class 'int'>\n"
          ],
          "name": "stdout"
        },
        {
          "output_type": "execute_result",
          "data": {
            "text/plain": [
              "1"
            ]
          },
          "metadata": {
            "tags": []
          },
          "execution_count": 91
        }
      ]
    },
    {
      "cell_type": "markdown",
      "metadata": {
        "id": "4urwqRUhah6D"
      },
      "source": [
        "#튜플 언패킹(unpacking)\n",
        "\n",
        "- 튜플로 한 번에 여러 변수에 값을 한 번에 할당 가능\n"
      ]
    },
    {
      "cell_type": "code",
      "metadata": {
        "colab": {
          "base_uri": "https://localhost:8080/"
        },
        "id": "9PPG-bUQammz",
        "outputId": "54d693ae-e3c2-4190-e8f6-5ba28671fa4d"
      },
      "source": [
        "a, b, c = 1, 2, 3\n",
        "\n",
        "print(a)\n",
        "print(b)\n",
        "print(c)"
      ],
      "execution_count": null,
      "outputs": [
        {
          "output_type": "stream",
          "text": [
            "1\n",
            "2\n",
            "3\n"
          ],
          "name": "stdout"
        }
      ]
    },
    {
      "cell_type": "markdown",
      "metadata": {
        "id": "zr5eH9vfapQ8"
      },
      "source": [
        "튜플 자료형은 요소의 추가, 삭제, 변경등이 불가능"
      ]
    },
    {
      "cell_type": "code",
      "metadata": {
        "colab": {
          "base_uri": "https://localhost:8080/"
        },
        "id": "i3eLBLhhav1M",
        "outputId": "376d1c1a-6502-4441-8801-2b391b7b879f"
      },
      "source": [
        "mytuple = (1, 2, 3)\n",
        "mytuple"
      ],
      "execution_count": null,
      "outputs": [
        {
          "output_type": "execute_result",
          "data": {
            "text/plain": [
              "(1, 2, 3)"
            ]
          },
          "metadata": {
            "tags": []
          },
          "execution_count": 93
        }
      ]
    },
    {
      "cell_type": "markdown",
      "metadata": {
        "id": "NHvjMZXkazt0"
      },
      "source": [
        "요소를 조회하는 것은 가능합니다."
      ]
    },
    {
      "cell_type": "code",
      "metadata": {
        "colab": {
          "base_uri": "https://localhost:8080/"
        },
        "id": "PjKSCSMra2z8",
        "outputId": "6d12f889-f74e-42dd-c156-9606448d7345"
      },
      "source": [
        "mytuple[1]"
      ],
      "execution_count": null,
      "outputs": [
        {
          "output_type": "execute_result",
          "data": {
            "text/plain": [
              "2"
            ]
          },
          "metadata": {
            "tags": []
          },
          "execution_count": 94
        }
      ]
    },
    {
      "cell_type": "markdown",
      "metadata": {
        "id": "MxxnqhFja34E"
      },
      "source": [
        "요소를 변경하려는 경우"
      ]
    },
    {
      "cell_type": "code",
      "metadata": {
        "colab": {
          "base_uri": "https://localhost:8080/",
          "height": 172
        },
        "id": "qFFqt-Cna5x0",
        "outputId": "73b67359-7053-41b1-b208-d780d8e89927"
      },
      "source": [
        "mytuple[1] = 100"
      ],
      "execution_count": null,
      "outputs": [
        {
          "output_type": "error",
          "ename": "TypeError",
          "evalue": "ignored",
          "traceback": [
            "\u001b[0;31m---------------------------------------------------------------------------\u001b[0m",
            "\u001b[0;31mTypeError\u001b[0m                                 Traceback (most recent call last)",
            "\u001b[0;32m<ipython-input-97-302beb1444a7>\u001b[0m in \u001b[0;36m<module>\u001b[0;34m()\u001b[0m\n\u001b[0;32m----> 1\u001b[0;31m \u001b[0mmytuple\u001b[0m\u001b[0;34m[\u001b[0m\u001b[0;36m1\u001b[0m\u001b[0;34m]\u001b[0m \u001b[0;34m=\u001b[0m \u001b[0;36m100\u001b[0m\u001b[0;34m\u001b[0m\u001b[0;34m\u001b[0m\u001b[0m\n\u001b[0m",
            "\u001b[0;31mTypeError\u001b[0m: 'tuple' object does not support item assignment"
          ]
        }
      ]
    },
    {
      "cell_type": "markdown",
      "metadata": {
        "id": "22GIgqxPa-R1"
      },
      "source": [
        "요소를 삭제하려는 경우"
      ]
    },
    {
      "cell_type": "code",
      "metadata": {
        "colab": {
          "base_uri": "https://localhost:8080/",
          "height": 172
        },
        "id": "iQsl5XG0a780",
        "outputId": "4837635b-4b34-42c4-8286-c5bb0aa2f7ab"
      },
      "source": [
        "del mytuple[1]"
      ],
      "execution_count": null,
      "outputs": [
        {
          "output_type": "error",
          "ename": "TypeError",
          "evalue": "ignored",
          "traceback": [
            "\u001b[0;31m---------------------------------------------------------------------------\u001b[0m",
            "\u001b[0;31mTypeError\u001b[0m                                 Traceback (most recent call last)",
            "\u001b[0;32m<ipython-input-96-011fbf932d04>\u001b[0m in \u001b[0;36m<module>\u001b[0;34m()\u001b[0m\n\u001b[0;32m----> 1\u001b[0;31m \u001b[0;32mdel\u001b[0m \u001b[0mmytuple\u001b[0m\u001b[0;34m[\u001b[0m\u001b[0;36m1\u001b[0m\u001b[0;34m]\u001b[0m\u001b[0;34m\u001b[0m\u001b[0;34m\u001b[0m\u001b[0m\n\u001b[0m",
            "\u001b[0;31mTypeError\u001b[0m: 'tuple' object doesn't support item deletion"
          ]
        }
      ]
    },
    {
      "cell_type": "markdown",
      "metadata": {
        "id": "7jBjGdoJa9tE"
      },
      "source": [
        "#튜플 덧셈: 튜플의 확장"
      ]
    },
    {
      "cell_type": "code",
      "metadata": {
        "id": "Q_WEobySbE-9"
      },
      "source": [
        "a = (1, 2)\n",
        "b = (3, 4)"
      ],
      "execution_count": null,
      "outputs": []
    },
    {
      "cell_type": "code",
      "metadata": {
        "colab": {
          "base_uri": "https://localhost:8080/"
        },
        "id": "G1Ud_EO0bSJs",
        "outputId": "b49b3ada-8ecc-4989-d683-0bd1037ec182"
      },
      "source": [
        "a + b"
      ],
      "execution_count": null,
      "outputs": [
        {
          "output_type": "execute_result",
          "data": {
            "text/plain": [
              "(1, 2, 3, 4)"
            ]
          },
          "metadata": {
            "tags": []
          },
          "execution_count": 99
        }
      ]
    },
    {
      "cell_type": "markdown",
      "metadata": {
        "id": "YssJdtfwbTE8"
      },
      "source": [
        "#튜플 곱셈: 튜플의 반복"
      ]
    },
    {
      "cell_type": "code",
      "metadata": {
        "colab": {
          "base_uri": "https://localhost:8080/"
        },
        "id": "wR6H00P8bYHE",
        "outputId": "eca22d68-a69c-4a4d-8fb2-f4f5f275bf32"
      },
      "source": [
        "a * 3"
      ],
      "execution_count": null,
      "outputs": [
        {
          "output_type": "execute_result",
          "data": {
            "text/plain": [
              "(1, 2, 1, 2, 1, 2)"
            ]
          },
          "metadata": {
            "tags": []
          },
          "execution_count": 100
        }
      ]
    },
    {
      "cell_type": "markdown",
      "metadata": {
        "id": "rQ-bjCibbb7k"
      },
      "source": [
        "#길이 파악"
      ]
    },
    {
      "cell_type": "code",
      "metadata": {
        "colab": {
          "base_uri": "https://localhost:8080/"
        },
        "id": "gcClM1OdbfML",
        "outputId": "b1eac979-e7f9-4874-e7ba-0968d90a0194"
      },
      "source": [
        "mytuple"
      ],
      "execution_count": null,
      "outputs": [
        {
          "output_type": "execute_result",
          "data": {
            "text/plain": [
              "(1, 2, 3)"
            ]
          },
          "metadata": {
            "tags": []
          },
          "execution_count": 101
        }
      ]
    },
    {
      "cell_type": "code",
      "metadata": {
        "colab": {
          "base_uri": "https://localhost:8080/"
        },
        "id": "ZnRP7t2HbgT0",
        "outputId": "d49a9ea9-4dd3-4ec7-a174-df16849b225a"
      },
      "source": [
        "len(mytuple)"
      ],
      "execution_count": null,
      "outputs": [
        {
          "output_type": "execute_result",
          "data": {
            "text/plain": [
              "3"
            ]
          },
          "metadata": {
            "tags": []
          },
          "execution_count": 102
        }
      ]
    },
    {
      "cell_type": "markdown",
      "metadata": {
        "id": "b1wbFEGIbhz8"
      },
      "source": [
        "#list를 tuple로 변환"
      ]
    },
    {
      "cell_type": "code",
      "metadata": {
        "id": "HdzyHVebbk_M"
      },
      "source": [
        "a = [1, 2, 3, 4]"
      ],
      "execution_count": null,
      "outputs": []
    },
    {
      "cell_type": "code",
      "metadata": {
        "colab": {
          "base_uri": "https://localhost:8080/"
        },
        "id": "iqRIkHNJbn6U",
        "outputId": "502bfaed-884b-402b-a628-698506b3a6cc"
      },
      "source": [
        "a"
      ],
      "execution_count": null,
      "outputs": [
        {
          "output_type": "execute_result",
          "data": {
            "text/plain": [
              "[1, 2, 3, 4]"
            ]
          },
          "metadata": {
            "tags": []
          },
          "execution_count": 104
        }
      ]
    },
    {
      "cell_type": "code",
      "metadata": {
        "colab": {
          "base_uri": "https://localhost:8080/"
        },
        "id": "Hfi-NAGAbpmM",
        "outputId": "1d60782e-f2ac-4518-aa07-097a7f97e3f6"
      },
      "source": [
        "type(a)"
      ],
      "execution_count": null,
      "outputs": [
        {
          "output_type": "execute_result",
          "data": {
            "text/plain": [
              "list"
            ]
          },
          "metadata": {
            "tags": []
          },
          "execution_count": 105
        }
      ]
    },
    {
      "cell_type": "code",
      "metadata": {
        "id": "LZqLVhRvbrWE"
      },
      "source": [
        "b = tuple(a)"
      ],
      "execution_count": null,
      "outputs": []
    },
    {
      "cell_type": "code",
      "metadata": {
        "colab": {
          "base_uri": "https://localhost:8080/"
        },
        "id": "Q7qb8xTfbs09",
        "outputId": "8bff7124-927e-4f17-8abb-449c83d3531e"
      },
      "source": [
        "b"
      ],
      "execution_count": null,
      "outputs": [
        {
          "output_type": "execute_result",
          "data": {
            "text/plain": [
              "(1, 2, 3, 4)"
            ]
          },
          "metadata": {
            "tags": []
          },
          "execution_count": 108
        }
      ]
    },
    {
      "cell_type": "code",
      "metadata": {
        "colab": {
          "base_uri": "https://localhost:8080/"
        },
        "id": "Md5awaxsbwR0",
        "outputId": "76994726-4c24-4f22-e277-5dcc7c4cf2be"
      },
      "source": [
        "type(b)"
      ],
      "execution_count": null,
      "outputs": [
        {
          "output_type": "execute_result",
          "data": {
            "text/plain": [
              "tuple"
            ]
          },
          "metadata": {
            "tags": []
          },
          "execution_count": 110
        }
      ]
    },
    {
      "cell_type": "markdown",
      "metadata": {
        "id": "jDAEr8oKbzl8"
      },
      "source": [
        "#tuple을 list로 변환"
      ]
    },
    {
      "cell_type": "code",
      "metadata": {
        "id": "SFify5Y5b8cd"
      },
      "source": [
        "a = (1, 2, 3, 4)"
      ],
      "execution_count": null,
      "outputs": []
    },
    {
      "cell_type": "code",
      "metadata": {
        "colab": {
          "base_uri": "https://localhost:8080/"
        },
        "id": "7oFFz-a6b-FE",
        "outputId": "c94efe37-cf2e-4b30-e094-a75111a31f0d"
      },
      "source": [
        "a"
      ],
      "execution_count": null,
      "outputs": [
        {
          "output_type": "execute_result",
          "data": {
            "text/plain": [
              "(1, 2, 3, 4)"
            ]
          },
          "metadata": {
            "tags": []
          },
          "execution_count": 112
        }
      ]
    },
    {
      "cell_type": "code",
      "metadata": {
        "colab": {
          "base_uri": "https://localhost:8080/"
        },
        "id": "r-xywV5Bb_Xj",
        "outputId": "eea6d967-227e-40e4-863b-5a549acd5ff6"
      },
      "source": [
        "type(a)"
      ],
      "execution_count": null,
      "outputs": [
        {
          "output_type": "execute_result",
          "data": {
            "text/plain": [
              "tuple"
            ]
          },
          "metadata": {
            "tags": []
          },
          "execution_count": 113
        }
      ]
    },
    {
      "cell_type": "code",
      "metadata": {
        "id": "jHevUM3YcA-k"
      },
      "source": [
        "b = list(a)"
      ],
      "execution_count": null,
      "outputs": []
    },
    {
      "cell_type": "code",
      "metadata": {
        "colab": {
          "base_uri": "https://localhost:8080/"
        },
        "id": "pd40PTTEcCKE",
        "outputId": "62500421-19be-4fb8-a910-fedf043e39f4"
      },
      "source": [
        "b"
      ],
      "execution_count": null,
      "outputs": [
        {
          "output_type": "execute_result",
          "data": {
            "text/plain": [
              "[1, 2, 3, 4]"
            ]
          },
          "metadata": {
            "tags": []
          },
          "execution_count": 115
        }
      ]
    },
    {
      "cell_type": "code",
      "metadata": {
        "colab": {
          "base_uri": "https://localhost:8080/"
        },
        "id": "m-ugJv9VcCyH",
        "outputId": "751a521d-c17a-4093-da07-0b3e0ad545e9"
      },
      "source": [
        "type(b)"
      ],
      "execution_count": null,
      "outputs": [
        {
          "output_type": "execute_result",
          "data": {
            "text/plain": [
              "list"
            ]
          },
          "metadata": {
            "tags": []
          },
          "execution_count": 116
        }
      ]
    },
    {
      "cell_type": "markdown",
      "metadata": {
        "id": "SFVbg35fcD48"
      },
      "source": [
        "리스트로 type을 변경하였기 때문에 요소의 추가 및 삭제가 가능"
      ]
    },
    {
      "cell_type": "code",
      "metadata": {
        "colab": {
          "base_uri": "https://localhost:8080/"
        },
        "id": "ntErBvEmcG4U",
        "outputId": "57884b98-b895-4441-bddd-f7d5d2c1193b"
      },
      "source": [
        "b.append(5)\n",
        "b"
      ],
      "execution_count": null,
      "outputs": [
        {
          "output_type": "execute_result",
          "data": {
            "text/plain": [
              "[1, 2, 3, 4, 5]"
            ]
          },
          "metadata": {
            "tags": []
          },
          "execution_count": 117
        }
      ]
    },
    {
      "cell_type": "code",
      "metadata": {
        "colab": {
          "base_uri": "https://localhost:8080/"
        },
        "id": "kThooG6ccJpr",
        "outputId": "acd0a8ec-5a3c-4711-b93d-27f92880de63"
      },
      "source": [
        "b.remove(2)\n",
        "b"
      ],
      "execution_count": null,
      "outputs": [
        {
          "output_type": "execute_result",
          "data": {
            "text/plain": [
              "[1, 3, 4, 5]"
            ]
          },
          "metadata": {
            "tags": []
          },
          "execution_count": 118
        }
      ]
    },
    {
      "cell_type": "markdown",
      "metadata": {
        "id": "rG_blqgocNvL"
      },
      "source": [
        "요소를 추가 및 삭제한 후 다시 tuple로 변경 가능"
      ]
    },
    {
      "cell_type": "code",
      "metadata": {
        "id": "F3dERz9QcWO9"
      },
      "source": [
        "c = tuple(b)"
      ],
      "execution_count": null,
      "outputs": []
    },
    {
      "cell_type": "code",
      "metadata": {
        "colab": {
          "base_uri": "https://localhost:8080/"
        },
        "id": "2XMnkVxXcXqs",
        "outputId": "b7532739-52d8-4217-d7b6-40088e343cb4"
      },
      "source": [
        "c"
      ],
      "execution_count": null,
      "outputs": [
        {
          "output_type": "execute_result",
          "data": {
            "text/plain": [
              "(1, 3, 4, 5)"
            ]
          },
          "metadata": {
            "tags": []
          },
          "execution_count": 120
        }
      ]
    },
    {
      "cell_type": "code",
      "metadata": {
        "colab": {
          "base_uri": "https://localhost:8080/"
        },
        "id": "idyc2GGhcYgM",
        "outputId": "04210d43-5d4a-45ab-8f64-e6cc3264aae9"
      },
      "source": [
        "type(c)"
      ],
      "execution_count": null,
      "outputs": [
        {
          "output_type": "execute_result",
          "data": {
            "text/plain": [
              "tuple"
            ]
          },
          "metadata": {
            "tags": []
          },
          "execution_count": 121
        }
      ]
    },
    {
      "cell_type": "markdown",
      "metadata": {
        "id": "BEz3DNgvcaHv"
      },
      "source": [
        "#세트(set)\n",
        "- 세트는 순서가 보장 되지 않습니다.\n",
        "-세트는 요소의 중복을 허용하지 않습니다.\n",
        "-세트는 {}를 활용하여 생성할 수 있습니다.\n",
        "\n",
        "생성"
      ]
    },
    {
      "cell_type": "code",
      "metadata": {
        "colab": {
          "base_uri": "https://localhost:8080/"
        },
        "id": "OvW_hm4k3TSz",
        "outputId": "b35e8a50-d9b2-44b9-acd9-740c5c7d5871"
      },
      "source": [
        "myset = set()\n",
        "myset"
      ],
      "execution_count": null,
      "outputs": [
        {
          "output_type": "execute_result",
          "data": {
            "text/plain": [
              "set()"
            ]
          },
          "metadata": {
            "tags": []
          },
          "execution_count": 122
        }
      ]
    },
    {
      "cell_type": "code",
      "metadata": {
        "colab": {
          "base_uri": "https://localhost:8080/"
        },
        "id": "YUB4-cey33Ea",
        "outputId": "b2ae4b0b-4fe3-438d-a1ec-231db0b34e78"
      },
      "source": [
        "myset = set([1, 1, 1, 2, 2, 2, 3, 3, 3])\n",
        "myset"
      ],
      "execution_count": null,
      "outputs": [
        {
          "output_type": "execute_result",
          "data": {
            "text/plain": [
              "{1, 2, 3}"
            ]
          },
          "metadata": {
            "tags": []
          },
          "execution_count": 124
        }
      ]
    },
    {
      "cell_type": "code",
      "metadata": {
        "colab": {
          "base_uri": "https://localhost:8080/"
        },
        "id": "D8kt0Ljwc3D9",
        "outputId": "10694291-764b-4fb1-eea9-6d72a988a65c"
      },
      "source": [
        "myset = set((1, 1, 1, 2, 3, 3, 4, 5, 5, 5))\n",
        "myset"
      ],
      "execution_count": null,
      "outputs": [
        {
          "output_type": "execute_result",
          "data": {
            "text/plain": [
              "{1, 2, 3, 4, 5}"
            ]
          },
          "metadata": {
            "tags": []
          },
          "execution_count": 125
        }
      ]
    },
    {
      "cell_type": "code",
      "metadata": {
        "colab": {
          "base_uri": "https://localhost:8080/"
        },
        "id": "zjtXc6g3c6Pk",
        "outputId": "84676625-a389-4d0f-b57c-40fda295e286"
      },
      "source": [
        "myset = {1, 1, 1, 2, 2, 2, 3, 3, 3}\n",
        "myset"
      ],
      "execution_count": null,
      "outputs": [
        {
          "output_type": "execute_result",
          "data": {
            "text/plain": [
              "{1, 2, 3}"
            ]
          },
          "metadata": {
            "tags": []
          },
          "execution_count": 126
        }
      ]
    },
    {
      "cell_type": "markdown",
      "metadata": {
        "id": "UafEv8Q8c8Mk"
      },
      "source": [
        "#add() : 값 추가\n",
        "- set에 요소를 추가합니다.\n",
        "\n",
        "빈 set를 생성합니다."
      ]
    },
    {
      "cell_type": "code",
      "metadata": {
        "id": "ufP2IG-F4Cny"
      },
      "source": [
        "myset = set()"
      ],
      "execution_count": null,
      "outputs": []
    },
    {
      "cell_type": "markdown",
      "metadata": {
        "id": "xa4PDlSTdL7U"
      },
      "source": [
        "add() 로 요소를 추가"
      ]
    },
    {
      "cell_type": "code",
      "metadata": {
        "id": "s5ePbIyB4LTq"
      },
      "source": [
        "myset.add(1)\n",
        "myset.add(2)\n",
        "myset.add(3)\n",
        "\n",
        "myset.add(1)\n",
        "myset.add(2)\n",
        "myset.add(3)\n",
        "\n",
        "myset.add(1)\n",
        "myset.add(2)\n",
        "myset.add(3)"
      ],
      "execution_count": null,
      "outputs": []
    },
    {
      "cell_type": "markdown",
      "metadata": {
        "id": "Iq0tkQwqdRst"
      },
      "source": [
        "요소를 중복하여 추가하였지만, 중복을 허용하지 않는 set의 특성상 {1, 2, 3} 으로 중복이 제거된 요소만 출력"
      ]
    },
    {
      "cell_type": "code",
      "metadata": {
        "colab": {
          "base_uri": "https://localhost:8080/"
        },
        "id": "eCft81Jk4W_6",
        "outputId": "8e828053-6ff1-44ef-eff2-bc3d1f5d3888"
      },
      "source": [
        "myset"
      ],
      "execution_count": null,
      "outputs": [
        {
          "output_type": "execute_result",
          "data": {
            "text/plain": [
              "{1, 2, 3}"
            ]
          },
          "metadata": {
            "tags": []
          },
          "execution_count": 130
        }
      ]
    },
    {
      "cell_type": "markdown",
      "metadata": {
        "id": "XuHrQZ9idTuM"
      },
      "source": [
        "#update() : 여러개 값 추가\n",
        "- 여러개의 값을 한꺼번에 추가하고자 할 때는 update() 메서드를 사용"
      ]
    },
    {
      "cell_type": "code",
      "metadata": {
        "id": "_WnDZOQkdapc"
      },
      "source": [
        "myset = {1, 2, 3}"
      ],
      "execution_count": null,
      "outputs": []
    },
    {
      "cell_type": "markdown",
      "metadata": {
        "id": "p_ux_lhidbvE"
      },
      "source": [
        "list의 요소들을 한꺼번에 update"
      ]
    },
    {
      "cell_type": "code",
      "metadata": {
        "colab": {
          "base_uri": "https://localhost:8080/"
        },
        "id": "OEN8_QK8deXt",
        "outputId": "36b2eb42-3de9-42d8-c4c0-451080c6c00e"
      },
      "source": [
        "myset.update([4, 5, 6])\n",
        "myset"
      ],
      "execution_count": null,
      "outputs": [
        {
          "output_type": "execute_result",
          "data": {
            "text/plain": [
              "{1, 2, 3, 4, 5, 6, 10, 11, 12}"
            ]
          },
          "metadata": {
            "tags": []
          },
          "execution_count": 134
        }
      ]
    },
    {
      "cell_type": "markdown",
      "metadata": {
        "id": "jDO1TViXdr10"
      },
      "source": [
        "tuple의 요소들을 한꺼번에 update"
      ]
    },
    {
      "cell_type": "code",
      "metadata": {
        "colab": {
          "base_uri": "https://localhost:8080/"
        },
        "id": "opeBGpIYdwL_",
        "outputId": "4781c9d8-b1ca-482e-e113-7a5e256f5dac"
      },
      "source": [
        "myset.update((7, 8, 9))\n",
        "myset"
      ],
      "execution_count": null,
      "outputs": [
        {
          "output_type": "execute_result",
          "data": {
            "text/plain": [
              "{1, 2, 3, 4, 5, 6, 7, 8, 9, 10, 11, 12}"
            ]
          },
          "metadata": {
            "tags": []
          },
          "execution_count": 135
        }
      ]
    },
    {
      "cell_type": "markdown",
      "metadata": {
        "id": "QR9UFwNrdgcU"
      },
      "source": [
        "set의 요소들을 한꺼번에 update"
      ]
    },
    {
      "cell_type": "code",
      "metadata": {
        "colab": {
          "base_uri": "https://localhost:8080/"
        },
        "id": "XuoxwsOjdjwl",
        "outputId": "f4bbc9b5-f0da-441e-ec84-c17af656308e"
      },
      "source": [
        "myset.update({10, 11, 12})\n",
        "myset"
      ],
      "execution_count": null,
      "outputs": [
        {
          "output_type": "execute_result",
          "data": {
            "text/plain": [
              "{1, 2, 3, 4, 5, 6, 10, 11, 12}"
            ]
          },
          "metadata": {
            "tags": []
          },
          "execution_count": 133
        }
      ]
    },
    {
      "cell_type": "markdown",
      "metadata": {
        "id": "GViJwtW3docE"
      },
      "source": [
        "#remove() : 값 제거\n",
        "- 단일 요소를 제거"
      ]
    },
    {
      "cell_type": "code",
      "metadata": {
        "id": "UKOUfr0B4orZ"
      },
      "source": [
        "myset = {1, 2, 3, 4, 5}"
      ],
      "execution_count": null,
      "outputs": []
    },
    {
      "cell_type": "code",
      "metadata": {
        "colab": {
          "base_uri": "https://localhost:8080/"
        },
        "id": "8uzSzgjC4zRh",
        "outputId": "845c29cb-a17a-4223-8ac0-b549921db1af"
      },
      "source": [
        "myset.remove(2)\n",
        "myset"
      ],
      "execution_count": null,
      "outputs": [
        {
          "output_type": "execute_result",
          "data": {
            "text/plain": [
              "{1, 3, 4, 5}"
            ]
          },
          "metadata": {
            "tags": []
          },
          "execution_count": 137
        }
      ]
    },
    {
      "cell_type": "markdown",
      "metadata": {
        "id": "hYbKWMvld7FE"
      },
      "source": [
        "#교집합 (intersection)\n",
        "- 교집합은 집합 A와 B가 주어졌을 때 공통된 요소를 말함\n",
        "- & 기호나 intersection() 메서드를 활용하여 교집합을 구할 수 있음"
      ]
    },
    {
      "cell_type": "code",
      "metadata": {
        "id": "OETIp1uB47SJ"
      },
      "source": [
        "a = {1, 2, 3, 4, 5}\n",
        "b = {3, 4, 5, 6, 7}"
      ],
      "execution_count": null,
      "outputs": []
    },
    {
      "cell_type": "code",
      "metadata": {
        "colab": {
          "base_uri": "https://localhost:8080/"
        },
        "id": "Jpeb5GoQ5FQC",
        "outputId": "bf4265ec-34cf-468e-af96-c8022b7243ab"
      },
      "source": [
        "a & b"
      ],
      "execution_count": null,
      "outputs": [
        {
          "output_type": "execute_result",
          "data": {
            "text/plain": [
              "{3, 4, 5}"
            ]
          },
          "metadata": {
            "tags": []
          },
          "execution_count": 141
        }
      ]
    },
    {
      "cell_type": "code",
      "metadata": {
        "colab": {
          "base_uri": "https://localhost:8080/"
        },
        "id": "QZycvfMe5HVK",
        "outputId": "d50368f4-1942-4e95-a4b7-ab35674568b0"
      },
      "source": [
        "a.intersection(b)"
      ],
      "execution_count": null,
      "outputs": [
        {
          "output_type": "execute_result",
          "data": {
            "text/plain": [
              "{3, 4, 5}"
            ]
          },
          "metadata": {
            "tags": []
          },
          "execution_count": 143
        }
      ]
    },
    {
      "cell_type": "markdown",
      "metadata": {
        "id": "3dNVYS4YeHnd"
      },
      "source": [
        "#합집합 (union)\n",
        "- 합집합은 집합 A와 B가 주어졌을 때 집합 A, B 요소 모두를 포함하는 것을 말함\n",
        "- |기호나 union() 메서드를 활용하여 합집합을 구할 수 있음"
      ]
    },
    {
      "cell_type": "code",
      "metadata": {
        "id": "p_OrfSYh5MZC"
      },
      "source": [
        "a = {1, 2, 3, 4, 5}\n",
        "b = {3, 4, 5, 6, 7}"
      ],
      "execution_count": null,
      "outputs": []
    },
    {
      "cell_type": "code",
      "metadata": {
        "colab": {
          "base_uri": "https://localhost:8080/"
        },
        "id": "0f4J0KQ-5a5K",
        "outputId": "2d2fda36-6c60-43ba-a436-eb99e38ac98d"
      },
      "source": [
        "a | b"
      ],
      "execution_count": null,
      "outputs": [
        {
          "output_type": "execute_result",
          "data": {
            "text/plain": [
              "{1, 2, 3, 4, 5, 6, 7}"
            ]
          },
          "metadata": {
            "tags": []
          },
          "execution_count": 146
        }
      ]
    },
    {
      "cell_type": "code",
      "metadata": {
        "colab": {
          "base_uri": "https://localhost:8080/"
        },
        "id": "FEFksCtz5dH6",
        "outputId": "56803a3c-de86-4f8c-9ab4-da7a04856d74"
      },
      "source": [
        "a.union(b)"
      ],
      "execution_count": null,
      "outputs": [
        {
          "output_type": "execute_result",
          "data": {
            "text/plain": [
              "{1, 2, 3, 4, 5, 6, 7}"
            ]
          },
          "metadata": {
            "tags": []
          },
          "execution_count": 148
        }
      ]
    },
    {
      "cell_type": "markdown",
      "metadata": {
        "id": "CYg7wJhkeUDl"
      },
      "source": [
        "#차집합 (difference)\n",
        "- 두 집합에서, 하나의 집합에 포함되고 다른 집합에는 포함되지 않는 모든 원소의 집합\n",
        "- -연산자를 활용하거나 difference() 메서드를 활용하여 구할 수 있음"
      ]
    },
    {
      "cell_type": "code",
      "metadata": {
        "id": "NQehQqfw5h96"
      },
      "source": [
        "a = {1, 2, 3, 4, 5}\n",
        "b = {3, 4, 5, 6, 7}"
      ],
      "execution_count": null,
      "outputs": []
    },
    {
      "cell_type": "markdown",
      "metadata": {
        "id": "4mawMrrHedhd"
      },
      "source": [
        "a 집합에서 b 집합을 뺀 차집합"
      ]
    },
    {
      "cell_type": "code",
      "metadata": {
        "colab": {
          "base_uri": "https://localhost:8080/"
        },
        "id": "7b9zF2O35s7Z",
        "outputId": "b27b02c4-d14f-41c5-8808-b79298e3250a"
      },
      "source": [
        "a - b"
      ],
      "execution_count": null,
      "outputs": [
        {
          "output_type": "execute_result",
          "data": {
            "text/plain": [
              "{1, 2}"
            ]
          },
          "metadata": {
            "tags": []
          },
          "execution_count": 150
        }
      ]
    },
    {
      "cell_type": "code",
      "metadata": {
        "colab": {
          "base_uri": "https://localhost:8080/"
        },
        "id": "Bq9BKSFs5-rK",
        "outputId": "08b3fcc7-8036-4c55-90c3-917f779561b4"
      },
      "source": [
        "a.difference(b)"
      ],
      "execution_count": null,
      "outputs": [
        {
          "output_type": "execute_result",
          "data": {
            "text/plain": [
              "{1, 2}"
            ]
          },
          "metadata": {
            "tags": []
          },
          "execution_count": 151
        }
      ]
    },
    {
      "cell_type": "markdown",
      "metadata": {
        "id": "tZXG6w-teiAF"
      },
      "source": [
        "b 집합에서 a 집합을 뺀 차집합"
      ]
    },
    {
      "cell_type": "code",
      "metadata": {
        "colab": {
          "base_uri": "https://localhost:8080/"
        },
        "id": "vR3z6z_Nejx8",
        "outputId": "ccbfcb63-544c-4baf-cd4d-27d422785dc9"
      },
      "source": [
        "b - a"
      ],
      "execution_count": null,
      "outputs": [
        {
          "output_type": "execute_result",
          "data": {
            "text/plain": [
              "{6, 7}"
            ]
          },
          "metadata": {
            "tags": []
          },
          "execution_count": 152
        }
      ]
    },
    {
      "cell_type": "code",
      "metadata": {
        "colab": {
          "base_uri": "https://localhost:8080/"
        },
        "id": "eyFctHeVelus",
        "outputId": "7d1ac3cd-2080-4327-8260-60b1ce09b19c"
      },
      "source": [
        "b.difference(a)"
      ],
      "execution_count": null,
      "outputs": [
        {
          "output_type": "execute_result",
          "data": {
            "text/plain": [
              "{6, 7}"
            ]
          },
          "metadata": {
            "tags": []
          },
          "execution_count": 153
        }
      ]
    },
    {
      "cell_type": "markdown",
      "metadata": {
        "id": "_z7AA1YhenM8"
      },
      "source": [
        "#집합의 타입 변환\n",
        "#set를 list로 변환"
      ]
    },
    {
      "cell_type": "code",
      "metadata": {
        "id": "_5k5XXu46Cri"
      },
      "source": [
        "a = {1, 2, 3, 4, 5}"
      ],
      "execution_count": null,
      "outputs": []
    },
    {
      "cell_type": "code",
      "metadata": {
        "colab": {
          "base_uri": "https://localhost:8080/"
        },
        "id": "FeZ1nNde6LGL",
        "outputId": "0f5255f9-076e-4fdd-f4e0-03d3500663a2"
      },
      "source": [
        "type(a)"
      ],
      "execution_count": null,
      "outputs": [
        {
          "output_type": "execute_result",
          "data": {
            "text/plain": [
              "set"
            ]
          },
          "metadata": {
            "tags": []
          },
          "execution_count": 155
        }
      ]
    },
    {
      "cell_type": "code",
      "metadata": {
        "id": "e5XmNM-ZeuXc"
      },
      "source": [
        "b = list(a)"
      ],
      "execution_count": null,
      "outputs": []
    },
    {
      "cell_type": "code",
      "metadata": {
        "colab": {
          "base_uri": "https://localhost:8080/"
        },
        "id": "XRgnwyo6exD9",
        "outputId": "057bbae4-cae6-454d-be2c-e0ff18cea5ae"
      },
      "source": [
        "b"
      ],
      "execution_count": null,
      "outputs": [
        {
          "output_type": "execute_result",
          "data": {
            "text/plain": [
              "[1, 2, 3, 4, 5]"
            ]
          },
          "metadata": {
            "tags": []
          },
          "execution_count": 157
        }
      ]
    },
    {
      "cell_type": "code",
      "metadata": {
        "colab": {
          "base_uri": "https://localhost:8080/"
        },
        "id": "qziAMuMtex2N",
        "outputId": "3bf42401-dacb-4e7d-bdcc-4794fe2eba23"
      },
      "source": [
        "type(b)"
      ],
      "execution_count": null,
      "outputs": [
        {
          "output_type": "execute_result",
          "data": {
            "text/plain": [
              "list"
            ]
          },
          "metadata": {
            "tags": []
          },
          "execution_count": 158
        }
      ]
    },
    {
      "cell_type": "markdown",
      "metadata": {
        "id": "7h3uolN6ezPc"
      },
      "source": [
        "#list를 set로 변환\n",
        "- 중복을 제거할 때 많이 활용합니다."
      ]
    },
    {
      "cell_type": "code",
      "metadata": {
        "id": "cGC4_upX6Nrr"
      },
      "source": [
        "a = [1, 1, 1, 2, 2, 2, 3, 3, 3]"
      ],
      "execution_count": null,
      "outputs": []
    },
    {
      "cell_type": "code",
      "metadata": {
        "colab": {
          "base_uri": "https://localhost:8080/"
        },
        "id": "oytS59age5Hl",
        "outputId": "d255b188-a719-4d17-9037-4cc4880bce36"
      },
      "source": [
        "a"
      ],
      "execution_count": null,
      "outputs": [
        {
          "output_type": "execute_result",
          "data": {
            "text/plain": [
              "[1, 1, 1, 2, 2, 2, 3, 3, 3]"
            ]
          },
          "metadata": {
            "tags": []
          },
          "execution_count": 161
        }
      ]
    },
    {
      "cell_type": "code",
      "metadata": {
        "colab": {
          "base_uri": "https://localhost:8080/"
        },
        "id": "m4l-ycSf6U_C",
        "outputId": "33800f91-0165-40b5-f584-d8c9e4e4b4bd"
      },
      "source": [
        "type(a)"
      ],
      "execution_count": null,
      "outputs": [
        {
          "output_type": "execute_result",
          "data": {
            "text/plain": [
              "list"
            ]
          },
          "metadata": {
            "tags": []
          },
          "execution_count": 162
        }
      ]
    },
    {
      "cell_type": "code",
      "metadata": {
        "id": "jilvojJEe_xs"
      },
      "source": [
        "b = set(a)"
      ],
      "execution_count": null,
      "outputs": []
    },
    {
      "cell_type": "code",
      "metadata": {
        "colab": {
          "base_uri": "https://localhost:8080/"
        },
        "id": "54dw71W1fA7F",
        "outputId": "0118e37c-bf87-4672-81c5-bfdf06f971f3"
      },
      "source": [
        "b"
      ],
      "execution_count": null,
      "outputs": [
        {
          "output_type": "execute_result",
          "data": {
            "text/plain": [
              "{1, 2, 3}"
            ]
          },
          "metadata": {
            "tags": []
          },
          "execution_count": 164
        }
      ]
    },
    {
      "cell_type": "code",
      "metadata": {
        "colab": {
          "base_uri": "https://localhost:8080/"
        },
        "id": "lwFANyByfBrk",
        "outputId": "c44ed666-8a40-4243-88ee-d1b52d46be6a"
      },
      "source": [
        "type(b)"
      ],
      "execution_count": null,
      "outputs": [
        {
          "output_type": "execute_result",
          "data": {
            "text/plain": [
              "set"
            ]
          },
          "metadata": {
            "tags": []
          },
          "execution_count": 165
        }
      ]
    },
    {
      "cell_type": "markdown",
      "metadata": {
        "id": "p1QhxhGAfC3c"
      },
      "source": [
        "b를 다시 list 자료형으로 변환"
      ]
    },
    {
      "cell_type": "code",
      "metadata": {
        "colab": {
          "base_uri": "https://localhost:8080/"
        },
        "id": "WZrXiFrcfFEM",
        "outputId": "c8b61d49-414a-42bd-9965-e89f4c382cb2"
      },
      "source": [
        "b = list(b)\n",
        "b"
      ],
      "execution_count": null,
      "outputs": [
        {
          "output_type": "execute_result",
          "data": {
            "text/plain": [
              "[1, 2, 3]"
            ]
          },
          "metadata": {
            "tags": []
          },
          "execution_count": 166
        }
      ]
    },
    {
      "cell_type": "markdown",
      "metadata": {
        "id": "zYnQloDrfHrU"
      },
      "source": [
        "#딕셔너리(dictionary)\n",
        "- 순서를 가지지 않음\n",
        "-키(key)와 값(value)의 쌍으로 이루어져 있음\n",
        "-type은 dict로 표시\n",
        "-key를 사용하여 값을 조회할 수 있음\n",
        "-딕셔너리는 수정, 삭제, 추가가 가능\n",
        "\n",
        "생성"
      ]
    },
    {
      "cell_type": "code",
      "metadata": {
        "colab": {
          "base_uri": "https://localhost:8080/"
        },
        "id": "ml7ofScF6cST",
        "outputId": "ecb6772e-5693-42e0-abd0-ac15dc25616a"
      },
      "source": [
        "mydict = dict()\n",
        "print(type(mydict))\n",
        "mydict"
      ],
      "execution_count": null,
      "outputs": [
        {
          "output_type": "stream",
          "text": [
            "<class 'dict'>\n"
          ],
          "name": "stdout"
        },
        {
          "output_type": "execute_result",
          "data": {
            "text/plain": [
              "{}"
            ]
          },
          "metadata": {
            "tags": []
          },
          "execution_count": 167
        }
      ]
    },
    {
      "cell_type": "code",
      "metadata": {
        "colab": {
          "base_uri": "https://localhost:8080/"
        },
        "id": "Dl5FHmcX69db",
        "outputId": "00676293-6f6c-46cc-ced4-b12fd929a47f"
      },
      "source": [
        "mydict = {'a': 1, 'b': 2, 'c':3}\n",
        "mydict"
      ],
      "execution_count": null,
      "outputs": [
        {
          "output_type": "execute_result",
          "data": {
            "text/plain": [
              "{'a': 1, 'b': 2, 'c': 3}"
            ]
          },
          "metadata": {
            "tags": []
          },
          "execution_count": 169
        }
      ]
    },
    {
      "cell_type": "markdown",
      "metadata": {
        "id": "6IMWBsa6ffLl"
      },
      "source": [
        "딕셔너리는 여러 타입의 key를 가질 수 있음"
      ]
    },
    {
      "cell_type": "code",
      "metadata": {
        "colab": {
          "base_uri": "https://localhost:8080/"
        },
        "id": "0WWb8bLafibM",
        "outputId": "0e2437d2-6387-49ce-fc4a-fab7bf2dc035"
      },
      "source": [
        "mydict = {'a': 1, '가':2, 100: 3, 3.14: 4, True: 5}\n",
        "mydict"
      ],
      "execution_count": null,
      "outputs": [
        {
          "output_type": "execute_result",
          "data": {
            "text/plain": [
              "{100: 3, 3.14: 4, True: 5, 'a': 1, '가': 2}"
            ]
          },
          "metadata": {
            "tags": []
          },
          "execution_count": 170
        }
      ]
    },
    {
      "cell_type": "markdown",
      "metadata": {
        "id": "WYQWLTVPfj98"
      },
      "source": [
        "#값 조회\n",
        "- key 값으로 값을 조회할 수 있"
      ]
    },
    {
      "cell_type": "code",
      "metadata": {
        "colab": {
          "base_uri": "https://localhost:8080/"
        },
        "id": "XBlE_ccbfkMM",
        "outputId": "3452f15f-b411-4396-831c-ba153f119e9d"
      },
      "source": [
        "mydict = {'a': 1, '가':2, 100: 3, 3.14: 4, True: 5}\n",
        "mydict"
      ],
      "execution_count": null,
      "outputs": [
        {
          "output_type": "execute_result",
          "data": {
            "text/plain": [
              "{100: 3, 3.14: 4, True: 5, 'a': 1, '가': 2}"
            ]
          },
          "metadata": {
            "tags": []
          },
          "execution_count": 171
        }
      ]
    },
    {
      "cell_type": "code",
      "metadata": {
        "colab": {
          "base_uri": "https://localhost:8080/"
        },
        "id": "VYSoF2XN7Zmr",
        "outputId": "3260a3c9-ffc4-4a0a-d2f5-550610f55875"
      },
      "source": [
        "mydict['a']"
      ],
      "execution_count": null,
      "outputs": [
        {
          "output_type": "execute_result",
          "data": {
            "text/plain": [
              "1"
            ]
          },
          "metadata": {
            "tags": []
          },
          "execution_count": 173
        }
      ]
    },
    {
      "cell_type": "markdown",
      "metadata": {
        "id": "3ZYtvlSBftll"
      },
      "source": [
        "key가 없는 경우 Error가 발생"
      ]
    },
    {
      "cell_type": "code",
      "metadata": {
        "colab": {
          "base_uri": "https://localhost:8080/",
          "height": 172
        },
        "id": "Pid1Xt5LfxWt",
        "outputId": "e8628fa1-87db-4cb3-cd6d-b5cbebd2a328"
      },
      "source": [
        "mydict['b']"
      ],
      "execution_count": null,
      "outputs": [
        {
          "output_type": "error",
          "ename": "KeyError",
          "evalue": "ignored",
          "traceback": [
            "\u001b[0;31m---------------------------------------------------------------------------\u001b[0m",
            "\u001b[0;31mKeyError\u001b[0m                                  Traceback (most recent call last)",
            "\u001b[0;32m<ipython-input-174-a8dfdc4bddd9>\u001b[0m in \u001b[0;36m<module>\u001b[0;34m()\u001b[0m\n\u001b[0;32m----> 1\u001b[0;31m \u001b[0mmydict\u001b[0m\u001b[0;34m[\u001b[0m\u001b[0;34m'b'\u001b[0m\u001b[0;34m]\u001b[0m\u001b[0;34m\u001b[0m\u001b[0;34m\u001b[0m\u001b[0m\n\u001b[0m",
            "\u001b[0;31mKeyError\u001b[0m: 'b'"
          ]
        }
      ]
    },
    {
      "cell_type": "code",
      "metadata": {
        "colab": {
          "base_uri": "https://localhost:8080/"
        },
        "id": "NwTADIoe7pbj",
        "outputId": "91a01ee2-3a53-41b7-fe7e-83bae3e8a64d"
      },
      "source": [
        "mydict.get('a')"
      ],
      "execution_count": null,
      "outputs": [
        {
          "output_type": "execute_result",
          "data": {
            "text/plain": [
              "1"
            ]
          },
          "metadata": {
            "tags": []
          },
          "execution_count": 176
        }
      ]
    },
    {
      "cell_type": "markdown",
      "metadata": {
        "id": "5TbAL6jnf158"
      },
      "source": [
        "get()을 사용하면 key가 없는 경우라도 Error가 발생하지 않음 단지 None이 반환됨"
      ]
    },
    {
      "cell_type": "code",
      "metadata": {
        "id": "p7luU1TCf9mM"
      },
      "source": [
        "mydict.get('b')"
      ],
      "execution_count": null,
      "outputs": []
    },
    {
      "cell_type": "markdown",
      "metadata": {
        "id": "-UE6B3Bmf_WE"
      },
      "source": [
        "#keys() : 모든 key 조회"
      ]
    },
    {
      "cell_type": "code",
      "metadata": {
        "colab": {
          "base_uri": "https://localhost:8080/"
        },
        "id": "oXgBzIBngFkd",
        "outputId": "0dd0fe52-9640-41d5-8494-48beca6b865c"
      },
      "source": [
        "mydict = {'a': 100, 'b': 200, 'c': 300, 'd': 400, 'e': 500}\n",
        "mydict"
      ],
      "execution_count": null,
      "outputs": [
        {
          "output_type": "execute_result",
          "data": {
            "text/plain": [
              "{'a': 100, 'b': 200, 'c': 300, 'd': 400, 'e': 500}"
            ]
          },
          "metadata": {
            "tags": []
          },
          "execution_count": 178
        }
      ]
    },
    {
      "cell_type": "code",
      "metadata": {
        "colab": {
          "base_uri": "https://localhost:8080/"
        },
        "id": "wxk5hQr373n7",
        "outputId": "c15a3df0-d1c5-4e9e-fff3-9956f07933b4"
      },
      "source": [
        "mydict.keys()"
      ],
      "execution_count": null,
      "outputs": [
        {
          "output_type": "execute_result",
          "data": {
            "text/plain": [
              "dict_keys(['a', 'b', 'c', 'd', 'e'])"
            ]
          },
          "metadata": {
            "tags": []
          },
          "execution_count": 179
        }
      ]
    },
    {
      "cell_type": "markdown",
      "metadata": {
        "id": "FKmjGyHxgIaf"
      },
      "source": [
        "[참고] dict_keys\n",
        "\n",
        "- dict_keys는 리스트(list)가 아님\n",
        "- 객체(object)로 생성되는데, 이를 list로 변경하기 위해서는 list()로 타입 변환을 하면 됨"
      ]
    },
    {
      "cell_type": "code",
      "metadata": {
        "colab": {
          "base_uri": "https://localhost:8080/"
        },
        "id": "NkSqG-Nk8Xyr",
        "outputId": "45e9da45-3f50-4b7f-be2c-d1e2fe7dd78c"
      },
      "source": [
        "list(mydict.keys())"
      ],
      "execution_count": null,
      "outputs": [
        {
          "output_type": "execute_result",
          "data": {
            "text/plain": [
              "['a', 'b', 'c', 'd', 'e']"
            ]
          },
          "metadata": {
            "tags": []
          },
          "execution_count": 181
        }
      ]
    },
    {
      "cell_type": "markdown",
      "metadata": {
        "id": "BTwacKztgYjF"
      },
      "source": [
        "#values() : 모든 value 조회"
      ]
    },
    {
      "cell_type": "code",
      "metadata": {
        "colab": {
          "base_uri": "https://localhost:8080/"
        },
        "id": "B96KrSRS8lPj",
        "outputId": "1d991bfb-39e2-4dd9-ae29-5c36e6a47196"
      },
      "source": [
        "mydict.values()"
      ],
      "execution_count": null,
      "outputs": [
        {
          "output_type": "execute_result",
          "data": {
            "text/plain": [
              "dict_values([100, 200, 300, 400, 500])"
            ]
          },
          "metadata": {
            "tags": []
          },
          "execution_count": 182
        }
      ]
    },
    {
      "cell_type": "markdown",
      "metadata": {
        "id": "Ah7mrbMmgcl9"
      },
      "source": [
        "#items() : 모든 key, value 조회\n",
        "- key, value가 튜플로 묶여서 조회됩니다."
      ]
    },
    {
      "cell_type": "code",
      "metadata": {
        "colab": {
          "base_uri": "https://localhost:8080/"
        },
        "id": "j5REG3HY8sjz",
        "outputId": "aef42766-0cf1-4c16-dd57-73be6c33da7c"
      },
      "source": [
        "mydict.items()"
      ],
      "execution_count": null,
      "outputs": [
        {
          "output_type": "execute_result",
          "data": {
            "text/plain": [
              "dict_items([('a', 100), ('b', 200), ('c', 300), ('d', 400), ('e', 500)])"
            ]
          },
          "metadata": {
            "tags": []
          },
          "execution_count": 183
        }
      ]
    },
    {
      "cell_type": "code",
      "metadata": {
        "colab": {
          "base_uri": "https://localhost:8080/"
        },
        "id": "lk12JmuQ8yEb",
        "outputId": "1bc33757-30a9-4adb-e890-f847c0a3cc0e"
      },
      "source": [
        "list(mydict.items())"
      ],
      "execution_count": null,
      "outputs": [
        {
          "output_type": "execute_result",
          "data": {
            "text/plain": [
              "[('a', 100), ('b', 200), ('c', 300), ('d', 400), ('e', 500)]"
            ]
          },
          "metadata": {
            "tags": []
          },
          "execution_count": 184
        }
      ]
    },
    {
      "cell_type": "markdown",
      "metadata": {
        "id": "l0YSIqemgmXE"
      },
      "source": [
        "#key 값의 존재 유무 확인"
      ]
    },
    {
      "cell_type": "code",
      "metadata": {
        "colab": {
          "base_uri": "https://localhost:8080/"
        },
        "id": "Snl3WfJO8__r",
        "outputId": "201dcc99-5f7e-4344-9924-cc6def7422fa"
      },
      "source": [
        "'a' in mydict"
      ],
      "execution_count": null,
      "outputs": [
        {
          "output_type": "execute_result",
          "data": {
            "text/plain": [
              "True"
            ]
          },
          "metadata": {
            "tags": []
          },
          "execution_count": 185
        }
      ]
    },
    {
      "cell_type": "code",
      "metadata": {
        "colab": {
          "base_uri": "https://localhost:8080/"
        },
        "id": "v9ZPljxk9Kk7",
        "outputId": "744933b5-b0a1-41fd-949b-1a12e650b4c2"
      },
      "source": [
        "'f' in mydict"
      ],
      "execution_count": null,
      "outputs": [
        {
          "output_type": "execute_result",
          "data": {
            "text/plain": [
              "False"
            ]
          },
          "metadata": {
            "tags": []
          },
          "execution_count": 186
        }
      ]
    },
    {
      "cell_type": "markdown",
      "metadata": {
        "id": "yRT5WkL5grWs"
      },
      "source": [
        "#값을 추가하기\n",
        "- 새로운 key에 값을 대입하여 추가"
      ]
    },
    {
      "cell_type": "code",
      "metadata": {
        "colab": {
          "base_uri": "https://localhost:8080/"
        },
        "id": "MZAhAjFbgx39",
        "outputId": "908b9927-836d-4884-ee05-4c067b6e41ed"
      },
      "source": [
        "mydict = dict()\n",
        "mydict"
      ],
      "execution_count": null,
      "outputs": [
        {
          "output_type": "execute_result",
          "data": {
            "text/plain": [
              "{}"
            ]
          },
          "metadata": {
            "tags": []
          },
          "execution_count": 187
        }
      ]
    },
    {
      "cell_type": "code",
      "metadata": {
        "colab": {
          "base_uri": "https://localhost:8080/"
        },
        "id": "ieuZL4HQ9Rkr",
        "outputId": "25334067-8ecb-4c22-846d-3cb7a070c669"
      },
      "source": [
        "mydict['apple']=123\n",
        "mydict['apple']"
      ],
      "execution_count": null,
      "outputs": [
        {
          "output_type": "execute_result",
          "data": {
            "text/plain": [
              "123"
            ]
          },
          "metadata": {
            "tags": []
          },
          "execution_count": 190
        }
      ]
    },
    {
      "cell_type": "code",
      "metadata": {
        "colab": {
          "base_uri": "https://localhost:8080/"
        },
        "id": "rJAYjXyyhQV2",
        "outputId": "ca82f106-9690-4ece-8464-d0f113646ecc"
      },
      "source": [
        "mydict[0] = 2\n",
        "mydict[0]"
      ],
      "execution_count": null,
      "outputs": [
        {
          "output_type": "execute_result",
          "data": {
            "text/plain": [
              "2"
            ]
          },
          "metadata": {
            "tags": []
          },
          "execution_count": 191
        }
      ]
    },
    {
      "cell_type": "markdown",
      "metadata": {
        "id": "NSHerIu8hSuE"
      },
      "source": [
        "#update() : 다중 업데이트\n",
        "- 값을 한꺼번에 업데이트"
      ]
    },
    {
      "cell_type": "code",
      "metadata": {
        "colab": {
          "base_uri": "https://localhost:8080/"
        },
        "id": "ItaFy8CthcQ8",
        "outputId": "5161810f-dbc2-4ebb-b14b-c9cd6b53ad94"
      },
      "source": [
        "mydict = {'파인애플': 1500, '망고': 3500, '배': 1000}\n",
        "mydict"
      ],
      "execution_count": null,
      "outputs": [
        {
          "output_type": "execute_result",
          "data": {
            "text/plain": [
              "{'망고': 3500, '배': 1000, '파인애플': 1500}"
            ]
          },
          "metadata": {
            "tags": []
          },
          "execution_count": 195
        }
      ]
    },
    {
      "cell_type": "code",
      "metadata": {
        "id": "1s0AJt99hiKN"
      },
      "source": [
        "fruit = {\n",
        "    '사과': 2000, \n",
        "    '딸기': 3000, \n",
        "    '수박': 5000, \n",
        "}"
      ],
      "execution_count": null,
      "outputs": []
    },
    {
      "cell_type": "code",
      "metadata": {
        "colab": {
          "base_uri": "https://localhost:8080/"
        },
        "id": "_0LT_0BQht4l",
        "outputId": "721335ed-446e-437e-922a-d71869d32973"
      },
      "source": [
        "mydict.update(fruit)\n",
        "mydict"
      ],
      "execution_count": null,
      "outputs": [
        {
          "output_type": "execute_result",
          "data": {
            "text/plain": [
              "{'딸기': 3000, '망고': 3500, '배': 1000, '사과': 2000, '수박': 5000, '파인애플': 1500}"
            ]
          },
          "metadata": {
            "tags": []
          },
          "execution_count": 199
        }
      ]
    },
    {
      "cell_type": "markdown",
      "metadata": {
        "id": "V5vPGyCThvHM"
      },
      "source": [
        "#값 변경\n",
        "- key 값에 새로운 값(value)를 대입하여 값을 변경 가능"
      ]
    },
    {
      "cell_type": "code",
      "metadata": {
        "colab": {
          "base_uri": "https://localhost:8080/"
        },
        "id": "S3PUFZ7Xh7mt",
        "outputId": "9342fc2c-6eb0-42e0-c79b-2491a8cbba7c"
      },
      "source": [
        "mydict = {'a': 100, 'b': 200, 'c': 300, 'd': 400, 'e': 500}\n",
        "mydict"
      ],
      "execution_count": null,
      "outputs": [
        {
          "output_type": "execute_result",
          "data": {
            "text/plain": [
              "{'a': 100, 'b': 200, 'c': 300, 'd': 400, 'e': 500}"
            ]
          },
          "metadata": {
            "tags": []
          },
          "execution_count": 200
        }
      ]
    },
    {
      "cell_type": "code",
      "metadata": {
        "id": "iPYOJyK9h83E"
      },
      "source": [
        "mydict['a'] = 900"
      ],
      "execution_count": null,
      "outputs": []
    },
    {
      "cell_type": "code",
      "metadata": {
        "colab": {
          "base_uri": "https://localhost:8080/"
        },
        "id": "n_xJz46nh-O9",
        "outputId": "f3807ac3-9a70-49fa-f211-8ef9f027f0a0"
      },
      "source": [
        "mydict"
      ],
      "execution_count": null,
      "outputs": [
        {
          "output_type": "execute_result",
          "data": {
            "text/plain": [
              "{'a': 900, 'b': 200, 'c': 300, 'd': 400, 'e': 500}"
            ]
          },
          "metadata": {
            "tags": []
          },
          "execution_count": 202
        }
      ]
    },
    {
      "cell_type": "markdown",
      "metadata": {
        "id": "sW7JWsL0iABU"
      },
      "source": [
        "#제거하기 / key 제거"
      ]
    },
    {
      "cell_type": "code",
      "metadata": {
        "colab": {
          "base_uri": "https://localhost:8080/"
        },
        "id": "Fq9pfPBTiGeV",
        "outputId": "3ae9ff5a-534d-41fd-beaf-05ee91f7425c"
      },
      "source": [
        "mydict = {'a': 100, 'b': 200, 'c': 300, 'd': 400, 'e': 500}\n",
        "mydict"
      ],
      "execution_count": null,
      "outputs": [
        {
          "output_type": "execute_result",
          "data": {
            "text/plain": [
              "{'a': 100, 'b': 200, 'c': 300, 'd': 400, 'e': 500}"
            ]
          },
          "metadata": {
            "tags": []
          },
          "execution_count": 205
        }
      ]
    },
    {
      "cell_type": "markdown",
      "metadata": {
        "id": "dvKqdu1IiJ3l"
      },
      "source": [
        "del 값을 제거할 수 있습니다.\n",
        "\n",
        "del에 딕셔너리 key를 지정합니다."
      ]
    },
    {
      "cell_type": "code",
      "metadata": {
        "id": "Joq4MPkoiNrl"
      },
      "source": [
        "del mydict['a']"
      ],
      "execution_count": null,
      "outputs": []
    },
    {
      "cell_type": "code",
      "metadata": {
        "colab": {
          "base_uri": "https://localhost:8080/"
        },
        "id": "9YmF3LyFiPBM",
        "outputId": "16a39866-ab94-45bb-f190-a874c5481fc9"
      },
      "source": [
        "mydict"
      ],
      "execution_count": null,
      "outputs": [
        {
          "output_type": "execute_result",
          "data": {
            "text/plain": [
              "{'b': 200, 'c': 300, 'd': 400, 'e': 500}"
            ]
          },
          "metadata": {
            "tags": []
          },
          "execution_count": 207
        }
      ]
    },
    {
      "cell_type": "markdown",
      "metadata": {
        "id": "M2Sg4A3hiQ20"
      },
      "source": [
        "pop() 에 key를 지정하여 값을 제거 가능\n",
        "\n",
        "제거되는 값의 value를 반환"
      ]
    },
    {
      "cell_type": "code",
      "metadata": {
        "colab": {
          "base_uri": "https://localhost:8080/"
        },
        "id": "BubEWbjwiW6t",
        "outputId": "d8adac0a-9007-45c7-ac2b-26368ac28be2"
      },
      "source": [
        "mydict.pop('b')"
      ],
      "execution_count": null,
      "outputs": [
        {
          "output_type": "execute_result",
          "data": {
            "text/plain": [
              "200"
            ]
          },
          "metadata": {
            "tags": []
          },
          "execution_count": 208
        }
      ]
    },
    {
      "cell_type": "code",
      "metadata": {
        "colab": {
          "base_uri": "https://localhost:8080/"
        },
        "id": "o9_HbVdqiZwU",
        "outputId": "a1e467dc-176f-4288-bc9c-b2abcd5166ea"
      },
      "source": [
        "mydict"
      ],
      "execution_count": null,
      "outputs": [
        {
          "output_type": "execute_result",
          "data": {
            "text/plain": [
              "{'c': 300, 'd': 400, 'e': 500}"
            ]
          },
          "metadata": {
            "tags": []
          },
          "execution_count": 209
        }
      ]
    },
    {
      "cell_type": "markdown",
      "metadata": {
        "id": "a0rQ_igwibx9"
      },
      "source": [
        "#len() : 요소의 개수 파악"
      ]
    },
    {
      "cell_type": "code",
      "metadata": {
        "colab": {
          "base_uri": "https://localhost:8080/"
        },
        "id": "IFSl5hZS9qHs",
        "outputId": "b261619a-b2be-4752-8340-39d8e0008301"
      },
      "source": [
        "len(mydict)"
      ],
      "execution_count": null,
      "outputs": [
        {
          "output_type": "execute_result",
          "data": {
            "text/plain": [
              "3"
            ]
          },
          "metadata": {
            "tags": []
          },
          "execution_count": 211
        }
      ]
    },
    {
      "cell_type": "markdown",
      "metadata": {
        "id": "SDk2FkHHigad"
      },
      "source": [
        "#clear() - 전부 삭제"
      ]
    },
    {
      "cell_type": "code",
      "metadata": {
        "colab": {
          "base_uri": "https://localhost:8080/"
        },
        "id": "AjabG9bCij2F",
        "outputId": "8c76dc0b-99e8-4d1d-c605-6ae33f335d00"
      },
      "source": [
        "mydict = {'a': 100, 'b': 200, 'c': 300, 'd': 400, 'e': 500}\n",
        "mydict"
      ],
      "execution_count": null,
      "outputs": [
        {
          "output_type": "execute_result",
          "data": {
            "text/plain": [
              "{'a': 100, 'b': 200, 'c': 300, 'd': 400, 'e': 500}"
            ]
          },
          "metadata": {
            "tags": []
          },
          "execution_count": 212
        }
      ]
    },
    {
      "cell_type": "code",
      "metadata": {
        "id": "Fg1tAE4G-coz"
      },
      "source": [
        "mydict.clear()"
      ],
      "execution_count": null,
      "outputs": []
    },
    {
      "cell_type": "code",
      "metadata": {
        "id": "VqMOqLGo-jvb",
        "colab": {
          "base_uri": "https://localhost:8080/"
        },
        "outputId": "85dc9919-15d5-4dd1-ea71-7be1d8b9cbc6"
      },
      "source": [
        "mydict"
      ],
      "execution_count": null,
      "outputs": [
        {
          "output_type": "execute_result",
          "data": {
            "text/plain": [
              "{}"
            ]
          },
          "metadata": {
            "tags": []
          },
          "execution_count": 214
        }
      ]
    }
  ]
}