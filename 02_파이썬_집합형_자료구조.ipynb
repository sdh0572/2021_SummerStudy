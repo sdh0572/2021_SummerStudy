{
  "nbformat": 4,
  "nbformat_minor": 0,
  "metadata": {
    "colab": {
      "name": "02-파이썬-집합형 자료구조.ipynb",
      "provenance": [],
      "authorship_tag": "ABX9TyM3xxPddTMSGO52QF4e4JtN",
      "include_colab_link": true
    },
    "kernelspec": {
      "name": "python3",
      "display_name": "Python 3"
    },
    "language_info": {
      "name": "python"
    }
  },
  "cells": [
    {
      "cell_type": "markdown",
      "metadata": {
        "id": "view-in-github",
        "colab_type": "text"
      },
      "source": [
        "<a href=\"https://colab.research.google.com/github/sdh0572/2021_SummerStudy/blob/main/02_%ED%8C%8C%EC%9D%B4%EC%8D%AC_%EC%A7%91%ED%95%A9%ED%98%95_%EC%9E%90%EB%A3%8C%EA%B5%AC%EC%A1%B0.ipynb\" target=\"_parent\"><img src=\"https://colab.research.google.com/assets/colab-badge.svg\" alt=\"Open In Colab\"/></a>"
      ]
    },
    {
      "cell_type": "code",
      "metadata": {
        "colab": {
          "base_uri": "https://localhost:8080/"
        },
        "id": "UhXuCgOvELLB",
        "outputId": "2d9d0871-bed6-4ad1-cd31-56f07914cc3f"
      },
      "source": [
        "mylist = []\n",
        "mylist"
      ],
      "execution_count": null,
      "outputs": [
        {
          "output_type": "execute_result",
          "data": {
            "text/plain": [
              "[]"
            ]
          },
          "metadata": {
            "tags": []
          },
          "execution_count": 1
        }
      ]
    },
    {
      "cell_type": "code",
      "metadata": {
        "colab": {
          "base_uri": "https://localhost:8080/"
        },
        "id": "Z4xWfsr-ES6F",
        "outputId": "1f285511-cf25-446e-cac1-db590171a5e4"
      },
      "source": [
        "mylist = ()\n",
        "mylist"
      ],
      "execution_count": null,
      "outputs": [
        {
          "output_type": "execute_result",
          "data": {
            "text/plain": [
              "()"
            ]
          },
          "metadata": {
            "tags": []
          },
          "execution_count": 2
        }
      ]
    },
    {
      "cell_type": "code",
      "metadata": {
        "colab": {
          "base_uri": "https://localhost:8080/"
        },
        "id": "nJDNeaXrEat1",
        "outputId": "4aef9e61-83de-4d4f-b8ad-2137273a329b"
      },
      "source": [
        "mylist = [1, 2, 3]\n",
        "mylist"
      ],
      "execution_count": null,
      "outputs": [
        {
          "output_type": "execute_result",
          "data": {
            "text/plain": [
              "[1, 2, 3]"
            ]
          },
          "metadata": {
            "tags": []
          },
          "execution_count": 3
        }
      ]
    },
    {
      "cell_type": "code",
      "metadata": {
        "colab": {
          "base_uri": "https://localhost:8080/"
        },
        "id": "WsvRyQQzEvwd",
        "outputId": "93ef3797-d207-4a6e-db88-1f373ed8c2d3"
      },
      "source": [
        "a = [1, 2, 3]\n",
        "a"
      ],
      "execution_count": null,
      "outputs": [
        {
          "output_type": "execute_result",
          "data": {
            "text/plain": [
              "[1, 2, 3]"
            ]
          },
          "metadata": {
            "tags": []
          },
          "execution_count": 6
        }
      ]
    },
    {
      "cell_type": "code",
      "metadata": {
        "colab": {
          "base_uri": "https://localhost:8080/"
        },
        "id": "hRBgyHJXFNKh",
        "outputId": "4ebeb35d-2e6a-4fdc-9318-7817e2421560"
      },
      "source": [
        "mylist. append(1)\n",
        "mylist"
      ],
      "execution_count": null,
      "outputs": [
        {
          "output_type": "execute_result",
          "data": {
            "text/plain": [
              "[1, 2, 3, 1, 0, 0, 1, 1]"
            ]
          },
          "metadata": {
            "tags": []
          },
          "execution_count": 12
        }
      ]
    },
    {
      "cell_type": "code",
      "metadata": {
        "id": "FofcteBfFpiS"
      },
      "source": [
        "mylist = [1, 6, 3, 2, 7, 5, 4]\n",
        "mylist.sort()"
      ],
      "execution_count": null,
      "outputs": []
    },
    {
      "cell_type": "code",
      "metadata": {
        "colab": {
          "base_uri": "https://localhost:8080/"
        },
        "id": "FYfkquEpGpnR",
        "outputId": "f5a82ad3-c5cd-4cc6-9354-d7a948ceffac"
      },
      "source": [
        "mylist"
      ],
      "execution_count": null,
      "outputs": [
        {
          "output_type": "execute_result",
          "data": {
            "text/plain": [
              "[1, 2, 3, 4, 5, 6, 7]"
            ]
          },
          "metadata": {
            "tags": []
          },
          "execution_count": 25
        }
      ]
    },
    {
      "cell_type": "code",
      "metadata": {
        "id": "Qhwu6EvXGKgL"
      },
      "source": [
        "mylist = [1, 6, 3, 2, 7, 5, 4]\n",
        "mylist.sort(reverse=True)"
      ],
      "execution_count": null,
      "outputs": []
    },
    {
      "cell_type": "code",
      "metadata": {
        "colab": {
          "base_uri": "https://localhost:8080/"
        },
        "id": "6rM7HDvbGsl0",
        "outputId": "0ef2baea-419f-44e2-8c8e-5d68effe9089"
      },
      "source": [
        "mylist"
      ],
      "execution_count": null,
      "outputs": [
        {
          "output_type": "execute_result",
          "data": {
            "text/plain": [
              "[7, 6, 5, 4, 3, 2, 1]"
            ]
          },
          "metadata": {
            "tags": []
          },
          "execution_count": 27
        }
      ]
    },
    {
      "cell_type": "code",
      "metadata": {
        "colab": {
          "base_uri": "https://localhost:8080/"
        },
        "id": "Y9aoxvY9Gb-Z",
        "outputId": "0fc869b8-64f5-4d51-8d33-af294623bad6"
      },
      "source": [
        "mylist = [1, 6, 3, 2, 7, 5, 4]\n",
        "sorted(mylist)"
      ],
      "execution_count": null,
      "outputs": [
        {
          "output_type": "execute_result",
          "data": {
            "text/plain": [
              "[1, 2, 3, 4, 5, 6, 7]"
            ]
          },
          "metadata": {
            "tags": []
          },
          "execution_count": 29
        }
      ]
    },
    {
      "cell_type": "code",
      "metadata": {
        "colab": {
          "base_uri": "https://localhost:8080/"
        },
        "id": "DWuM3uH-G4G1",
        "outputId": "de5cb750-4588-46d7-b7db-f93db253ddd7"
      },
      "source": [
        "mylist = [1, 6, 3, 2, 7, 5, 4]\n",
        "sorted(mylist, reverse=True)"
      ],
      "execution_count": null,
      "outputs": [
        {
          "output_type": "execute_result",
          "data": {
            "text/plain": [
              "[7, 6, 5, 4, 3, 2, 1]"
            ]
          },
          "metadata": {
            "tags": []
          },
          "execution_count": 31
        }
      ]
    },
    {
      "cell_type": "code",
      "metadata": {
        "id": "vRKa2L4pHAgn"
      },
      "source": [
        "mylist. reverse()"
      ],
      "execution_count": null,
      "outputs": []
    },
    {
      "cell_type": "code",
      "metadata": {
        "colab": {
          "base_uri": "https://localhost:8080/"
        },
        "id": "8xzEWEPgHIAp",
        "outputId": "54a2d7b2-1412-484d-ad7d-ec7f4c9ff2a2"
      },
      "source": [
        "mylist"
      ],
      "execution_count": null,
      "outputs": [
        {
          "output_type": "execute_result",
          "data": {
            "text/plain": [
              "[4, 5, 7, 2, 3, 6, 1]"
            ]
          },
          "metadata": {
            "tags": []
          },
          "execution_count": 34
        }
      ]
    },
    {
      "cell_type": "code",
      "metadata": {
        "colab": {
          "base_uri": "https://localhost:8080/"
        },
        "id": "gzJjtBDnHTKf",
        "outputId": "bb843d55-38e4-4267-e199-e00f92548cf7"
      },
      "source": [
        "mylist = [1, 6, 3, 2, 7, 5, 4]\n",
        "len(mylist)"
      ],
      "execution_count": null,
      "outputs": [
        {
          "output_type": "execute_result",
          "data": {
            "text/plain": [
              "7"
            ]
          },
          "metadata": {
            "tags": []
          },
          "execution_count": 36
        }
      ]
    },
    {
      "cell_type": "code",
      "metadata": {
        "id": "dwv7pqDxHiYC"
      },
      "source": [
        "mylist. insert(1, 100)"
      ],
      "execution_count": null,
      "outputs": []
    },
    {
      "cell_type": "code",
      "metadata": {
        "colab": {
          "base_uri": "https://localhost:8080/"
        },
        "id": "VoNOt7lZH0Bh",
        "outputId": "ca36bc77-337f-4258-8df6-7ce2b4b29e0d"
      },
      "source": [
        "mylist"
      ],
      "execution_count": null,
      "outputs": [
        {
          "output_type": "execute_result",
          "data": {
            "text/plain": [
              "[1, 100, 6, 3, 2, 7, 5, 4]"
            ]
          },
          "metadata": {
            "tags": []
          },
          "execution_count": 39
        }
      ]
    },
    {
      "cell_type": "code",
      "metadata": {
        "id": "YgQ-vLnmH4RC"
      },
      "source": [
        "mylist. remove(5)"
      ],
      "execution_count": null,
      "outputs": []
    },
    {
      "cell_type": "code",
      "metadata": {
        "colab": {
          "base_uri": "https://localhost:8080/"
        },
        "id": "GpCbkPtiIAC6",
        "outputId": "2342a0f6-dda4-4dd6-9e4e-4b6083c2ee55"
      },
      "source": [
        "mylist"
      ],
      "execution_count": null,
      "outputs": [
        {
          "output_type": "execute_result",
          "data": {
            "text/plain": [
              "[1, 100, 6, 3, 2, 7, 4]"
            ]
          },
          "metadata": {
            "tags": []
          },
          "execution_count": 41
        }
      ]
    },
    {
      "cell_type": "code",
      "metadata": {
        "colab": {
          "base_uri": "https://localhost:8080/"
        },
        "id": "q0J2Q-g-IBxc",
        "outputId": "39b56578-750f-48d4-864e-413cf8d8dbf0"
      },
      "source": [
        "mylist.pop(1)"
      ],
      "execution_count": null,
      "outputs": [
        {
          "output_type": "execute_result",
          "data": {
            "text/plain": [
              "100"
            ]
          },
          "metadata": {
            "tags": []
          },
          "execution_count": 42
        }
      ]
    },
    {
      "cell_type": "code",
      "metadata": {
        "id": "L2xWnbYzIJTL"
      },
      "source": [
        "mylist = [100, 200, 300, 400]\n",
        "\n",
        "del mylist(1)\n",
        "print(mylist)\n",
        "del mylist[0]\n",
        "print(mylist)"
      ],
      "execution_count": null,
      "outputs": []
    },
    {
      "cell_type": "code",
      "metadata": {
        "id": "3LKAQDDSIeTY"
      },
      "source": [
        "a = [1, 1, 1, 1, 1, 2, 2, 4]"
      ],
      "execution_count": null,
      "outputs": []
    },
    {
      "cell_type": "code",
      "metadata": {
        "colab": {
          "base_uri": "https://localhost:8080/"
        },
        "id": "cs7ehyZSI03z",
        "outputId": "056e0323-caee-403b-91f7-9e0cc05e5af2"
      },
      "source": [
        "a.count(1)"
      ],
      "execution_count": null,
      "outputs": [
        {
          "output_type": "execute_result",
          "data": {
            "text/plain": [
              "5"
            ]
          },
          "metadata": {
            "tags": []
          },
          "execution_count": 45
        }
      ]
    },
    {
      "cell_type": "code",
      "metadata": {
        "id": "dRNI0N40I340"
      },
      "source": [
        "a = [1, 2, 3]"
      ],
      "execution_count": null,
      "outputs": []
    },
    {
      "cell_type": "code",
      "metadata": {
        "colab": {
          "base_uri": "https://localhost:8080/"
        },
        "id": "H-0Dh51YI8Id",
        "outputId": "19da7829-2d24-4593-b8a9-e0bce1c7a321"
      },
      "source": [
        "a. extend([4, 5])\n",
        "a"
      ],
      "execution_count": null,
      "outputs": [
        {
          "output_type": "execute_result",
          "data": {
            "text/plain": [
              "[1, 2, 3, 4, 5, 4, 5, 4, 5]"
            ]
          },
          "metadata": {
            "tags": []
          },
          "execution_count": 49
        }
      ]
    },
    {
      "cell_type": "code",
      "metadata": {
        "id": "Go2KuqsTJKgP"
      },
      "source": [
        "mylist = [1, 2, 3, 4]"
      ],
      "execution_count": null,
      "outputs": []
    },
    {
      "cell_type": "code",
      "metadata": {
        "colab": {
          "base_uri": "https://localhost:8080/"
        },
        "id": "_zXiYBsDJWOT",
        "outputId": "c1182bc7-ba39-4adb-fd78-41f2afcb093a"
      },
      "source": [
        "mylist[0]"
      ],
      "execution_count": null,
      "outputs": [
        {
          "output_type": "execute_result",
          "data": {
            "text/plain": [
              "1"
            ]
          },
          "metadata": {
            "tags": []
          },
          "execution_count": 51
        }
      ]
    },
    {
      "cell_type": "code",
      "metadata": {
        "id": "gGc03bDHJbV9"
      },
      "source": [
        "mylist = [['가', '나', '다'],[4, 5, 6], 7, 8, 9]"
      ],
      "execution_count": null,
      "outputs": []
    },
    {
      "cell_type": "code",
      "metadata": {
        "colab": {
          "base_uri": "https://localhost:8080/"
        },
        "id": "56sz_u4AKt7e",
        "outputId": "f60112bf-ff94-44ce-b7b6-a4013f83aa4d"
      },
      "source": [
        "mylist"
      ],
      "execution_count": null,
      "outputs": [
        {
          "output_type": "execute_result",
          "data": {
            "text/plain": [
              "[['가', '나', '다'], [4, 5, 6], 7, 8, 9]"
            ]
          },
          "metadata": {
            "tags": []
          },
          "execution_count": 54
        }
      ]
    },
    {
      "cell_type": "code",
      "metadata": {
        "colab": {
          "base_uri": "https://localhost:8080/"
        },
        "id": "UfBhmZfeKveC",
        "outputId": "4f2aedd8-7696-4cfd-ad01-02c616e33e7f"
      },
      "source": [
        "mylist[1]"
      ],
      "execution_count": null,
      "outputs": [
        {
          "output_type": "execute_result",
          "data": {
            "text/plain": [
              "[4, 5, 6]"
            ]
          },
          "metadata": {
            "tags": []
          },
          "execution_count": 55
        }
      ]
    },
    {
      "cell_type": "code",
      "metadata": {
        "colab": {
          "base_uri": "https://localhost:8080/"
        },
        "id": "1JqGiavZK0bI",
        "outputId": "c7e86dea-5861-46ef-9815-deae65aede0a"
      },
      "source": [
        "mylist[4]"
      ],
      "execution_count": null,
      "outputs": [
        {
          "output_type": "execute_result",
          "data": {
            "text/plain": [
              "9"
            ]
          },
          "metadata": {
            "tags": []
          },
          "execution_count": 57
        }
      ]
    },
    {
      "cell_type": "code",
      "metadata": {
        "colab": {
          "base_uri": "https://localhost:8080/"
        },
        "id": "JDIvVed3LYxE",
        "outputId": "8f22d09c-2319-48a6-efcb-fa1a3d8175c7"
      },
      "source": [
        "mylist[1][1]"
      ],
      "execution_count": null,
      "outputs": [
        {
          "output_type": "execute_result",
          "data": {
            "text/plain": [
              "5"
            ]
          },
          "metadata": {
            "tags": []
          },
          "execution_count": 60
        }
      ]
    },
    {
      "cell_type": "code",
      "metadata": {
        "id": "c8XX5IMALzOM"
      },
      "source": [
        "mylist = [100, 200, 300, 400, 500]"
      ],
      "execution_count": null,
      "outputs": []
    },
    {
      "cell_type": "code",
      "metadata": {
        "colab": {
          "base_uri": "https://localhost:8080/"
        },
        "id": "ENU_zzreL-I2",
        "outputId": "13110fc5-2c0e-4e14-f902-d78ddf22d909"
      },
      "source": [
        "mylist[:]"
      ],
      "execution_count": null,
      "outputs": [
        {
          "output_type": "execute_result",
          "data": {
            "text/plain": [
              "[100, 200, 300, 400, 500]"
            ]
          },
          "metadata": {
            "tags": []
          },
          "execution_count": 62
        }
      ]
    },
    {
      "cell_type": "code",
      "metadata": {
        "colab": {
          "base_uri": "https://localhost:8080/"
        },
        "id": "Oep_r_GxMBQY",
        "outputId": "6a504e13-5217-4790-9892-dfec0b527e54"
      },
      "source": [
        "mylist[2:]"
      ],
      "execution_count": null,
      "outputs": [
        {
          "output_type": "execute_result",
          "data": {
            "text/plain": [
              "[300, 400, 500]"
            ]
          },
          "metadata": {
            "tags": []
          },
          "execution_count": 63
        }
      ]
    },
    {
      "cell_type": "code",
      "metadata": {
        "colab": {
          "base_uri": "https://localhost:8080/"
        },
        "id": "E4RsNsjUMNVC",
        "outputId": "f1b6140e-5263-40d2-c850-d52e7a251b08"
      },
      "source": [
        "mylist[-3:]"
      ],
      "execution_count": null,
      "outputs": [
        {
          "output_type": "execute_result",
          "data": {
            "text/plain": [
              "[300, 400, 500]"
            ]
          },
          "metadata": {
            "tags": []
          },
          "execution_count": 65
        }
      ]
    },
    {
      "cell_type": "code",
      "metadata": {
        "colab": {
          "base_uri": "https://localhost:8080/"
        },
        "id": "PUkG0o6sMQiH",
        "outputId": "d1c19066-bb23-4dcb-da5b-d6f0e928ca7e"
      },
      "source": [
        "mylist[:3]"
      ],
      "execution_count": null,
      "outputs": [
        {
          "output_type": "execute_result",
          "data": {
            "text/plain": [
              "[100, 200, 300]"
            ]
          },
          "metadata": {
            "tags": []
          },
          "execution_count": 66
        }
      ]
    },
    {
      "cell_type": "code",
      "metadata": {
        "colab": {
          "base_uri": "https://localhost:8080/"
        },
        "id": "1NBX4cscMX8p",
        "outputId": "964dba73-a9a7-4c33-e86f-1f0d00fd3b87"
      },
      "source": [
        "mylist[1:3]"
      ],
      "execution_count": null,
      "outputs": [
        {
          "output_type": "execute_result",
          "data": {
            "text/plain": [
              "[200, 300]"
            ]
          },
          "metadata": {
            "tags": []
          },
          "execution_count": 68
        }
      ]
    },
    {
      "cell_type": "code",
      "metadata": {
        "colab": {
          "base_uri": "https://localhost:8080/"
        },
        "id": "XYN6SlmkMk6g",
        "outputId": "5aa3ddbc-ab34-41db-f73e-b798dfb3d008"
      },
      "source": [
        "mylist[::2]"
      ],
      "execution_count": null,
      "outputs": [
        {
          "output_type": "execute_result",
          "data": {
            "text/plain": [
              "[100, 300, 500]"
            ]
          },
          "metadata": {
            "tags": []
          },
          "execution_count": 70
        }
      ]
    },
    {
      "cell_type": "code",
      "metadata": {
        "colab": {
          "base_uri": "https://localhost:8080/"
        },
        "id": "8-PBAuT5M5R3",
        "outputId": "d4b497e3-e452-4015-a7b7-1d3296dd8d85"
      },
      "source": [
        "mylist[::-1]"
      ],
      "execution_count": null,
      "outputs": [
        {
          "output_type": "execute_result",
          "data": {
            "text/plain": [
              "[500, 400, 300, 200, 100]"
            ]
          },
          "metadata": {
            "tags": []
          },
          "execution_count": 72
        }
      ]
    },
    {
      "cell_type": "code",
      "metadata": {
        "colab": {
          "base_uri": "https://localhost:8080/"
        },
        "id": "ZOrW1IMbNBfm",
        "outputId": "63db9560-b4c6-4bcb-908d-32e964e8bcf9"
      },
      "source": [
        "mylist[::-2]"
      ],
      "execution_count": null,
      "outputs": [
        {
          "output_type": "execute_result",
          "data": {
            "text/plain": [
              "[500, 300, 100]"
            ]
          },
          "metadata": {
            "tags": []
          },
          "execution_count": 73
        }
      ]
    },
    {
      "cell_type": "code",
      "metadata": {
        "id": "g24nbKgaNE06"
      },
      "source": [
        "a = [1, 2, 3, 4]\n",
        "b = [5, 6, 7, 8]"
      ],
      "execution_count": null,
      "outputs": []
    },
    {
      "cell_type": "code",
      "metadata": {
        "colab": {
          "base_uri": "https://localhost:8080/"
        },
        "id": "HaSZWRm-NQ95",
        "outputId": "51822390-9b4d-4e57-8265-3f64162008f8"
      },
      "source": [
        "a+b"
      ],
      "execution_count": null,
      "outputs": [
        {
          "output_type": "execute_result",
          "data": {
            "text/plain": [
              "[1, 2, 3, 4, 5, 6, 7, 8]"
            ]
          },
          "metadata": {
            "tags": []
          },
          "execution_count": 75
        }
      ]
    },
    {
      "cell_type": "code",
      "metadata": {
        "colab": {
          "base_uri": "https://localhost:8080/"
        },
        "id": "LPTNRUW4NS6Y",
        "outputId": "50aad6bd-1320-4a0a-c2f5-eaf87a492aca"
      },
      "source": [
        "a * 2"
      ],
      "execution_count": null,
      "outputs": [
        {
          "output_type": "execute_result",
          "data": {
            "text/plain": [
              "[1, 2, 3, 4, 1, 2, 3, 4]"
            ]
          },
          "metadata": {
            "tags": []
          },
          "execution_count": 77
        }
      ]
    },
    {
      "cell_type": "code",
      "metadata": {
        "colab": {
          "base_uri": "https://localhost:8080/"
        },
        "id": "NBuiS974NXPV",
        "outputId": "d94d97fd-5508-489a-eaa2-5b93420bb322"
      },
      "source": [
        "b * 4"
      ],
      "execution_count": null,
      "outputs": [
        {
          "output_type": "execute_result",
          "data": {
            "text/plain": [
              "[5, 6, 7, 8, 5, 6, 7, 8, 5, 6, 7, 8, 5, 6, 7, 8]"
            ]
          },
          "metadata": {
            "tags": []
          },
          "execution_count": 79
        }
      ]
    },
    {
      "cell_type": "code",
      "metadata": {
        "colab": {
          "base_uri": "https://localhost:8080/"
        },
        "id": "jHI20-x1NoMj",
        "outputId": "fd2e841e-a067-4234-ed83-8e6a6741927a"
      },
      "source": [
        "mytuple=(1, 2, 3)\n",
        "mytuple"
      ],
      "execution_count": null,
      "outputs": [
        {
          "output_type": "execute_result",
          "data": {
            "text/plain": [
              "(1, 2, 3)"
            ]
          },
          "metadata": {
            "tags": []
          },
          "execution_count": 1
        }
      ]
    },
    {
      "cell_type": "code",
      "metadata": {
        "colab": {
          "base_uri": "https://localhost:8080/"
        },
        "id": "OvW_hm4k3TSz",
        "outputId": "0f9686fa-59be-4f1a-9337-dd403f4c8902"
      },
      "source": [
        "myset = set()\n",
        "myset"
      ],
      "execution_count": null,
      "outputs": [
        {
          "output_type": "execute_result",
          "data": {
            "text/plain": [
              "set()"
            ]
          },
          "metadata": {
            "tags": []
          },
          "execution_count": 2
        }
      ]
    },
    {
      "cell_type": "code",
      "metadata": {
        "colab": {
          "base_uri": "https://localhost:8080/"
        },
        "id": "YUB4-cey33Ea",
        "outputId": "e250f40a-28ce-4881-cc42-98e9cfb20818"
      },
      "source": [
        "myset = set([1, 1, 1, 2, 2, 2, 3, 3, 3])\n",
        "myset"
      ],
      "execution_count": null,
      "outputs": [
        {
          "output_type": "execute_result",
          "data": {
            "text/plain": [
              "{1, 2, 3}"
            ]
          },
          "metadata": {
            "tags": []
          },
          "execution_count": 3
        }
      ]
    },
    {
      "cell_type": "code",
      "metadata": {
        "id": "ufP2IG-F4Cny"
      },
      "source": [
        "myset = set()"
      ],
      "execution_count": null,
      "outputs": []
    },
    {
      "cell_type": "code",
      "metadata": {
        "id": "s5ePbIyB4LTq"
      },
      "source": [
        "myset.add(1)\n",
        "myset.add(2)\n",
        "myset.add(3)\n",
        "\n",
        "myset.add(1)\n",
        "myset.add(2)\n",
        "myset.add(3)\n",
        "\n",
        "myset.add(1)\n",
        "myset.add(2)\n",
        "myset.add(3)"
      ],
      "execution_count": null,
      "outputs": []
    },
    {
      "cell_type": "code",
      "metadata": {
        "colab": {
          "base_uri": "https://localhost:8080/"
        },
        "id": "eCft81Jk4W_6",
        "outputId": "ad99c723-258c-45e0-c298-2f20bb4f543b"
      },
      "source": [
        "myset"
      ],
      "execution_count": null,
      "outputs": [
        {
          "output_type": "execute_result",
          "data": {
            "text/plain": [
              "{1, 2, 3}"
            ]
          },
          "metadata": {
            "tags": []
          },
          "execution_count": 8
        }
      ]
    },
    {
      "cell_type": "code",
      "metadata": {
        "id": "UKOUfr0B4orZ"
      },
      "source": [
        "myset = {1, 2, 3, 4, 5}"
      ],
      "execution_count": null,
      "outputs": []
    },
    {
      "cell_type": "code",
      "metadata": {
        "colab": {
          "base_uri": "https://localhost:8080/"
        },
        "id": "8uzSzgjC4zRh",
        "outputId": "14ca1569-be9b-49ac-d638-8370cfbfcf9c"
      },
      "source": [
        "myset.remove(2)\n",
        "myset"
      ],
      "execution_count": null,
      "outputs": [
        {
          "output_type": "execute_result",
          "data": {
            "text/plain": [
              "{1, 3, 4, 5}"
            ]
          },
          "metadata": {
            "tags": []
          },
          "execution_count": 13
        }
      ]
    },
    {
      "cell_type": "code",
      "metadata": {
        "id": "OETIp1uB47SJ"
      },
      "source": [
        "a = {1, 2, 3, 4, 5}\n",
        "b = {3, 4, 5, 6, 7}"
      ],
      "execution_count": null,
      "outputs": []
    },
    {
      "cell_type": "code",
      "metadata": {
        "colab": {
          "base_uri": "https://localhost:8080/"
        },
        "id": "Jpeb5GoQ5FQC",
        "outputId": "f24188e1-4364-4459-ce4d-2caa560741d9"
      },
      "source": [
        "a & b"
      ],
      "execution_count": null,
      "outputs": [
        {
          "output_type": "execute_result",
          "data": {
            "text/plain": [
              "{3, 4, 5}"
            ]
          },
          "metadata": {
            "tags": []
          },
          "execution_count": 15
        }
      ]
    },
    {
      "cell_type": "code",
      "metadata": {
        "colab": {
          "base_uri": "https://localhost:8080/"
        },
        "id": "QZycvfMe5HVK",
        "outputId": "ca97952e-9d78-44af-e665-c3b1ef0ee403"
      },
      "source": [
        "a.intersection(b)"
      ],
      "execution_count": null,
      "outputs": [
        {
          "output_type": "execute_result",
          "data": {
            "text/plain": [
              "{3, 4, 5}"
            ]
          },
          "metadata": {
            "tags": []
          },
          "execution_count": 16
        }
      ]
    },
    {
      "cell_type": "code",
      "metadata": {
        "id": "p_OrfSYh5MZC"
      },
      "source": [
        "a = {1, 2, 3, 4, 5}\n",
        "b = {3, 4, 5, 6, 7}"
      ],
      "execution_count": null,
      "outputs": []
    },
    {
      "cell_type": "code",
      "metadata": {
        "colab": {
          "base_uri": "https://localhost:8080/"
        },
        "id": "0f4J0KQ-5a5K",
        "outputId": "39d79c69-2536-4c5a-9a28-b5f4c6a329e9"
      },
      "source": [
        "a | b"
      ],
      "execution_count": null,
      "outputs": [
        {
          "output_type": "execute_result",
          "data": {
            "text/plain": [
              "{1, 2, 3, 4, 5, 6, 7}"
            ]
          },
          "metadata": {
            "tags": []
          },
          "execution_count": 18
        }
      ]
    },
    {
      "cell_type": "code",
      "metadata": {
        "colab": {
          "base_uri": "https://localhost:8080/"
        },
        "id": "FEFksCtz5dH6",
        "outputId": "7bdaab63-769f-4353-aa97-50689408d8e5"
      },
      "source": [
        "a.union(b)"
      ],
      "execution_count": null,
      "outputs": [
        {
          "output_type": "execute_result",
          "data": {
            "text/plain": [
              "{1, 2, 3, 4, 5, 6, 7}"
            ]
          },
          "metadata": {
            "tags": []
          },
          "execution_count": 19
        }
      ]
    },
    {
      "cell_type": "code",
      "metadata": {
        "id": "NQehQqfw5h96"
      },
      "source": [
        "a = {1, 2, 3, 4, 5}\n",
        "b = {3, 4, 5, 6, 7}"
      ],
      "execution_count": null,
      "outputs": []
    },
    {
      "cell_type": "code",
      "metadata": {
        "colab": {
          "base_uri": "https://localhost:8080/"
        },
        "id": "7b9zF2O35s7Z",
        "outputId": "d7a8d8ef-87a3-4a82-ce07-bd61bfa1fe93"
      },
      "source": [
        "a - b"
      ],
      "execution_count": null,
      "outputs": [
        {
          "output_type": "execute_result",
          "data": {
            "text/plain": [
              "{1, 2}"
            ]
          },
          "metadata": {
            "tags": []
          },
          "execution_count": 22
        }
      ]
    },
    {
      "cell_type": "code",
      "metadata": {
        "colab": {
          "base_uri": "https://localhost:8080/"
        },
        "id": "Bq9BKSFs5-rK",
        "outputId": "b2eb7753-9aa3-43a4-ecbb-4536c9374774"
      },
      "source": [
        "a.difference(b)"
      ],
      "execution_count": null,
      "outputs": [
        {
          "output_type": "execute_result",
          "data": {
            "text/plain": [
              "{1, 2}"
            ]
          },
          "metadata": {
            "tags": []
          },
          "execution_count": 23
        }
      ]
    },
    {
      "cell_type": "code",
      "metadata": {
        "id": "_5k5XXu46Cri"
      },
      "source": [
        "a = {1, 2, 3, 4, 5}"
      ],
      "execution_count": null,
      "outputs": []
    },
    {
      "cell_type": "code",
      "metadata": {
        "colab": {
          "base_uri": "https://localhost:8080/"
        },
        "id": "FeZ1nNde6LGL",
        "outputId": "261ddd48-e83b-4915-9dec-38e0f8100828"
      },
      "source": [
        "type(a)"
      ],
      "execution_count": null,
      "outputs": [
        {
          "output_type": "execute_result",
          "data": {
            "text/plain": [
              "set"
            ]
          },
          "metadata": {
            "tags": []
          },
          "execution_count": 25
        }
      ]
    },
    {
      "cell_type": "code",
      "metadata": {
        "id": "cGC4_upX6Nrr"
      },
      "source": [
        "a = [1, 1, 1, 2, 2, 2, 3, 3, 3]"
      ],
      "execution_count": null,
      "outputs": []
    },
    {
      "cell_type": "code",
      "metadata": {
        "colab": {
          "base_uri": "https://localhost:8080/"
        },
        "id": "m4l-ycSf6U_C",
        "outputId": "a3a7abd1-88df-414c-a420-9241dbaa43c6"
      },
      "source": [
        "type(a)"
      ],
      "execution_count": null,
      "outputs": [
        {
          "output_type": "execute_result",
          "data": {
            "text/plain": [
              "list"
            ]
          },
          "metadata": {
            "tags": []
          },
          "execution_count": 27
        }
      ]
    },
    {
      "cell_type": "code",
      "metadata": {
        "colab": {
          "base_uri": "https://localhost:8080/"
        },
        "id": "ml7ofScF6cST",
        "outputId": "d6e2abae-0133-4b30-f475-abf62686db6f"
      },
      "source": [
        "mydict = dict()\n",
        "print(type(mydict))\n",
        "mydict"
      ],
      "execution_count": null,
      "outputs": [
        {
          "output_type": "stream",
          "text": [
            "<class 'dict'>\n"
          ],
          "name": "stdout"
        },
        {
          "output_type": "execute_result",
          "data": {
            "text/plain": [
              "{}"
            ]
          },
          "metadata": {
            "tags": []
          },
          "execution_count": 28
        }
      ]
    },
    {
      "cell_type": "code",
      "metadata": {
        "colab": {
          "base_uri": "https://localhost:8080/"
        },
        "id": "Dl5FHmcX69db",
        "outputId": "bdc28f70-9942-4ab2-b515-297b23411ba7"
      },
      "source": [
        "mydict = {'a': 1, 'b': 2, 'c':3}\n",
        "mydict"
      ],
      "execution_count": null,
      "outputs": [
        {
          "output_type": "execute_result",
          "data": {
            "text/plain": [
              "{'a': 1, 'b': 2, 'c': 3}"
            ]
          },
          "metadata": {
            "tags": []
          },
          "execution_count": 29
        }
      ]
    },
    {
      "cell_type": "code",
      "metadata": {
        "colab": {
          "base_uri": "https://localhost:8080/"
        },
        "id": "VYSoF2XN7Zmr",
        "outputId": "19d53fc4-decb-4ee0-d379-518860d68b51"
      },
      "source": [
        "mydict['a']"
      ],
      "execution_count": null,
      "outputs": [
        {
          "output_type": "execute_result",
          "data": {
            "text/plain": [
              "1"
            ]
          },
          "metadata": {
            "tags": []
          },
          "execution_count": 30
        }
      ]
    },
    {
      "cell_type": "code",
      "metadata": {
        "colab": {
          "base_uri": "https://localhost:8080/"
        },
        "id": "NwTADIoe7pbj",
        "outputId": "57cc6d59-b9b1-4aa2-bda0-f71533003be1"
      },
      "source": [
        "mydict.get('a')"
      ],
      "execution_count": null,
      "outputs": [
        {
          "output_type": "execute_result",
          "data": {
            "text/plain": [
              "1"
            ]
          },
          "metadata": {
            "tags": []
          },
          "execution_count": 31
        }
      ]
    },
    {
      "cell_type": "code",
      "metadata": {
        "colab": {
          "base_uri": "https://localhost:8080/"
        },
        "id": "wxk5hQr373n7",
        "outputId": "d2bebd3b-808b-4965-92f7-9b1595208766"
      },
      "source": [
        "mydict.keys()"
      ],
      "execution_count": null,
      "outputs": [
        {
          "output_type": "execute_result",
          "data": {
            "text/plain": [
              "dict_keys(['a', 'b', 'c'])"
            ]
          },
          "metadata": {
            "tags": []
          },
          "execution_count": 32
        }
      ]
    },
    {
      "cell_type": "code",
      "metadata": {
        "colab": {
          "base_uri": "https://localhost:8080/"
        },
        "id": "NkSqG-Nk8Xyr",
        "outputId": "23dfdfb3-4983-4b4f-e092-2627882b0de2"
      },
      "source": [
        "list(mydict.keys())"
      ],
      "execution_count": null,
      "outputs": [
        {
          "output_type": "execute_result",
          "data": {
            "text/plain": [
              "['a', 'b', 'c']"
            ]
          },
          "metadata": {
            "tags": []
          },
          "execution_count": 34
        }
      ]
    },
    {
      "cell_type": "code",
      "metadata": {
        "colab": {
          "base_uri": "https://localhost:8080/"
        },
        "id": "B96KrSRS8lPj",
        "outputId": "8074e21b-6481-424a-91c7-b52cb14de119"
      },
      "source": [
        "mydict.values()"
      ],
      "execution_count": null,
      "outputs": [
        {
          "output_type": "execute_result",
          "data": {
            "text/plain": [
              "dict_values([1, 2, 3])"
            ]
          },
          "metadata": {
            "tags": []
          },
          "execution_count": 35
        }
      ]
    },
    {
      "cell_type": "code",
      "metadata": {
        "colab": {
          "base_uri": "https://localhost:8080/"
        },
        "id": "j5REG3HY8sjz",
        "outputId": "7ad3ce26-2ecb-4cad-c0ea-cf9b4c057eaf"
      },
      "source": [
        "mydict.items()"
      ],
      "execution_count": null,
      "outputs": [
        {
          "output_type": "execute_result",
          "data": {
            "text/plain": [
              "dict_items([('a', 1), ('b', 2), ('c', 3)])"
            ]
          },
          "metadata": {
            "tags": []
          },
          "execution_count": 36
        }
      ]
    },
    {
      "cell_type": "code",
      "metadata": {
        "colab": {
          "base_uri": "https://localhost:8080/"
        },
        "id": "lk12JmuQ8yEb",
        "outputId": "7c0da237-f34a-46ab-9afa-73d54eec0480"
      },
      "source": [
        "list(mydict.items())"
      ],
      "execution_count": null,
      "outputs": [
        {
          "output_type": "execute_result",
          "data": {
            "text/plain": [
              "[('a', 1), ('b', 2), ('c', 3)]"
            ]
          },
          "metadata": {
            "tags": []
          },
          "execution_count": 37
        }
      ]
    },
    {
      "cell_type": "code",
      "metadata": {
        "colab": {
          "base_uri": "https://localhost:8080/"
        },
        "id": "Snl3WfJO8__r",
        "outputId": "98547ebb-e8d7-4176-8967-ba2212367899"
      },
      "source": [
        "'a' in mydict"
      ],
      "execution_count": null,
      "outputs": [
        {
          "output_type": "execute_result",
          "data": {
            "text/plain": [
              "True"
            ]
          },
          "metadata": {
            "tags": []
          },
          "execution_count": 38
        }
      ]
    },
    {
      "cell_type": "code",
      "metadata": {
        "colab": {
          "base_uri": "https://localhost:8080/"
        },
        "id": "v9ZPljxk9Kk7",
        "outputId": "ddeb9d2f-e848-4093-d34f-1c5907330dce"
      },
      "source": [
        "'f' in mydict"
      ],
      "execution_count": null,
      "outputs": [
        {
          "output_type": "execute_result",
          "data": {
            "text/plain": [
              "False"
            ]
          },
          "metadata": {
            "tags": []
          },
          "execution_count": 39
        }
      ]
    },
    {
      "cell_type": "code",
      "metadata": {
        "colab": {
          "base_uri": "https://localhost:8080/"
        },
        "id": "ieuZL4HQ9Rkr",
        "outputId": "0beeea9f-88dd-46c4-e1c8-a7a8361e4350"
      },
      "source": [
        "mydict['apple']=123\n",
        "mydict"
      ],
      "execution_count": null,
      "outputs": [
        {
          "output_type": "execute_result",
          "data": {
            "text/plain": [
              "{'a': 1, 'apple': 123, 'b': 2, 'c': 3}"
            ]
          },
          "metadata": {
            "tags": []
          },
          "execution_count": 40
        }
      ]
    },
    {
      "cell_type": "code",
      "metadata": {
        "colab": {
          "base_uri": "https://localhost:8080/"
        },
        "id": "IFSl5hZS9qHs",
        "outputId": "ba26ee0b-fd64-417d-c33f-dfd1ddff5c17"
      },
      "source": [
        "len(mydict)"
      ],
      "execution_count": null,
      "outputs": [
        {
          "output_type": "execute_result",
          "data": {
            "text/plain": [
              "4"
            ]
          },
          "metadata": {
            "tags": []
          },
          "execution_count": 42
        }
      ]
    },
    {
      "cell_type": "code",
      "metadata": {
        "colab": {
          "base_uri": "https://localhost:8080/"
        },
        "id": "Fg1tAE4G-coz",
        "outputId": "21a63068-0a80-4cf2-e596-2bf20b080fe3"
      },
      "source": [
        "mydict.clear()\n",
        "mydict"
      ],
      "execution_count": null,
      "outputs": [
        {
          "output_type": "execute_result",
          "data": {
            "text/plain": [
              "{}"
            ]
          },
          "metadata": {
            "tags": []
          },
          "execution_count": 43
        }
      ]
    },
    {
      "cell_type": "code",
      "metadata": {
        "id": "VqMOqLGo-jvb"
      },
      "source": [
        ""
      ],
      "execution_count": null,
      "outputs": []
    }
  ]
}