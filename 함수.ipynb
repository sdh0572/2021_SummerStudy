{
  "nbformat": 4,
  "nbformat_minor": 0,
  "metadata": {
    "colab": {
      "name": "함수.ipynb",
      "provenance": [],
      "collapsed_sections": [],
      "authorship_tag": "ABX9TyP1sAx4iaVGtyFXP/B8VndC",
      "include_colab_link": true
    },
    "kernelspec": {
      "name": "python3",
      "display_name": "Python 3"
    },
    "language_info": {
      "name": "python"
    }
  },
  "cells": [
    {
      "cell_type": "markdown",
      "metadata": {
        "id": "view-in-github",
        "colab_type": "text"
      },
      "source": [
        "<a href=\"https://colab.research.google.com/github/sdh0572/2021_SummerStudy/blob/main/%ED%95%A8%EC%88%98.ipynb\" target=\"_parent\"><img src=\"https://colab.research.google.com/assets/colab-badge.svg\" alt=\"Open In Colab\"/></a>"
      ]
    },
    {
      "cell_type": "markdown",
      "metadata": {
        "id": "3TjmOXOHKuu5"
      },
      "source": [
        "#함수(function)\n",
        "\n",
        "\n",
        "*   자주 사용되는 코드 및 반복되는 코드를 모아 하나의 기능으로 만들고 이름을 붙인 것\n",
        "*   즉, 함수의 가장 중요한 기능은 바로 코드의 재사용성이다."
      ]
    },
    {
      "cell_type": "markdown",
      "metadata": {
        "id": "OmTalJQQLmcV"
      },
      "source": [
        "#함수의 기본 구조\n",
        "\n",
        "*   def 키워드로 시작\n",
        "*   함수명을 기입\n",
        "*   ()안에 매개변수를 지정할 수 있고, 생략도 가능\n",
        "*   끝에는 :으로 끝남\n",
        "*   함수의 범위 안에서는 들여쓰기를 하고 들여쓰기가 끝난 지점이 범위가 끝나는 지점"
      ]
    },
    {
      "cell_type": "code",
      "metadata": {
        "id": "rh7WULUFM56g"
      },
      "source": [
        "def add_function(a,b):\n",
        "  result = a+b\n",
        "  return result"
      ],
      "execution_count": null,
      "outputs": []
    },
    {
      "cell_type": "markdown",
      "metadata": {
        "id": "yY44cXcmNQtr"
      },
      "source": [
        "#함수의 다양한 형태\n",
        "#일반형태\n",
        "\n",
        "- 입력 매개변수: O\n",
        "- return: O"
      ]
    },
    {
      "cell_type": "code",
      "metadata": {
        "id": "oq0MzcJ4NmY-"
      },
      "source": [
        "def sample_function(a, b):\n",
        "    result = a + b\n",
        "    return result"
      ],
      "execution_count": null,
      "outputs": []
    },
    {
      "cell_type": "markdown",
      "metadata": {
        "id": "j_Myn6AgNXWV"
      },
      "source": [
        "#입력 매개변수가 없는 상태"
      ]
    },
    {
      "cell_type": "code",
      "metadata": {
        "id": "yMV9a1JINlBl"
      },
      "source": [
        "def sample_function():\n",
        "    a = 1\n",
        "    b = 2\n",
        "    result = a + b\n",
        "    return result"
      ],
      "execution_count": null,
      "outputs": []
    },
    {
      "cell_type": "markdown",
      "metadata": {
        "id": "XuZddFaGNa2c"
      },
      "source": [
        "#return이 없는 형태"
      ]
    },
    {
      "cell_type": "code",
      "metadata": {
        "id": "V4UE0ZwBNm1O"
      },
      "source": [
        "def sample_function(a,b):\n",
        "  result = a+b\n",
        "  print(f'result: {result}')"
      ],
      "execution_count": null,
      "outputs": []
    },
    {
      "cell_type": "markdown",
      "metadata": {
        "id": "Vt__qdAtOD5W"
      },
      "source": [
        "#입력 매개변수, return 모두 없는 형태"
      ]
    },
    {
      "cell_type": "code",
      "metadata": {
        "id": "CknS9JT_OUB-"
      },
      "source": [
        "def sample_function():\n",
        "    print('Hello, World!')"
      ],
      "execution_count": null,
      "outputs": []
    },
    {
      "cell_type": "markdown",
      "metadata": {
        "id": "52wfTsCnONcu"
      },
      "source": [
        "#함수의 이름 및 호출\n",
        "\n",
        "\n",
        "*   함수의 이름은 알파벳이나 _로 시작\n",
        "*   함수의 지정된 이름과 {}로 호출 가능\n",
        "\n"
      ]
    },
    {
      "cell_type": "code",
      "metadata": {
        "id": "gRrS52L3Oh6u"
      },
      "source": [
        "def sample_function():\n",
        "  print('함수가 호출되었습니다')"
      ],
      "execution_count": null,
      "outputs": []
    },
    {
      "cell_type": "markdown",
      "metadata": {
        "id": "vPSUJsLHzTr2"
      },
      "source": [
        "함수의 이름만 출력 시"
      ]
    },
    {
      "cell_type": "code",
      "metadata": {
        "id": "nPl_v1LKOoYG",
        "colab": {
          "base_uri": "https://localhost:8080/"
        },
        "outputId": "ea479f8f-c3c8-4881-8c81-0ef60fb23ea1"
      },
      "source": [
        "sample_function()"
      ],
      "execution_count": null,
      "outputs": [
        {
          "output_type": "stream",
          "text": [
            "함수가 호출되었습니다\n"
          ],
          "name": "stdout"
        }
      ]
    },
    {
      "cell_type": "markdown",
      "metadata": {
        "id": "_5rW3YN4zfsl"
      },
      "source": [
        "호출(call): 함수의 이름과 함께 ()를 같이 실행"
      ]
    },
    {
      "cell_type": "code",
      "metadata": {
        "colab": {
          "base_uri": "https://localhost:8080/"
        },
        "id": "HQrV9sIXzdou",
        "outputId": "c9f112be-2c31-4294-d7e7-7ac4044f6e80"
      },
      "source": [
        "sample_function()"
      ],
      "execution_count": null,
      "outputs": [
        {
          "output_type": "stream",
          "text": [
            "함수가 호출되었습니다\n"
          ],
          "name": "stdout"
        }
      ]
    },
    {
      "cell_type": "markdown",
      "metadata": {
        "id": "YYnRX5w9zmXV"
      },
      "source": [
        "함수의 이름을 별도의 변수에 대입한 후 변수에 ()를 같이 실행한 경우"
      ]
    },
    {
      "cell_type": "code",
      "metadata": {
        "id": "F1Lo7JhJO1Re",
        "colab": {
          "base_uri": "https://localhost:8080/"
        },
        "outputId": "18682ea6-1334-434e-f47f-80145ef46a96"
      },
      "source": [
        "a = sample_function\n",
        "a()"
      ],
      "execution_count": null,
      "outputs": [
        {
          "output_type": "stream",
          "text": [
            "함수가 호출되었습니다\n"
          ],
          "name": "stdout"
        }
      ]
    },
    {
      "cell_type": "code",
      "metadata": {
        "id": "vGTIRQFAO642"
      },
      "source": [
        "def sample_function():\n",
        "  print('함수가 호출 되었습니다')\n",
        "  return 123"
      ],
      "execution_count": null,
      "outputs": []
    },
    {
      "cell_type": "markdown",
      "metadata": {
        "id": "I0rIw2v6zwSv"
      },
      "source": [
        "return 값이 존재하는 경우 함수는 결과 값을 반환 하며 반환된 결과를 변수에 대입 가능"
      ]
    },
    {
      "cell_type": "code",
      "metadata": {
        "colab": {
          "base_uri": "https://localhost:8080/"
        },
        "id": "jN7aFv53PPt1",
        "outputId": "606bd296-1e59-47c2-ea69-b80f77d1a10a"
      },
      "source": [
        "result = sample_function()"
      ],
      "execution_count": null,
      "outputs": [
        {
          "output_type": "stream",
          "text": [
            "함수가 호출 되었습니다\n"
          ],
          "name": "stdout"
        }
      ]
    },
    {
      "cell_type": "code",
      "metadata": {
        "colab": {
          "base_uri": "https://localhost:8080/"
        },
        "id": "u7BwL-IvPYhu",
        "outputId": "5f934225-a426-4338-cf11-ae76cd72a542"
      },
      "source": [
        "result"
      ],
      "execution_count": null,
      "outputs": [
        {
          "output_type": "execute_result",
          "data": {
            "text/plain": [
              "123"
            ]
          },
          "metadata": {
            "tags": []
          },
          "execution_count": 18
        }
      ]
    },
    {
      "cell_type": "markdown",
      "metadata": {
        "id": "smQGQMbpz1Pn"
      },
      "source": [
        "하지만, 함수가 아무런 결과 값을 반환하지 않는다면 함수로부터 반환된 결과는 None"
      ]
    },
    {
      "cell_type": "code",
      "metadata": {
        "id": "itkLSPDfPZiG"
      },
      "source": [
        "def sample_function():\n",
        "  print ('함수가 호출 되었습니다!')"
      ],
      "execution_count": null,
      "outputs": []
    },
    {
      "cell_type": "code",
      "metadata": {
        "id": "Z4qzN57rPwmW",
        "colab": {
          "base_uri": "https://localhost:8080/"
        },
        "outputId": "3eaeb3b8-03a7-49e2-f38a-cc0cae1dbe14"
      },
      "source": [
        "result = sample_function()"
      ],
      "execution_count": null,
      "outputs": [
        {
          "output_type": "stream",
          "text": [
            "함수가 호출 되었습니다!\n"
          ],
          "name": "stdout"
        }
      ]
    },
    {
      "cell_type": "code",
      "metadata": {
        "colab": {
          "base_uri": "https://localhost:8080/"
        },
        "id": "enQZwqOzz6zH",
        "outputId": "e98f1a06-ba75-4b18-ff9c-45032e10d76c"
      },
      "source": [
        "print(result)"
      ],
      "execution_count": null,
      "outputs": [
        {
          "output_type": "stream",
          "text": [
            "None\n"
          ],
          "name": "stdout"
        }
      ]
    },
    {
      "cell_type": "markdown",
      "metadata": {
        "id": "GwvbHlYXP2nm"
      },
      "source": [
        "#docstring\n",
        "\n",
        "\n",
        "*   함수에 대한 설명 기록\n",
        "\n"
      ]
    },
    {
      "cell_type": "code",
      "metadata": {
        "id": "v8PwU5NiQUAe"
      },
      "source": [
        "def sample_function():\n",
        "  '''\n",
        "  함수에 대한 설명을 기록합니다.\n",
        "    sample_function은 함수를 설명하기 위한 예제 함수 입니다.\n",
        "    \n",
        "    (예시)\n",
        "    호출의 예.\n",
        "    sample_function()\n",
        "  '''\n",
        "  print('함수가 호출 되었습니다')"
      ],
      "execution_count": null,
      "outputs": []
    },
    {
      "cell_type": "code",
      "metadata": {
        "colab": {
          "base_uri": "https://localhost:8080/"
        },
        "id": "nd0LiAzg0CDv",
        "outputId": "d7245d15-13de-461b-9c06-dbac588b6b7b"
      },
      "source": [
        "sample_function()"
      ],
      "execution_count": null,
      "outputs": [
        {
          "output_type": "stream",
          "text": [
            "함수가 호출 되었습니다\n"
          ],
          "name": "stdout"
        }
      ]
    },
    {
      "cell_type": "markdown",
      "metadata": {
        "id": "TUUqBMHH0FTO"
      },
      "source": [
        "함수명.__doc__로 docstring을 출력 가능"
      ]
    },
    {
      "cell_type": "code",
      "metadata": {
        "colab": {
          "base_uri": "https://localhost:8080/"
        },
        "id": "z5O6ouvrQphM",
        "outputId": "16606036-7bf2-473d-e3ff-b49e1687a14f"
      },
      "source": [
        "print(sample_function.__doc__)"
      ],
      "execution_count": null,
      "outputs": [
        {
          "output_type": "stream",
          "text": [
            "\n",
            "  함수에 대한 설명을 기록합니다.\n",
            "    sample_function은 함수를 설명하기 위한 예제 함수 입니다.\n",
            "    \n",
            "    (예시)\n",
            "    호출의 예.\n",
            "    sample_function()\n",
            "  \n"
          ],
          "name": "stdout"
        }
      ]
    },
    {
      "cell_type": "markdown",
      "metadata": {
        "id": "OnGmgcXCQz7n"
      },
      "source": [
        "#함수의 인수(매개변수)\n",
        "[참고]\n",
        "\n",
        "- 인수(argument): 값, 변수, 참조 등 전달되는 값\n",
        "-매개변수(parameter): 함수 등에서 사용되는 전달된 값을 받는 변수\n",
        "-10, 20 이라는 값은 인수(argument)\n",
        "-a, b는 매개변수(parameter)\n",
        "\n"
      ]
    },
    {
      "cell_type": "code",
      "metadata": {
        "colab": {
          "base_uri": "https://localhost:8080/"
        },
        "id": "T533N-VvRXK-",
        "outputId": "5009ab1b-dc44-45b4-c528-04bc246775ed"
      },
      "source": [
        "def some_function(a,b):\n",
        "  result = a + b\n",
        "  return result\n",
        "\n",
        "some_function(10, 20)"
      ],
      "execution_count": null,
      "outputs": [
        {
          "output_type": "execute_result",
          "data": {
            "text/plain": [
              "30"
            ]
          },
          "metadata": {
            "tags": []
          },
          "execution_count": 26
        }
      ]
    },
    {
      "cell_type": "markdown",
      "metadata": {
        "id": "bLGG5RVfR6mW"
      },
      "source": [
        "#위치인수\n",
        "- 가장 보편적인 인수\n",
        "-변수명을 인수로 지정\n",
        "-위치가 중요"
      ]
    },
    {
      "cell_type": "markdown",
      "metadata": {
        "id": "MmXfaaRy0r6X"
      },
      "source": [
        "a, b, c를 위치인수로 지정한 경우"
      ]
    },
    {
      "cell_type": "code",
      "metadata": {
        "id": "ps3HRSVISWyX"
      },
      "source": [
        "def add_function(a, b, c):\n",
        "    result = a + b + c\n",
        "    print(f'a: {a}, b: {b}, c: {c}')\n",
        "    print(f'sum: {result}')\n",
        "    return result"
      ],
      "execution_count": null,
      "outputs": []
    },
    {
      "cell_type": "code",
      "metadata": {
        "colab": {
          "base_uri": "https://localhost:8080/"
        },
        "id": "mKDc8Dyn0qrl",
        "outputId": "a912bde1-d1ca-48a8-b55c-a48de00a3562"
      },
      "source": [
        "add_function(1, 3, 5)"
      ],
      "execution_count": null,
      "outputs": [
        {
          "output_type": "stream",
          "text": [
            "a: 1, b: 3, c: 5\n",
            "sum: 9\n"
          ],
          "name": "stdout"
        },
        {
          "output_type": "execute_result",
          "data": {
            "text/plain": [
              "9"
            ]
          },
          "metadata": {
            "tags": []
          },
          "execution_count": 28
        }
      ]
    },
    {
      "cell_type": "markdown",
      "metadata": {
        "id": "huSi2m7kS8Xf"
      },
      "source": [
        "#키워드 인수\n",
        "- 위치 인수의 위치를 정확히 기억 하지 못하고 혼란을 야기할 수 있기 때문에 인수명에 값을 직접 지정"
      ]
    },
    {
      "cell_type": "code",
      "metadata": {
        "id": "s3pUsLmd01jO"
      },
      "source": [
        "def add_function(a, b, c):\n",
        "    result = a + b + c\n",
        "    print(f'a: {a}, b: {b}, c: {c}')\n",
        "    print(f'sum: {result}')\n",
        "    return result"
      ],
      "execution_count": null,
      "outputs": []
    },
    {
      "cell_type": "markdown",
      "metadata": {
        "id": "RaNlJ2md03yf"
      },
      "source": [
        "아래의 예제는 키워드로 매개변수에 대한 값을 지정하는 예시"
      ]
    },
    {
      "cell_type": "code",
      "metadata": {
        "colab": {
          "base_uri": "https://localhost:8080/"
        },
        "id": "Ye6fMKIX07vH",
        "outputId": "aadf5751-5dda-4b30-d73c-8926437871de"
      },
      "source": [
        "add_function(b=3, c=1, a=5)"
      ],
      "execution_count": null,
      "outputs": [
        {
          "output_type": "stream",
          "text": [
            "a: 5, b: 3, c: 1\n",
            "sum: 9\n"
          ],
          "name": "stdout"
        },
        {
          "output_type": "execute_result",
          "data": {
            "text/plain": [
              "9"
            ]
          },
          "metadata": {
            "tags": []
          },
          "execution_count": 30
        }
      ]
    },
    {
      "cell_type": "markdown",
      "metadata": {
        "id": "hB2un7VFTLUb"
      },
      "source": [
        "#기본 매개인수\n",
        "- 매개변수에 기본 값을 지정 가능\n",
        "-기본 값을 지정시 인수에 값을 생략 가능\n",
        "-기본 값이 지정된 인수는 위치 인수보다 다음에 위치해야 함\n"
      ]
    },
    {
      "cell_type": "code",
      "metadata": {
        "id": "AzNVNckhTSpS"
      },
      "source": [
        "def add_function(a, b=0, c=0):\n",
        "    result = a + b + c\n",
        "    print(f'a: {a}, b: {b}, c: {c}')\n",
        "    print(f'sum: {result}')\n",
        "    return result"
      ],
      "execution_count": null,
      "outputs": []
    },
    {
      "cell_type": "code",
      "metadata": {
        "colab": {
          "base_uri": "https://localhost:8080/"
        },
        "id": "Ln4ELOrk1MlW",
        "outputId": "9ba9832e-d4f2-4061-a520-d8d3754e09b3"
      },
      "source": [
        "add_function(1)"
      ],
      "execution_count": null,
      "outputs": [
        {
          "output_type": "stream",
          "text": [
            "a: 1, b: 0, c: 0\n",
            "sum: 1\n"
          ],
          "name": "stdout"
        },
        {
          "output_type": "execute_result",
          "data": {
            "text/plain": [
              "1"
            ]
          },
          "metadata": {
            "tags": []
          },
          "execution_count": 33
        }
      ]
    },
    {
      "cell_type": "code",
      "metadata": {
        "colab": {
          "base_uri": "https://localhost:8080/"
        },
        "id": "d_S0ppHo1Nb1",
        "outputId": "787c8ca2-d53a-4b0b-d4a4-d29733fe618c"
      },
      "source": [
        "add_function(1, 3)"
      ],
      "execution_count": null,
      "outputs": [
        {
          "output_type": "stream",
          "text": [
            "a: 1, b: 3, c: 0\n",
            "sum: 4\n"
          ],
          "name": "stdout"
        },
        {
          "output_type": "execute_result",
          "data": {
            "text/plain": [
              "4"
            ]
          },
          "metadata": {
            "tags": []
          },
          "execution_count": 34
        }
      ]
    },
    {
      "cell_type": "code",
      "metadata": {
        "colab": {
          "base_uri": "https://localhost:8080/"
        },
        "id": "GRFiYsTo1Ort",
        "outputId": "2c1ed926-4ca9-4201-f2ff-52b98fe18600"
      },
      "source": [
        "add_function(1, 3, 5)"
      ],
      "execution_count": null,
      "outputs": [
        {
          "output_type": "stream",
          "text": [
            "a: 1, b: 3, c: 5\n",
            "sum: 9\n"
          ],
          "name": "stdout"
        },
        {
          "output_type": "execute_result",
          "data": {
            "text/plain": [
              "9"
            ]
          },
          "metadata": {
            "tags": []
          },
          "execution_count": 35
        }
      ]
    },
    {
      "cell_type": "code",
      "metadata": {
        "colab": {
          "base_uri": "https://localhost:8080/"
        },
        "id": "26N5gsVN1Rrl",
        "outputId": "ad17b618-6463-4a96-bc69-184808292862"
      },
      "source": [
        "add_function(c=5, b=3, a=1)"
      ],
      "execution_count": null,
      "outputs": [
        {
          "output_type": "stream",
          "text": [
            "a: 1, b: 3, c: 5\n",
            "sum: 9\n"
          ],
          "name": "stdout"
        },
        {
          "output_type": "execute_result",
          "data": {
            "text/plain": [
              "9"
            ]
          },
          "metadata": {
            "tags": []
          },
          "execution_count": 36
        }
      ]
    },
    {
      "cell_type": "markdown",
      "metadata": {
        "id": "XxWWoZLM1Uht"
      },
      "source": [
        "기본 매개변수가 위치 인수보다 앞 쪽에 위치한 경우 Error가 발생"
      ]
    },
    {
      "cell_type": "code",
      "metadata": {
        "colab": {
          "base_uri": "https://localhost:8080/",
          "height": 136
        },
        "id": "oV6fSZ9o1Xb9",
        "outputId": "84bc8632-88a0-4962-b087-3c8a47d516db"
      },
      "source": [
        "def add_function(a=0, b, c):\n",
        "    result = a + b + c\n",
        "    print(f'a: {a}, b: {b}, c: {c}')\n",
        "    print(f'sum: {result}')\n",
        "    return result"
      ],
      "execution_count": null,
      "outputs": [
        {
          "output_type": "error",
          "ename": "SyntaxError",
          "evalue": "ignored",
          "traceback": [
            "\u001b[0;36m  File \u001b[0;32m\"<ipython-input-37-8487cf0d9f78>\"\u001b[0;36m, line \u001b[0;32m1\u001b[0m\n\u001b[0;31m    def add_function(a=0, b, c):\u001b[0m\n\u001b[0m                    ^\u001b[0m\n\u001b[0;31mSyntaxError\u001b[0m\u001b[0;31m:\u001b[0m non-default argument follows default argument\n"
          ]
        }
      ]
    },
    {
      "cell_type": "markdown",
      "metadata": {
        "id": "VwMgD9KjTiJv"
      },
      "source": [
        "# *tuple 인수\n",
        "- 여러 개의 인수를 전달 받을 수 있음\n",
        "-여러 개의 인수를 전달 받은 *args에는 튜플(tuple) 형식으로 데이터가 저장\n",
        "-*args로 받은 인수는 반복문으로 처리하는 것이 일반적\n",
        "-대체적으로 *args 변수가 많이 사용."
      ]
    },
    {
      "cell_type": "code",
      "metadata": {
        "id": "h5Hnup051nru"
      },
      "source": [
        "def add_function(*args):\n",
        "    result = 0\n",
        "    print(f'args의 타입: {type(args)}')\n",
        "    for arg in args:\n",
        "        print(arg)\n",
        "        result += arg\n",
        "    print('==='* 5)\n",
        "    print(f'sum: {result}')"
      ],
      "execution_count": null,
      "outputs": []
    },
    {
      "cell_type": "markdown",
      "metadata": {
        "id": "crHSLG9l1pcl"
      },
      "source": [
        "아무런 값을 전달하지 않은 경우(생략 가능)"
      ]
    },
    {
      "cell_type": "code",
      "metadata": {
        "colab": {
          "base_uri": "https://localhost:8080/"
        },
        "id": "_89EshYt1rbe",
        "outputId": "8e4c2d13-1e38-4670-a9d4-fc5a831da5c1"
      },
      "source": [
        "add_function()"
      ],
      "execution_count": null,
      "outputs": [
        {
          "output_type": "stream",
          "text": [
            "args의 타입: <class 'tuple'>\n",
            "===============\n",
            "sum: 0\n"
          ],
          "name": "stdout"
        }
      ]
    },
    {
      "cell_type": "markdown",
      "metadata": {
        "id": "mrNdsQjZ1sYm"
      },
      "source": [
        "1개의 값을 전달한 경우"
      ]
    },
    {
      "cell_type": "code",
      "metadata": {
        "colab": {
          "base_uri": "https://localhost:8080/"
        },
        "id": "YA0n7DlZ1t7G",
        "outputId": "b638bc80-9957-4401-9372-c6655b9aa6b8"
      },
      "source": [
        "add_function(1)"
      ],
      "execution_count": null,
      "outputs": [
        {
          "output_type": "stream",
          "text": [
            "args의 타입: <class 'tuple'>\n",
            "1\n",
            "===============\n",
            "sum: 1\n"
          ],
          "name": "stdout"
        }
      ]
    },
    {
      "cell_type": "markdown",
      "metadata": {
        "id": "srrVoiRn1vVl"
      },
      "source": [
        "복수의 값을 전달한 경우"
      ]
    },
    {
      "cell_type": "code",
      "metadata": {
        "colab": {
          "base_uri": "https://localhost:8080/"
        },
        "id": "EjGu__Xs1wu1",
        "outputId": "f60475e8-6d40-426a-c5e9-cce3948d834f"
      },
      "source": [
        "add_function(1, 2, 3, 4, 5)"
      ],
      "execution_count": null,
      "outputs": [
        {
          "output_type": "stream",
          "text": [
            "args의 타입: <class 'tuple'>\n",
            "1\n",
            "2\n",
            "3\n",
            "4\n",
            "5\n",
            "===============\n",
            "sum: 15\n"
          ],
          "name": "stdout"
        }
      ]
    },
    {
      "cell_type": "markdown",
      "metadata": {
        "id": "6kxwdEcZ1zVO"
      },
      "source": [
        "#위치 매개변수와 *tuple 매개변수의 혼용\n",
        "- *tuple 매개변수는 위치 매개변수의 뒤에 위치"
      ]
    },
    {
      "cell_type": "code",
      "metadata": {
        "id": "1YEaqWMl15j2"
      },
      "source": [
        "def add_function(a, *args):\n",
        "    print(f'a: {a}')\n",
        "    print('==='* 5)\n",
        "    result = 0\n",
        "    for arg in args:\n",
        "        print(arg)\n",
        "        result += arg\n",
        "    print('==='* 5)\n",
        "    print(f'sum: {result}')"
      ],
      "execution_count": null,
      "outputs": []
    },
    {
      "cell_type": "markdown",
      "metadata": {
        "id": "ZfSx6-5917f2"
      },
      "source": [
        "아무런 값을 지정하지 않은 경우\n",
        "\n",
        "- 위치 매개변수 미지정으로 인한 Error 발생"
      ]
    },
    {
      "cell_type": "code",
      "metadata": {
        "colab": {
          "base_uri": "https://localhost:8080/",
          "height": 172
        },
        "id": "9lTKn97A1-GO",
        "outputId": "8255b48d-0588-4d26-db3d-19ef74f74ce5"
      },
      "source": [
        "add_function()"
      ],
      "execution_count": null,
      "outputs": [
        {
          "output_type": "error",
          "ename": "TypeError",
          "evalue": "ignored",
          "traceback": [
            "\u001b[0;31m---------------------------------------------------------------------------\u001b[0m",
            "\u001b[0;31mTypeError\u001b[0m                                 Traceback (most recent call last)",
            "\u001b[0;32m<ipython-input-47-1553848aed78>\u001b[0m in \u001b[0;36m<module>\u001b[0;34m()\u001b[0m\n\u001b[0;32m----> 1\u001b[0;31m \u001b[0madd_function\u001b[0m\u001b[0;34m(\u001b[0m\u001b[0;34m)\u001b[0m\u001b[0;34m\u001b[0m\u001b[0;34m\u001b[0m\u001b[0m\n\u001b[0m",
            "\u001b[0;31mTypeError\u001b[0m: add_function() missing 1 required positional argument: 'a'"
          ]
        }
      ]
    },
    {
      "cell_type": "markdown",
      "metadata": {
        "id": "a-bTBTeh2Exw"
      },
      "source": [
        "단일 값을 지정한 경우"
      ]
    },
    {
      "cell_type": "code",
      "metadata": {
        "colab": {
          "base_uri": "https://localhost:8080/"
        },
        "id": "x48fMoGa2Bxm",
        "outputId": "ca34c346-0f53-4d60-8390-3b6c5d365a95"
      },
      "source": [
        "add_function(1)"
      ],
      "execution_count": null,
      "outputs": [
        {
          "output_type": "stream",
          "text": [
            "a: 1\n",
            "===============\n",
            "===============\n",
            "sum: 0\n"
          ],
          "name": "stdout"
        }
      ]
    },
    {
      "cell_type": "markdown",
      "metadata": {
        "id": "2YInwk152C2-"
      },
      "source": [
        "복수의 값을 지정한 경우"
      ]
    },
    {
      "cell_type": "code",
      "metadata": {
        "colab": {
          "base_uri": "https://localhost:8080/"
        },
        "id": "sQi5A1es2Hff",
        "outputId": "fa261796-2412-4b8c-a20a-a6b3e8d97663"
      },
      "source": [
        "add_function(1, 2, 3, 4, 5)"
      ],
      "execution_count": null,
      "outputs": [
        {
          "output_type": "stream",
          "text": [
            "a: 1\n",
            "===============\n",
            "2\n",
            "3\n",
            "4\n",
            "5\n",
            "===============\n",
            "sum: 14\n"
          ],
          "name": "stdout"
        }
      ]
    },
    {
      "cell_type": "markdown",
      "metadata": {
        "id": "s7KjAu-b2K-e"
      },
      "source": [
        "#**dict 인수\n",
        "- 여러 개의 인수를 전달 받을 수 있음\n",
        "- 여러 개의 인수를 전달 받은 **kwargs에는 딕셔너리(dict) 형식으로 데이터가 저장\n",
        "- **kwargs로 받은 인수 역시 반복문으로 처리하는 것이 일반 적\n",
        "- 대체적으로 **kwargs 변수가 많이 사용"
      ]
    },
    {
      "cell_type": "code",
      "metadata": {
        "id": "H5yk4Dfd2aW3"
      },
      "source": [
        "def add_function(**kwargs):\n",
        "    total_age = 0\n",
        "    for name, age in kwargs.items():\n",
        "        print(f'이름: {name}, 나이: {age}')\n",
        "        total_age += age\n",
        "    print('==='* 5)\n",
        "    print(f'전체 나이의 합계: {total_age}')"
      ],
      "execution_count": null,
      "outputs": []
    },
    {
      "cell_type": "markdown",
      "metadata": {
        "id": "CtP7F-XI2clu"
      },
      "source": [
        "아무런 값을 지정하지 않은 경우"
      ]
    },
    {
      "cell_type": "code",
      "metadata": {
        "colab": {
          "base_uri": "https://localhost:8080/"
        },
        "id": "vQUv9-yD2eWt",
        "outputId": "fa47d716-7175-452d-ccf4-0e87561d5891"
      },
      "source": [
        "add_function()"
      ],
      "execution_count": null,
      "outputs": [
        {
          "output_type": "stream",
          "text": [
            "===============\n",
            "전체 나이의 합계: 0\n"
          ],
          "name": "stdout"
        }
      ]
    },
    {
      "cell_type": "markdown",
      "metadata": {
        "id": "RExiwnE52fw1"
      },
      "source": [
        "단일 값을 지정한 경우"
      ]
    },
    {
      "cell_type": "code",
      "metadata": {
        "colab": {
          "base_uri": "https://localhost:8080/"
        },
        "id": "rHlayi2O2hf9",
        "outputId": "09a39d22-15e2-4dba-f843-58958aa95a87"
      },
      "source": [
        "add_function(lee=5)"
      ],
      "execution_count": null,
      "outputs": [
        {
          "output_type": "stream",
          "text": [
            "이름: lee, 나이: 5\n",
            "===============\n",
            "전체 나이의 합계: 5\n"
          ],
          "name": "stdout"
        }
      ]
    },
    {
      "cell_type": "code",
      "metadata": {
        "colab": {
          "base_uri": "https://localhost:8080/"
        },
        "id": "kYDWrv9g2kn-",
        "outputId": "e96e85ca-b333-423a-de40-7c65b0d73e15"
      },
      "source": [
        "add_function(john=10, peter=12, lee=5)"
      ],
      "execution_count": null,
      "outputs": [
        {
          "output_type": "stream",
          "text": [
            "이름: john, 나이: 10\n",
            "이름: peter, 나이: 12\n",
            "이름: lee, 나이: 5\n",
            "===============\n",
            "전체 나이의 합계: 27\n"
          ],
          "name": "stdout"
        }
      ]
    },
    {
      "cell_type": "markdown",
      "metadata": {
        "id": "jefm-9Eo2nKm"
      },
      "source": [
        "딕셔너리(dictionary)를 인수로 지정하는 경우 **를 앞에 붙혀줌"
      ]
    },
    {
      "cell_type": "code",
      "metadata": {
        "colab": {
          "base_uri": "https://localhost:8080/"
        },
        "id": "OPIQu6kg2syw",
        "outputId": "7db3ad45-3fda-4dfe-c8c3-ddee43ba5ab5"
      },
      "source": [
        "person = {'john': 10, 'peter': 12, 'lee': 5}\n",
        "person"
      ],
      "execution_count": null,
      "outputs": [
        {
          "output_type": "execute_result",
          "data": {
            "text/plain": [
              "{'john': 10, 'lee': 5, 'peter': 12}"
            ]
          },
          "metadata": {
            "tags": []
          },
          "execution_count": 54
        }
      ]
    },
    {
      "cell_type": "code",
      "metadata": {
        "colab": {
          "base_uri": "https://localhost:8080/"
        },
        "id": "rBDG_crc2t-H",
        "outputId": "b2488997-c011-444d-8205-6949a7c8bb3c"
      },
      "source": [
        "add_function(**person)"
      ],
      "execution_count": null,
      "outputs": [
        {
          "output_type": "stream",
          "text": [
            "이름: john, 나이: 10\n",
            "이름: peter, 나이: 12\n",
            "이름: lee, 나이: 5\n",
            "===============\n",
            "전체 나이의 합계: 27\n"
          ],
          "name": "stdout"
        }
      ]
    },
    {
      "cell_type": "markdown",
      "metadata": {
        "id": "FH1e0nLZ2vNe"
      },
      "source": [
        "#lambda : 익명 함수(annonymous function)\n",
        "- 이름 없이 정의된 함수\n",
        "-단일 문장(1줄)의 코드로 작성\n",
        "-함수 내부에서는 return문이 포함하지 않지만 값을 반환"
      ]
    },
    {
      "cell_type": "markdown",
      "metadata": {
        "id": "q-v41pUi21um"
      },
      "source": [
        "단일 인수를 가지는 lambda 함수"
      ]
    },
    {
      "cell_type": "code",
      "metadata": {
        "id": "LpqosqZ824-v"
      },
      "source": [
        "a = lambda x: x * 2"
      ],
      "execution_count": null,
      "outputs": []
    },
    {
      "cell_type": "code",
      "metadata": {
        "colab": {
          "base_uri": "https://localhost:8080/"
        },
        "id": "e14p-25C26J3",
        "outputId": "6d306c80-4855-45b4-fafc-c0962c42d5e1"
      },
      "source": [
        "a(4)"
      ],
      "execution_count": null,
      "outputs": [
        {
          "output_type": "execute_result",
          "data": {
            "text/plain": [
              "8"
            ]
          },
          "metadata": {
            "tags": []
          },
          "execution_count": 58
        }
      ]
    },
    {
      "cell_type": "markdown",
      "metadata": {
        "id": "-SuSWWPw27fe"
      },
      "source": [
        "2개의 인수를 가지는 lambda 함수"
      ]
    },
    {
      "cell_type": "markdown",
      "metadata": {
        "id": "E9lKwyp329Uf"
      },
      "source": [
        "기본 값이 지정된 인수를 가지는 lambda 함수"
      ]
    },
    {
      "cell_type": "code",
      "metadata": {
        "id": "RXIfvtXR2_yO"
      },
      "source": [
        "a = lambda x, y=10: x * y"
      ],
      "execution_count": null,
      "outputs": []
    },
    {
      "cell_type": "code",
      "metadata": {
        "colab": {
          "base_uri": "https://localhost:8080/"
        },
        "id": "LlNUE8PJ3Bfa",
        "outputId": "798f30af-c059-44ae-ce35-e1bee70924a1"
      },
      "source": [
        "a(3)"
      ],
      "execution_count": null,
      "outputs": [
        {
          "output_type": "execute_result",
          "data": {
            "text/plain": [
              "30"
            ]
          },
          "metadata": {
            "tags": []
          },
          "execution_count": 62
        }
      ]
    },
    {
      "cell_type": "markdown",
      "metadata": {
        "id": "IUnb2GAX3CTG"
      },
      "source": [
        "키워드 인수를 지정하는 lambda 함수"
      ]
    },
    {
      "cell_type": "code",
      "metadata": {
        "colab": {
          "base_uri": "https://localhost:8080/"
        },
        "id": "3ANMwmqf3DdG",
        "outputId": "4c1a524e-df36-490c-e9e0-91dabe552fcb"
      },
      "source": [
        "a(y=5, x=3)"
      ],
      "execution_count": null,
      "outputs": [
        {
          "output_type": "execute_result",
          "data": {
            "text/plain": [
              "15"
            ]
          },
          "metadata": {
            "tags": []
          },
          "execution_count": 64
        }
      ]
    },
    {
      "cell_type": "markdown",
      "metadata": {
        "id": "S64YN1En3HWW"
      },
      "source": [
        "lambda 함수 내부에서 조건문 사용"
      ]
    },
    {
      "cell_type": "code",
      "metadata": {
        "id": "igLJKbuH3JHv"
      },
      "source": [
        "a = lambda x, y: x * y if x > 0 else y"
      ],
      "execution_count": null,
      "outputs": []
    },
    {
      "cell_type": "code",
      "metadata": {
        "colab": {
          "base_uri": "https://localhost:8080/"
        },
        "id": "17A3cwTr3K3-",
        "outputId": "a5000d12-12d1-4860-f2fd-b518cbd21bfa"
      },
      "source": [
        "a(4, 8)"
      ],
      "execution_count": null,
      "outputs": [
        {
          "output_type": "execute_result",
          "data": {
            "text/plain": [
              "32"
            ]
          },
          "metadata": {
            "tags": []
          },
          "execution_count": 67
        }
      ]
    },
    {
      "cell_type": "code",
      "metadata": {
        "colab": {
          "base_uri": "https://localhost:8080/"
        },
        "id": "MszYX3Ww3L8O",
        "outputId": "fea6f257-f22d-4d5c-8967-d21213009ff5"
      },
      "source": [
        "a(-1, 8)"
      ],
      "execution_count": null,
      "outputs": [
        {
          "output_type": "execute_result",
          "data": {
            "text/plain": [
              "8"
            ]
          },
          "metadata": {
            "tags": []
          },
          "execution_count": 68
        }
      ]
    },
    {
      "cell_type": "markdown",
      "metadata": {
        "id": "mm8vj1Wx3NPd"
      },
      "source": [
        "다음과 같이 elif 구문을 억지로 생성 가능\n",
        "\n",
        "하지만, 복잡한 조건문을 사용하기 위해서는 일반적인 함수 사용을 권장"
      ]
    },
    {
      "cell_type": "code",
      "metadata": {
        "id": "bswgA0Yd3TyX"
      },
      "source": [
        "a = lambda x: x * 10 if x < 2 else (x**2 if x < 4 else x + 10)"
      ],
      "execution_count": null,
      "outputs": []
    },
    {
      "cell_type": "code",
      "metadata": {
        "colab": {
          "base_uri": "https://localhost:8080/"
        },
        "id": "6shfGG393Vnm",
        "outputId": "f4999400-c6f8-4e56-89ed-f87f13058e0f"
      },
      "source": [
        "a(1)"
      ],
      "execution_count": null,
      "outputs": [
        {
          "output_type": "execute_result",
          "data": {
            "text/plain": [
              "10"
            ]
          },
          "metadata": {
            "tags": []
          },
          "execution_count": 71
        }
      ]
    },
    {
      "cell_type": "code",
      "metadata": {
        "colab": {
          "base_uri": "https://localhost:8080/"
        },
        "id": "vWekcPii3WZr",
        "outputId": "11c8dc05-01ec-466c-dad9-5df2c9f519fa"
      },
      "source": [
        "a(3)"
      ],
      "execution_count": null,
      "outputs": [
        {
          "output_type": "execute_result",
          "data": {
            "text/plain": [
              "9"
            ]
          },
          "metadata": {
            "tags": []
          },
          "execution_count": 72
        }
      ]
    },
    {
      "cell_type": "code",
      "metadata": {
        "colab": {
          "base_uri": "https://localhost:8080/"
        },
        "id": "mzYAgpcn3Yi3",
        "outputId": "e6fbef30-9d20-47c2-b2c2-180ee6cbb92e"
      },
      "source": [
        "a(4)"
      ],
      "execution_count": null,
      "outputs": [
        {
          "output_type": "execute_result",
          "data": {
            "text/plain": [
              "14"
            ]
          },
          "metadata": {
            "tags": []
          },
          "execution_count": 74
        }
      ]
    }
  ]
}