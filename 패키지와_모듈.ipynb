{
  "nbformat": 4,
  "nbformat_minor": 0,
  "metadata": {
    "colab": {
      "name": "패키지와 모듈.ipynb",
      "provenance": [],
      "collapsed_sections": [],
      "authorship_tag": "ABX9TyPTMzyU+YjVFVHG8dXb2A6y",
      "include_colab_link": true
    },
    "kernelspec": {
      "name": "python3",
      "display_name": "Python 3"
    },
    "language_info": {
      "name": "python"
    }
  },
  "cells": [
    {
      "cell_type": "markdown",
      "metadata": {
        "id": "view-in-github",
        "colab_type": "text"
      },
      "source": [
        "<a href=\"https://colab.research.google.com/github/sdh0572/2021_SummerStudy/blob/main/%ED%8C%A8%ED%82%A4%EC%A7%80%EC%99%80_%EB%AA%A8%EB%93%88.ipynb\" target=\"_parent\"><img src=\"https://colab.research.google.com/assets/colab-badge.svg\" alt=\"Open In Colab\"/></a>"
      ]
    },
    {
      "cell_type": "markdown",
      "metadata": {
        "id": "opY3TBn1hjAk"
      },
      "source": [
        "#패키지와 모듈의 관계\n",
        "-함수들이 뭉쳐진 하나의 .py 파일 안에 이루어진 것을 모듈\n",
        "-여러 개의 모듈을 그룹화 하면 패키지가 됨\n",
        "-패키지는 종종 라이브러리라고도 불림\n",
        "\n",
        "\n",
        "하나의 .py 파일은 모듈이며, 모듈을 포함하는 디렉토리(directory)는 패키지로 정의"
      ]
    },
    {
      "cell_type": "markdown",
      "metadata": {
        "id": "aXPQQQiI6GVX"
      },
      "source": [
        "#모듈 import\n",
        "- 모듈 import는 외장 라이브러리의 모듈을 불러오는 유용한 기능\n",
        "-모듈 import를 통해 는 다른 누군가가 이미 만들어 놓은 기능을 쉽게 가져와 사용 가능\n",
        "-파이썬 모듈을 가져와 사용하기 위해서는 import 구문을 사용\n",
        "\n",
        "실습에 사용할 사용자 정의 모듈을 생성"
      ]
    },
    {
      "cell_type": "code",
      "metadata": {
        "colab": {
          "base_uri": "https://localhost:8080/"
        },
        "id": "W3k2E0ev6SJn",
        "outputId": "0aa64993-76c6-4c17-adaa-4def46069afe"
      },
      "source": [
        "%%writefile calculator.py\n",
        "name = '계산기'\n",
        "\n",
        "def add(a, b):\n",
        "    return a + b\n",
        "\n",
        "def sub(a, b): \n",
        "    return a - b\n",
        "\n",
        "def multiply(a, b):\n",
        "    return a * b\n",
        "\n",
        "def divide(a, b):\n",
        "    return a / b\n"
      ],
      "execution_count": null,
      "outputs": [
        {
          "output_type": "stream",
          "text": [
            "Writing calculator.py\n"
          ],
          "name": "stdout"
        }
      ]
    },
    {
      "cell_type": "markdown",
      "metadata": {
        "id": "YJdUt5vB6Vle"
      },
      "source": [
        "정의한 모듈 import"
      ]
    },
    {
      "cell_type": "code",
      "metadata": {
        "id": "l5mnpzsi6XnO"
      },
      "source": [
        "import calculator"
      ],
      "execution_count": null,
      "outputs": []
    },
    {
      "cell_type": "markdown",
      "metadata": {
        "id": "ZOIwlOJt6Y1O"
      },
      "source": [
        "모듈의 변수에 접근"
      ]
    },
    {
      "cell_type": "code",
      "metadata": {
        "colab": {
          "base_uri": "https://localhost:8080/",
          "height": 35
        },
        "id": "2pwttKQK6cEe",
        "outputId": "6809c329-91b4-44c4-f9d1-adf492e5bf57"
      },
      "source": [
        "calculator.name"
      ],
      "execution_count": null,
      "outputs": [
        {
          "output_type": "execute_result",
          "data": {
            "application/vnd.google.colaboratory.intrinsic+json": {
              "type": "string"
            },
            "text/plain": [
              "'계산기'"
            ]
          },
          "metadata": {
            "tags": []
          },
          "execution_count": 4
        }
      ]
    },
    {
      "cell_type": "markdown",
      "metadata": {
        "id": "WcHUwfQc6duo"
      },
      "source": [
        "모듈의 함수 실행"
      ]
    },
    {
      "cell_type": "code",
      "metadata": {
        "colab": {
          "base_uri": "https://localhost:8080/"
        },
        "id": "wznfiEsI6fQG",
        "outputId": "ecf39f65-a83b-46e6-9088-5b28f4d6786d"
      },
      "source": [
        "calculator.add(10, 20)"
      ],
      "execution_count": null,
      "outputs": [
        {
          "output_type": "execute_result",
          "data": {
            "text/plain": [
              "30"
            ]
          },
          "metadata": {
            "tags": []
          },
          "execution_count": 5
        }
      ]
    },
    {
      "cell_type": "markdown",
      "metadata": {
        "id": "k13zUJj36iEv"
      },
      "source": [
        "#별칭(alias) 지정\n",
        "- as 구문으로 긴 이름의 모듈을 축약하여 별칭(alias)으로 지정 가능"
      ]
    },
    {
      "cell_type": "code",
      "metadata": {
        "id": "Z6cc24mD6mum"
      },
      "source": [
        "import calculator as calc"
      ],
      "execution_count": null,
      "outputs": []
    },
    {
      "cell_type": "code",
      "metadata": {
        "colab": {
          "base_uri": "https://localhost:8080/"
        },
        "id": "YmFgp8m06oZG",
        "outputId": "df7df24d-c28a-4c5e-b423-6e136d9080c1"
      },
      "source": [
        "calc.multiply(10, 20)"
      ],
      "execution_count": null,
      "outputs": [
        {
          "output_type": "execute_result",
          "data": {
            "text/plain": [
              "200"
            ]
          },
          "metadata": {
            "tags": []
          },
          "execution_count": 8
        }
      ]
    },
    {
      "cell_type": "markdown",
      "metadata": {
        "id": "_SAdur1o6qam"
      },
      "source": [
        "#모듈의 다양한 import\n",
        "- 파이썬 모듈을 import 하는 방법은 여러가지 방식이 존재\n",
        "\n",
        "random 모듈 import"
      ]
    },
    {
      "cell_type": "code",
      "metadata": {
        "id": "TFuz4TSp6vqO"
      },
      "source": [
        "import random"
      ],
      "execution_count": null,
      "outputs": []
    },
    {
      "cell_type": "code",
      "metadata": {
        "id": "MNcmbQmf6xhu"
      },
      "source": [
        "a = [1, 2, 3, 4, 5]\n",
        "random.shuffle(a)"
      ],
      "execution_count": null,
      "outputs": []
    },
    {
      "cell_type": "code",
      "metadata": {
        "colab": {
          "base_uri": "https://localhost:8080/"
        },
        "id": "nzQrbOY960R2",
        "outputId": "eade56ff-c5b9-450b-9509-68347eea0e4e"
      },
      "source": [
        "a"
      ],
      "execution_count": null,
      "outputs": [
        {
          "output_type": "execute_result",
          "data": {
            "text/plain": [
              "[1, 3, 5, 2, 4]"
            ]
          },
          "metadata": {
            "tags": []
          },
          "execution_count": 12
        }
      ]
    },
    {
      "cell_type": "markdown",
      "metadata": {
        "id": "jsc6crSe61KO"
      },
      "source": [
        "random모듈을 rd 별칭(alias) 지정"
      ]
    },
    {
      "cell_type": "code",
      "metadata": {
        "id": "6y23plOb634v"
      },
      "source": [
        "import random as rd"
      ],
      "execution_count": null,
      "outputs": []
    },
    {
      "cell_type": "code",
      "metadata": {
        "id": "JJEz1lPO648-"
      },
      "source": [
        "b = [1, 2, 3, 4, 5]\n",
        "rd.shuffle(b)"
      ],
      "execution_count": null,
      "outputs": []
    },
    {
      "cell_type": "code",
      "metadata": {
        "colab": {
          "base_uri": "https://localhost:8080/"
        },
        "id": "k1vgTFF767H_",
        "outputId": "6049e838-b861-4a66-c9d6-00cdab98cc77"
      },
      "source": [
        "b"
      ],
      "execution_count": null,
      "outputs": [
        {
          "output_type": "execute_result",
          "data": {
            "text/plain": [
              "[1, 5, 3, 4, 2]"
            ]
          },
          "metadata": {
            "tags": []
          },
          "execution_count": 15
        }
      ]
    },
    {
      "cell_type": "markdown",
      "metadata": {
        "id": "xMYjhpvc686m"
      },
      "source": [
        "random 모듈의 shuffle() 함수 import"
      ]
    },
    {
      "cell_type": "code",
      "metadata": {
        "id": "kj-MNLb16-xX"
      },
      "source": [
        "from random import shuffle"
      ],
      "execution_count": null,
      "outputs": []
    },
    {
      "cell_type": "code",
      "metadata": {
        "id": "9Xdy8Sev7BIm"
      },
      "source": [
        "c = [1, 2, 3, 4, 5]\n",
        "shuffle(c)"
      ],
      "execution_count": null,
      "outputs": []
    },
    {
      "cell_type": "code",
      "metadata": {
        "colab": {
          "base_uri": "https://localhost:8080/"
        },
        "id": "GU2X9SBF7DWd",
        "outputId": "b63e9e93-c0b1-450e-dc57-f1350b58ad06"
      },
      "source": [
        "c"
      ],
      "execution_count": null,
      "outputs": [
        {
          "output_type": "execute_result",
          "data": {
            "text/plain": [
              "[3, 4, 5, 2, 1]"
            ]
          },
          "metadata": {
            "tags": []
          },
          "execution_count": 18
        }
      ]
    },
    {
      "cell_type": "markdown",
      "metadata": {
        "id": "dhNWN2Ao7Dsv"
      },
      "source": [
        "random 모듈의 shuffle() 함수를 sf 별칭(alias) 지정"
      ]
    },
    {
      "cell_type": "code",
      "metadata": {
        "id": "-PBlFxz07F21"
      },
      "source": [
        "from random import shuffle as sf"
      ],
      "execution_count": null,
      "outputs": []
    },
    {
      "cell_type": "code",
      "metadata": {
        "id": "6YFF7Lgl7Hf2"
      },
      "source": [
        "d = [1, 2, 3, 4, 5]\n",
        "sf(d)"
      ],
      "execution_count": null,
      "outputs": []
    },
    {
      "cell_type": "code",
      "metadata": {
        "colab": {
          "base_uri": "https://localhost:8080/"
        },
        "id": "KvWvBA8h7JPt",
        "outputId": "0914188c-abf4-4184-db1d-3f5344daa708"
      },
      "source": [
        "d"
      ],
      "execution_count": null,
      "outputs": [
        {
          "output_type": "execute_result",
          "data": {
            "text/plain": [
              "[3, 4, 1, 2, 5]"
            ]
          },
          "metadata": {
            "tags": []
          },
          "execution_count": 22
        }
      ]
    },
    {
      "cell_type": "markdown",
      "metadata": {
        "id": "72ZKElff7LH1"
      },
      "source": [
        "#자주 사용하는 파이썬 데이터 분석 모듈"
      ]
    },
    {
      "cell_type": "code",
      "metadata": {
        "id": "E-FZvRg47NBG"
      },
      "source": [
        "import numpy as np\n",
        "import pandas as pd\n",
        "import matplotlib.pyplot as plt\n",
        "import seaborn as sns\n",
        "import random"
      ],
      "execution_count": null,
      "outputs": []
    },
    {
      "cell_type": "markdown",
      "metadata": {
        "id": "4xTX_nRw7Pdu"
      },
      "source": [
        "- numpy: 과학 계산을 위한 패키지\n",
        "-pandas: 데이터 분석을 할 때 가장 많이 쓰이는 모듈\n",
        "-matplotlib: 시각화를 위한 모듈\n",
        "-seaborn: 시각화를 위한 모듈 (통계 시각화 기능을 제공하며 matplotlib 에 기반한 모듈 라이브러리)\n",
        "-random: 난수 생성 관련 모듈"
      ]
    },
    {
      "cell_type": "markdown",
      "metadata": {
        "id": "I1Hq4ohX7TiP"
      },
      "source": [
        "#random 모듈을 활용한 예시"
      ]
    },
    {
      "cell_type": "markdown",
      "metadata": {
        "id": "udWIZ9IP7iFW"
      },
      "source": [
        "0.0에서부터 1.0 사이의 실수(float) 난수 생성"
      ]
    },
    {
      "cell_type": "code",
      "metadata": {
        "colab": {
          "base_uri": "https://localhost:8080/"
        },
        "id": "n4AEmOhC7Wh-",
        "outputId": "93ef15bd-e8dd-4b18-92a8-045ac702373f"
      },
      "source": [
        "random.random()"
      ],
      "execution_count": null,
      "outputs": [
        {
          "output_type": "execute_result",
          "data": {
            "text/plain": [
              "0.9787339824759163"
            ]
          },
          "metadata": {
            "tags": []
          },
          "execution_count": 29
        }
      ]
    },
    {
      "cell_type": "markdown",
      "metadata": {
        "id": "ps9GAnqn7ltW"
      },
      "source": [
        "shuffle"
      ]
    },
    {
      "cell_type": "code",
      "metadata": {
        "colab": {
          "base_uri": "https://localhost:8080/"
        },
        "id": "1BKPjHkc7ZIt",
        "outputId": "30f78c89-1054-4004-cbc0-44ef9a2fa9ef"
      },
      "source": [
        "a = [1, 2, 3, 4]\n",
        "random.shuffle(a)\n",
        "a"
      ],
      "execution_count": null,
      "outputs": [
        {
          "output_type": "execute_result",
          "data": {
            "text/plain": [
              "[3, 4, 2, 1]"
            ]
          },
          "metadata": {
            "tags": []
          },
          "execution_count": 30
        }
      ]
    },
    {
      "cell_type": "markdown",
      "metadata": {
        "id": "aOIYJO-o7pkP"
      },
      "source": [
        "start포함 end미만 사이에서 랜덤한 정수 난수 생성"
      ]
    },
    {
      "cell_type": "code",
      "metadata": {
        "colab": {
          "base_uri": "https://localhost:8080/"
        },
        "id": "rZ6Nrzpc7bPe",
        "outputId": "4a8a3da2-6662-41c6-cfc9-6fd6a7eb292e"
      },
      "source": [
        "random.randrange(3, 10)"
      ],
      "execution_count": null,
      "outputs": [
        {
          "output_type": "execute_result",
          "data": {
            "text/plain": [
              "5"
            ]
          },
          "metadata": {
            "tags": []
          },
          "execution_count": 28
        }
      ]
    }
  ]
}