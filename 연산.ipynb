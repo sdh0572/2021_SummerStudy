{
  "nbformat": 4,
  "nbformat_minor": 0,
  "metadata": {
    "colab": {
      "name": "연산.ipynb",
      "provenance": [],
      "collapsed_sections": [],
      "authorship_tag": "ABX9TyMTaj4vxazJQH+JI+LalBiL",
      "include_colab_link": true
    },
    "kernelspec": {
      "name": "python3",
      "display_name": "Python 3"
    },
    "language_info": {
      "name": "python"
    }
  },
  "cells": [
    {
      "cell_type": "markdown",
      "metadata": {
        "id": "view-in-github",
        "colab_type": "text"
      },
      "source": [
        "<a href=\"https://colab.research.google.com/github/sdh0572/2021_SummerStudy/blob/main/%EC%97%B0%EC%82%B0.ipynb\" target=\"_parent\"><img src=\"https://colab.research.google.com/assets/colab-badge.svg\" alt=\"Open In Colab\"/></a>"
      ]
    },
    {
      "cell_type": "markdown",
      "metadata": {
        "id": "RwnE5wwqquOH"
      },
      "source": [
        "#연산\n",
        "Excel에서도 sum이나 +, - 기호로 셀과 셀 단위, 열과 열단위, 행과 행단위 연산이 가능\n",
        "\n",
        "python에서도 마찬가지로 사칙 연산외 다양한 통계 연산 기능을 기본으로 제공\n",
        "\n",
        "#사칙연산 (+, -, /, *)\n",
        "- 더하기 (+)\n",
        "-빼기 (-)\n",
        "-나누기 (/)\n",
        "-곱하기 (*)"
      ]
    },
    {
      "cell_type": "code",
      "metadata": {
        "id": "hqxZAJJzrOzl"
      },
      "source": [
        "a = 10\n",
        "b = 3"
      ],
      "execution_count": null,
      "outputs": []
    },
    {
      "cell_type": "markdown",
      "metadata": {
        "id": "a1hpI1H6rPw-"
      },
      "source": [
        "#+ : 덧셈"
      ]
    },
    {
      "cell_type": "code",
      "metadata": {
        "colab": {
          "base_uri": "https://localhost:8080/"
        },
        "id": "qQYnG2iCrS-2",
        "outputId": "fc23a402-2620-41b2-da86-726c638f32aa"
      },
      "source": [
        "a + b"
      ],
      "execution_count": null,
      "outputs": [
        {
          "output_type": "execute_result",
          "data": {
            "text/plain": [
              "13"
            ]
          },
          "metadata": {
            "tags": []
          },
          "execution_count": 2
        }
      ]
    },
    {
      "cell_type": "code",
      "metadata": {
        "colab": {
          "base_uri": "https://localhost:8080/"
        },
        "id": "vdtsBahbrV_-",
        "outputId": "2b359b4e-23f3-41af-d509-eacf5f45269b"
      },
      "source": [
        "10 + 234"
      ],
      "execution_count": null,
      "outputs": [
        {
          "output_type": "execute_result",
          "data": {
            "text/plain": [
              "244"
            ]
          },
          "metadata": {
            "tags": []
          },
          "execution_count": 3
        }
      ]
    },
    {
      "cell_type": "markdown",
      "metadata": {
        "id": "XZcDyMxArXXt"
      },
      "source": [
        "+= 기호는 + (덧셈) 한 뒤 자기 자신의 변수에 재할당\n",
        "\n",
        "(예시) a += 3 은 a = a + 3과 같"
      ]
    },
    {
      "cell_type": "code",
      "metadata": {
        "colab": {
          "base_uri": "https://localhost:8080/"
        },
        "id": "ZZIyzKGirdwN",
        "outputId": "b3eb4d46-18c1-458d-b6d6-753ec98bec94"
      },
      "source": [
        "s = 10\n",
        "s += 5\n",
        "print(s)"
      ],
      "execution_count": null,
      "outputs": [
        {
          "output_type": "stream",
          "text": [
            "15\n"
          ],
          "name": "stdout"
        }
      ]
    },
    {
      "cell_type": "markdown",
      "metadata": {
        "id": "_gjVNiSgrhPO"
      },
      "source": [
        "#- : 뺄셈"
      ]
    },
    {
      "cell_type": "code",
      "metadata": {
        "colab": {
          "base_uri": "https://localhost:8080/"
        },
        "id": "bdKGxgQsrjhV",
        "outputId": "61380993-f111-44dd-906c-3f98e4a2fdd0"
      },
      "source": [
        "a - b"
      ],
      "execution_count": null,
      "outputs": [
        {
          "output_type": "execute_result",
          "data": {
            "text/plain": [
              "7"
            ]
          },
          "metadata": {
            "tags": []
          },
          "execution_count": 5
        }
      ]
    },
    {
      "cell_type": "code",
      "metadata": {
        "colab": {
          "base_uri": "https://localhost:8080/"
        },
        "id": "IxsrcLEKrnZm",
        "outputId": "ab93a1e7-a5d8-4c71-9ef7-06a7f52584d3"
      },
      "source": [
        "10-9"
      ],
      "execution_count": null,
      "outputs": [
        {
          "output_type": "execute_result",
          "data": {
            "text/plain": [
              "1"
            ]
          },
          "metadata": {
            "tags": []
          },
          "execution_count": 6
        }
      ]
    },
    {
      "cell_type": "code",
      "metadata": {
        "colab": {
          "base_uri": "https://localhost:8080/"
        },
        "id": "w5Yf_dVgrpSt",
        "outputId": "83167ec3-342e-475b-d87d-25da32ef72bb"
      },
      "source": [
        "s = 10\n",
        "s -= 3\n",
        "print(s)"
      ],
      "execution_count": null,
      "outputs": [
        {
          "output_type": "stream",
          "text": [
            "7\n"
          ],
          "name": "stdout"
        }
      ]
    },
    {
      "cell_type": "markdown",
      "metadata": {
        "id": "4v23B6vBrsBl"
      },
      "source": [
        "#/ : 나눗셈"
      ]
    },
    {
      "cell_type": "code",
      "metadata": {
        "colab": {
          "base_uri": "https://localhost:8080/"
        },
        "id": "i-VYPOSXrvRe",
        "outputId": "43ecb31e-4f0d-4732-b19e-3d7f28cddccf"
      },
      "source": [
        "a / b"
      ],
      "execution_count": null,
      "outputs": [
        {
          "output_type": "execute_result",
          "data": {
            "text/plain": [
              "3.3333333333333335"
            ]
          },
          "metadata": {
            "tags": []
          },
          "execution_count": 8
        }
      ]
    },
    {
      "cell_type": "code",
      "metadata": {
        "colab": {
          "base_uri": "https://localhost:8080/"
        },
        "id": "iCFAUQPirwS9",
        "outputId": "3c48e6af-afbc-4096-d78c-7717d2ffb887"
      },
      "source": [
        "10.7 / 7"
      ],
      "execution_count": null,
      "outputs": [
        {
          "output_type": "execute_result",
          "data": {
            "text/plain": [
              "1.5285714285714285"
            ]
          },
          "metadata": {
            "tags": []
          },
          "execution_count": 9
        }
      ]
    },
    {
      "cell_type": "code",
      "metadata": {
        "colab": {
          "base_uri": "https://localhost:8080/"
        },
        "id": "tuPDwJpirxje",
        "outputId": "0b74e08f-8c6a-4e3a-841f-bfdbc82d3bae"
      },
      "source": [
        "s = 10\n",
        "s /= 2\n",
        "print(s)"
      ],
      "execution_count": null,
      "outputs": [
        {
          "output_type": "stream",
          "text": [
            "5.0\n"
          ],
          "name": "stdout"
        }
      ]
    },
    {
      "cell_type": "markdown",
      "metadata": {
        "id": "H67OzHiqry8m"
      },
      "source": [
        "#* : 곱셈"
      ]
    },
    {
      "cell_type": "code",
      "metadata": {
        "colab": {
          "base_uri": "https://localhost:8080/"
        },
        "id": "uBtqxrM2r1xd",
        "outputId": "fb7ad90a-72ef-4c05-e9e5-468b0958ac25"
      },
      "source": [
        "a * b"
      ],
      "execution_count": null,
      "outputs": [
        {
          "output_type": "execute_result",
          "data": {
            "text/plain": [
              "30"
            ]
          },
          "metadata": {
            "tags": []
          },
          "execution_count": 11
        }
      ]
    },
    {
      "cell_type": "code",
      "metadata": {
        "colab": {
          "base_uri": "https://localhost:8080/"
        },
        "id": "7UbYBq0Tr3HO",
        "outputId": "6da4d257-ee0b-4745-acd6-b45e76a12933"
      },
      "source": [
        "a * 10"
      ],
      "execution_count": null,
      "outputs": [
        {
          "output_type": "execute_result",
          "data": {
            "text/plain": [
              "100"
            ]
          },
          "metadata": {
            "tags": []
          },
          "execution_count": 12
        }
      ]
    },
    {
      "cell_type": "code",
      "metadata": {
        "colab": {
          "base_uri": "https://localhost:8080/"
        },
        "id": "MUx1u3Kmr4It",
        "outputId": "c7eaa6ca-e5e4-439b-bca6-193e139e1dd6"
      },
      "source": [
        "s = 20\n",
        "s *= 3\n",
        "print(s)"
      ],
      "execution_count": null,
      "outputs": [
        {
          "output_type": "stream",
          "text": [
            "60\n"
          ],
          "name": "stdout"
        }
      ]
    },
    {
      "cell_type": "markdown",
      "metadata": {
        "id": "zf6SayEtr5Rd"
      },
      "source": [
        "#조금 생소할 수 있는 연산자 (%, //, **)\n",
        "- //: floor division 연산자입니다. 나눗셈에 대한 몫을 정수형으로 구함\n",
        "- %: modulus 연산자입니다. 몫을 나눈 나머지를 구함\n",
        "- **: 제곱 연산\n",
        "\n",
        "// : Floor Division\n",
        "- 나눗셈에 대한 몫을 정수형으로 구함"
      ]
    },
    {
      "cell_type": "code",
      "metadata": {
        "id": "jV0oT-ZasAOd"
      },
      "source": [
        "a = 10\n",
        "b = 3"
      ],
      "execution_count": null,
      "outputs": []
    },
    {
      "cell_type": "code",
      "metadata": {
        "colab": {
          "base_uri": "https://localhost:8080/"
        },
        "id": "LvqmGzLlsBiV",
        "outputId": "94fee4fb-d506-4324-baca-c4b688cc5e05"
      },
      "source": [
        "a / b"
      ],
      "execution_count": null,
      "outputs": [
        {
          "output_type": "execute_result",
          "data": {
            "text/plain": [
              "3.3333333333333335"
            ]
          },
          "metadata": {
            "tags": []
          },
          "execution_count": 17
        }
      ]
    },
    {
      "cell_type": "markdown",
      "metadata": {
        "id": "tvGTrZjIsDjG"
      },
      "source": [
        "// 연산 결과"
      ]
    },
    {
      "cell_type": "code",
      "metadata": {
        "colab": {
          "base_uri": "https://localhost:8080/"
        },
        "id": "dpv6T9MZsCQ9",
        "outputId": "bfeb58da-2964-4f5b-872d-7fcf2820b450"
      },
      "source": [
        "a // b"
      ],
      "execution_count": null,
      "outputs": [
        {
          "output_type": "execute_result",
          "data": {
            "text/plain": [
              "3"
            ]
          },
          "metadata": {
            "tags": []
          },
          "execution_count": 16
        }
      ]
    },
    {
      "cell_type": "markdown",
      "metadata": {
        "id": "SBfUWAGfsDIu"
      },
      "source": [
        "#% : modulus\n",
        "- 몫을 나눈 나머지를 구합니다."
      ]
    },
    {
      "cell_type": "code",
      "metadata": {
        "id": "-X0RV3yTsLBm"
      },
      "source": [
        "a = 10\n",
        "b = 3"
      ],
      "execution_count": null,
      "outputs": []
    },
    {
      "cell_type": "code",
      "metadata": {
        "colab": {
          "base_uri": "https://localhost:8080/"
        },
        "id": "ccdFsXsksNeN",
        "outputId": "1a11fee3-120d-404a-eae2-d33a56030618"
      },
      "source": [
        "a % b"
      ],
      "execution_count": null,
      "outputs": [
        {
          "output_type": "execute_result",
          "data": {
            "text/plain": [
              "1"
            ]
          },
          "metadata": {
            "tags": []
          },
          "execution_count": 20
        }
      ]
    },
    {
      "cell_type": "markdown",
      "metadata": {
        "id": "TaKc8-bGsOd2"
      },
      "source": [
        "#** : 제곱 연산\n",
        "- 제곱 연산을 수행"
      ]
    },
    {
      "cell_type": "code",
      "metadata": {
        "id": "AIB43MghsSgO"
      },
      "source": [
        "a = 10\n",
        "b = 3"
      ],
      "execution_count": null,
      "outputs": []
    },
    {
      "cell_type": "code",
      "metadata": {
        "colab": {
          "base_uri": "https://localhost:8080/"
        },
        "id": "GWM5AQaxsTqW",
        "outputId": "bcb2d58a-ccd3-475c-c658-d690e3c6c3e2"
      },
      "source": [
        "a ** b"
      ],
      "execution_count": null,
      "outputs": [
        {
          "output_type": "execute_result",
          "data": {
            "text/plain": [
              "1000"
            ]
          },
          "metadata": {
            "tags": []
          },
          "execution_count": 22
        }
      ]
    },
    {
      "cell_type": "code",
      "metadata": {
        "colab": {
          "base_uri": "https://localhost:8080/"
        },
        "id": "g1G6MZtvsUYl",
        "outputId": "e223ef8b-bd3c-415f-bd30-01de182d60c5"
      },
      "source": [
        "2 ** 10"
      ],
      "execution_count": null,
      "outputs": [
        {
          "output_type": "execute_result",
          "data": {
            "text/plain": [
              "1024"
            ]
          },
          "metadata": {
            "tags": []
          },
          "execution_count": 23
        }
      ]
    },
    {
      "cell_type": "markdown",
      "metadata": {
        "id": "yulWkZrxsVRG"
      },
      "source": [
        "#괄호 ()의 활용\n",
        "- 수학 연산할 때와 마찬가지로, *, /을 먼저 계산하며, 괄호 ()를 활용하여 먼저 연산할 부분을 지정할 수 있음"
      ]
    },
    {
      "cell_type": "code",
      "metadata": {
        "colab": {
          "base_uri": "https://localhost:8080/"
        },
        "id": "w0mPIeVMsZjG",
        "outputId": "2026e1e1-1a88-49ff-b90a-31f2cd39d68a"
      },
      "source": [
        "10 + 2 * 5"
      ],
      "execution_count": null,
      "outputs": [
        {
          "output_type": "execute_result",
          "data": {
            "text/plain": [
              "20"
            ]
          },
          "metadata": {
            "tags": []
          },
          "execution_count": 25
        }
      ]
    },
    {
      "cell_type": "code",
      "metadata": {
        "colab": {
          "base_uri": "https://localhost:8080/"
        },
        "id": "TyumyDLbsba1",
        "outputId": "6822509b-481a-471f-a0e8-ec253570eae0"
      },
      "source": [
        "(10 + 2) * 5"
      ],
      "execution_count": null,
      "outputs": [
        {
          "output_type": "execute_result",
          "data": {
            "text/plain": [
              "60"
            ]
          },
          "metadata": {
            "tags": []
          },
          "execution_count": 27
        }
      ]
    },
    {
      "cell_type": "code",
      "metadata": {
        "id": "GyWp8wTrsd41"
      },
      "source": [
        "a = '10'\n",
        "b = '20'"
      ],
      "execution_count": null,
      "outputs": []
    },
    {
      "cell_type": "code",
      "metadata": {
        "colab": {
          "base_uri": "https://localhost:8080/",
          "height": 35
        },
        "id": "bGn6_mywskJ9",
        "outputId": "a826b315-6059-4174-bb99-bb775b1f79aa"
      },
      "source": [
        "a + b"
      ],
      "execution_count": null,
      "outputs": [
        {
          "output_type": "execute_result",
          "data": {
            "application/vnd.google.colaboratory.intrinsic+json": {
              "type": "string"
            },
            "text/plain": [
              "'1020'"
            ]
          },
          "metadata": {
            "tags": []
          },
          "execution_count": 29
        }
      ]
    },
    {
      "cell_type": "markdown",
      "metadata": {
        "id": "QRul7_qLslMF"
      },
      "source": [
        "연산시 타입(type)이 다르면 Error가 발생"
      ]
    },
    {
      "cell_type": "code",
      "metadata": {
        "id": "fDkyF7B_snQ-"
      },
      "source": [
        "a = '10'\n",
        "b = 20"
      ],
      "execution_count": null,
      "outputs": []
    },
    {
      "cell_type": "code",
      "metadata": {
        "id": "-vGrHLsJsoit",
        "colab": {
          "base_uri": "https://localhost:8080/",
          "height": 172
        },
        "outputId": "292e5032-4c64-4e5a-e5a2-a32bd2f071e5"
      },
      "source": [
        "a + b"
      ],
      "execution_count": null,
      "outputs": [
        {
          "output_type": "error",
          "ename": "TypeError",
          "evalue": "ignored",
          "traceback": [
            "\u001b[0;31m---------------------------------------------------------------------------\u001b[0m",
            "\u001b[0;31mTypeError\u001b[0m                                 Traceback (most recent call last)",
            "\u001b[0;32m<ipython-input-31-bd58363a63fc>\u001b[0m in \u001b[0;36m<module>\u001b[0;34m()\u001b[0m\n\u001b[0;32m----> 1\u001b[0;31m \u001b[0ma\u001b[0m \u001b[0;34m+\u001b[0m \u001b[0mb\u001b[0m\u001b[0;34m\u001b[0m\u001b[0;34m\u001b[0m\u001b[0m\n\u001b[0m",
            "\u001b[0;31mTypeError\u001b[0m: can only concatenate str (not \"int\") to str"
          ]
        }
      ]
    }
  ]
}